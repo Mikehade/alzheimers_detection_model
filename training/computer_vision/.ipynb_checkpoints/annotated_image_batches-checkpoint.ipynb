{
 "cells": [
  {
   "cell_type": "code",
   "execution_count": 1,
   "metadata": {},
   "outputs": [
    {
     "name": "stderr",
     "output_type": "stream",
     "text": [
      "C:\\Users\\MICHEAL\\anaconda3\\lib\\site-packages\\pandas\\core\\computation\\expressions.py:20: UserWarning: Pandas requires version '2.7.3' or newer of 'numexpr' (version '2.7.1' currently installed).\n",
      "  from pandas.core.computation.check import NUMEXPR_INSTALLED\n"
     ]
    }
   ],
   "source": [
    "import pandas as pd\n",
    "import numpy as np\n",
    "\n",
    "\n",
    "import os\n",
    "import glob\n",
    "from pathlib import Path\n",
    "\n",
    "from collections import Counter\n",
    "from itertools import cycle, islice\n",
    "import shutil\n",
    "\n",
    "from PIL import Image\n",
    "from sys import argv\n",
    "from warnings import filterwarnings\n",
    "filterwarnings(\"ignore\")"
   ]
  },
  {
   "cell_type": "code",
   "execution_count": 2,
   "metadata": {},
   "outputs": [],
   "source": [
    "batches = 1\n",
    "pat = \"annotations_CSV\""
   ]
  },
  {
   "cell_type": "code",
   "execution_count": 3,
   "metadata": {},
   "outputs": [],
   "source": [
    "def clean(path, a_list, batch):\n",
    "    \n",
    "    pixel_size = 640\n",
    "    \n",
    "    path_img_jpg = glob.glob(f\"{path}/*?.jpg\")\n",
    "    path_img_jpeg = glob.glob(f\"{path}/*.jpeg\")  # Match jpeg files\n",
    "    #print(path)\n",
    "    #batch = paths.split(\"/\")[1].split(\"_\")[-1]\n",
    "    #print(batch)\n",
    "    paths = path_img_jpg + path_img_jpeg\n",
    "    \n",
    "    \n",
    "    exist_list = []\n",
    "    if os.path.isdir(f\"annotated_batches/batch{batch}\"):   #create batch folder if it does not exist\n",
    "        #os.makedirs(f\"annotated_batches/batch{batch}\")\n",
    "        shutil.rmtree(f\"annotated_batches/batch{batch}\")\n",
    "    \n",
    "    \n",
    "    if not os.path.isdir(f\"annotated_batches/batch{batch}\"):   #create batch folder if it does not exist\n",
    "        os.makedirs(f\"annotated_batches/batch{batch}\")\n",
    "    \n",
    "        \n",
    "    \n",
    "    for files in paths:  #iterate through current folder for renaming files in current directory\n",
    "        #print(files)\n",
    "        \n",
    "        #remove files that does not exist in csv file\n",
    "        f_name = os.path.split(files)[-1]\n",
    "        #if f_name not in a_list:\n",
    "        if f_name not in a_list:\n",
    "            #print(f_name)\n",
    "            #print(files)\n",
    "            #os.remove(files)\n",
    "            pass\n",
    "        else:\n",
    "            exist_list.append(f_name)\n",
    "            #print(f_name)\n",
    "            shutil.copy(f\"{files}\", f\"annotated_batches/batch{batch}/{f_name}\")\n",
    "            \n",
    "\n",
    "    return exist_list"
   ]
  },
  {
   "cell_type": "code",
   "execution_count": 4,
   "metadata": {},
   "outputs": [
    {
     "name": "stdout",
     "output_type": "stream",
     "text": [
      "batches/batch001\n",
      ".............cleaning annotated images...............\n",
      "Annotated image names from csv file correspond with cleaned 200 list of images\n",
      "batches/batch002\n",
      ".............cleaning annotated images...............\n",
      "Annotated image names from csv file correspond with cleaned 200 list of images\n",
      "batches/batch003\n",
      ".............cleaning annotated images...............\n",
      "Annotated image names from csv file correspond with cleaned 200 list of images\n",
      "\u001b[1mTotal number of current annotated cleaned batches is 3\u001b[0m\n",
      "\n",
      "['batch_1', 'batch_2', 'batch_3']\n",
      "\n",
      "600\n"
     ]
    }
   ],
   "source": [
    "path = f\"{pat}/*?.csv\"\n",
    "\n",
    "batch_list = []\n",
    "i = 0  #variable for keeping track of first dataframe in loop before concatenating others\n",
    "count = 0\n",
    "total_images = []\n",
    "\n",
    "for files in sorted(glob.glob(path)):  #iterate through folder to concatenate csv into dataframes\n",
    "    \n",
    "    #extract batch names\n",
    "    f_name = os.path.split(files)[-1]\n",
    "    #print(f_name)\n",
    "    batch = \"_\".join(f_name.split(\"_\")[:-1])\n",
    "    #print(batch)\n",
    "    batch_no = batch.split(\"_\")[-1]  #get batch no\n",
    "    #print(batch_no)\n",
    "    #batch = batch.split(\".\")[-2]\n",
    "    if len(str(batch_no)) == 1:\n",
    "        batches = f\"00{batch_no}\"\n",
    "    elif len(str(batch_no)) == 2:\n",
    "        batches = f\"0{batch_no}\"\n",
    "    elif len(str(batch_no)) == 3:\n",
    "        batches = f\"{batch_no}\"\n",
    "    input_path = f\"batches/batch{batches}\"\n",
    "    \n",
    "    print(input_path)\n",
    "    \n",
    "    batch_list.append(batch)\n",
    "    #print(batch)\n",
    "\n",
    "    df = pd.read_csv(files)\n",
    "    #display(df)\n",
    "        \n",
    "    #get unique image names\n",
    "    annotated_list = df[\"image_name\"].unique().tolist()\n",
    "    #print(annotated_list)\n",
    "    \n",
    "\n",
    "\n",
    "    print(\".............cleaning annotated images...............\")\n",
    "    \n",
    "    \n",
    "    image_list = clean(input_path, annotated_list, batches)\n",
    "    \n",
    "    #Compare image names from csv files and image names from cleaned images\n",
    "    if annotated_list.sort() == image_list.sort():\n",
    "        print(f\"Annotated image names from csv file correspond with cleaned {len(annotated_list)} list of images\")\n",
    "        count += len(annotated_list)\n",
    "        total_images = total_images + annotated_list\n",
    "    else:\n",
    "        print(f\"Annotated image names from csv file does not correspond with cleaned {len(annotated_list)} list of images\")\n",
    "        \n",
    "    \n",
    "print('\\033[1m' + f\"Total number of current annotated cleaned batches is {len(batch_list)}\" + '\\033[0m')\n",
    "print()\n",
    "print(batch_list)\n",
    "print()\n",
    "#print(count)\n",
    "print(len(list(set(total_images))))"
   ]
  },
  {
   "cell_type": "code",
   "execution_count": null,
   "metadata": {},
   "outputs": [],
   "source": []
  },
  {
   "cell_type": "code",
   "execution_count": null,
   "metadata": {},
   "outputs": [],
   "source": []
  },
  {
   "cell_type": "code",
   "execution_count": null,
   "metadata": {},
   "outputs": [],
   "source": []
  },
  {
   "cell_type": "code",
   "execution_count": null,
   "metadata": {},
   "outputs": [],
   "source": []
  }
 ],
 "metadata": {
  "kernelspec": {
   "display_name": "Python 3",
   "language": "python",
   "name": "python3"
  },
  "language_info": {
   "codemirror_mode": {
    "name": "ipython",
    "version": 3
   },
   "file_extension": ".py",
   "mimetype": "text/x-python",
   "name": "python",
   "nbconvert_exporter": "python",
   "pygments_lexer": "ipython3",
   "version": "3.8.5"
  }
 },
 "nbformat": 4,
 "nbformat_minor": 5
}
