{
 "cells": [
  {
   "cell_type": "code",
   "execution_count": 1,
   "metadata": {},
   "outputs": [
    {
     "name": "stderr",
     "output_type": "stream",
     "text": [
      "C:\\Users\\MICHEAL\\anaconda3\\lib\\site-packages\\pandas\\core\\computation\\expressions.py:20: UserWarning: Pandas requires version '2.7.3' or newer of 'numexpr' (version '2.7.1' currently installed).\n",
      "  from pandas.core.computation.check import NUMEXPR_INSTALLED\n"
     ]
    }
   ],
   "source": [
    "import pandas as pd\n",
    "import numpy as np\n",
    "\n",
    "import matplotlib.pyplot as plt\n",
    "import matplotlib.cm as cm\n",
    "import seaborn as sn\n",
    "\n",
    "\n",
    "import os\n",
    "import glob\n",
    "from pathlib import Path\n",
    "\n",
    "from collections import Counter\n",
    "from itertools import cycle, islice\n",
    "\n",
    "from PIL import Image\n",
    "from sys import argv\n",
    "from warnings import filterwarnings\n",
    "filterwarnings(\"ignore\")"
   ]
  },
  {
   "cell_type": "code",
   "execution_count": 2,
   "metadata": {},
   "outputs": [],
   "source": [
    "def plot_dist(df, col_name, color):\n",
    "    \"\"\"\n",
    "    Function for plotting based on column name\n",
    "    Input parameters:- \n",
    "    df = dataframe\n",
    "    col_name = column name\n",
    "    color = type of plot (pie, box, bar)\"\"\"\n",
    "    \n",
    "    cmap = cm.get_cmap('RdYlGn')\n",
    "    \n",
    "    \n",
    "    image =  df[col_name].value_counts().plot(kind=color, colormap = cmap)\n",
    "    sn.distplot(df[col_name].value_counts())\n",
    "    #image.figure.savefig(f\"{col_name}.jpg\")\n",
    "    \n",
    "    return image"
   ]
  },
  {
   "cell_type": "code",
   "execution_count": 3,
   "metadata": {},
   "outputs": [],
   "source": [
    "batches = 125\n",
    "pat = \"annotations_CSV\""
   ]
  },
  {
   "cell_type": "code",
   "execution_count": 4,
   "metadata": {},
   "outputs": [
    {
     "name": "stdout",
     "output_type": "stream",
     "text": [
      "\u001b[1mTotal number of current annotated batches for analysis is 3\u001b[0m\n",
      "\n",
      "['batch_1', 'batch_2', 'batch_3']\n"
     ]
    }
   ],
   "source": [
    "path = f\"{pat}/*?.csv\"\n",
    "\n",
    "batch_list = []\n",
    "i = 0  #variable for keeping track of first dataframe in loop before concatenating others\n",
    "\n",
    "for files in glob.glob(path):  #iterate through folder to concatenate csv into dataframes\n",
    "    \n",
    "    #extract batch names\n",
    "    f_name = os.path.split(files)[-1]\n",
    "    #print(f_name)\n",
    "    batch = \"_\".join(f_name.split(\"_\")[:-1])\n",
    "    #print(batch)\n",
    "    #batch = batch.split(\".\")[-2]\n",
    "    batch_list.append(batch)\n",
    "    #print(batch)\n",
    "\n",
    "    if i == 0:  #create new dataframe in first iteration\n",
    "        \n",
    "        df = pd.read_csv(files)\n",
    "        \n",
    "        #the following lines can be uncommented to view bar plots of individual dataframes\n",
    "        #print('\\033[1m' + f\"Barplot for {batch}\" + '\\033[0m')\n",
    "        #im = plot_dist(df, \"label_name\", \"bar\")  #plot individual dataframes\n",
    "        #display(im.figure)\n",
    "\n",
    "    else:  #concatenate other csv's with first dataframe\n",
    "        data = pd.read_csv(files)\n",
    "        \n",
    "        #the following lines can be uncommented to view bar plots of individual dataframes\n",
    "        #print('\\033[1m' + f\"Barplot for {batch}\" + '\\033[0m')\n",
    "        #im = plot_dist(data, \"label_name\", \"bar\")  #plot individual dataframes\n",
    "        #display(im.figure)\n",
    "        \n",
    "        df = pd.concat([df, data], ignore_index=True)\n",
    "    i += 1\n",
    "    \n",
    "print('\\033[1m' + f\"Total number of current annotated batches for analysis is {len(batch_list)}\" + '\\033[0m')\n",
    "print()\n",
    "print(sorted(batch_list))"
   ]
  },
  {
   "cell_type": "code",
   "execution_count": 5,
   "metadata": {},
   "outputs": [
    {
     "data": {
      "text/html": [
       "<div>\n",
       "<style scoped>\n",
       "    .dataframe tbody tr th:only-of-type {\n",
       "        vertical-align: middle;\n",
       "    }\n",
       "\n",
       "    .dataframe tbody tr th {\n",
       "        vertical-align: top;\n",
       "    }\n",
       "\n",
       "    .dataframe thead th {\n",
       "        text-align: right;\n",
       "    }\n",
       "</style>\n",
       "<table border=\"1\" class=\"dataframe\">\n",
       "  <thead>\n",
       "    <tr style=\"text-align: right;\">\n",
       "      <th></th>\n",
       "      <th>label_name</th>\n",
       "      <th>bbox_x</th>\n",
       "      <th>bbox_y</th>\n",
       "      <th>bbox_width</th>\n",
       "      <th>bbox_height</th>\n",
       "      <th>image_name</th>\n",
       "      <th>image_width</th>\n",
       "      <th>image_height</th>\n",
       "    </tr>\n",
       "  </thead>\n",
       "  <tbody>\n",
       "    <tr>\n",
       "      <th>0</th>\n",
       "      <td>mri</td>\n",
       "      <td>17</td>\n",
       "      <td>16</td>\n",
       "      <td>138</td>\n",
       "      <td>173</td>\n",
       "      <td>mildDem0.jpg</td>\n",
       "      <td>176</td>\n",
       "      <td>208</td>\n",
       "    </tr>\n",
       "    <tr>\n",
       "      <th>1</th>\n",
       "      <td>mri</td>\n",
       "      <td>16</td>\n",
       "      <td>17</td>\n",
       "      <td>140</td>\n",
       "      <td>172</td>\n",
       "      <td>mildDem1.jpg</td>\n",
       "      <td>176</td>\n",
       "      <td>208</td>\n",
       "    </tr>\n",
       "    <tr>\n",
       "      <th>2</th>\n",
       "      <td>mri</td>\n",
       "      <td>18</td>\n",
       "      <td>17</td>\n",
       "      <td>139</td>\n",
       "      <td>175</td>\n",
       "      <td>mildDem10.jpg</td>\n",
       "      <td>176</td>\n",
       "      <td>208</td>\n",
       "    </tr>\n",
       "    <tr>\n",
       "      <th>3</th>\n",
       "      <td>mri</td>\n",
       "      <td>18</td>\n",
       "      <td>17</td>\n",
       "      <td>138</td>\n",
       "      <td>172</td>\n",
       "      <td>mildDem100.jpg</td>\n",
       "      <td>176</td>\n",
       "      <td>208</td>\n",
       "    </tr>\n",
       "    <tr>\n",
       "      <th>4</th>\n",
       "      <td>mri</td>\n",
       "      <td>16</td>\n",
       "      <td>17</td>\n",
       "      <td>139</td>\n",
       "      <td>174</td>\n",
       "      <td>mildDem101.jpg</td>\n",
       "      <td>176</td>\n",
       "      <td>208</td>\n",
       "    </tr>\n",
       "    <tr>\n",
       "      <th>...</th>\n",
       "      <td>...</td>\n",
       "      <td>...</td>\n",
       "      <td>...</td>\n",
       "      <td>...</td>\n",
       "      <td>...</td>\n",
       "      <td>...</td>\n",
       "      <td>...</td>\n",
       "      <td>...</td>\n",
       "    </tr>\n",
       "    <tr>\n",
       "      <th>595</th>\n",
       "      <td>mri</td>\n",
       "      <td>16</td>\n",
       "      <td>16</td>\n",
       "      <td>140</td>\n",
       "      <td>174</td>\n",
       "      <td>verymildDem95.jpg</td>\n",
       "      <td>176</td>\n",
       "      <td>208</td>\n",
       "    </tr>\n",
       "    <tr>\n",
       "      <th>596</th>\n",
       "      <td>mri</td>\n",
       "      <td>17</td>\n",
       "      <td>17</td>\n",
       "      <td>140</td>\n",
       "      <td>173</td>\n",
       "      <td>verymildDem96.jpg</td>\n",
       "      <td>176</td>\n",
       "      <td>208</td>\n",
       "    </tr>\n",
       "    <tr>\n",
       "      <th>597</th>\n",
       "      <td>mri</td>\n",
       "      <td>16</td>\n",
       "      <td>18</td>\n",
       "      <td>140</td>\n",
       "      <td>172</td>\n",
       "      <td>verymildDem97.jpg</td>\n",
       "      <td>176</td>\n",
       "      <td>208</td>\n",
       "    </tr>\n",
       "    <tr>\n",
       "      <th>598</th>\n",
       "      <td>mri</td>\n",
       "      <td>16</td>\n",
       "      <td>17</td>\n",
       "      <td>140</td>\n",
       "      <td>173</td>\n",
       "      <td>verymildDem98.jpg</td>\n",
       "      <td>176</td>\n",
       "      <td>208</td>\n",
       "    </tr>\n",
       "    <tr>\n",
       "      <th>599</th>\n",
       "      <td>mri</td>\n",
       "      <td>16</td>\n",
       "      <td>17</td>\n",
       "      <td>140</td>\n",
       "      <td>173</td>\n",
       "      <td>verymildDem99.jpg</td>\n",
       "      <td>176</td>\n",
       "      <td>208</td>\n",
       "    </tr>\n",
       "  </tbody>\n",
       "</table>\n",
       "<p>600 rows × 8 columns</p>\n",
       "</div>"
      ],
      "text/plain": [
       "    label_name  bbox_x  bbox_y  bbox_width  bbox_height         image_name  \\\n",
       "0          mri      17      16         138          173       mildDem0.jpg   \n",
       "1          mri      16      17         140          172       mildDem1.jpg   \n",
       "2          mri      18      17         139          175      mildDem10.jpg   \n",
       "3          mri      18      17         138          172     mildDem100.jpg   \n",
       "4          mri      16      17         139          174     mildDem101.jpg   \n",
       "..         ...     ...     ...         ...          ...                ...   \n",
       "595        mri      16      16         140          174  verymildDem95.jpg   \n",
       "596        mri      17      17         140          173  verymildDem96.jpg   \n",
       "597        mri      16      18         140          172  verymildDem97.jpg   \n",
       "598        mri      16      17         140          173  verymildDem98.jpg   \n",
       "599        mri      16      17         140          173  verymildDem99.jpg   \n",
       "\n",
       "     image_width  image_height  \n",
       "0            176           208  \n",
       "1            176           208  \n",
       "2            176           208  \n",
       "3            176           208  \n",
       "4            176           208  \n",
       "..           ...           ...  \n",
       "595          176           208  \n",
       "596          176           208  \n",
       "597          176           208  \n",
       "598          176           208  \n",
       "599          176           208  \n",
       "\n",
       "[600 rows x 8 columns]"
      ]
     },
     "execution_count": 5,
     "metadata": {},
     "output_type": "execute_result"
    }
   ],
   "source": [
    "df"
   ]
  },
  {
   "cell_type": "markdown",
   "metadata": {},
   "source": [
    "### It can be observed that there are no null values in the dataframe "
   ]
  },
  {
   "cell_type": "code",
   "execution_count": 6,
   "metadata": {},
   "outputs": [
    {
     "data": {
      "text/plain": [
       "label_name      0\n",
       "bbox_x          0\n",
       "bbox_y          0\n",
       "bbox_width      0\n",
       "bbox_height     0\n",
       "image_name      0\n",
       "image_width     0\n",
       "image_height    0\n",
       "dtype: int64"
      ]
     },
     "execution_count": 6,
     "metadata": {},
     "output_type": "execute_result"
    }
   ],
   "source": [
    "df.isna().sum()"
   ]
  },
  {
   "cell_type": "code",
   "execution_count": 7,
   "metadata": {},
   "outputs": [
    {
     "name": "stdout",
     "output_type": "stream",
     "text": [
      "<class 'pandas.core.frame.DataFrame'>\n",
      "RangeIndex: 600 entries, 0 to 599\n",
      "Data columns (total 8 columns):\n",
      " #   Column        Non-Null Count  Dtype \n",
      "---  ------        --------------  ----- \n",
      " 0   label_name    600 non-null    object\n",
      " 1   bbox_x        600 non-null    int64 \n",
      " 2   bbox_y        600 non-null    int64 \n",
      " 3   bbox_width    600 non-null    int64 \n",
      " 4   bbox_height   600 non-null    int64 \n",
      " 5   image_name    600 non-null    object\n",
      " 6   image_width   600 non-null    int64 \n",
      " 7   image_height  600 non-null    int64 \n",
      "dtypes: int64(6), object(2)\n",
      "memory usage: 37.6+ KB\n"
     ]
    }
   ],
   "source": [
    "df.info()"
   ]
  },
  {
   "cell_type": "markdown",
   "metadata": {},
   "source": [
    "### Compute total number of each classes "
   ]
  },
  {
   "cell_type": "code",
   "execution_count": 8,
   "metadata": {},
   "outputs": [
    {
     "data": {
      "text/plain": [
       "mri    600\n",
       "Name: label_name, dtype: int64"
      ]
     },
     "execution_count": 8,
     "metadata": {},
     "output_type": "execute_result"
    }
   ],
   "source": [
    "df.label_name.value_counts()"
   ]
  },
  {
   "cell_type": "code",
   "execution_count": 9,
   "metadata": {},
   "outputs": [
    {
     "data": {
      "text/plain": [
       "600"
      ]
     },
     "execution_count": 9,
     "metadata": {},
     "output_type": "execute_result"
    }
   ],
   "source": [
    "len(df[\"image_name\"].unique())"
   ]
  },
  {
   "cell_type": "code",
   "execution_count": 10,
   "metadata": {},
   "outputs": [
    {
     "data": {
      "text/plain": [
       "mri    600\n",
       "Name: label_name, dtype: int64"
      ]
     },
     "execution_count": 10,
     "metadata": {},
     "output_type": "execute_result"
    }
   ],
   "source": [
    "df.label_name.value_counts()"
   ]
  },
  {
   "cell_type": "markdown",
   "metadata": {},
   "source": [
    "### Plot entire dataframe\n",
    "\n",
    "#### It can be observed that the prevalent labels are: - \n",
    "- front bumper damage\n",
    "- hood damage\n",
    "- headlight damage\n",
    "- front fender damage\n",
    "\n",
    "##### It can be observed that the prevalent damages are focused on the front of the vehicle"
   ]
  },
  {
   "cell_type": "code",
   "execution_count": 11,
   "metadata": {},
   "outputs": [
    {
     "data": {
      "text/plain": [
       "<AxesSubplot:xlabel='label_name', ylabel='Density'>"
      ]
     },
     "execution_count": 11,
     "metadata": {},
     "output_type": "execute_result"
    },
    {
     "data": {
      "image/png": "[encoded data removed]",
      "text/plain": [
       "<Figure size 432x288 with 1 Axes>"
      ]
     },
     "metadata": {
      "needs_background": "light"
     },
     "output_type": "display_data"
    }
   ],
   "source": [
    "plot_dist(df, \"label_name\", \"bar\")"
   ]
  },
  {
   "cell_type": "code",
   "execution_count": 75,
   "metadata": {},
   "outputs": [
    {
     "data": {
      "text/plain": [
       "<Axes: xlabel='count', ylabel='Density'>"
      ]
     },
     "execution_count": 75,
     "metadata": {},
     "output_type": "execute_result"
    },
    {
     "data": {
      "image/png": "[encoded data removed]",
      "text/plain": [
       "<Figure size 640x480 with 1 Axes>"
      ]
     },
     "metadata": {},
     "output_type": "display_data"
    }
   ],
   "source": [
    "plot_dist(df, \"label_name\", \"bar\")"
   ]
  },
  {
   "cell_type": "code",
   "execution_count": null,
   "metadata": {},
   "outputs": [],
   "source": []
  },
  {
   "cell_type": "code",
   "execution_count": 76,
   "metadata": {},
   "outputs": [],
   "source": [
    "df_cols = list(df[\"label_name\"].unique())"
   ]
  },
  {
   "cell_type": "code",
   "execution_count": 25,
   "metadata": {},
   "outputs": [],
   "source": [
    "classes = [\"front_bumper_damage\",\n",
    "    \"hood_damage\",\n",
    "    \"right_headlight_damage\",\n",
    "    \"left_headlight_damage\",\n",
    "    \"front_left_fender_damage\",\n",
    "    \"front_right_fender_damage\",\n",
    "    \"front_right_sidedoor_damage\",\n",
    "    \"rear_right_sidedoor_damage\",\n",
    "    \"front_left_sidedoor_damage\",\n",
    "    \"rear_left_sidedoor_damage\",\n",
    "    \"rear_right_fender_damage\",\n",
    "    \"rear_left_fender_damage\",\n",
    "    \"rear_bumper_damage\",\n",
    "    \"front_windscreen_damage\",\n",
    "    \"right_sidemirror_damage\",\n",
    "    \"left_sidemirror_damage\",\n",
    "    \"front_right_window_damage\",\n",
    "    \"rear_right_window_damage\",\n",
    "    \"front_left_window_damage\",\n",
    "    \"rear_left_window_damage\",\n",
    "    \"trunk_damage\",\n",
    "    \"left_taillight_damage\",\n",
    "    \"right_taillight_damage\",\n",
    "    \"roof_damage\",\n",
    "    \"rear_windscreen_damage\",\n",
    "    \"right_pillar_damage\",\n",
    "    \"left_pillar_damage\",\n",
    "    \"front_right_tyre\",\n",
    "    \"rear_right_tyre\",\n",
    "    \"front_left_tyre\",\n",
    "    \"rear_left_tyre\",\n",
    "    \"left_quarter_window_damage\",\n",
    "    \"right_quarter_window_damage\"]"
   ]
  },
  {
   "cell_type": "code",
   "execution_count": 29,
   "metadata": {},
   "outputs": [
    {
     "name": "stdout",
     "output_type": "stream",
     "text": [
      "right_pillar_damage\n",
      "left_pillar_damage\n"
     ]
    }
   ],
   "source": [
    "for cl in classes:\n",
    "    if cl not in df_cols:\n",
    "        print(cl)"
   ]
  },
  {
   "cell_type": "code",
   "execution_count": null,
   "metadata": {},
   "outputs": [],
   "source": []
  },
  {
   "cell_type": "code",
   "execution_count": null,
   "metadata": {},
   "outputs": [],
   "source": []
  },
  {
   "cell_type": "code",
   "execution_count": null,
   "metadata": {},
   "outputs": [],
   "source": []
  },
  {
   "cell_type": "code",
   "execution_count": 29,
   "metadata": {},
   "outputs": [
    {
     "name": "stdout",
     "output_type": "stream",
     "text": [
      "QO2282\n",
      "002282\n",
      "7FARTGHIOME002282\n"
     ]
    }
   ],
   "source": [
    "\n",
    "vin = \"7FARTGHIOMEQO2282\"\n",
    "\n",
    "#correct last six vin numbers through iteration\n",
    "last_six = vin[-6:len(vin)+1]  #extract last six characters from extracted vin\n",
    "new_last_six = \"\"    #create variable to store corrected variable\n",
    "for char in last_six:\n",
    "    try:  #try to concatenate each character to integer for verification\n",
    "        char = int(char)\n",
    "    except ValueError:\n",
    "        #print(\"Error\", char)\n",
    "        if char == \"Q\" or char == \"O\":  #if character is Q or O = 0\n",
    "            char = int(0)\n",
    "        elif char == \"A\":\n",
    "            char = int(4)\n",
    "        pass\n",
    "    new_last_six += str(char)\n",
    "\n",
    "print(last_six)\n",
    "print(new_last_six)\n",
    "new_vin = vin.replace(last_six, new_last_six)\n",
    "print(new_vin)"
   ]
  },
  {
   "cell_type": "code",
   "execution_count": 71,
   "metadata": {},
   "outputs": [
    {
     "name": "stdout",
     "output_type": "stream",
     "text": [
      "QO2282\n",
      "002282\n",
      "7FARTGHIOME002282\n",
      "0:00:00.000097\n"
     ]
    }
   ],
   "source": [
    "from datetime import datetime\n",
    "\n",
    "vin = \"7FARTGHIOMEQO2282\"\n",
    "\n",
    "#correct last six vin numbers through iteration\n",
    "last_six = vin[-6:len(vin)+1]  #extract last six characters from extracted vin\n",
    "\n",
    "start = datetime.now()\n",
    "\"\"\"new_last_six = \"\"    #create variable to store corrected variable\n",
    "\n",
    "char_to_num = {\n",
    "    \"Q\": \"0\",\n",
    "    \"O\": \"0\",\n",
    "    \"A\": \"4\",\n",
    "    \"I\": \"1\",\n",
    "    \"S\": \"5\",\n",
    "    \"Z\": \"2\"\n",
    "}\n",
    "\n",
    "for char in last_six:\n",
    "    try:  # try to concatenate each character to integer for verification\n",
    "        char = int(char)\n",
    "    except ValueError:\n",
    "        # Use the dictionary to map the character to the number\n",
    "        char = char_to_num.get(char, char)\n",
    "\n",
    "    new_last_six += str(char)\"\"\"\n",
    "# Create a translation table\n",
    "trans_table = str.maketrans(\"OQAISZ\", \"004152\")\n",
    "\n",
    "# Use the translation table in the translate method\n",
    "new_last_six = last_six.translate(trans_table)\n",
    "\n",
    "end = datetime.now()\n",
    "print(last_six)\n",
    "print(new_last_six)\n",
    "new_vin = vin.replace(last_six, new_last_six)\n",
    "print(new_vin)\n",
    "print(end-start)"
   ]
  },
  {
   "cell_type": "code",
   "execution_count": 12,
   "metadata": {},
   "outputs": [],
   "source": [
    "#from paddleocr import PaddleOCR"
   ]
  },
  {
   "cell_type": "code",
   "execution_count": 68,
   "metadata": {},
   "outputs": [
    {
     "name": "stdout",
     "output_type": "stream",
     "text": [
      "1696494386.642964\n"
     ]
    }
   ],
   "source": [
    "import time\n",
    "\n",
    "print(time.time())"
   ]
  },
  {
   "cell_type": "code",
   "execution_count": null,
   "metadata": {},
   "outputs": [],
   "source": []
  },
  {
   "cell_type": "code",
   "execution_count": null,
   "metadata": {},
   "outputs": [],
   "source": []
  },
  {
   "cell_type": "code",
   "execution_count": 62,
   "metadata": {},
   "outputs": [
    {
     "name": "stdout",
     "output_type": "stream",
     "text": [
      "7FARTGHIOMEQO2282 7FART6H90ME002282\n",
      "0.7058823529411764\n"
     ]
    }
   ],
   "source": [
    "import difflib\n",
    "\n",
    "def compute_similarity(input_string, reference_string):\n",
    "    diff = difflib.ndiff(input_string, reference_string)\n",
    "    diff_count = sum(1 for line in diff if line.startswith(\"-\"))\n",
    "    similarity = 1 - (diff_count / len(input_string))\n",
    "    return similarity\n",
    "\n",
    "input_string = \"7FARTGHIOMEQO2282\"#.replace(\"O\", \"0\").replace(\"Q\", \"0\")  #\"7FARTGHIOMEQO2282\"  #\"Geeksforgeeks\"\n",
    "reference_string = \"7FART6H90ME002282\"   #\"7FART6H10MEO2282\"   #\"Geeks4geeks\"\n",
    "print(input_string, reference_string)\n",
    "#similarity = compute_similarity(input_string, reference_string)\n",
    "#new_vin = \"7FARTGHIOME002282\"\n",
    "#similarity = compute_similarity(new_vin, reference_string)\n",
    "similarity = compute_similarity(input_string, reference_string)\n",
    "print(similarity)"
   ]
  },
  {
   "cell_type": "code",
   "execution_count": null,
   "metadata": {},
   "outputs": [],
   "source": []
  },
  {
   "cell_type": "code",
   "execution_count": 87,
   "metadata": {},
   "outputs": [
    {
     "name": "stdout",
     "output_type": "stream",
     "text": [
      "SUZUKI Grand Vitara 2000\n"
     ]
    }
   ],
   "source": [
    "from pyvin import VIN\n",
    "from socket import gaierror\n",
    "#JT2AE09W4P0038539\n",
    "#7FART6H90ME002282    JT2AE09W4P0038539     7FART6H90ME002282     4T1FA38P04U031026     4T1BE46K07U179763\n",
    "#LVVDD14B4AD35902       VSSZZZ6LZ4R073522       WVWZZZ3BZ4E214838\n",
    "#JS3TD62V1Y4107898       WP1ZZZ92ZJK443508    WDF63960123181319    5UXWX7C57F0K32463\n",
    "try:\n",
    "    vehicle = VIN('JS3TD62V1Y4107898')\n",
    "\n",
    "    try:\n",
    "        print(vehicle.Make, vehicle.Model, vehicle.ModelYear)\n",
    "\n",
    "    except AttributeError:\n",
    "        print(\"Error\")\n",
    "except ConnectionError:\n",
    "    print(\"Connection Error\")\n",
    "    pass\n",
    "except gaierror:\n",
    "    print(\"Gaierror\")\n",
    "    pass"
   ]
  },
  {
   "cell_type": "code",
   "execution_count": 6,
   "metadata": {},
   "outputs": [
    {
     "name": "stdout",
     "output_type": "stream",
     "text": [
      "{'message': 'Recognition failed.', 'message_key': '26', 'service': 'vinocr', 'status': 'FAILED', 'version': '3.0'}\n"
     ]
    }
   ],
   "source": [
    "#If you are sending a file, see this Python example\n",
    "import requests\n",
    "\n",
    "url = \"https://vin-recognition.p.rapidapi.com/v2\"\n",
    "#payload = {'inputurl': 'data:image/jpeg;base64,/9j/4AAQSkZJRgABAQAAAQABAAD/......'}\n",
    "payload = {'inputurl': 'vin_test_5.jpeg',\"dchannel\": \"d0\"}\n",
    "headers = { \"X-RapidAPI-Key\": \"a511740272mshfa34ac168c1b862p1e9ba7jsn36a037ee6b98\", \n",
    "           \"X-RapidAPI-Host\": \"vin-recognition.p.rapidapi.com\" }\n",
    "response = requests.post(url, data=payload, headers=headers)\n",
    "print(response.json())"
   ]
  },
  {
   "cell_type": "code",
   "execution_count": null,
   "metadata": {},
   "outputs": [],
   "source": []
  },
  {
   "cell_type": "code",
   "execution_count": null,
   "metadata": {},
   "outputs": [],
   "source": []
  },
  {
   "cell_type": "code",
   "execution_count": null,
   "metadata": {},
   "outputs": [],
   "source": []
  },
  {
   "cell_type": "code",
   "execution_count": 85,
   "metadata": {},
   "outputs": [
    {
     "data": {
      "text/plain": [
       "'SU566'"
      ]
     },
     "execution_count": 85,
     "metadata": {},
     "output_type": "execute_result"
    }
   ],
   "source": [
    "\"su566\".upper()"
   ]
  },
  {
   "cell_type": "code",
   "execution_count": null,
   "metadata": {},
   "outputs": [],
   "source": []
  },
  {
   "cell_type": "code",
   "execution_count": null,
   "metadata": {},
   "outputs": [],
   "source": [
    "def get_text(self, image:object) -> str:\n",
    "        \"\"\"Obtains the vin number from the vin\n",
    "\n",
    "        Parameters\n",
    "        ----------\n",
    "        bounding box coordinates of detected vin\n",
    "\n",
    "        Returns\n",
    "        -------\n",
    "\n",
    "        vin: str\n",
    "\n",
    "        \"\"\"\n",
    "        bbox_coords = self.bbox_coords\n",
    "        # bbox_coords = self.get_prediction_bbox(image) #get bounding boxes coordinates of prediction\n",
    "        x, y, w, h = (\n",
    "            int(bbox_coords[0][0]),\n",
    "            int(bbox_coords[0][1]),\n",
    "            int(bbox_coords[0][2]),\n",
    "            int(bbox_coords[0][3]),\n",
    "        )\n",
    "        img = cv2.imread(image)  # read image\n",
    "        img = cv2.cvtColor(img, cv2.COLOR_BGR2RGB)\n",
    "        img_precise = img[y:h, x:w]\n",
    "\n",
    "        gray = cv2.cvtColor(img_precise, cv2.COLOR_RGB2GRAY)\n",
    "\n",
    "        result = self.reader.readtext(gray)  # read text\n",
    "\n",
    "        # extract vin from text\n",
    "        vin = None\n",
    "        for res in result:\n",
    "            vin = res[1]\n",
    "\n",
    "        # check if vin exists to carry out cleaning on extracted vin\n",
    "        if len(vin) == 16:\n",
    "            vin = self.clean_vin(vin)\n",
    "\n",
    "        return vin"
   ]
  },
  {
   "cell_type": "code",
   "execution_count": null,
   "metadata": {},
   "outputs": [],
   "source": []
  },
  {
   "cell_type": "code",
   "execution_count": null,
   "metadata": {},
   "outputs": [],
   "source": []
  },
  {
   "cell_type": "code",
   "execution_count": null,
   "metadata": {},
   "outputs": [],
   "source": [
    "predictions = []  # declare list to store all predictions\n",
    "confidences = []\n",
    "\n",
    "# for loop to get all predictions and their confidences\n",
    "for result in results:\n",
    "    confs_list = [\n",
    "        round(x, 2) for x in result.boxes.conf.tolist()\n",
    "    ]  # get list of all confidences\n",
    "    track = 0\n",
    "    # for loop to get all predictions and their confidences\n",
    "    for i in result.boxes.cls:\n",
    "        if \n",
    "        predictions.append(model.names[int(i)])\n",
    "        confidences.append(confs_list[track])\n",
    "        track += 1\n"
   ]
  },
  {
   "cell_type": "code",
   "execution_count": null,
   "metadata": {},
   "outputs": [],
   "source": []
  },
  {
   "cell_type": "code",
   "execution_count": null,
   "metadata": {},
   "outputs": [],
   "source": []
  },
  {
   "cell_type": "code",
   "execution_count": 75,
   "metadata": {},
   "outputs": [
    {
     "name": "stdout",
     "output_type": "stream",
     "text": [
      "Empty\n"
     ]
    }
   ],
   "source": [
    "bbox_coords = None\n",
    "\n",
    "if bbox_coords:\n",
    "    print(\"Not Empty\")\n",
    "else:\n",
    "    print(\"Empty\")"
   ]
  },
  {
   "cell_type": "code",
   "execution_count": null,
   "metadata": {},
   "outputs": [],
   "source": [
    "\"\"\"for result in results:\n",
    "            try:\n",
    "                if model.names[int(result.boxes.cls)] == \"vin\":\n",
    "                    bbox_coords = result.boxes.xyxy.tolist()\n",
    "                    validation = True\n",
    "                    prediction = \"vin\"\n",
    "\n",
    "                else:\n",
    "                    bbox_coords = False\n",
    "                    validation = False\n",
    "            except ValueError:\n",
    "                bbox_coords = False\n",
    "                validation = False\"\"\"\n",
    "        #validation = False"
   ]
  }
 ],
 "metadata": {
  "kernelspec": {
   "display_name": "Python 3",
   "language": "python",
   "name": "python3"
  },
  "language_info": {
   "codemirror_mode": {
    "name": "ipython",
    "version": 3
   },
   "file_extension": ".py",
   "mimetype": "text/x-python",
   "name": "python",
   "nbconvert_exporter": "python",
   "pygments_lexer": "ipython3",
   "version": "3.8.5"
  }
 },
 "nbformat": 4,
 "nbformat_minor": 4
}
