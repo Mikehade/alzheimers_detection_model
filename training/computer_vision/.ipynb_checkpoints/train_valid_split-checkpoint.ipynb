{
 "cells": [
  {
   "cell_type": "code",
   "execution_count": 1,
   "metadata": {},
   "outputs": [
    {
     "name": "stderr",
     "output_type": "stream",
     "text": [
      "C:\\Users\\MICHEAL\\anaconda3\\lib\\site-packages\\pandas\\core\\computation\\expressions.py:20: UserWarning: Pandas requires version '2.7.3' or newer of 'numexpr' (version '2.7.1' currently installed).\n",
      "  from pandas.core.computation.check import NUMEXPR_INSTALLED\n"
     ]
    }
   ],
   "source": [
    "import pandas as pd\n",
    "import numpy as np\n",
    "import random\n",
    "import shutil\n",
    "\n",
    "import matplotlib.pyplot as plt\n",
    "import matplotlib.cm as cm\n",
    "import seaborn as sn\n",
    "\n",
    "\n",
    "import os\n",
    "import glob\n",
    "from pathlib import Path\n",
    "\n",
    "from collections import Counter\n",
    "from itertools import cycle, islice\n",
    "\n",
    "from PIL import Image\n",
    "from sys import argv\n",
    "from warnings import filterwarnings\n",
    "filterwarnings(\"ignore\")"
   ]
  },
  {
   "cell_type": "code",
   "execution_count": 2,
   "metadata": {},
   "outputs": [],
   "source": [
    "pat = \"annotated_batches\"\n",
    "#pat = \"post_loss_annotated\"\n",
    "csvs = f\"annotations_CSV\"\n",
    "xmls = f\"annotations_XML\"\n",
    "yolos = f\"annotations_YOLO\"\n",
    "\n",
    "if not os.path.isdir(f\"{pat}/cleaned_annotations_CSV\"):   #create batch folder if it does not exist\n",
    "        os.makedirs(f\"{pat}/cleaned_annotations_CSV\")\n",
    "new_csvs = f\"{pat}/cleaned_annotations_CSV\"\n",
    "\n",
    "\n",
    "path_csv = f\"{csvs}/*?.csv\"\n",
    "\n",
    "path_xml = f\"{xmls}/*?.xml\"\n",
    "path_yolo = f\"{yolos}/*?.txt\""
   ]
  },
  {
   "cell_type": "code",
   "execution_count": 3,
   "metadata": {},
   "outputs": [],
   "source": [
    "def path_to_list(path, file_type):\n",
    "    \"\"\"\n",
    "    function for extracting files name from either of xml or yolo directory\n",
    "    input\n",
    "    path: path to xml or yolo directory\n",
    "    file_type: - specification of either txt or yolo\"\"\"\n",
    "    path_list = []\n",
    "    for files in glob.glob(path):  #iterate through folder\n",
    "        f_name = os.path.split(files)[-1]\n",
    "        f = f_name.split(f\".{file_type}\")[0]\n",
    "        path_list.append(files)\n",
    "        #print(f)\n",
    "    #print(len(path_list))\n",
    "    return path_list"
   ]
  },
  {
   "cell_type": "code",
   "execution_count": 4,
   "metadata": {},
   "outputs": [],
   "source": [
    "i = 0\n",
    "for files in glob.glob(path_csv): #erate through folder to concatenate csv into dataframes\n",
    "    #print(files)\n",
    "    #extract batch names\n",
    "    #f_name = os.path.split(files)[-1]\n",
    "    #batch = f_name.split(\"_\")[-1]\n",
    "    #batch = batch.split(\".\")[-2]\n",
    "    #batch_list.append(batch)\n",
    "    #print(batch)\n",
    "\n",
    "    if i == 0:  #create new dataframe in first iteration\n",
    "        \n",
    "        df = pd.read_csv(files)\n",
    "        \n",
    "        #the following lines can be uncommented to view bar plots of individual dataframes\n",
    "        #print('\\033[1m' + f\"Barplot for {batch}\" + '\\033[0m')\n",
    "        #im = plot_dist(df, \"label_name\", \"bar\")  #plot individual dataframes\n",
    "        #display(im.figure)\n",
    "\n",
    "    else:  #concatenate other csv's with first dataframe\n",
    "        data = pd.read_csv(files)\n",
    "        df = pd.concat([df, data], ignore_index=True)\n",
    "    i += 1"
   ]
  },
  {
   "cell_type": "code",
   "execution_count": 5,
   "metadata": {},
   "outputs": [
    {
     "data": {
      "text/html": [
       "<div>\n",
       "<style scoped>\n",
       "    .dataframe tbody tr th:only-of-type {\n",
       "        vertical-align: middle;\n",
       "    }\n",
       "\n",
       "    .dataframe tbody tr th {\n",
       "        vertical-align: top;\n",
       "    }\n",
       "\n",
       "    .dataframe thead th {\n",
       "        text-align: right;\n",
       "    }\n",
       "</style>\n",
       "<table border=\"1\" class=\"dataframe\">\n",
       "  <thead>\n",
       "    <tr style=\"text-align: right;\">\n",
       "      <th></th>\n",
       "      <th>label_name</th>\n",
       "      <th>bbox_x</th>\n",
       "      <th>bbox_y</th>\n",
       "      <th>bbox_width</th>\n",
       "      <th>bbox_height</th>\n",
       "      <th>image_name</th>\n",
       "      <th>image_width</th>\n",
       "      <th>image_height</th>\n",
       "    </tr>\n",
       "  </thead>\n",
       "  <tbody>\n",
       "    <tr>\n",
       "      <th>0</th>\n",
       "      <td>mri</td>\n",
       "      <td>17</td>\n",
       "      <td>16</td>\n",
       "      <td>138</td>\n",
       "      <td>173</td>\n",
       "      <td>mildDem0.jpg</td>\n",
       "      <td>176</td>\n",
       "      <td>208</td>\n",
       "    </tr>\n",
       "    <tr>\n",
       "      <th>1</th>\n",
       "      <td>mri</td>\n",
       "      <td>16</td>\n",
       "      <td>17</td>\n",
       "      <td>140</td>\n",
       "      <td>172</td>\n",
       "      <td>mildDem1.jpg</td>\n",
       "      <td>176</td>\n",
       "      <td>208</td>\n",
       "    </tr>\n",
       "    <tr>\n",
       "      <th>2</th>\n",
       "      <td>mri</td>\n",
       "      <td>18</td>\n",
       "      <td>17</td>\n",
       "      <td>139</td>\n",
       "      <td>175</td>\n",
       "      <td>mildDem10.jpg</td>\n",
       "      <td>176</td>\n",
       "      <td>208</td>\n",
       "    </tr>\n",
       "    <tr>\n",
       "      <th>3</th>\n",
       "      <td>mri</td>\n",
       "      <td>18</td>\n",
       "      <td>17</td>\n",
       "      <td>138</td>\n",
       "      <td>172</td>\n",
       "      <td>mildDem100.jpg</td>\n",
       "      <td>176</td>\n",
       "      <td>208</td>\n",
       "    </tr>\n",
       "    <tr>\n",
       "      <th>4</th>\n",
       "      <td>mri</td>\n",
       "      <td>16</td>\n",
       "      <td>17</td>\n",
       "      <td>139</td>\n",
       "      <td>174</td>\n",
       "      <td>mildDem101.jpg</td>\n",
       "      <td>176</td>\n",
       "      <td>208</td>\n",
       "    </tr>\n",
       "    <tr>\n",
       "      <th>...</th>\n",
       "      <td>...</td>\n",
       "      <td>...</td>\n",
       "      <td>...</td>\n",
       "      <td>...</td>\n",
       "      <td>...</td>\n",
       "      <td>...</td>\n",
       "      <td>...</td>\n",
       "      <td>...</td>\n",
       "    </tr>\n",
       "    <tr>\n",
       "      <th>595</th>\n",
       "      <td>mri</td>\n",
       "      <td>16</td>\n",
       "      <td>16</td>\n",
       "      <td>140</td>\n",
       "      <td>174</td>\n",
       "      <td>verymildDem95.jpg</td>\n",
       "      <td>176</td>\n",
       "      <td>208</td>\n",
       "    </tr>\n",
       "    <tr>\n",
       "      <th>596</th>\n",
       "      <td>mri</td>\n",
       "      <td>17</td>\n",
       "      <td>17</td>\n",
       "      <td>140</td>\n",
       "      <td>173</td>\n",
       "      <td>verymildDem96.jpg</td>\n",
       "      <td>176</td>\n",
       "      <td>208</td>\n",
       "    </tr>\n",
       "    <tr>\n",
       "      <th>597</th>\n",
       "      <td>mri</td>\n",
       "      <td>16</td>\n",
       "      <td>18</td>\n",
       "      <td>140</td>\n",
       "      <td>172</td>\n",
       "      <td>verymildDem97.jpg</td>\n",
       "      <td>176</td>\n",
       "      <td>208</td>\n",
       "    </tr>\n",
       "    <tr>\n",
       "      <th>598</th>\n",
       "      <td>mri</td>\n",
       "      <td>16</td>\n",
       "      <td>17</td>\n",
       "      <td>140</td>\n",
       "      <td>173</td>\n",
       "      <td>verymildDem98.jpg</td>\n",
       "      <td>176</td>\n",
       "      <td>208</td>\n",
       "    </tr>\n",
       "    <tr>\n",
       "      <th>599</th>\n",
       "      <td>mri</td>\n",
       "      <td>16</td>\n",
       "      <td>17</td>\n",
       "      <td>140</td>\n",
       "      <td>173</td>\n",
       "      <td>verymildDem99.jpg</td>\n",
       "      <td>176</td>\n",
       "      <td>208</td>\n",
       "    </tr>\n",
       "  </tbody>\n",
       "</table>\n",
       "<p>600 rows × 8 columns</p>\n",
       "</div>"
      ],
      "text/plain": [
       "    label_name  bbox_x  bbox_y  bbox_width  bbox_height         image_name  \\\n",
       "0          mri      17      16         138          173       mildDem0.jpg   \n",
       "1          mri      16      17         140          172       mildDem1.jpg   \n",
       "2          mri      18      17         139          175      mildDem10.jpg   \n",
       "3          mri      18      17         138          172     mildDem100.jpg   \n",
       "4          mri      16      17         139          174     mildDem101.jpg   \n",
       "..         ...     ...     ...         ...          ...                ...   \n",
       "595        mri      16      16         140          174  verymildDem95.jpg   \n",
       "596        mri      17      17         140          173  verymildDem96.jpg   \n",
       "597        mri      16      18         140          172  verymildDem97.jpg   \n",
       "598        mri      16      17         140          173  verymildDem98.jpg   \n",
       "599        mri      16      17         140          173  verymildDem99.jpg   \n",
       "\n",
       "     image_width  image_height  \n",
       "0            176           208  \n",
       "1            176           208  \n",
       "2            176           208  \n",
       "3            176           208  \n",
       "4            176           208  \n",
       "..           ...           ...  \n",
       "595          176           208  \n",
       "596          176           208  \n",
       "597          176           208  \n",
       "598          176           208  \n",
       "599          176           208  \n",
       "\n",
       "[600 rows x 8 columns]"
      ]
     },
     "execution_count": 5,
     "metadata": {},
     "output_type": "execute_result"
    }
   ],
   "source": [
    "df"
   ]
  },
  {
   "cell_type": "code",
   "execution_count": null,
   "metadata": {},
   "outputs": [],
   "source": []
  },
  {
   "cell_type": "markdown",
   "metadata": {},
   "source": [
    "### Convert unique image names to list "
   ]
  },
  {
   "cell_type": "code",
   "execution_count": 6,
   "metadata": {},
   "outputs": [
    {
     "data": {
      "text/plain": [
       "600"
      ]
     },
     "execution_count": 6,
     "metadata": {},
     "output_type": "execute_result"
    }
   ],
   "source": [
    "img_names = df[\"image_name\"].unique().tolist()\n",
    "len(img_names)"
   ]
  },
  {
   "cell_type": "code",
   "execution_count": 7,
   "metadata": {},
   "outputs": [
    {
     "name": "stdout",
     "output_type": "stream",
     "text": [
      "480 120\n"
     ]
    }
   ],
   "source": [
    "training = int(len(img_names) * 0.8)\n",
    "valid = len(img_names) - training\n",
    "print(training, valid)"
   ]
  },
  {
   "cell_type": "markdown",
   "metadata": {},
   "source": [
    "### Extract random image names in a list length of validation number"
   ]
  },
  {
   "cell_type": "code",
   "execution_count": 8,
   "metadata": {},
   "outputs": [
    {
     "name": "stdout",
     "output_type": "stream",
     "text": [
      "136\n"
     ]
    }
   ],
   "source": [
    "val_list = []   #initialize empty list for storing random unique names for validation datset\n",
    "ite = 0\n",
    "\n",
    "#while loop to extract random unique names\n",
    "while len(val_list) < valid:\n",
    "    ran = random.randint(0, len(img_names)-1)  #generate random numbers from total length of unique names\n",
    "    curr_name = img_names[ran]\n",
    "    if len(val_list) == 0:  #save first name into list\n",
    "        val_list.append(curr_name)\n",
    "    elif len(val_list) != 0 and curr_name not in val_list:  #check if every other name does not exist before appending\n",
    "        val_list.append(curr_name)\n",
    "        \n",
    "    ite += 1\n",
    "    \n",
    "print(ite)"
   ]
  },
  {
   "cell_type": "markdown",
   "metadata": {},
   "source": [
    "#### Verify that only unique names are in list "
   ]
  },
  {
   "cell_type": "code",
   "execution_count": 9,
   "metadata": {},
   "outputs": [
    {
     "data": {
      "text/html": [
       "<div>\n",
       "<style scoped>\n",
       "    .dataframe tbody tr th:only-of-type {\n",
       "        vertical-align: middle;\n",
       "    }\n",
       "\n",
       "    .dataframe tbody tr th {\n",
       "        vertical-align: top;\n",
       "    }\n",
       "\n",
       "    .dataframe thead th {\n",
       "        text-align: right;\n",
       "    }\n",
       "</style>\n",
       "<table border=\"1\" class=\"dataframe\">\n",
       "  <thead>\n",
       "    <tr style=\"text-align: right;\">\n",
       "      <th></th>\n",
       "      <th>names</th>\n",
       "    </tr>\n",
       "  </thead>\n",
       "  <tbody>\n",
       "    <tr>\n",
       "      <th>0</th>\n",
       "      <td>mildDem257.jpg</td>\n",
       "    </tr>\n",
       "    <tr>\n",
       "      <th>1</th>\n",
       "      <td>mildDem134.jpg</td>\n",
       "    </tr>\n",
       "    <tr>\n",
       "      <th>2</th>\n",
       "      <td>mildDem226.jpg</td>\n",
       "    </tr>\n",
       "    <tr>\n",
       "      <th>3</th>\n",
       "      <td>mildDem32.jpg</td>\n",
       "    </tr>\n",
       "    <tr>\n",
       "      <th>4</th>\n",
       "      <td>mildDem370.jpg</td>\n",
       "    </tr>\n",
       "    <tr>\n",
       "      <th>...</th>\n",
       "      <td>...</td>\n",
       "    </tr>\n",
       "    <tr>\n",
       "      <th>115</th>\n",
       "      <td>mildDem34.jpg</td>\n",
       "    </tr>\n",
       "    <tr>\n",
       "      <th>116</th>\n",
       "      <td>mildDem273.jpg</td>\n",
       "    </tr>\n",
       "    <tr>\n",
       "      <th>117</th>\n",
       "      <td>verymildDem24.jpg</td>\n",
       "    </tr>\n",
       "    <tr>\n",
       "      <th>118</th>\n",
       "      <td>mildDem202.jpg</td>\n",
       "    </tr>\n",
       "    <tr>\n",
       "      <th>119</th>\n",
       "      <td>moderateDem3.jpg</td>\n",
       "    </tr>\n",
       "  </tbody>\n",
       "</table>\n",
       "<p>120 rows × 1 columns</p>\n",
       "</div>"
      ],
      "text/plain": [
       "                 names\n",
       "0       mildDem257.jpg\n",
       "1       mildDem134.jpg\n",
       "2       mildDem226.jpg\n",
       "3        mildDem32.jpg\n",
       "4       mildDem370.jpg\n",
       "..                 ...\n",
       "115      mildDem34.jpg\n",
       "116     mildDem273.jpg\n",
       "117  verymildDem24.jpg\n",
       "118     mildDem202.jpg\n",
       "119   moderateDem3.jpg\n",
       "\n",
       "[120 rows x 1 columns]"
      ]
     },
     "execution_count": 9,
     "metadata": {},
     "output_type": "execute_result"
    }
   ],
   "source": [
    "tem_df = pd.DataFrame(list(zip(val_list)), columns = ['names'])\n",
    "tem_df"
   ]
  },
  {
   "cell_type": "code",
   "execution_count": 10,
   "metadata": {},
   "outputs": [
    {
     "data": {
      "text/plain": [
       "120"
      ]
     },
     "execution_count": 10,
     "metadata": {},
     "output_type": "execute_result"
    }
   ],
   "source": [
    "tem_df[\"names\"].nunique()"
   ]
  },
  {
   "cell_type": "code",
   "execution_count": null,
   "metadata": {},
   "outputs": [],
   "source": []
  },
  {
   "cell_type": "markdown",
   "metadata": {},
   "source": [
    "### Create directories to store train and validation data if they do not exist"
   ]
  },
  {
   "cell_type": "code",
   "execution_count": 11,
   "metadata": {},
   "outputs": [],
   "source": [
    "main_dir = \"MRI_Verification_Data\"\n",
    "train_dir = \"train\"\n",
    "val_dir = \"valid\"\n",
    "img_dir = \"images\"\n",
    "yolo_labels = \"labels\"\n",
    "xml_labels = \"labels_xml\"\n",
    "csv_labels = \"labels_csv\"\n",
    "\n",
    "if os.path.isdir(f\"{main_dir}\"):\n",
    "    #os.rmdir(f\"{main_dir}\")\n",
    "    shutil.rmtree(f\"{main_dir}\")\n",
    "\n",
    "\n",
    "if not os.path.isdir(f\"{main_dir}\"):\n",
    "    os.makedirs(f\"{main_dir}\")\n",
    "if not os.path.isdir(f\"{main_dir}/{train_dir}/{img_dir}\"):\n",
    "    os.makedirs(f\"{main_dir}/{train_dir}/{img_dir}\")\n",
    "if not os.path.isdir(f\"{main_dir}/{train_dir}/{yolo_labels}\"):\n",
    "    os.makedirs(f\"{main_dir}/{train_dir}/{yolo_labels}\")\n",
    "if not os.path.isdir(f\"{main_dir}/{train_dir}/{xml_labels}\"):\n",
    "    os.makedirs(f\"{main_dir}/{train_dir}/{xml_labels}\")\n",
    "if not os.path.isdir(f\"{main_dir}/{train_dir}/{csv_labels}\"):\n",
    "    os.makedirs(f\"{main_dir}/{train_dir}/{csv_labels}\")\n",
    "    \n",
    "if not os.path.isdir(f\"{main_dir}/{val_dir}/{img_dir}\"):\n",
    "    os.makedirs(f\"{main_dir}/{val_dir}/{img_dir}\")\n",
    "if not os.path.isdir(f\"{main_dir}/{val_dir}/{yolo_labels}\"):\n",
    "    os.makedirs(f\"{main_dir}/{val_dir}/{yolo_labels}\")\n",
    "if not os.path.isdir(f\"{main_dir}/{val_dir}/{xml_labels}\"):\n",
    "    os.makedirs(f\"{main_dir}/{val_dir}/{xml_labels}\")\n",
    "if not os.path.isdir(f\"{main_dir}/{val_dir}/{csv_labels}\"):\n",
    "    os.makedirs(f\"{main_dir}/{val_dir}/{csv_labels}\")"
   ]
  },
  {
   "cell_type": "code",
   "execution_count": null,
   "metadata": {},
   "outputs": [],
   "source": [
    "\n",
    "\n",
    "\n"
   ]
  },
  {
   "cell_type": "markdown",
   "metadata": {},
   "source": [
    "### Extract train and validation dataframe from main dataframe "
   ]
  },
  {
   "cell_type": "code",
   "execution_count": 12,
   "metadata": {},
   "outputs": [
    {
     "data": {
      "text/plain": [
       "480"
      ]
     },
     "execution_count": 12,
     "metadata": {},
     "output_type": "execute_result"
    }
   ],
   "source": [
    "#Extract train dataset list\n",
    "train_list = [n for n in img_names if n not in val_list]\n",
    "len(train_list)"
   ]
  },
  {
   "cell_type": "code",
   "execution_count": 13,
   "metadata": {},
   "outputs": [
    {
     "data": {
      "text/html": [
       "<div>\n",
       "<style scoped>\n",
       "    .dataframe tbody tr th:only-of-type {\n",
       "        vertical-align: middle;\n",
       "    }\n",
       "\n",
       "    .dataframe tbody tr th {\n",
       "        vertical-align: top;\n",
       "    }\n",
       "\n",
       "    .dataframe thead th {\n",
       "        text-align: right;\n",
       "    }\n",
       "</style>\n",
       "<table border=\"1\" class=\"dataframe\">\n",
       "  <thead>\n",
       "    <tr style=\"text-align: right;\">\n",
       "      <th></th>\n",
       "      <th>label_name</th>\n",
       "      <th>bbox_x</th>\n",
       "      <th>bbox_y</th>\n",
       "      <th>bbox_width</th>\n",
       "      <th>bbox_height</th>\n",
       "      <th>image_name</th>\n",
       "      <th>image_width</th>\n",
       "      <th>image_height</th>\n",
       "    </tr>\n",
       "  </thead>\n",
       "  <tbody>\n",
       "    <tr>\n",
       "      <th>0</th>\n",
       "      <td>mri</td>\n",
       "      <td>17</td>\n",
       "      <td>16</td>\n",
       "      <td>138</td>\n",
       "      <td>173</td>\n",
       "      <td>mildDem0.jpg</td>\n",
       "      <td>176</td>\n",
       "      <td>208</td>\n",
       "    </tr>\n",
       "    <tr>\n",
       "      <th>1</th>\n",
       "      <td>mri</td>\n",
       "      <td>16</td>\n",
       "      <td>17</td>\n",
       "      <td>140</td>\n",
       "      <td>172</td>\n",
       "      <td>mildDem1.jpg</td>\n",
       "      <td>176</td>\n",
       "      <td>208</td>\n",
       "    </tr>\n",
       "    <tr>\n",
       "      <th>2</th>\n",
       "      <td>mri</td>\n",
       "      <td>18</td>\n",
       "      <td>17</td>\n",
       "      <td>139</td>\n",
       "      <td>175</td>\n",
       "      <td>mildDem10.jpg</td>\n",
       "      <td>176</td>\n",
       "      <td>208</td>\n",
       "    </tr>\n",
       "    <tr>\n",
       "      <th>3</th>\n",
       "      <td>mri</td>\n",
       "      <td>18</td>\n",
       "      <td>17</td>\n",
       "      <td>138</td>\n",
       "      <td>172</td>\n",
       "      <td>mildDem100.jpg</td>\n",
       "      <td>176</td>\n",
       "      <td>208</td>\n",
       "    </tr>\n",
       "    <tr>\n",
       "      <th>4</th>\n",
       "      <td>mri</td>\n",
       "      <td>16</td>\n",
       "      <td>17</td>\n",
       "      <td>139</td>\n",
       "      <td>174</td>\n",
       "      <td>mildDem101.jpg</td>\n",
       "      <td>176</td>\n",
       "      <td>208</td>\n",
       "    </tr>\n",
       "    <tr>\n",
       "      <th>...</th>\n",
       "      <td>...</td>\n",
       "      <td>...</td>\n",
       "      <td>...</td>\n",
       "      <td>...</td>\n",
       "      <td>...</td>\n",
       "      <td>...</td>\n",
       "      <td>...</td>\n",
       "      <td>...</td>\n",
       "    </tr>\n",
       "    <tr>\n",
       "      <th>594</th>\n",
       "      <td>mri</td>\n",
       "      <td>16</td>\n",
       "      <td>17</td>\n",
       "      <td>140</td>\n",
       "      <td>173</td>\n",
       "      <td>verymildDem94.jpg</td>\n",
       "      <td>176</td>\n",
       "      <td>208</td>\n",
       "    </tr>\n",
       "    <tr>\n",
       "      <th>595</th>\n",
       "      <td>mri</td>\n",
       "      <td>16</td>\n",
       "      <td>16</td>\n",
       "      <td>140</td>\n",
       "      <td>174</td>\n",
       "      <td>verymildDem95.jpg</td>\n",
       "      <td>176</td>\n",
       "      <td>208</td>\n",
       "    </tr>\n",
       "    <tr>\n",
       "      <th>596</th>\n",
       "      <td>mri</td>\n",
       "      <td>17</td>\n",
       "      <td>17</td>\n",
       "      <td>140</td>\n",
       "      <td>173</td>\n",
       "      <td>verymildDem96.jpg</td>\n",
       "      <td>176</td>\n",
       "      <td>208</td>\n",
       "    </tr>\n",
       "    <tr>\n",
       "      <th>597</th>\n",
       "      <td>mri</td>\n",
       "      <td>16</td>\n",
       "      <td>18</td>\n",
       "      <td>140</td>\n",
       "      <td>172</td>\n",
       "      <td>verymildDem97.jpg</td>\n",
       "      <td>176</td>\n",
       "      <td>208</td>\n",
       "    </tr>\n",
       "    <tr>\n",
       "      <th>598</th>\n",
       "      <td>mri</td>\n",
       "      <td>16</td>\n",
       "      <td>17</td>\n",
       "      <td>140</td>\n",
       "      <td>173</td>\n",
       "      <td>verymildDem98.jpg</td>\n",
       "      <td>176</td>\n",
       "      <td>208</td>\n",
       "    </tr>\n",
       "  </tbody>\n",
       "</table>\n",
       "<p>480 rows × 8 columns</p>\n",
       "</div>"
      ],
      "text/plain": [
       "    label_name  bbox_x  bbox_y  bbox_width  bbox_height         image_name  \\\n",
       "0          mri      17      16         138          173       mildDem0.jpg   \n",
       "1          mri      16      17         140          172       mildDem1.jpg   \n",
       "2          mri      18      17         139          175      mildDem10.jpg   \n",
       "3          mri      18      17         138          172     mildDem100.jpg   \n",
       "4          mri      16      17         139          174     mildDem101.jpg   \n",
       "..         ...     ...     ...         ...          ...                ...   \n",
       "594        mri      16      17         140          173  verymildDem94.jpg   \n",
       "595        mri      16      16         140          174  verymildDem95.jpg   \n",
       "596        mri      17      17         140          173  verymildDem96.jpg   \n",
       "597        mri      16      18         140          172  verymildDem97.jpg   \n",
       "598        mri      16      17         140          173  verymildDem98.jpg   \n",
       "\n",
       "     image_width  image_height  \n",
       "0            176           208  \n",
       "1            176           208  \n",
       "2            176           208  \n",
       "3            176           208  \n",
       "4            176           208  \n",
       "..           ...           ...  \n",
       "594          176           208  \n",
       "595          176           208  \n",
       "596          176           208  \n",
       "597          176           208  \n",
       "598          176           208  \n",
       "\n",
       "[480 rows x 8 columns]"
      ]
     },
     "execution_count": 13,
     "metadata": {},
     "output_type": "execute_result"
    }
   ],
   "source": [
    "#extract train dataframe from total dataframe\n",
    "df_train = df.query(f\"image_name in {train_list}\")\n",
    "df_train"
   ]
  },
  {
   "cell_type": "code",
   "execution_count": 14,
   "metadata": {},
   "outputs": [
    {
     "data": {
      "text/html": [
       "<div>\n",
       "<style scoped>\n",
       "    .dataframe tbody tr th:only-of-type {\n",
       "        vertical-align: middle;\n",
       "    }\n",
       "\n",
       "    .dataframe tbody tr th {\n",
       "        vertical-align: top;\n",
       "    }\n",
       "\n",
       "    .dataframe thead th {\n",
       "        text-align: right;\n",
       "    }\n",
       "</style>\n",
       "<table border=\"1\" class=\"dataframe\">\n",
       "  <thead>\n",
       "    <tr style=\"text-align: right;\">\n",
       "      <th></th>\n",
       "      <th>label_name</th>\n",
       "      <th>bbox_x</th>\n",
       "      <th>bbox_y</th>\n",
       "      <th>bbox_width</th>\n",
       "      <th>bbox_height</th>\n",
       "      <th>image_name</th>\n",
       "      <th>image_width</th>\n",
       "      <th>image_height</th>\n",
       "    </tr>\n",
       "  </thead>\n",
       "  <tbody>\n",
       "    <tr>\n",
       "      <th>5</th>\n",
       "      <td>mri</td>\n",
       "      <td>17</td>\n",
       "      <td>17</td>\n",
       "      <td>138</td>\n",
       "      <td>173</td>\n",
       "      <td>mildDem102.jpg</td>\n",
       "      <td>176</td>\n",
       "      <td>208</td>\n",
       "    </tr>\n",
       "    <tr>\n",
       "      <th>16</th>\n",
       "      <td>mri</td>\n",
       "      <td>17</td>\n",
       "      <td>17</td>\n",
       "      <td>139</td>\n",
       "      <td>175</td>\n",
       "      <td>mildDem112.jpg</td>\n",
       "      <td>176</td>\n",
       "      <td>208</td>\n",
       "    </tr>\n",
       "    <tr>\n",
       "      <th>24</th>\n",
       "      <td>mri</td>\n",
       "      <td>16</td>\n",
       "      <td>17</td>\n",
       "      <td>140</td>\n",
       "      <td>173</td>\n",
       "      <td>mildDem12.jpg</td>\n",
       "      <td>176</td>\n",
       "      <td>208</td>\n",
       "    </tr>\n",
       "    <tr>\n",
       "      <th>27</th>\n",
       "      <td>mri</td>\n",
       "      <td>17</td>\n",
       "      <td>17</td>\n",
       "      <td>138</td>\n",
       "      <td>174</td>\n",
       "      <td>mildDem122.jpg</td>\n",
       "      <td>176</td>\n",
       "      <td>208</td>\n",
       "    </tr>\n",
       "    <tr>\n",
       "      <th>29</th>\n",
       "      <td>mri</td>\n",
       "      <td>16</td>\n",
       "      <td>15</td>\n",
       "      <td>140</td>\n",
       "      <td>175</td>\n",
       "      <td>mildDem124.jpg</td>\n",
       "      <td>176</td>\n",
       "      <td>208</td>\n",
       "    </tr>\n",
       "    <tr>\n",
       "      <th>...</th>\n",
       "      <td>...</td>\n",
       "      <td>...</td>\n",
       "      <td>...</td>\n",
       "      <td>...</td>\n",
       "      <td>...</td>\n",
       "      <td>...</td>\n",
       "      <td>...</td>\n",
       "      <td>...</td>\n",
       "    </tr>\n",
       "    <tr>\n",
       "      <th>584</th>\n",
       "      <td>mri</td>\n",
       "      <td>16</td>\n",
       "      <td>16</td>\n",
       "      <td>141</td>\n",
       "      <td>173</td>\n",
       "      <td>verymildDem85.jpg</td>\n",
       "      <td>176</td>\n",
       "      <td>208</td>\n",
       "    </tr>\n",
       "    <tr>\n",
       "      <th>586</th>\n",
       "      <td>mri</td>\n",
       "      <td>16</td>\n",
       "      <td>16</td>\n",
       "      <td>141</td>\n",
       "      <td>174</td>\n",
       "      <td>verymildDem87.jpg</td>\n",
       "      <td>176</td>\n",
       "      <td>208</td>\n",
       "    </tr>\n",
       "    <tr>\n",
       "      <th>589</th>\n",
       "      <td>mri</td>\n",
       "      <td>16</td>\n",
       "      <td>17</td>\n",
       "      <td>141</td>\n",
       "      <td>173</td>\n",
       "      <td>verymildDem9.jpg</td>\n",
       "      <td>176</td>\n",
       "      <td>208</td>\n",
       "    </tr>\n",
       "    <tr>\n",
       "      <th>590</th>\n",
       "      <td>mri</td>\n",
       "      <td>17</td>\n",
       "      <td>17</td>\n",
       "      <td>139</td>\n",
       "      <td>173</td>\n",
       "      <td>verymildDem90.jpg</td>\n",
       "      <td>176</td>\n",
       "      <td>208</td>\n",
       "    </tr>\n",
       "    <tr>\n",
       "      <th>599</th>\n",
       "      <td>mri</td>\n",
       "      <td>16</td>\n",
       "      <td>17</td>\n",
       "      <td>140</td>\n",
       "      <td>173</td>\n",
       "      <td>verymildDem99.jpg</td>\n",
       "      <td>176</td>\n",
       "      <td>208</td>\n",
       "    </tr>\n",
       "  </tbody>\n",
       "</table>\n",
       "<p>120 rows × 8 columns</p>\n",
       "</div>"
      ],
      "text/plain": [
       "    label_name  bbox_x  bbox_y  bbox_width  bbox_height         image_name  \\\n",
       "5          mri      17      17         138          173     mildDem102.jpg   \n",
       "16         mri      17      17         139          175     mildDem112.jpg   \n",
       "24         mri      16      17         140          173      mildDem12.jpg   \n",
       "27         mri      17      17         138          174     mildDem122.jpg   \n",
       "29         mri      16      15         140          175     mildDem124.jpg   \n",
       "..         ...     ...     ...         ...          ...                ...   \n",
       "584        mri      16      16         141          173  verymildDem85.jpg   \n",
       "586        mri      16      16         141          174  verymildDem87.jpg   \n",
       "589        mri      16      17         141          173   verymildDem9.jpg   \n",
       "590        mri      17      17         139          173  verymildDem90.jpg   \n",
       "599        mri      16      17         140          173  verymildDem99.jpg   \n",
       "\n",
       "     image_width  image_height  \n",
       "5            176           208  \n",
       "16           176           208  \n",
       "24           176           208  \n",
       "27           176           208  \n",
       "29           176           208  \n",
       "..           ...           ...  \n",
       "584          176           208  \n",
       "586          176           208  \n",
       "589          176           208  \n",
       "590          176           208  \n",
       "599          176           208  \n",
       "\n",
       "[120 rows x 8 columns]"
      ]
     },
     "execution_count": 14,
     "metadata": {},
     "output_type": "execute_result"
    }
   ],
   "source": [
    "#extract train dataframe from total dataframe\n",
    "df_valid = df.query(f\"image_name in {val_list}\")\n",
    "df_valid"
   ]
  },
  {
   "cell_type": "code",
   "execution_count": 15,
   "metadata": {},
   "outputs": [],
   "source": [
    "classes = ['chairs', 'left', 'front', 'rear', 'dashboard', 'instrument_panel', 'right']"
   ]
  },
  {
   "cell_type": "code",
   "execution_count": 16,
   "metadata": {},
   "outputs": [
    {
     "data": {
      "text/plain": [
       "'for cla in classes:\\n    train_size = len(df_train[df_train[\"label_name\"] == cla])\\n    validation_size = len(df_valid[df_valid[\"label_name\"] == cla])\\n    #compute percentage train and validation size\\n    pts = round((train_size / (train_size + validation_size)) * 100, 2)\\n    vts = round((validation_size / (train_size + validation_size)) * 100, 2)\\n    print(f\"Class: {cla}, Train Size: {pts}, Validation Size: {vts}\")'"
      ]
     },
     "execution_count": 16,
     "metadata": {},
     "output_type": "execute_result"
    }
   ],
   "source": [
    "\"\"\"for cla in classes:\n",
    "    train_size = len(df_train[df_train[\"label_name\"] == cla])\n",
    "    validation_size = len(df_valid[df_valid[\"label_name\"] == cla])\n",
    "    #compute percentage train and validation size\n",
    "    pts = round((train_size / (train_size + validation_size)) * 100, 2)\n",
    "    vts = round((validation_size / (train_size + validation_size)) * 100, 2)\n",
    "    print(f\"Class: {cla}, Train Size: {pts}, Validation Size: {vts}\")\"\"\""
   ]
  },
  {
   "cell_type": "code",
   "execution_count": 17,
   "metadata": {},
   "outputs": [
    {
     "data": {
      "text/plain": [
       "600"
      ]
     },
     "execution_count": 17,
     "metadata": {},
     "output_type": "execute_result"
    }
   ],
   "source": [
    "#verify that sum lengths of both dataframes are equal to length of total dataframe\n",
    "(len(df_train) + len(df_valid))"
   ]
  },
  {
   "cell_type": "code",
   "execution_count": 18,
   "metadata": {},
   "outputs": [],
   "source": [
    "#save both dataframeas as csv files in respective directories\n",
    "df_train.to_csv(f\"{main_dir}/{train_dir}/{csv_labels}/annotations.csv\", index =  False)\n",
    "df_valid.to_csv(f\"{main_dir}/{val_dir}/{csv_labels}/annotations.csv\", index =  False)\n"
   ]
  },
  {
   "cell_type": "code",
   "execution_count": null,
   "metadata": {},
   "outputs": [],
   "source": []
  },
  {
   "cell_type": "code",
   "execution_count": 19,
   "metadata": {},
   "outputs": [
    {
     "data": {
      "text/plain": [
       "mri    480\n",
       "Name: label_name, dtype: int64"
      ]
     },
     "execution_count": 19,
     "metadata": {},
     "output_type": "execute_result"
    }
   ],
   "source": [
    "df_train.label_name.value_counts()"
   ]
  },
  {
   "cell_type": "code",
   "execution_count": 20,
   "metadata": {},
   "outputs": [
    {
     "data": {
      "text/plain": [
       "mri    120\n",
       "Name: label_name, dtype: int64"
      ]
     },
     "execution_count": 20,
     "metadata": {},
     "output_type": "execute_result"
    }
   ],
   "source": [
    "df_valid.label_name.value_counts()"
   ]
  },
  {
   "cell_type": "code",
   "execution_count": null,
   "metadata": {},
   "outputs": [],
   "source": []
  },
  {
   "cell_type": "markdown",
   "metadata": {},
   "source": [
    "### Use unique train and validation names to extract yolo files "
   ]
  },
  {
   "cell_type": "code",
   "execution_count": 21,
   "metadata": {},
   "outputs": [
    {
     "name": "stdout",
     "output_type": "stream",
     "text": [
      "Total number of train yolo text files are 480\n"
     ]
    }
   ],
   "source": [
    "yolo_list = path_to_list(path_yolo, \"txt\")  #get list of files from yolo dirrectory\n",
    "\n",
    "strip_train_list = []\n",
    "for fl in train_list:\n",
    "    \n",
    "    if \".jpeg\" in fl:\n",
    "        #print(\"JPEG\")\n",
    "        strip_train_list.append(fl.split(\".jpeg\")[0])\n",
    "    elif \".jpg\" in fl:\n",
    "        strip_train_list.append(fl.split(\".jpg\")[0])\n",
    "\n",
    "ci = 0\n",
    "\n",
    "#print(len(yolo_list))\n",
    "for yls in yolo_list:\n",
    "    f_name = os.path.split(yls)[-1]\n",
    "    f = f_name.split(f\".txt\")[0]\n",
    "    #print(f)\n",
    "    if f in strip_train_list:\n",
    "        shutil.copy(f\"{yls}\", f\"{main_dir}/{train_dir}/{yolo_labels}/{f_name}\")\n",
    "        ci += 1\n",
    "    \n",
    "    #\n",
    "print(f\"Total number of train yolo text files are {ci}\")"
   ]
  },
  {
   "cell_type": "code",
   "execution_count": null,
   "metadata": {},
   "outputs": [],
   "source": []
  },
  {
   "cell_type": "code",
   "execution_count": 22,
   "metadata": {},
   "outputs": [
    {
     "name": "stdout",
     "output_type": "stream",
     "text": [
      "Total number of validation yolo text files are 120\n"
     ]
    }
   ],
   "source": [
    "yolo_list = path_to_list(path_yolo, \"txt\")  #get list of files from yolo dirrectory\n",
    "\n",
    "strip_val_list = []\n",
    "for fl in val_list:\n",
    "    #strip_val_list.append(fl.split(\".jpg\")[0])\n",
    "    if \".jpeg\" in fl:\n",
    "        #print(\"JPEG\")\n",
    "        strip_val_list.append(fl.split(\".jpeg\")[0])\n",
    "    elif \".jpg\" in fl:\n",
    "        strip_val_list.append(fl.split(\".jpg\")[0])\n",
    "\n",
    "ci = 0\n",
    "\n",
    "#print(len(yolo_list))\n",
    "for yls in yolo_list:\n",
    "    f_name = os.path.split(yls)[-1]\n",
    "    f = f_name.split(f\".txt\")[0]\n",
    "    #print(f)\n",
    "    if f in strip_val_list:\n",
    "        shutil.copy(f\"{yls}\", f\"{main_dir}/{val_dir}/{yolo_labels}/{f_name}\")\n",
    "        ci += 1\n",
    "    \n",
    "    #\n",
    "print(f\"Total number of validation yolo text files are {ci}\")"
   ]
  },
  {
   "cell_type": "code",
   "execution_count": null,
   "metadata": {},
   "outputs": [],
   "source": []
  },
  {
   "cell_type": "markdown",
   "metadata": {},
   "source": [
    "### Use unique train and validation names to extract xml files  "
   ]
  },
  {
   "cell_type": "code",
   "execution_count": 23,
   "metadata": {},
   "outputs": [
    {
     "data": {
      "text/plain": [
       "'xml_list = path_to_list(path_xml, \"xml\")  #get list of files from xml dirrectory\\n\\n\\nci = 0\\n\\n#print(len(yolo_list))\\nfor yls in xml_list:\\n    f_name = os.path.split(yls)[-1]\\n    f = f_name.split(f\".xml\")[0]\\n    #print(f)\\n    #print(yls)\\n    if f in strip_train_list:\\n        shutil.copy(f\"{yls}\", f\"{main_dir}/{train_dir}/{xml_labels}/{f_name}\")\\n        ci += 1\\n    \\n    #\\nprint(f\"Total number of train xml text files are {ci}\")'"
      ]
     },
     "execution_count": 23,
     "metadata": {},
     "output_type": "execute_result"
    }
   ],
   "source": [
    "\"\"\"xml_list = path_to_list(path_xml, \"xml\")  #get list of files from xml dirrectory\n",
    "\n",
    "\n",
    "ci = 0\n",
    "\n",
    "#print(len(yolo_list))\n",
    "for yls in xml_list:\n",
    "    f_name = os.path.split(yls)[-1]\n",
    "    f = f_name.split(f\".xml\")[0]\n",
    "    #print(f)\n",
    "    #print(yls)\n",
    "    if f in strip_train_list:\n",
    "        shutil.copy(f\"{yls}\", f\"{main_dir}/{train_dir}/{xml_labels}/{f_name}\")\n",
    "        ci += 1\n",
    "    \n",
    "    #\n",
    "print(f\"Total number of train xml text files are {ci}\")\"\"\""
   ]
  },
  {
   "cell_type": "code",
   "execution_count": null,
   "metadata": {},
   "outputs": [],
   "source": []
  },
  {
   "cell_type": "code",
   "execution_count": 24,
   "metadata": {},
   "outputs": [
    {
     "data": {
      "text/plain": [
       "'xml_list = path_to_list(path_xml, \"xml\")  #get list of files from xml dirrectory\\n\\n\\nci = 0\\n\\n#print(len(yolo_list))\\nfor yls in xml_list:\\n    f_name = os.path.split(yls)[-1]\\n    f = f_name.split(f\".xml\")[0]\\n    #print(f)\\n    #print(yls)\\n    if f in strip_val_list:\\n        shutil.copy(f\"{yls}\", f\"{main_dir}/{val_dir}/{xml_labels}/{f_name}\")\\n        ci += 1\\n    \\n    #\\nprint(f\"Total number of validation xml text files are {ci}\")'"
      ]
     },
     "execution_count": 24,
     "metadata": {},
     "output_type": "execute_result"
    }
   ],
   "source": [
    "\"\"\"xml_list = path_to_list(path_xml, \"xml\")  #get list of files from xml dirrectory\n",
    "\n",
    "\n",
    "ci = 0\n",
    "\n",
    "#print(len(yolo_list))\n",
    "for yls in xml_list:\n",
    "    f_name = os.path.split(yls)[-1]\n",
    "    f = f_name.split(f\".xml\")[0]\n",
    "    #print(f)\n",
    "    #print(yls)\n",
    "    if f in strip_val_list:\n",
    "        shutil.copy(f\"{yls}\", f\"{main_dir}/{val_dir}/{xml_labels}/{f_name}\")\n",
    "        ci += 1\n",
    "    \n",
    "    #\n",
    "print(f\"Total number of validation xml text files are {ci}\")\"\"\""
   ]
  },
  {
   "cell_type": "code",
   "execution_count": null,
   "metadata": {},
   "outputs": [],
   "source": []
  },
  {
   "cell_type": "code",
   "execution_count": null,
   "metadata": {},
   "outputs": [],
   "source": []
  },
  {
   "cell_type": "markdown",
   "metadata": {},
   "source": [
    "### Extract images using unique image names"
   ]
  },
  {
   "cell_type": "code",
   "execution_count": 25,
   "metadata": {},
   "outputs": [
    {
     "name": "stdout",
     "output_type": "stream",
     "text": [
      "Total number of training images are 480\n"
     ]
    }
   ],
   "source": [
    "cleaned_csv_trackss = []\n",
    "i = 0  #variable for keeping track of first dataframe in loop before concatenating others\n",
    "\n",
    "total_img =  total_csvu = cleaned_xml = 0\n",
    "\n",
    "train_exists_list = []\n",
    "\n",
    "tb = 0\n",
    "\n",
    "for n in range(1, 200):\n",
    "    cleaned_csv_track = [] #for keeping track of cleaned csv files per batch\n",
    "    if n < 10:\n",
    "        bat = f\"batch00{n}\"\n",
    "    elif n >= 10 and n < 100:\n",
    "        bat = f\"batch0{n}\"\n",
    "    else:\n",
    "        bat = f\"batch{n}\"\n",
    "\n",
    "    \n",
    "    path_img_jpeg = f\"{pat}/{bat}/*.jpeg\"  # Match jpeg files\n",
    "    jpeg_files = glob.glob(path_img_jpeg)\n",
    "    \n",
    "    path_img = f\"{pat}/{bat}/*.jpg\"  # Match jpg files\n",
    "    jpg_files = glob.glob(path_img)\n",
    "\n",
    "    # Combine the lists of jpg and jpeg files\n",
    "    all_files = jpg_files + jpeg_files\n",
    "    #print(len(jpeg_files))\n",
    "    #print(len(jpg_files), len(jpeg_files), len(all_files))\n",
    "\n",
    "    \n",
    "    curr_bat_img = 0\n",
    "    for files in all_files:  #iterate through folder to filter images\n",
    "        f_name = os.path.split(files)[-1]\n",
    "        if \".jpeg\" in f_name:\n",
    "            #print(\"JPEG\")\n",
    "            f = f_name.split(f\".jpeg\")[0]\n",
    "            if f in strip_train_list:\n",
    "                #print(files)\n",
    "                i += 1\n",
    "                if len(train_exists_list) == 0:\n",
    "                    train_exists_list.append(f)\n",
    "                    shutil.copy(f\"{files}\", f\"{main_dir}/{train_dir}/{img_dir}/{f}.jpeg\")\n",
    "                else:\n",
    "                    if f not in train_exists_list:\n",
    "                        train_exists_list.append(f)\n",
    "                        shutil.copy(f\"{files}\", f\"{main_dir}/{train_dir}/{img_dir}/{f}.jpeg\")\n",
    "            \n",
    "        elif \".jpg\" in f_name:\n",
    "            f = f_name.split(f\".jpg\")[0]\n",
    "            if f in strip_train_list:\n",
    "                i += 1\n",
    "                if len(train_exists_list) == 0:\n",
    "                    train_exists_list.append(f)\n",
    "                    shutil.copy(f\"{files}\", f\"{main_dir}/{train_dir}/{img_dir}/{f}.jpg\")\n",
    "                else:\n",
    "                    if f not in train_exists_list:\n",
    "                        train_exists_list.append(f)\n",
    "                        shutil.copy(f\"{files}\", f\"{main_dir}/{train_dir}/{img_dir}/{f}.jpg\")\n",
    "        #i += 1\n",
    "\n",
    "    \n",
    "#print(f\"Total number of training images are {i}\")\n",
    "print(f\"Total number of training images are {len(train_exists_list)}\")"
   ]
  },
  {
   "cell_type": "code",
   "execution_count": 26,
   "metadata": {},
   "outputs": [
    {
     "name": "stdout",
     "output_type": "stream",
     "text": [
      "Total number of training images are 120\n"
     ]
    }
   ],
   "source": [
    "i = 0  #variable for keeping track of first dataframe in loop before concatenating others\n",
    "\n",
    "total_img =  total_csvu = cleaned_xml = 0\n",
    "exists_list = [] \n",
    "\n",
    "\n",
    "\n",
    "for n in range(1, 200):\n",
    "    cleaned_csv_track = [] #for keeping track of cleaned csv files per batch\n",
    "    if n < 10:\n",
    "        bat = f\"batch00{n}\"\n",
    "    elif n >= 10 and n < 100:\n",
    "        bat = f\"batch0{n}\"\n",
    "    else:\n",
    "        bat = f\"batch{n}\"\n",
    "\n",
    "    \n",
    "    \n",
    "    path_img = f\"{pat}/{bat}/*.jpg\"  # Match jpg files\n",
    "    jpg_files = glob.glob(path_img)\n",
    "\n",
    "    path_img = f\"{pat}/{bat}/*.jpeg\"  # Match jpeg files\n",
    "    jpeg_files = glob.glob(path_img)\n",
    "\n",
    "    # Combine the lists of jpg and jpeg files\n",
    "    all_files = jpg_files + jpeg_files\n",
    "\n",
    "    #path_img = f\"{pat}/{bat}/*?.jpg\"\n",
    "    curr_bat_img = 0\n",
    "    for files in all_files:  #iterate through folder to filter images\n",
    "        #print(files)\n",
    "        f_name = os.path.split(files)[-1]\n",
    "        f = f_name.split(f\".jpg\")[0]\n",
    "\n",
    "        #print(f)\n",
    "        if \".jpg\" in f_name:\n",
    "            #print(\"JPG\")\n",
    "            f = f_name.split(f\".jpg\")[0]\n",
    "            if f in strip_val_list:\n",
    "                #shutil.copy(f\"{files}\", f\"{main_dir}/{val_dir}/{img_dir}/{f}.jpg\")\n",
    "                #shutil.copy(f\"{yls}\", f\"{main_dir}/{val_dir}/{img_dir}/{f_name}\")\n",
    "                if len(exists_list) == 0:\n",
    "                    exists_list.append(f)\n",
    "                    shutil.copy(f\"{files}\", f\"{main_dir}/{val_dir}/{img_dir}/{f}.jpg\")\n",
    "                else:\n",
    "                    if f not in exists_list:\n",
    "                        exists_list.append(f)\n",
    "                        shutil.copy(f\"{files}\", f\"{main_dir}/{val_dir}/{img_dir}/{f}.jpg\")\n",
    "            \n",
    "        elif \".jpeg\" in f_name:\n",
    "            #print(\"JPEG\")\n",
    "            f = f_name.split(f\".jpeg\")[0]\n",
    "            if f in strip_val_list:\n",
    "                #shutil.copy(f\"{files}\", f\"{main_dir}/{val_dir}/{img_dir}/{f}.jpg\")\n",
    "                #shutil.copy(f\"{yls}\", f\"{main_dir}/{val_dir}/{img_dir}/{f_name}\")\n",
    "                if len(exists_list) == 0:\n",
    "                    exists_list.append(f)\n",
    "                    shutil.copy(f\"{files}\", f\"{main_dir}/{val_dir}/{img_dir}/{f}.jpeg\")\n",
    "                else:\n",
    "                    if f not in exists_list:\n",
    "                        exists_list.append(f)\n",
    "                        shutil.copy(f\"{files}\", f\"{main_dir}/{val_dir}/{img_dir}/{f}.jpeg\")\n",
    "            \n",
    "            \n",
    "            #i += 1\n",
    "\n",
    "#print(i)\n",
    "                \n",
    "#print(f\"Total number of validation images are {i}\")\n",
    "print(f\"Total number of training images are {len(exists_list)}\")"
   ]
  },
  {
   "cell_type": "code",
   "execution_count": 27,
   "metadata": {},
   "outputs": [
    {
     "data": {
      "text/plain": [
       "600"
      ]
     },
     "execution_count": 27,
     "metadata": {},
     "output_type": "execute_result"
    }
   ],
   "source": [
    "len(train_exists_list) + len(exists_list)"
   ]
  },
  {
   "cell_type": "code",
   "execution_count": null,
   "metadata": {},
   "outputs": [],
   "source": []
  },
  {
   "cell_type": "code",
   "execution_count": null,
   "metadata": {},
   "outputs": [],
   "source": []
  },
  {
   "cell_type": "code",
   "execution_count": 27,
   "metadata": {},
   "outputs": [
    {
     "data": {
      "text/plain": [
       "['chairs', 'left', 'front', 'rear', 'dashboard', 'instrument_panel', 'right']"
      ]
     },
     "execution_count": 27,
     "metadata": {},
     "output_type": "execute_result"
    }
   ],
   "source": [
    "df[\"label_name\"].unique().tolist()"
   ]
  },
  {
   "cell_type": "code",
   "execution_count": null,
   "metadata": {},
   "outputs": [],
   "source": []
  },
  {
   "cell_type": "code",
   "execution_count": null,
   "metadata": {},
   "outputs": [],
   "source": []
  },
  {
   "cell_type": "code",
   "execution_count": 69,
   "metadata": {},
   "outputs": [],
   "source": [
    "nl = ['hood_damage',\n",
    " 'right_headlight_damage',\n",
    " 'left_headlight_damage',\n",
    " 'front_left_fender_damage',\n",
    " 'front_right_fender_damage',\n",
    " 'front_right_sidedoor_damage',\n",
    " 'rear_right_sidedoor_damage',\n",
    " 'front_left_sidedoor_damage',\n",
    " 'rear_left_sidedoor_damage',\n",
    " 'rear_right_fender_damage',\n",
    " 'rear_left_fender_damage',\n",
    " 'rear_bumper_damage',\n",
    " 'front_windscreen_damage',\n",
    " 'right_sidemirror_damage',\n",
    " 'left_sidemirror_damage',\n",
    " 'front_right_window_damage',\n",
    " 'rear_right_window_damage',\n",
    " 'front_left_window_damage',\n",
    " 'rear_left_window_damage',\n",
    " 'trunk_damage',\n",
    " 'left_taillight_damage',\n",
    " 'right_taillight_damage',\n",
    " 'roof_damage',\n",
    " 'rear_windscreen_damage',\n",
    " 'right_pillar_damage',\n",
    " 'left_pillar_damage',\n",
    " 'front_right_tyre',\n",
    " 'rear_right_tyre',\n",
    " 'front_left_tyre',\n",
    " 'rear_left_tyre',\n",
    " 'left_quarter_window_damage',\n",
    " 'right_quarter_window_damage']"
   ]
  },
  {
   "cell_type": "code",
   "execution_count": 70,
   "metadata": {},
   "outputs": [
    {
     "data": {
      "text/plain": [
       "32"
      ]
     },
     "execution_count": 70,
     "metadata": {},
     "output_type": "execute_result"
    }
   ],
   "source": [
    "len(nl)"
   ]
  },
  {
   "cell_type": "code",
   "execution_count": null,
   "metadata": {},
   "outputs": [],
   "source": []
  },
  {
   "cell_type": "code",
   "execution_count": null,
   "metadata": {},
   "outputs": [],
   "source": []
  },
  {
   "cell_type": "code",
   "execution_count": null,
   "metadata": {},
   "outputs": [],
   "source": []
  }
 ],
 "metadata": {
  "kernelspec": {
   "display_name": "Python 3",
   "language": "python",
   "name": "python3"
  },
  "language_info": {
   "codemirror_mode": {
    "name": "ipython",
    "version": 3
   },
   "file_extension": ".py",
   "mimetype": "text/x-python",
   "name": "python",
   "nbconvert_exporter": "python",
   "pygments_lexer": "ipython3",
   "version": "3.8.5"
  }
 },
 "nbformat": 4,
 "nbformat_minor": 4
}
