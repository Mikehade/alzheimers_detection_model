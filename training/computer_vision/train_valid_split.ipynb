{
 "cells": [
  {
   "cell_type": "code",
   "execution_count": 1,
   "metadata": {},
   "outputs": [
    {
     "name": "stderr",
     "output_type": "stream",
     "text": [
      "C:\\Users\\MICHEAL\\anaconda3\\lib\\site-packages\\pandas\\core\\computation\\expressions.py:20: UserWarning: Pandas requires version '2.7.3' or newer of 'numexpr' (version '2.7.1' currently installed).\n",
      "  from pandas.core.computation.check import NUMEXPR_INSTALLED\n"
     ]
    }
   ],
   "source": [
    "import pandas as pd\n",
    "import numpy as np\n",
    "import random\n",
    "import shutil\n",
    "\n",
    "import matplotlib.pyplot as plt\n",
    "import matplotlib.cm as cm\n",
    "import seaborn as sn\n",
    "\n",
    "\n",
    "import os\n",
    "import glob\n",
    "from pathlib import Path\n",
    "\n",
    "from collections import Counter\n",
    "from itertools import cycle, islice\n",
    "\n",
    "from PIL import Image\n",
    "from sys import argv\n",
    "from warnings import filterwarnings\n",
    "filterwarnings(\"ignore\")"
   ]
  },
  {
   "cell_type": "code",
   "execution_count": 2,
   "metadata": {},
   "outputs": [],
   "source": [
    "pat = \"annotated_batches\"\n",
    "#pat = \"post_loss_annotated\"\n",
    "csvs = f\"annotations_CSV\"\n",
    "xmls = f\"annotations_XML\"\n",
    "yolos = f\"annotations_YOLO\"\n",
    "\n",
    "if not os.path.isdir(f\"{pat}/cleaned_annotations_CSV\"):   #create batch folder if it does not exist\n",
    "        os.makedirs(f\"{pat}/cleaned_annotations_CSV\")\n",
    "new_csvs = f\"{pat}/cleaned_annotations_CSV\"\n",
    "\n",
    "\n",
    "path_csv = f\"{csvs}/*?.csv\"\n",
    "\n",
    "path_xml = f\"{xmls}/*?.xml\"\n",
    "path_yolo = f\"{yolos}/*?.txt\""
   ]
  },
  {
   "cell_type": "code",
   "execution_count": 3,
   "metadata": {},
   "outputs": [],
   "source": [
    "def path_to_list(path, file_type):\n",
    "    \"\"\"\n",
    "    function for extracting files name from either of xml or yolo directory\n",
    "    input\n",
    "    path: path to xml or yolo directory\n",
    "    file_type: - specification of either txt or yolo\"\"\"\n",
    "    path_list = []\n",
    "    for files in glob.glob(path):  #iterate through folder\n",
    "        f_name = os.path.split(files)[-1]\n",
    "        f = f_name.split(f\".{file_type}\")[0]\n",
    "        path_list.append(files)\n",
    "        #print(f)\n",
    "    #print(len(path_list))\n",
    "    return path_list"
   ]
  },
  {
   "cell_type": "code",
   "execution_count": 4,
   "metadata": {},
   "outputs": [],
   "source": [
    "i = 0\n",
    "for files in glob.glob(path_csv): #erate through folder to concatenate csv into dataframes\n",
    "    #print(files)\n",
    "    #extract batch names\n",
    "    #f_name = os.path.split(files)[-1]\n",
    "    #batch = f_name.split(\"_\")[-1]\n",
    "    #batch = batch.split(\".\")[-2]\n",
    "    #batch_list.append(batch)\n",
    "    #print(batch)\n",
    "\n",
    "    if i == 0:  #create new dataframe in first iteration\n",
    "        \n",
    "        df = pd.read_csv(files)\n",
    "        \n",
    "        #the following lines can be uncommented to view bar plots of individual dataframes\n",
    "        #print('\\033[1m' + f\"Barplot for {batch}\" + '\\033[0m')\n",
    "        #im = plot_dist(df, \"label_name\", \"bar\")  #plot individual dataframes\n",
    "        #display(im.figure)\n",
    "\n",
    "    else:  #concatenate other csv's with first dataframe\n",
    "        data = pd.read_csv(files)\n",
    "        df = pd.concat([df, data], ignore_index=True)\n",
    "    i += 1"
   ]
  },
  {
   "cell_type": "code",
   "execution_count": 5,
   "metadata": {},
   "outputs": [
    {
     "data": {
      "text/html": [
       "<div>\n",
       "<style scoped>\n",
       "    .dataframe tbody tr th:only-of-type {\n",
       "        vertical-align: middle;\n",
       "    }\n",
       "\n",
       "    .dataframe tbody tr th {\n",
       "        vertical-align: top;\n",
       "    }\n",
       "\n",
       "    .dataframe thead th {\n",
       "        text-align: right;\n",
       "    }\n",
       "</style>\n",
       "<table border=\"1\" class=\"dataframe\">\n",
       "  <thead>\n",
       "    <tr style=\"text-align: right;\">\n",
       "      <th></th>\n",
       "      <th>label_name</th>\n",
       "      <th>bbox_x</th>\n",
       "      <th>bbox_y</th>\n",
       "      <th>bbox_width</th>\n",
       "      <th>bbox_height</th>\n",
       "      <th>image_name</th>\n",
       "      <th>image_width</th>\n",
       "      <th>image_height</th>\n",
       "    </tr>\n",
       "  </thead>\n",
       "  <tbody>\n",
       "    <tr>\n",
       "      <th>0</th>\n",
       "      <td>mri</td>\n",
       "      <td>17</td>\n",
       "      <td>16</td>\n",
       "      <td>138</td>\n",
       "      <td>173</td>\n",
       "      <td>mildDem0.jpg</td>\n",
       "      <td>176</td>\n",
       "      <td>208</td>\n",
       "    </tr>\n",
       "    <tr>\n",
       "      <th>1</th>\n",
       "      <td>mri</td>\n",
       "      <td>16</td>\n",
       "      <td>17</td>\n",
       "      <td>140</td>\n",
       "      <td>172</td>\n",
       "      <td>mildDem1.jpg</td>\n",
       "      <td>176</td>\n",
       "      <td>208</td>\n",
       "    </tr>\n",
       "    <tr>\n",
       "      <th>2</th>\n",
       "      <td>mri</td>\n",
       "      <td>18</td>\n",
       "      <td>17</td>\n",
       "      <td>139</td>\n",
       "      <td>175</td>\n",
       "      <td>mildDem10.jpg</td>\n",
       "      <td>176</td>\n",
       "      <td>208</td>\n",
       "    </tr>\n",
       "    <tr>\n",
       "      <th>3</th>\n",
       "      <td>mri</td>\n",
       "      <td>18</td>\n",
       "      <td>17</td>\n",
       "      <td>138</td>\n",
       "      <td>172</td>\n",
       "      <td>mildDem100.jpg</td>\n",
       "      <td>176</td>\n",
       "      <td>208</td>\n",
       "    </tr>\n",
       "    <tr>\n",
       "      <th>4</th>\n",
       "      <td>mri</td>\n",
       "      <td>16</td>\n",
       "      <td>17</td>\n",
       "      <td>139</td>\n",
       "      <td>174</td>\n",
       "      <td>mildDem101.jpg</td>\n",
       "      <td>176</td>\n",
       "      <td>208</td>\n",
       "    </tr>\n",
       "    <tr>\n",
       "      <th>...</th>\n",
       "      <td>...</td>\n",
       "      <td>...</td>\n",
       "      <td>...</td>\n",
       "      <td>...</td>\n",
       "      <td>...</td>\n",
       "      <td>...</td>\n",
       "      <td>...</td>\n",
       "      <td>...</td>\n",
       "    </tr>\n",
       "    <tr>\n",
       "      <th>795</th>\n",
       "      <td>mri</td>\n",
       "      <td>16</td>\n",
       "      <td>16</td>\n",
       "      <td>142</td>\n",
       "      <td>174</td>\n",
       "      <td>verymildDem345.jpg</td>\n",
       "      <td>176</td>\n",
       "      <td>208</td>\n",
       "    </tr>\n",
       "    <tr>\n",
       "      <th>796</th>\n",
       "      <td>mri</td>\n",
       "      <td>17</td>\n",
       "      <td>17</td>\n",
       "      <td>140</td>\n",
       "      <td>174</td>\n",
       "      <td>verymildDem346.jpg</td>\n",
       "      <td>176</td>\n",
       "      <td>208</td>\n",
       "    </tr>\n",
       "    <tr>\n",
       "      <th>797</th>\n",
       "      <td>mri</td>\n",
       "      <td>16</td>\n",
       "      <td>17</td>\n",
       "      <td>140</td>\n",
       "      <td>174</td>\n",
       "      <td>verymildDem347.jpg</td>\n",
       "      <td>176</td>\n",
       "      <td>208</td>\n",
       "    </tr>\n",
       "    <tr>\n",
       "      <th>798</th>\n",
       "      <td>mri</td>\n",
       "      <td>17</td>\n",
       "      <td>17</td>\n",
       "      <td>140</td>\n",
       "      <td>172</td>\n",
       "      <td>verymildDem348.jpg</td>\n",
       "      <td>176</td>\n",
       "      <td>208</td>\n",
       "    </tr>\n",
       "    <tr>\n",
       "      <th>799</th>\n",
       "      <td>mri</td>\n",
       "      <td>16</td>\n",
       "      <td>17</td>\n",
       "      <td>140</td>\n",
       "      <td>173</td>\n",
       "      <td>verymildDem349.jpg</td>\n",
       "      <td>176</td>\n",
       "      <td>208</td>\n",
       "    </tr>\n",
       "  </tbody>\n",
       "</table>\n",
       "<p>800 rows × 8 columns</p>\n",
       "</div>"
      ],
      "text/plain": [
       "    label_name  bbox_x  bbox_y  bbox_width  bbox_height          image_name  \\\n",
       "0          mri      17      16         138          173        mildDem0.jpg   \n",
       "1          mri      16      17         140          172        mildDem1.jpg   \n",
       "2          mri      18      17         139          175       mildDem10.jpg   \n",
       "3          mri      18      17         138          172      mildDem100.jpg   \n",
       "4          mri      16      17         139          174      mildDem101.jpg   \n",
       "..         ...     ...     ...         ...          ...                 ...   \n",
       "795        mri      16      16         142          174  verymildDem345.jpg   \n",
       "796        mri      17      17         140          174  verymildDem346.jpg   \n",
       "797        mri      16      17         140          174  verymildDem347.jpg   \n",
       "798        mri      17      17         140          172  verymildDem348.jpg   \n",
       "799        mri      16      17         140          173  verymildDem349.jpg   \n",
       "\n",
       "     image_width  image_height  \n",
       "0            176           208  \n",
       "1            176           208  \n",
       "2            176           208  \n",
       "3            176           208  \n",
       "4            176           208  \n",
       "..           ...           ...  \n",
       "795          176           208  \n",
       "796          176           208  \n",
       "797          176           208  \n",
       "798          176           208  \n",
       "799          176           208  \n",
       "\n",
       "[800 rows x 8 columns]"
      ]
     },
     "execution_count": 5,
     "metadata": {},
     "output_type": "execute_result"
    }
   ],
   "source": [
    "df"
   ]
  },
  {
   "cell_type": "code",
   "execution_count": null,
   "metadata": {},
   "outputs": [],
   "source": []
  },
  {
   "cell_type": "markdown",
   "metadata": {},
   "source": [
    "### Convert unique image names to list "
   ]
  },
  {
   "cell_type": "code",
   "execution_count": 6,
   "metadata": {},
   "outputs": [
    {
     "data": {
      "text/plain": [
       "800"
      ]
     },
     "execution_count": 6,
     "metadata": {},
     "output_type": "execute_result"
    }
   ],
   "source": [
    "img_names = df[\"image_name\"].unique().tolist()\n",
    "len(img_names)"
   ]
  },
  {
   "cell_type": "code",
   "execution_count": 7,
   "metadata": {},
   "outputs": [
    {
     "name": "stdout",
     "output_type": "stream",
     "text": [
      "640 160\n"
     ]
    }
   ],
   "source": [
    "training = int(len(img_names) * 0.8)\n",
    "valid = len(img_names) - training\n",
    "print(training, valid)"
   ]
  },
  {
   "cell_type": "markdown",
   "metadata": {},
   "source": [
    "### Extract random image names in a list length of validation number"
   ]
  },
  {
   "cell_type": "code",
   "execution_count": 8,
   "metadata": {},
   "outputs": [
    {
     "name": "stdout",
     "output_type": "stream",
     "text": [
      "175\n"
     ]
    }
   ],
   "source": [
    "val_list = []   #initialize empty list for storing random unique names for validation datset\n",
    "ite = 0\n",
    "\n",
    "#while loop to extract random unique names\n",
    "while len(val_list) < valid:\n",
    "    ran = random.randint(0, len(img_names)-1)  #generate random numbers from total length of unique names\n",
    "    curr_name = img_names[ran]\n",
    "    if len(val_list) == 0:  #save first name into list\n",
    "        val_list.append(curr_name)\n",
    "    elif len(val_list) != 0 and curr_name not in val_list:  #check if every other name does not exist before appending\n",
    "        val_list.append(curr_name)\n",
    "        \n",
    "    ite += 1\n",
    "    \n",
    "print(ite)"
   ]
  },
  {
   "cell_type": "markdown",
   "metadata": {},
   "source": [
    "#### Verify that only unique names are in list "
   ]
  },
  {
   "cell_type": "code",
   "execution_count": 9,
   "metadata": {},
   "outputs": [
    {
     "data": {
      "text/html": [
       "<div>\n",
       "<style scoped>\n",
       "    .dataframe tbody tr th:only-of-type {\n",
       "        vertical-align: middle;\n",
       "    }\n",
       "\n",
       "    .dataframe tbody tr th {\n",
       "        vertical-align: top;\n",
       "    }\n",
       "\n",
       "    .dataframe thead th {\n",
       "        text-align: right;\n",
       "    }\n",
       "</style>\n",
       "<table border=\"1\" class=\"dataframe\">\n",
       "  <thead>\n",
       "    <tr style=\"text-align: right;\">\n",
       "      <th></th>\n",
       "      <th>names</th>\n",
       "    </tr>\n",
       "  </thead>\n",
       "  <tbody>\n",
       "    <tr>\n",
       "      <th>0</th>\n",
       "      <td>verymildDem42.jpg</td>\n",
       "    </tr>\n",
       "    <tr>\n",
       "      <th>1</th>\n",
       "      <td>moderateDem40.jpg</td>\n",
       "    </tr>\n",
       "    <tr>\n",
       "      <th>2</th>\n",
       "      <td>verymildDem229.jpg</td>\n",
       "    </tr>\n",
       "    <tr>\n",
       "      <th>3</th>\n",
       "      <td>verymildDem100.jpg</td>\n",
       "    </tr>\n",
       "    <tr>\n",
       "      <th>4</th>\n",
       "      <td>mildDem308.jpg</td>\n",
       "    </tr>\n",
       "    <tr>\n",
       "      <th>...</th>\n",
       "      <td>...</td>\n",
       "    </tr>\n",
       "    <tr>\n",
       "      <th>155</th>\n",
       "      <td>mildDem303.jpg</td>\n",
       "    </tr>\n",
       "    <tr>\n",
       "      <th>156</th>\n",
       "      <td>mildDem185.jpg</td>\n",
       "    </tr>\n",
       "    <tr>\n",
       "      <th>157</th>\n",
       "      <td>moderateDem38.jpg</td>\n",
       "    </tr>\n",
       "    <tr>\n",
       "      <th>158</th>\n",
       "      <td>mildDem33.jpg</td>\n",
       "    </tr>\n",
       "    <tr>\n",
       "      <th>159</th>\n",
       "      <td>mildDem286.jpg</td>\n",
       "    </tr>\n",
       "  </tbody>\n",
       "</table>\n",
       "<p>160 rows × 1 columns</p>\n",
       "</div>"
      ],
      "text/plain": [
       "                  names\n",
       "0     verymildDem42.jpg\n",
       "1     moderateDem40.jpg\n",
       "2    verymildDem229.jpg\n",
       "3    verymildDem100.jpg\n",
       "4        mildDem308.jpg\n",
       "..                  ...\n",
       "155      mildDem303.jpg\n",
       "156      mildDem185.jpg\n",
       "157   moderateDem38.jpg\n",
       "158       mildDem33.jpg\n",
       "159      mildDem286.jpg\n",
       "\n",
       "[160 rows x 1 columns]"
      ]
     },
     "execution_count": 9,
     "metadata": {},
     "output_type": "execute_result"
    }
   ],
   "source": [
    "tem_df = pd.DataFrame(list(zip(val_list)), columns = ['names'])\n",
    "tem_df"
   ]
  },
  {
   "cell_type": "code",
   "execution_count": 10,
   "metadata": {},
   "outputs": [
    {
     "data": {
      "text/plain": [
       "160"
      ]
     },
     "execution_count": 10,
     "metadata": {},
     "output_type": "execute_result"
    }
   ],
   "source": [
    "tem_df[\"names\"].nunique()"
   ]
  },
  {
   "cell_type": "code",
   "execution_count": null,
   "metadata": {},
   "outputs": [],
   "source": []
  },
  {
   "cell_type": "markdown",
   "metadata": {},
   "source": [
    "### Create directories to store train and validation data if they do not exist"
   ]
  },
  {
   "cell_type": "code",
   "execution_count": 11,
   "metadata": {},
   "outputs": [],
   "source": [
    "main_dir = \"MRI_Verification_Data\"\n",
    "train_dir = \"train\"\n",
    "val_dir = \"valid\"\n",
    "img_dir = \"images\"\n",
    "yolo_labels = \"labels\"\n",
    "xml_labels = \"labels_xml\"\n",
    "csv_labels = \"labels_csv\"\n",
    "\n",
    "if os.path.isdir(f\"{main_dir}\"):\n",
    "    #os.rmdir(f\"{main_dir}\")\n",
    "    shutil.rmtree(f\"{main_dir}\")\n",
    "\n",
    "\n",
    "if not os.path.isdir(f\"{main_dir}\"):\n",
    "    os.makedirs(f\"{main_dir}\")\n",
    "if not os.path.isdir(f\"{main_dir}/{train_dir}/{img_dir}\"):\n",
    "    os.makedirs(f\"{main_dir}/{train_dir}/{img_dir}\")\n",
    "if not os.path.isdir(f\"{main_dir}/{train_dir}/{yolo_labels}\"):\n",
    "    os.makedirs(f\"{main_dir}/{train_dir}/{yolo_labels}\")\n",
    "if not os.path.isdir(f\"{main_dir}/{train_dir}/{xml_labels}\"):\n",
    "    os.makedirs(f\"{main_dir}/{train_dir}/{xml_labels}\")\n",
    "if not os.path.isdir(f\"{main_dir}/{train_dir}/{csv_labels}\"):\n",
    "    os.makedirs(f\"{main_dir}/{train_dir}/{csv_labels}\")\n",
    "    \n",
    "if not os.path.isdir(f\"{main_dir}/{val_dir}/{img_dir}\"):\n",
    "    os.makedirs(f\"{main_dir}/{val_dir}/{img_dir}\")\n",
    "if not os.path.isdir(f\"{main_dir}/{val_dir}/{yolo_labels}\"):\n",
    "    os.makedirs(f\"{main_dir}/{val_dir}/{yolo_labels}\")\n",
    "if not os.path.isdir(f\"{main_dir}/{val_dir}/{xml_labels}\"):\n",
    "    os.makedirs(f\"{main_dir}/{val_dir}/{xml_labels}\")\n",
    "if not os.path.isdir(f\"{main_dir}/{val_dir}/{csv_labels}\"):\n",
    "    os.makedirs(f\"{main_dir}/{val_dir}/{csv_labels}\")"
   ]
  },
  {
   "cell_type": "code",
   "execution_count": null,
   "metadata": {},
   "outputs": [],
   "source": [
    "\n",
    "\n",
    "\n"
   ]
  },
  {
   "cell_type": "markdown",
   "metadata": {},
   "source": [
    "### Extract train and validation dataframe from main dataframe "
   ]
  },
  {
   "cell_type": "code",
   "execution_count": 12,
   "metadata": {},
   "outputs": [
    {
     "data": {
      "text/plain": [
       "640"
      ]
     },
     "execution_count": 12,
     "metadata": {},
     "output_type": "execute_result"
    }
   ],
   "source": [
    "#Extract train dataset list\n",
    "train_list = [n for n in img_names if n not in val_list]\n",
    "len(train_list)"
   ]
  },
  {
   "cell_type": "code",
   "execution_count": 13,
   "metadata": {},
   "outputs": [
    {
     "data": {
      "text/html": [
       "<div>\n",
       "<style scoped>\n",
       "    .dataframe tbody tr th:only-of-type {\n",
       "        vertical-align: middle;\n",
       "    }\n",
       "\n",
       "    .dataframe tbody tr th {\n",
       "        vertical-align: top;\n",
       "    }\n",
       "\n",
       "    .dataframe thead th {\n",
       "        text-align: right;\n",
       "    }\n",
       "</style>\n",
       "<table border=\"1\" class=\"dataframe\">\n",
       "  <thead>\n",
       "    <tr style=\"text-align: right;\">\n",
       "      <th></th>\n",
       "      <th>label_name</th>\n",
       "      <th>bbox_x</th>\n",
       "      <th>bbox_y</th>\n",
       "      <th>bbox_width</th>\n",
       "      <th>bbox_height</th>\n",
       "      <th>image_name</th>\n",
       "      <th>image_width</th>\n",
       "      <th>image_height</th>\n",
       "    </tr>\n",
       "  </thead>\n",
       "  <tbody>\n",
       "    <tr>\n",
       "      <th>0</th>\n",
       "      <td>mri</td>\n",
       "      <td>17</td>\n",
       "      <td>16</td>\n",
       "      <td>138</td>\n",
       "      <td>173</td>\n",
       "      <td>mildDem0.jpg</td>\n",
       "      <td>176</td>\n",
       "      <td>208</td>\n",
       "    </tr>\n",
       "    <tr>\n",
       "      <th>1</th>\n",
       "      <td>mri</td>\n",
       "      <td>16</td>\n",
       "      <td>17</td>\n",
       "      <td>140</td>\n",
       "      <td>172</td>\n",
       "      <td>mildDem1.jpg</td>\n",
       "      <td>176</td>\n",
       "      <td>208</td>\n",
       "    </tr>\n",
       "    <tr>\n",
       "      <th>2</th>\n",
       "      <td>mri</td>\n",
       "      <td>18</td>\n",
       "      <td>17</td>\n",
       "      <td>139</td>\n",
       "      <td>175</td>\n",
       "      <td>mildDem10.jpg</td>\n",
       "      <td>176</td>\n",
       "      <td>208</td>\n",
       "    </tr>\n",
       "    <tr>\n",
       "      <th>4</th>\n",
       "      <td>mri</td>\n",
       "      <td>16</td>\n",
       "      <td>17</td>\n",
       "      <td>139</td>\n",
       "      <td>174</td>\n",
       "      <td>mildDem101.jpg</td>\n",
       "      <td>176</td>\n",
       "      <td>208</td>\n",
       "    </tr>\n",
       "    <tr>\n",
       "      <th>6</th>\n",
       "      <td>mri</td>\n",
       "      <td>18</td>\n",
       "      <td>17</td>\n",
       "      <td>138</td>\n",
       "      <td>173</td>\n",
       "      <td>mildDem103.jpg</td>\n",
       "      <td>176</td>\n",
       "      <td>208</td>\n",
       "    </tr>\n",
       "    <tr>\n",
       "      <th>...</th>\n",
       "      <td>...</td>\n",
       "      <td>...</td>\n",
       "      <td>...</td>\n",
       "      <td>...</td>\n",
       "      <td>...</td>\n",
       "      <td>...</td>\n",
       "      <td>...</td>\n",
       "      <td>...</td>\n",
       "    </tr>\n",
       "    <tr>\n",
       "      <th>795</th>\n",
       "      <td>mri</td>\n",
       "      <td>16</td>\n",
       "      <td>16</td>\n",
       "      <td>142</td>\n",
       "      <td>174</td>\n",
       "      <td>verymildDem345.jpg</td>\n",
       "      <td>176</td>\n",
       "      <td>208</td>\n",
       "    </tr>\n",
       "    <tr>\n",
       "      <th>796</th>\n",
       "      <td>mri</td>\n",
       "      <td>17</td>\n",
       "      <td>17</td>\n",
       "      <td>140</td>\n",
       "      <td>174</td>\n",
       "      <td>verymildDem346.jpg</td>\n",
       "      <td>176</td>\n",
       "      <td>208</td>\n",
       "    </tr>\n",
       "    <tr>\n",
       "      <th>797</th>\n",
       "      <td>mri</td>\n",
       "      <td>16</td>\n",
       "      <td>17</td>\n",
       "      <td>140</td>\n",
       "      <td>174</td>\n",
       "      <td>verymildDem347.jpg</td>\n",
       "      <td>176</td>\n",
       "      <td>208</td>\n",
       "    </tr>\n",
       "    <tr>\n",
       "      <th>798</th>\n",
       "      <td>mri</td>\n",
       "      <td>17</td>\n",
       "      <td>17</td>\n",
       "      <td>140</td>\n",
       "      <td>172</td>\n",
       "      <td>verymildDem348.jpg</td>\n",
       "      <td>176</td>\n",
       "      <td>208</td>\n",
       "    </tr>\n",
       "    <tr>\n",
       "      <th>799</th>\n",
       "      <td>mri</td>\n",
       "      <td>16</td>\n",
       "      <td>17</td>\n",
       "      <td>140</td>\n",
       "      <td>173</td>\n",
       "      <td>verymildDem349.jpg</td>\n",
       "      <td>176</td>\n",
       "      <td>208</td>\n",
       "    </tr>\n",
       "  </tbody>\n",
       "</table>\n",
       "<p>640 rows × 8 columns</p>\n",
       "</div>"
      ],
      "text/plain": [
       "    label_name  bbox_x  bbox_y  bbox_width  bbox_height          image_name  \\\n",
       "0          mri      17      16         138          173        mildDem0.jpg   \n",
       "1          mri      16      17         140          172        mildDem1.jpg   \n",
       "2          mri      18      17         139          175       mildDem10.jpg   \n",
       "4          mri      16      17         139          174      mildDem101.jpg   \n",
       "6          mri      18      17         138          173      mildDem103.jpg   \n",
       "..         ...     ...     ...         ...          ...                 ...   \n",
       "795        mri      16      16         142          174  verymildDem345.jpg   \n",
       "796        mri      17      17         140          174  verymildDem346.jpg   \n",
       "797        mri      16      17         140          174  verymildDem347.jpg   \n",
       "798        mri      17      17         140          172  verymildDem348.jpg   \n",
       "799        mri      16      17         140          173  verymildDem349.jpg   \n",
       "\n",
       "     image_width  image_height  \n",
       "0            176           208  \n",
       "1            176           208  \n",
       "2            176           208  \n",
       "4            176           208  \n",
       "6            176           208  \n",
       "..           ...           ...  \n",
       "795          176           208  \n",
       "796          176           208  \n",
       "797          176           208  \n",
       "798          176           208  \n",
       "799          176           208  \n",
       "\n",
       "[640 rows x 8 columns]"
      ]
     },
     "execution_count": 13,
     "metadata": {},
     "output_type": "execute_result"
    }
   ],
   "source": [
    "#extract train dataframe from total dataframe\n",
    "df_train = df.query(f\"image_name in {train_list}\")\n",
    "df_train"
   ]
  },
  {
   "cell_type": "code",
   "execution_count": 14,
   "metadata": {},
   "outputs": [
    {
     "data": {
      "text/html": [
       "<div>\n",
       "<style scoped>\n",
       "    .dataframe tbody tr th:only-of-type {\n",
       "        vertical-align: middle;\n",
       "    }\n",
       "\n",
       "    .dataframe tbody tr th {\n",
       "        vertical-align: top;\n",
       "    }\n",
       "\n",
       "    .dataframe thead th {\n",
       "        text-align: right;\n",
       "    }\n",
       "</style>\n",
       "<table border=\"1\" class=\"dataframe\">\n",
       "  <thead>\n",
       "    <tr style=\"text-align: right;\">\n",
       "      <th></th>\n",
       "      <th>label_name</th>\n",
       "      <th>bbox_x</th>\n",
       "      <th>bbox_y</th>\n",
       "      <th>bbox_width</th>\n",
       "      <th>bbox_height</th>\n",
       "      <th>image_name</th>\n",
       "      <th>image_width</th>\n",
       "      <th>image_height</th>\n",
       "    </tr>\n",
       "  </thead>\n",
       "  <tbody>\n",
       "    <tr>\n",
       "      <th>3</th>\n",
       "      <td>mri</td>\n",
       "      <td>18</td>\n",
       "      <td>17</td>\n",
       "      <td>138</td>\n",
       "      <td>172</td>\n",
       "      <td>mildDem100.jpg</td>\n",
       "      <td>176</td>\n",
       "      <td>208</td>\n",
       "    </tr>\n",
       "    <tr>\n",
       "      <th>5</th>\n",
       "      <td>mri</td>\n",
       "      <td>17</td>\n",
       "      <td>17</td>\n",
       "      <td>138</td>\n",
       "      <td>173</td>\n",
       "      <td>mildDem102.jpg</td>\n",
       "      <td>176</td>\n",
       "      <td>208</td>\n",
       "    </tr>\n",
       "    <tr>\n",
       "      <th>15</th>\n",
       "      <td>mri</td>\n",
       "      <td>17</td>\n",
       "      <td>18</td>\n",
       "      <td>139</td>\n",
       "      <td>172</td>\n",
       "      <td>mildDem111.jpg</td>\n",
       "      <td>176</td>\n",
       "      <td>208</td>\n",
       "    </tr>\n",
       "    <tr>\n",
       "      <th>19</th>\n",
       "      <td>mri</td>\n",
       "      <td>15</td>\n",
       "      <td>16</td>\n",
       "      <td>139</td>\n",
       "      <td>173</td>\n",
       "      <td>mildDem115.jpg</td>\n",
       "      <td>176</td>\n",
       "      <td>208</td>\n",
       "    </tr>\n",
       "    <tr>\n",
       "      <th>30</th>\n",
       "      <td>mri</td>\n",
       "      <td>17</td>\n",
       "      <td>17</td>\n",
       "      <td>139</td>\n",
       "      <td>173</td>\n",
       "      <td>mildDem125.jpg</td>\n",
       "      <td>176</td>\n",
       "      <td>208</td>\n",
       "    </tr>\n",
       "    <tr>\n",
       "      <th>...</th>\n",
       "      <td>...</td>\n",
       "      <td>...</td>\n",
       "      <td>...</td>\n",
       "      <td>...</td>\n",
       "      <td>...</td>\n",
       "      <td>...</td>\n",
       "      <td>...</td>\n",
       "      <td>...</td>\n",
       "    </tr>\n",
       "    <tr>\n",
       "      <th>764</th>\n",
       "      <td>mri</td>\n",
       "      <td>16</td>\n",
       "      <td>17</td>\n",
       "      <td>141</td>\n",
       "      <td>173</td>\n",
       "      <td>verymildDem314.jpg</td>\n",
       "      <td>176</td>\n",
       "      <td>208</td>\n",
       "    </tr>\n",
       "    <tr>\n",
       "      <th>773</th>\n",
       "      <td>mri</td>\n",
       "      <td>16</td>\n",
       "      <td>17</td>\n",
       "      <td>140</td>\n",
       "      <td>173</td>\n",
       "      <td>verymildDem323.jpg</td>\n",
       "      <td>176</td>\n",
       "      <td>208</td>\n",
       "    </tr>\n",
       "    <tr>\n",
       "      <th>776</th>\n",
       "      <td>mri</td>\n",
       "      <td>16</td>\n",
       "      <td>17</td>\n",
       "      <td>140</td>\n",
       "      <td>173</td>\n",
       "      <td>verymildDem326.jpg</td>\n",
       "      <td>176</td>\n",
       "      <td>208</td>\n",
       "    </tr>\n",
       "    <tr>\n",
       "      <th>783</th>\n",
       "      <td>mri</td>\n",
       "      <td>16</td>\n",
       "      <td>17</td>\n",
       "      <td>141</td>\n",
       "      <td>173</td>\n",
       "      <td>verymildDem333.jpg</td>\n",
       "      <td>176</td>\n",
       "      <td>208</td>\n",
       "    </tr>\n",
       "    <tr>\n",
       "      <th>793</th>\n",
       "      <td>mri</td>\n",
       "      <td>16</td>\n",
       "      <td>17</td>\n",
       "      <td>140</td>\n",
       "      <td>175</td>\n",
       "      <td>verymildDem343.jpg</td>\n",
       "      <td>176</td>\n",
       "      <td>208</td>\n",
       "    </tr>\n",
       "  </tbody>\n",
       "</table>\n",
       "<p>160 rows × 8 columns</p>\n",
       "</div>"
      ],
      "text/plain": [
       "    label_name  bbox_x  bbox_y  bbox_width  bbox_height          image_name  \\\n",
       "3          mri      18      17         138          172      mildDem100.jpg   \n",
       "5          mri      17      17         138          173      mildDem102.jpg   \n",
       "15         mri      17      18         139          172      mildDem111.jpg   \n",
       "19         mri      15      16         139          173      mildDem115.jpg   \n",
       "30         mri      17      17         139          173      mildDem125.jpg   \n",
       "..         ...     ...     ...         ...          ...                 ...   \n",
       "764        mri      16      17         141          173  verymildDem314.jpg   \n",
       "773        mri      16      17         140          173  verymildDem323.jpg   \n",
       "776        mri      16      17         140          173  verymildDem326.jpg   \n",
       "783        mri      16      17         141          173  verymildDem333.jpg   \n",
       "793        mri      16      17         140          175  verymildDem343.jpg   \n",
       "\n",
       "     image_width  image_height  \n",
       "3            176           208  \n",
       "5            176           208  \n",
       "15           176           208  \n",
       "19           176           208  \n",
       "30           176           208  \n",
       "..           ...           ...  \n",
       "764          176           208  \n",
       "773          176           208  \n",
       "776          176           208  \n",
       "783          176           208  \n",
       "793          176           208  \n",
       "\n",
       "[160 rows x 8 columns]"
      ]
     },
     "execution_count": 14,
     "metadata": {},
     "output_type": "execute_result"
    }
   ],
   "source": [
    "#extract train dataframe from total dataframe\n",
    "df_valid = df.query(f\"image_name in {val_list}\")\n",
    "df_valid"
   ]
  },
  {
   "cell_type": "code",
   "execution_count": 17,
   "metadata": {},
   "outputs": [
    {
     "data": {
      "text/plain": [
       "800"
      ]
     },
     "execution_count": 17,
     "metadata": {},
     "output_type": "execute_result"
    }
   ],
   "source": [
    "#verify that sum lengths of both dataframes are equal to length of total dataframe\n",
    "(len(df_train) + len(df_valid))"
   ]
  },
  {
   "cell_type": "code",
   "execution_count": 18,
   "metadata": {},
   "outputs": [],
   "source": [
    "#save both dataframeas as csv files in respective directories\n",
    "df_train.to_csv(f\"{main_dir}/{train_dir}/{csv_labels}/annotations.csv\", index =  False)\n",
    "df_valid.to_csv(f\"{main_dir}/{val_dir}/{csv_labels}/annotations.csv\", index =  False)\n"
   ]
  },
  {
   "cell_type": "code",
   "execution_count": null,
   "metadata": {},
   "outputs": [],
   "source": []
  },
  {
   "cell_type": "code",
   "execution_count": 19,
   "metadata": {},
   "outputs": [
    {
     "data": {
      "text/plain": [
       "mri    640\n",
       "Name: label_name, dtype: int64"
      ]
     },
     "execution_count": 19,
     "metadata": {},
     "output_type": "execute_result"
    }
   ],
   "source": [
    "df_train.label_name.value_counts()"
   ]
  },
  {
   "cell_type": "code",
   "execution_count": 20,
   "metadata": {},
   "outputs": [
    {
     "data": {
      "text/plain": [
       "mri    160\n",
       "Name: label_name, dtype: int64"
      ]
     },
     "execution_count": 20,
     "metadata": {},
     "output_type": "execute_result"
    }
   ],
   "source": [
    "df_valid.label_name.value_counts()"
   ]
  },
  {
   "cell_type": "code",
   "execution_count": null,
   "metadata": {},
   "outputs": [],
   "source": []
  },
  {
   "cell_type": "markdown",
   "metadata": {},
   "source": [
    "### Use unique train and validation names to extract yolo files "
   ]
  },
  {
   "cell_type": "code",
   "execution_count": 21,
   "metadata": {},
   "outputs": [
    {
     "name": "stdout",
     "output_type": "stream",
     "text": [
      "Total number of train yolo text files are 640\n"
     ]
    }
   ],
   "source": [
    "yolo_list = path_to_list(path_yolo, \"txt\")  #get list of files from yolo dirrectory\n",
    "\n",
    "strip_train_list = []\n",
    "for fl in train_list:\n",
    "    \n",
    "    if \".jpeg\" in fl:\n",
    "        #print(\"JPEG\")\n",
    "        strip_train_list.append(fl.split(\".jpeg\")[0])\n",
    "    elif \".jpg\" in fl:\n",
    "        strip_train_list.append(fl.split(\".jpg\")[0])\n",
    "\n",
    "ci = 0\n",
    "\n",
    "#print(len(yolo_list))\n",
    "for yls in yolo_list:\n",
    "    f_name = os.path.split(yls)[-1]\n",
    "    f = f_name.split(f\".txt\")[0]\n",
    "    #print(f)\n",
    "    if f in strip_train_list:\n",
    "        shutil.copy(f\"{yls}\", f\"{main_dir}/{train_dir}/{yolo_labels}/{f_name}\")\n",
    "        ci += 1\n",
    "    \n",
    "    #\n",
    "print(f\"Total number of train yolo text files are {ci}\")"
   ]
  },
  {
   "cell_type": "code",
   "execution_count": null,
   "metadata": {},
   "outputs": [],
   "source": []
  },
  {
   "cell_type": "code",
   "execution_count": 22,
   "metadata": {},
   "outputs": [
    {
     "name": "stdout",
     "output_type": "stream",
     "text": [
      "Total number of validation yolo text files are 160\n"
     ]
    }
   ],
   "source": [
    "yolo_list = path_to_list(path_yolo, \"txt\")  #get list of files from yolo dirrectory\n",
    "\n",
    "strip_val_list = []\n",
    "for fl in val_list:\n",
    "    #strip_val_list.append(fl.split(\".jpg\")[0])\n",
    "    if \".jpeg\" in fl:\n",
    "        #print(\"JPEG\")\n",
    "        strip_val_list.append(fl.split(\".jpeg\")[0])\n",
    "    elif \".jpg\" in fl:\n",
    "        strip_val_list.append(fl.split(\".jpg\")[0])\n",
    "\n",
    "ci = 0\n",
    "\n",
    "#print(len(yolo_list))\n",
    "for yls in yolo_list:\n",
    "    f_name = os.path.split(yls)[-1]\n",
    "    f = f_name.split(f\".txt\")[0]\n",
    "    #print(f)\n",
    "    if f in strip_val_list:\n",
    "        shutil.copy(f\"{yls}\", f\"{main_dir}/{val_dir}/{yolo_labels}/{f_name}\")\n",
    "        ci += 1\n",
    "    \n",
    "    #\n",
    "print(f\"Total number of validation yolo text files are {ci}\")"
   ]
  },
  {
   "cell_type": "code",
   "execution_count": null,
   "metadata": {},
   "outputs": [],
   "source": []
  },
  {
   "cell_type": "markdown",
   "metadata": {},
   "source": [
    "### Use unique train and validation names to extract xml files  "
   ]
  },
  {
   "cell_type": "code",
   "execution_count": 23,
   "metadata": {},
   "outputs": [
    {
     "data": {
      "text/plain": [
       "'xml_list = path_to_list(path_xml, \"xml\")  #get list of files from xml dirrectory\\n\\n\\nci = 0\\n\\n#print(len(yolo_list))\\nfor yls in xml_list:\\n    f_name = os.path.split(yls)[-1]\\n    f = f_name.split(f\".xml\")[0]\\n    #print(f)\\n    #print(yls)\\n    if f in strip_train_list:\\n        shutil.copy(f\"{yls}\", f\"{main_dir}/{train_dir}/{xml_labels}/{f_name}\")\\n        ci += 1\\n    \\n    #\\nprint(f\"Total number of train xml text files are {ci}\")'"
      ]
     },
     "execution_count": 23,
     "metadata": {},
     "output_type": "execute_result"
    }
   ],
   "source": [
    "\"\"\"xml_list = path_to_list(path_xml, \"xml\")  #get list of files from xml dirrectory\n",
    "\n",
    "\n",
    "ci = 0\n",
    "\n",
    "#print(len(yolo_list))\n",
    "for yls in xml_list:\n",
    "    f_name = os.path.split(yls)[-1]\n",
    "    f = f_name.split(f\".xml\")[0]\n",
    "    #print(f)\n",
    "    #print(yls)\n",
    "    if f in strip_train_list:\n",
    "        shutil.copy(f\"{yls}\", f\"{main_dir}/{train_dir}/{xml_labels}/{f_name}\")\n",
    "        ci += 1\n",
    "    \n",
    "    #\n",
    "print(f\"Total number of train xml text files are {ci}\")\"\"\""
   ]
  },
  {
   "cell_type": "code",
   "execution_count": null,
   "metadata": {},
   "outputs": [],
   "source": []
  },
  {
   "cell_type": "code",
   "execution_count": 24,
   "metadata": {},
   "outputs": [
    {
     "data": {
      "text/plain": [
       "'xml_list = path_to_list(path_xml, \"xml\")  #get list of files from xml dirrectory\\n\\n\\nci = 0\\n\\n#print(len(yolo_list))\\nfor yls in xml_list:\\n    f_name = os.path.split(yls)[-1]\\n    f = f_name.split(f\".xml\")[0]\\n    #print(f)\\n    #print(yls)\\n    if f in strip_val_list:\\n        shutil.copy(f\"{yls}\", f\"{main_dir}/{val_dir}/{xml_labels}/{f_name}\")\\n        ci += 1\\n    \\n    #\\nprint(f\"Total number of validation xml text files are {ci}\")'"
      ]
     },
     "execution_count": 24,
     "metadata": {},
     "output_type": "execute_result"
    }
   ],
   "source": [
    "\"\"\"xml_list = path_to_list(path_xml, \"xml\")  #get list of files from xml dirrectory\n",
    "\n",
    "\n",
    "ci = 0\n",
    "\n",
    "#print(len(yolo_list))\n",
    "for yls in xml_list:\n",
    "    f_name = os.path.split(yls)[-1]\n",
    "    f = f_name.split(f\".xml\")[0]\n",
    "    #print(f)\n",
    "    #print(yls)\n",
    "    if f in strip_val_list:\n",
    "        shutil.copy(f\"{yls}\", f\"{main_dir}/{val_dir}/{xml_labels}/{f_name}\")\n",
    "        ci += 1\n",
    "    \n",
    "    #\n",
    "print(f\"Total number of validation xml text files are {ci}\")\"\"\""
   ]
  },
  {
   "cell_type": "code",
   "execution_count": null,
   "metadata": {},
   "outputs": [],
   "source": []
  },
  {
   "cell_type": "code",
   "execution_count": null,
   "metadata": {},
   "outputs": [],
   "source": []
  },
  {
   "cell_type": "markdown",
   "metadata": {},
   "source": [
    "### Extract images using unique image names"
   ]
  },
  {
   "cell_type": "code",
   "execution_count": 25,
   "metadata": {},
   "outputs": [
    {
     "name": "stdout",
     "output_type": "stream",
     "text": [
      "Total number of training images are 640\n"
     ]
    }
   ],
   "source": [
    "cleaned_csv_trackss = []\n",
    "i = 0  #variable for keeping track of first dataframe in loop before concatenating others\n",
    "\n",
    "total_img =  total_csvu = cleaned_xml = 0\n",
    "\n",
    "train_exists_list = []\n",
    "\n",
    "tb = 0\n",
    "\n",
    "for n in range(1, 200):\n",
    "    cleaned_csv_track = [] #for keeping track of cleaned csv files per batch\n",
    "    if n < 10:\n",
    "        bat = f\"batch00{n}\"\n",
    "    elif n >= 10 and n < 100:\n",
    "        bat = f\"batch0{n}\"\n",
    "    else:\n",
    "        bat = f\"batch{n}\"\n",
    "\n",
    "    \n",
    "    path_img_jpeg = f\"{pat}/{bat}/*.jpeg\"  # Match jpeg files\n",
    "    jpeg_files = glob.glob(path_img_jpeg)\n",
    "    \n",
    "    path_img = f\"{pat}/{bat}/*.jpg\"  # Match jpg files\n",
    "    jpg_files = glob.glob(path_img)\n",
    "\n",
    "    # Combine the lists of jpg and jpeg files\n",
    "    all_files = jpg_files + jpeg_files\n",
    "    #print(len(jpeg_files))\n",
    "    #print(len(jpg_files), len(jpeg_files), len(all_files))\n",
    "\n",
    "    \n",
    "    curr_bat_img = 0\n",
    "    for files in all_files:  #iterate through folder to filter images\n",
    "        f_name = os.path.split(files)[-1]\n",
    "        if \".jpeg\" in f_name:\n",
    "            #print(\"JPEG\")\n",
    "            f = f_name.split(f\".jpeg\")[0]\n",
    "            if f in strip_train_list:\n",
    "                #print(files)\n",
    "                i += 1\n",
    "                if len(train_exists_list) == 0:\n",
    "                    train_exists_list.append(f)\n",
    "                    shutil.copy(f\"{files}\", f\"{main_dir}/{train_dir}/{img_dir}/{f}.jpeg\")\n",
    "                else:\n",
    "                    if f not in train_exists_list:\n",
    "                        train_exists_list.append(f)\n",
    "                        shutil.copy(f\"{files}\", f\"{main_dir}/{train_dir}/{img_dir}/{f}.jpeg\")\n",
    "            \n",
    "        elif \".jpg\" in f_name:\n",
    "            f = f_name.split(f\".jpg\")[0]\n",
    "            if f in strip_train_list:\n",
    "                i += 1\n",
    "                if len(train_exists_list) == 0:\n",
    "                    train_exists_list.append(f)\n",
    "                    shutil.copy(f\"{files}\", f\"{main_dir}/{train_dir}/{img_dir}/{f}.jpg\")\n",
    "                else:\n",
    "                    if f not in train_exists_list:\n",
    "                        train_exists_list.append(f)\n",
    "                        shutil.copy(f\"{files}\", f\"{main_dir}/{train_dir}/{img_dir}/{f}.jpg\")\n",
    "        #i += 1\n",
    "\n",
    "    \n",
    "#print(f\"Total number of training images are {i}\")\n",
    "print(f\"Total number of training images are {len(train_exists_list)}\")"
   ]
  },
  {
   "cell_type": "code",
   "execution_count": 26,
   "metadata": {},
   "outputs": [
    {
     "name": "stdout",
     "output_type": "stream",
     "text": [
      "Total number of training images are 160\n"
     ]
    }
   ],
   "source": [
    "i = 0  #variable for keeping track of first dataframe in loop before concatenating others\n",
    "\n",
    "total_img =  total_csvu = cleaned_xml = 0\n",
    "exists_list = [] \n",
    "\n",
    "\n",
    "\n",
    "for n in range(1, 200):\n",
    "    cleaned_csv_track = [] #for keeping track of cleaned csv files per batch\n",
    "    if n < 10:\n",
    "        bat = f\"batch00{n}\"\n",
    "    elif n >= 10 and n < 100:\n",
    "        bat = f\"batch0{n}\"\n",
    "    else:\n",
    "        bat = f\"batch{n}\"\n",
    "\n",
    "    \n",
    "    \n",
    "    path_img = f\"{pat}/{bat}/*.jpg\"  # Match jpg files\n",
    "    jpg_files = glob.glob(path_img)\n",
    "\n",
    "    path_img = f\"{pat}/{bat}/*.jpeg\"  # Match jpeg files\n",
    "    jpeg_files = glob.glob(path_img)\n",
    "\n",
    "    # Combine the lists of jpg and jpeg files\n",
    "    all_files = jpg_files + jpeg_files\n",
    "\n",
    "    #path_img = f\"{pat}/{bat}/*?.jpg\"\n",
    "    curr_bat_img = 0\n",
    "    for files in all_files:  #iterate through folder to filter images\n",
    "        #print(files)\n",
    "        f_name = os.path.split(files)[-1]\n",
    "        f = f_name.split(f\".jpg\")[0]\n",
    "\n",
    "        #print(f)\n",
    "        if \".jpg\" in f_name:\n",
    "            #print(\"JPG\")\n",
    "            f = f_name.split(f\".jpg\")[0]\n",
    "            if f in strip_val_list:\n",
    "                #shutil.copy(f\"{files}\", f\"{main_dir}/{val_dir}/{img_dir}/{f}.jpg\")\n",
    "                #shutil.copy(f\"{yls}\", f\"{main_dir}/{val_dir}/{img_dir}/{f_name}\")\n",
    "                if len(exists_list) == 0:\n",
    "                    exists_list.append(f)\n",
    "                    shutil.copy(f\"{files}\", f\"{main_dir}/{val_dir}/{img_dir}/{f}.jpg\")\n",
    "                else:\n",
    "                    if f not in exists_list:\n",
    "                        exists_list.append(f)\n",
    "                        shutil.copy(f\"{files}\", f\"{main_dir}/{val_dir}/{img_dir}/{f}.jpg\")\n",
    "            \n",
    "        elif \".jpeg\" in f_name:\n",
    "            #print(\"JPEG\")\n",
    "            f = f_name.split(f\".jpeg\")[0]\n",
    "            if f in strip_val_list:\n",
    "                #shutil.copy(f\"{files}\", f\"{main_dir}/{val_dir}/{img_dir}/{f}.jpg\")\n",
    "                #shutil.copy(f\"{yls}\", f\"{main_dir}/{val_dir}/{img_dir}/{f_name}\")\n",
    "                if len(exists_list) == 0:\n",
    "                    exists_list.append(f)\n",
    "                    shutil.copy(f\"{files}\", f\"{main_dir}/{val_dir}/{img_dir}/{f}.jpeg\")\n",
    "                else:\n",
    "                    if f not in exists_list:\n",
    "                        exists_list.append(f)\n",
    "                        shutil.copy(f\"{files}\", f\"{main_dir}/{val_dir}/{img_dir}/{f}.jpeg\")\n",
    "            \n",
    "            \n",
    "            #i += 1\n",
    "\n",
    "#print(i)\n",
    "                \n",
    "#print(f\"Total number of validation images are {i}\")\n",
    "print(f\"Total number of training images are {len(exists_list)}\")"
   ]
  },
  {
   "cell_type": "code",
   "execution_count": 27,
   "metadata": {},
   "outputs": [
    {
     "data": {
      "text/plain": [
       "800"
      ]
     },
     "execution_count": 27,
     "metadata": {},
     "output_type": "execute_result"
    }
   ],
   "source": [
    "len(train_exists_list) + len(exists_list)"
   ]
  },
  {
   "cell_type": "code",
   "execution_count": null,
   "metadata": {},
   "outputs": [],
   "source": []
  },
  {
   "cell_type": "code",
   "execution_count": null,
   "metadata": {},
   "outputs": [],
   "source": []
  }
 ],
 "metadata": {
  "kernelspec": {
   "display_name": "Python 3",
   "language": "python",
   "name": "python3"
  },
  "language_info": {
   "codemirror_mode": {
    "name": "ipython",
    "version": 3
   },
   "file_extension": ".py",
   "mimetype": "text/x-python",
   "name": "python",
   "nbconvert_exporter": "python",
   "pygments_lexer": "ipython3",
   "version": "3.8.5"
  }
 },
 "nbformat": 4,
 "nbformat_minor": 4
}
