{
 "cells": [
  {
   "cell_type": "code",
   "execution_count": 1,
   "metadata": {},
   "outputs": [
    {
     "name": "stderr",
     "output_type": "stream",
     "text": [
      "C:\\Users\\MICHEAL\\anaconda3\\lib\\site-packages\\pandas\\core\\computation\\expressions.py:20: UserWarning: Pandas requires version '2.7.3' or newer of 'numexpr' (version '2.7.1' currently installed).\n",
      "  from pandas.core.computation.check import NUMEXPR_INSTALLED\n"
     ]
    }
   ],
   "source": [
    "import pandas as pd\n",
    "import numpy as np\n",
    "\n",
    "import matplotlib.pyplot as plt\n",
    "import matplotlib.cm as cm\n",
    "import seaborn as sn\n",
    "\n",
    "\n",
    "import os\n",
    "import glob\n",
    "from pathlib import Path\n",
    "\n",
    "from collections import Counter\n",
    "from itertools import cycle, islice\n",
    "\n",
    "from PIL import Image\n",
    "from sys import argv\n",
    "from warnings import filterwarnings\n",
    "filterwarnings(\"ignore\")"
   ]
  },
  {
   "cell_type": "code",
   "execution_count": 2,
   "metadata": {},
   "outputs": [],
   "source": [
    "def plot_dist(df, col_name, color):\n",
    "    \"\"\"\n",
    "    Function for plotting based on column name\n",
    "    Input parameters:- \n",
    "    df = dataframe\n",
    "    col_name = column name\n",
    "    color = type of plot (pie, box, bar)\"\"\"\n",
    "    \n",
    "    cmap = cm.get_cmap('RdYlGn')\n",
    "    \n",
    "    \n",
    "    image =  df[col_name].value_counts().plot(kind=color, colormap = cmap)\n",
    "    sn.distplot(df[col_name].value_counts())\n",
    "    #image.figure.savefig(f\"{col_name}.jpg\")\n",
    "    \n",
    "    return image"
   ]
  },
  {
   "cell_type": "code",
   "execution_count": 3,
   "metadata": {},
   "outputs": [],
   "source": [
    "\n",
    "pat = \"annotations_CSV\""
   ]
  },
  {
   "cell_type": "code",
   "execution_count": 6,
   "metadata": {},
   "outputs": [
    {
     "name": "stdout",
     "output_type": "stream",
     "text": [
      "\u001b[1mTotal number of current annotated batches for analysis is 4\u001b[0m\n",
      "\n",
      "['batch_1', 'batch_2', 'batch_3', 'batch_4']\n"
     ]
    }
   ],
   "source": [
    "path = f\"{pat}/*?.csv\"\n",
    "\n",
    "batch_list = []\n",
    "i = 0  #variable for keeping track of first dataframe in loop before concatenating others\n",
    "\n",
    "for files in glob.glob(path):  #iterate through folder to concatenate csv into dataframes\n",
    "    \n",
    "    #extract batch names\n",
    "    f_name = os.path.split(files)[-1]\n",
    "    #print(f_name)\n",
    "    batch = \"_\".join(f_name.split(\"_\")[:-1])\n",
    "    #print(batch)\n",
    "    #batch = batch.split(\".\")[-2]\n",
    "    batch_list.append(batch)\n",
    "    #print(batch)\n",
    "\n",
    "    if i == 0:  #create new dataframe in first iteration\n",
    "        \n",
    "        df = pd.read_csv(files)\n",
    "        \n",
    "        #the following lines can be uncommented to view bar plots of individual dataframes\n",
    "        #print('\\033[1m' + f\"Barplot for {batch}\" + '\\033[0m')\n",
    "        #im = plot_dist(df, \"label_name\", \"bar\")  #plot individual dataframes\n",
    "        #display(im.figure)\n",
    "\n",
    "    else:  #concatenate other csv's with first dataframe\n",
    "        data = pd.read_csv(files)\n",
    "        \n",
    "        #the following lines can be uncommented to view bar plots of individual dataframes\n",
    "        #print('\\033[1m' + f\"Barplot for {batch}\" + '\\033[0m')\n",
    "        #im = plot_dist(data, \"label_name\", \"bar\")  #plot individual dataframes\n",
    "        #display(im.figure)\n",
    "        \n",
    "        df = pd.concat([df, data], ignore_index=True)\n",
    "    i += 1\n",
    "    \n",
    "print('\\033[1m' + f\"Total number of current annotated batches for analysis is {len(batch_list)}\" + '\\033[0m')\n",
    "print()\n",
    "print(sorted(batch_list))"
   ]
  },
  {
   "cell_type": "code",
   "execution_count": 7,
   "metadata": {},
   "outputs": [
    {
     "data": {
      "text/html": [
       "<div>\n",
       "<style scoped>\n",
       "    .dataframe tbody tr th:only-of-type {\n",
       "        vertical-align: middle;\n",
       "    }\n",
       "\n",
       "    .dataframe tbody tr th {\n",
       "        vertical-align: top;\n",
       "    }\n",
       "\n",
       "    .dataframe thead th {\n",
       "        text-align: right;\n",
       "    }\n",
       "</style>\n",
       "<table border=\"1\" class=\"dataframe\">\n",
       "  <thead>\n",
       "    <tr style=\"text-align: right;\">\n",
       "      <th></th>\n",
       "      <th>label_name</th>\n",
       "      <th>bbox_x</th>\n",
       "      <th>bbox_y</th>\n",
       "      <th>bbox_width</th>\n",
       "      <th>bbox_height</th>\n",
       "      <th>image_name</th>\n",
       "      <th>image_width</th>\n",
       "      <th>image_height</th>\n",
       "    </tr>\n",
       "  </thead>\n",
       "  <tbody>\n",
       "    <tr>\n",
       "      <th>0</th>\n",
       "      <td>mri</td>\n",
       "      <td>17</td>\n",
       "      <td>16</td>\n",
       "      <td>138</td>\n",
       "      <td>173</td>\n",
       "      <td>mildDem0.jpg</td>\n",
       "      <td>176</td>\n",
       "      <td>208</td>\n",
       "    </tr>\n",
       "    <tr>\n",
       "      <th>1</th>\n",
       "      <td>mri</td>\n",
       "      <td>16</td>\n",
       "      <td>17</td>\n",
       "      <td>140</td>\n",
       "      <td>172</td>\n",
       "      <td>mildDem1.jpg</td>\n",
       "      <td>176</td>\n",
       "      <td>208</td>\n",
       "    </tr>\n",
       "    <tr>\n",
       "      <th>2</th>\n",
       "      <td>mri</td>\n",
       "      <td>18</td>\n",
       "      <td>17</td>\n",
       "      <td>139</td>\n",
       "      <td>175</td>\n",
       "      <td>mildDem10.jpg</td>\n",
       "      <td>176</td>\n",
       "      <td>208</td>\n",
       "    </tr>\n",
       "    <tr>\n",
       "      <th>3</th>\n",
       "      <td>mri</td>\n",
       "      <td>18</td>\n",
       "      <td>17</td>\n",
       "      <td>138</td>\n",
       "      <td>172</td>\n",
       "      <td>mildDem100.jpg</td>\n",
       "      <td>176</td>\n",
       "      <td>208</td>\n",
       "    </tr>\n",
       "    <tr>\n",
       "      <th>4</th>\n",
       "      <td>mri</td>\n",
       "      <td>16</td>\n",
       "      <td>17</td>\n",
       "      <td>139</td>\n",
       "      <td>174</td>\n",
       "      <td>mildDem101.jpg</td>\n",
       "      <td>176</td>\n",
       "      <td>208</td>\n",
       "    </tr>\n",
       "    <tr>\n",
       "      <th>...</th>\n",
       "      <td>...</td>\n",
       "      <td>...</td>\n",
       "      <td>...</td>\n",
       "      <td>...</td>\n",
       "      <td>...</td>\n",
       "      <td>...</td>\n",
       "      <td>...</td>\n",
       "      <td>...</td>\n",
       "    </tr>\n",
       "    <tr>\n",
       "      <th>795</th>\n",
       "      <td>mri</td>\n",
       "      <td>16</td>\n",
       "      <td>16</td>\n",
       "      <td>142</td>\n",
       "      <td>174</td>\n",
       "      <td>verymildDem345.jpg</td>\n",
       "      <td>176</td>\n",
       "      <td>208</td>\n",
       "    </tr>\n",
       "    <tr>\n",
       "      <th>796</th>\n",
       "      <td>mri</td>\n",
       "      <td>17</td>\n",
       "      <td>17</td>\n",
       "      <td>140</td>\n",
       "      <td>174</td>\n",
       "      <td>verymildDem346.jpg</td>\n",
       "      <td>176</td>\n",
       "      <td>208</td>\n",
       "    </tr>\n",
       "    <tr>\n",
       "      <th>797</th>\n",
       "      <td>mri</td>\n",
       "      <td>16</td>\n",
       "      <td>17</td>\n",
       "      <td>140</td>\n",
       "      <td>174</td>\n",
       "      <td>verymildDem347.jpg</td>\n",
       "      <td>176</td>\n",
       "      <td>208</td>\n",
       "    </tr>\n",
       "    <tr>\n",
       "      <th>798</th>\n",
       "      <td>mri</td>\n",
       "      <td>17</td>\n",
       "      <td>17</td>\n",
       "      <td>140</td>\n",
       "      <td>172</td>\n",
       "      <td>verymildDem348.jpg</td>\n",
       "      <td>176</td>\n",
       "      <td>208</td>\n",
       "    </tr>\n",
       "    <tr>\n",
       "      <th>799</th>\n",
       "      <td>mri</td>\n",
       "      <td>16</td>\n",
       "      <td>17</td>\n",
       "      <td>140</td>\n",
       "      <td>173</td>\n",
       "      <td>verymildDem349.jpg</td>\n",
       "      <td>176</td>\n",
       "      <td>208</td>\n",
       "    </tr>\n",
       "  </tbody>\n",
       "</table>\n",
       "<p>800 rows × 8 columns</p>\n",
       "</div>"
      ],
      "text/plain": [
       "    label_name  bbox_x  bbox_y  bbox_width  bbox_height          image_name  \\\n",
       "0          mri      17      16         138          173        mildDem0.jpg   \n",
       "1          mri      16      17         140          172        mildDem1.jpg   \n",
       "2          mri      18      17         139          175       mildDem10.jpg   \n",
       "3          mri      18      17         138          172      mildDem100.jpg   \n",
       "4          mri      16      17         139          174      mildDem101.jpg   \n",
       "..         ...     ...     ...         ...          ...                 ...   \n",
       "795        mri      16      16         142          174  verymildDem345.jpg   \n",
       "796        mri      17      17         140          174  verymildDem346.jpg   \n",
       "797        mri      16      17         140          174  verymildDem347.jpg   \n",
       "798        mri      17      17         140          172  verymildDem348.jpg   \n",
       "799        mri      16      17         140          173  verymildDem349.jpg   \n",
       "\n",
       "     image_width  image_height  \n",
       "0            176           208  \n",
       "1            176           208  \n",
       "2            176           208  \n",
       "3            176           208  \n",
       "4            176           208  \n",
       "..           ...           ...  \n",
       "795          176           208  \n",
       "796          176           208  \n",
       "797          176           208  \n",
       "798          176           208  \n",
       "799          176           208  \n",
       "\n",
       "[800 rows x 8 columns]"
      ]
     },
     "execution_count": 7,
     "metadata": {},
     "output_type": "execute_result"
    }
   ],
   "source": [
    "df"
   ]
  },
  {
   "cell_type": "markdown",
   "metadata": {},
   "source": [
    "### It can be observed that there are no null values in the dataframe "
   ]
  },
  {
   "cell_type": "code",
   "execution_count": 8,
   "metadata": {},
   "outputs": [
    {
     "data": {
      "text/plain": [
       "label_name      0\n",
       "bbox_x          0\n",
       "bbox_y          0\n",
       "bbox_width      0\n",
       "bbox_height     0\n",
       "image_name      0\n",
       "image_width     0\n",
       "image_height    0\n",
       "dtype: int64"
      ]
     },
     "execution_count": 8,
     "metadata": {},
     "output_type": "execute_result"
    }
   ],
   "source": [
    "df.isna().sum()"
   ]
  },
  {
   "cell_type": "code",
   "execution_count": 9,
   "metadata": {},
   "outputs": [
    {
     "name": "stdout",
     "output_type": "stream",
     "text": [
      "<class 'pandas.core.frame.DataFrame'>\n",
      "RangeIndex: 800 entries, 0 to 799\n",
      "Data columns (total 8 columns):\n",
      " #   Column        Non-Null Count  Dtype \n",
      "---  ------        --------------  ----- \n",
      " 0   label_name    800 non-null    object\n",
      " 1   bbox_x        800 non-null    int64 \n",
      " 2   bbox_y        800 non-null    int64 \n",
      " 3   bbox_width    800 non-null    int64 \n",
      " 4   bbox_height   800 non-null    int64 \n",
      " 5   image_name    800 non-null    object\n",
      " 6   image_width   800 non-null    int64 \n",
      " 7   image_height  800 non-null    int64 \n",
      "dtypes: int64(6), object(2)\n",
      "memory usage: 50.1+ KB\n"
     ]
    }
   ],
   "source": [
    "df.info()"
   ]
  },
  {
   "cell_type": "markdown",
   "metadata": {},
   "source": [
    "### Compute total number of each classes "
   ]
  },
  {
   "cell_type": "code",
   "execution_count": 10,
   "metadata": {},
   "outputs": [
    {
     "data": {
      "text/plain": [
       "mri    800\n",
       "Name: label_name, dtype: int64"
      ]
     },
     "execution_count": 10,
     "metadata": {},
     "output_type": "execute_result"
    }
   ],
   "source": [
    "df.label_name.value_counts()"
   ]
  },
  {
   "cell_type": "code",
   "execution_count": 11,
   "metadata": {},
   "outputs": [
    {
     "data": {
      "text/plain": [
       "800"
      ]
     },
     "execution_count": 11,
     "metadata": {},
     "output_type": "execute_result"
    }
   ],
   "source": [
    "len(df[\"image_name\"].unique())"
   ]
  },
  {
   "cell_type": "code",
   "execution_count": 10,
   "metadata": {},
   "outputs": [
    {
     "data": {
      "text/plain": [
       "mri    600\n",
       "Name: label_name, dtype: int64"
      ]
     },
     "execution_count": 10,
     "metadata": {},
     "output_type": "execute_result"
    }
   ],
   "source": [
    "df.label_name.value_counts()"
   ]
  },
  {
   "cell_type": "markdown",
   "metadata": {},
   "source": [
    "### Plot entire dataframe\n",
    "\n",
    "#### It can be observed that the prevalent labels are: - \n",
    "- front bumper damage\n",
    "- hood damage\n",
    "- headlight damage\n",
    "- front fender damage\n",
    "\n",
    "##### It can be observed that the prevalent damages are focused on the front of the vehicle"
   ]
  },
  {
   "cell_type": "code",
   "execution_count": 11,
   "metadata": {},
   "outputs": [
    {
     "data": {
      "text/plain": [
       "<AxesSubplot:xlabel='label_name', ylabel='Density'>"
      ]
     },
     "execution_count": 11,
     "metadata": {},
     "output_type": "execute_result"
    },
    {
     "data": {
      "image/png": "[encoded data removed]",
      "text/plain": [
       "<Figure size 432x288 with 1 Axes>"
      ]
     },
     "metadata": {
      "needs_background": "light"
     },
     "output_type": "display_data"
    }
   ],
   "source": [
    "plot_dist(df, \"label_name\", \"bar\")"
   ]
  },
  {
   "cell_type": "code",
   "execution_count": null,
   "metadata": {},
   "outputs": [],
   "source": []
  }
 ],
 "metadata": {
  "kernelspec": {
   "display_name": "Python 3",
   "language": "python",
   "name": "python3"
  },
  "language_info": {
   "codemirror_mode": {
    "name": "ipython",
    "version": 3
   },
   "file_extension": ".py",
   "mimetype": "text/x-python",
   "name": "python",
   "nbconvert_exporter": "python",
   "pygments_lexer": "ipython3",
   "version": "3.8.5"
  }
 },
 "nbformat": 4,
 "nbformat_minor": 4
}
