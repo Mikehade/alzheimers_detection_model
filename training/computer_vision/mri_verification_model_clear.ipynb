{
  "cells": [
    {
      "cell_type": "code",
      "execution_count": null,
      "metadata": {
        "id": "ZA_MCegeaDf5",
        "tags": []
      },
      "outputs": [],
      "source": [
        "!pip install --upgrade --quiet ultralytics==8.0.112 clearml tensorboard"
      ]
    },
    {
      "cell_type": "code",
      "execution_count": null,
      "metadata": {
        "tags": [],
        "id": "6XNTjfPxPAE6",
        "outputId": "dd7dabc7-1ab8-4d00-8d3c-b43bb02a215e"
      },
      "outputs": [
        {
          "name": "stdout",
          "output_type": "stream",
          "text": [
            "Requirement already satisfied: opencv-python==4.8.0.76 in /home/ec2-user/anaconda3/envs/pytorch_p310/lib/python3.10/site-packages (4.8.0.76)\r\n",
            "Requirement already satisfied: numpy>=1.21.2 in /home/ec2-user/anaconda3/envs/pytorch_p310/lib/python3.10/site-packages (from opencv-python==4.8.0.76) (1.24.4)\r\n"
          ]
        }
      ],
      "source": [
        "#!pip install opencv-python\n",
        "\n",
        "!pip install opencv-python==4.8.0.76\n"
      ]
    },
    {
      "cell_type": "code",
      "execution_count": null,
      "metadata": {
        "id": "1sJ_ar3OP6Bt",
        "tags": []
      },
      "outputs": [],
      "source": [
        "import clearml\n",
        "clearml.browser_login()"
      ]
    },
    {
      "cell_type": "code",
      "execution_count": null,
      "metadata": {
        "colab": {
          "base_uri": "https://localhost:8080/"
        },
        "id": "4nPX20KhRxFO",
        "outputId": "7924a980-9723-4980-8392-cdc29dc32752",
        "tags": []
      },
      "outputs": [
        {
          "data": {
            "text/plain": [
              "\"#connect to google drive\\nfrom google.colab import drive\\ndrive.mount('/content/gdrive', force_remount=True)\\n\\n#!pip install --upgrade --quiet ultralytics==8.0.112 clearml tensorboard\\n\\n#path = '/content/gdrive/MyDrive/car_detection_training/Car_Detection_Data'\\nyaml_path = '/content/gdrive/MyDrive/Car_Inspection_Model_Training'\""
            ]
          },
          "execution_count": 4,
          "metadata": {},
          "output_type": "execute_result"
        }
      ],
      "source": [
        "\"\"\"#connect to google drive\n",
        "from google.colab import drive\n",
        "drive.mount('/content/gdrive', force_remount=True)\n",
        "\n",
        "#!pip install --upgrade --quiet ultralytics==8.0.112 clearml tensorboard\n",
        "\n",
        "#path = '/content/gdrive/MyDrive/car_detection_training/Car_Detection_Data'\n",
        "yaml_path = '/content/gdrive/MyDrive/Car_Inspection_Model_Training'\"\"\""
      ]
    },
    {
      "cell_type": "code",
      "execution_count": null,
      "metadata": {
        "id": "8cUMGUeJPAFB"
      },
      "outputs": [],
      "source": []
    },
    {
      "cell_type": "code",
      "execution_count": null,
      "metadata": {
        "tags": [],
        "id": "0vNmvfs3PAFC"
      },
      "outputs": [],
      "source": [
        "import boto3\n",
        "import botocore\n",
        "import os\n",
        "\n",
        "s3 = boto3.client(\"s3\")\n",
        "#s3 = boto3.resource(\"s3\")"
      ]
    },
    {
      "cell_type": "code",
      "execution_count": null,
      "metadata": {
        "id": "KZeYcrJOPAFI"
      },
      "outputs": [],
      "source": [
        "import zipfile\n",
        "\n",
        "#if not os.path.exists(os.path.dirname(f\"./{folder_name}\")):\n",
        "        #os.makedirs(os.path.dirname(f\"./{folder_name}\"))\n",
        "\n",
        "with zipfile.ZipFile(\"/tmp/MRI_Verification_Data.zip\", \"r\") as zip_ref:\n",
        "    zip_ref.extractall(\"/tmp/unzipped\")\n",
        "    #zip_ref.extractall(f\"./{folder_name}/tmp/unzipped\")"
      ]
    },
    {
      "cell_type": "code",
      "execution_count": null,
      "metadata": {
        "id": "e07ZuNe6PAFK",
        "outputId": "b7f80683-6b94-488c-c64d-0e377058e385"
      },
      "outputs": [
        {
          "name": "stdout",
          "output_type": "stream",
          "text": [
            "['MRI_Verification_Data']\n"
          ]
        }
      ],
      "source": [
        "unzipped_files = os.listdir(\"/tmp/unzipped\")\n",
        "print(unzipped_files)\n",
        "\n",
        "dest_folder_name = unzipped_files[0]"
      ]
    },
    {
      "cell_type": "code",
      "execution_count": null,
      "metadata": {
        "id": "iIZBAVlbPAFQ"
      },
      "outputs": [],
      "source": []
    },
    {
      "cell_type": "code",
      "execution_count": null,
      "metadata": {
        "tags": [],
        "id": "xPCmrd0bPAFR"
      },
      "outputs": [],
      "source": [
        "yaml_path = './mri_verification_data.yaml'"
      ]
    },
    {
      "cell_type": "code",
      "execution_count": null,
      "metadata": {
        "id": "0cV8dxoCPAFR"
      },
      "outputs": [],
      "source": [
        "#!pip install torch\n",
        "#!conda install pytorch"
      ]
    },
    {
      "cell_type": "code",
      "execution_count": null,
      "metadata": {
        "colab": {
          "base_uri": "https://localhost:8080/"
        },
        "id": "tJHMTGzqRw_Q",
        "outputId": "446d56fd-2e42-4e61-acf2-230ba6183329",
        "tags": []
      },
      "outputs": [
        {
          "name": "stdout",
          "output_type": "stream",
          "text": [
            "2023-10-18\n"
          ]
        }
      ],
      "source": [
        "import cv2\n",
        "import ultralytics\n",
        "from ultralytics import YOLO\n",
        "\n",
        "from datetime import datetime\n",
        "curr_date = datetime.now().date()\n",
        "print(curr_date)"
      ]
    },
    {
      "cell_type": "code",
      "execution_count": null,
      "metadata": {
        "colab": {
          "base_uri": "https://localhost:8080/"
        },
        "id": "n-adq0S-R_TO",
        "outputId": "e7493a74-17b1-4745-e227-e97e4651a2d7",
        "tags": []
      },
      "outputs": [
        {
          "name": "stdout",
          "output_type": "stream",
          "text": [
            "ClearML Task: overwriting (reusing) task id=03127c5fd712489092a9ed97ca6de336\n",
            "2023-10-18 19:53:03,174 - clearml.Repository Detection - WARNING - Failed finding Notebook in SageMaker environment. Error is: ''DomainId''\n",
            "2023-10-18 19:53:03,175 - clearml.Repository Detection - WARNING - Failed accessing the jupyter server(s): [{'base_url': '/', 'hostname': '0.0.0.0', 'password': False, 'pid': 4019, 'port': 8443, 'root_dir': '/home/ec2-user/SageMaker', 'secure': True, 'sock': '', 'token': '', 'url': 'https://ip-172-16-26-33.eu-central-1.compute.internal:8443/', 'version': '2.7.3'}]\n",
            "2023-10-18 19:53:03,179 - clearml.Task - INFO - No repository found, storing script code instead\n",
            "ClearML results page: https://app.clear.ml/projects/cd020c0630dc42739e5e574237dbd25c/experiments/03127c5fd712489092a9ed97ca6de336/output/log\n"
          ]
        }
      ],
      "source": [
        "from clearml import Task\n",
        "\n",
        "task = Task.init(project_name = \"mri_verification_model\", task_name = f\"mri_verification_model_{curr_date}\")\n",
        "\n",
        "model_variant = \"yolov8n\"\n",
        "task.set_parameter(\"model variant\", model_variant)"
      ]
    },
    {
      "cell_type": "code",
      "execution_count": null,
      "metadata": {
        "colab": {
          "base_uri": "https://localhost:8080/"
        },
        "id": "WCL52hhHpN-1",
        "outputId": "8e210811-2d20-4456-8e00-e4855f115d4d",
        "tags": []
      },
      "outputs": [
        {
          "data": {
            "text/plain": [
              "{'data': './mri_verification_data.yaml',\n",
              " 'epochs': 20,\n",
              " 'imgsz': 640,\n",
              " 'exist_ok': True,\n",
              " 'batch': 19,\n",
              " 'device': 0}"
            ]
          },
          "execution_count": 18,
          "metadata": {},
          "output_type": "execute_result"
        }
      ],
      "source": [
        "model = YOLO(f\"{model_variant}.pt\")\n",
        "\n",
        "args = dict(data= f\"{yaml_path}\", epochs=20,\n",
        "            imgsz=640, exist_ok = True, batch = 19, device = 0)\n",
        "\n",
        "task.connect(args)"
      ]
    },
    {
      "cell_type": "code",
      "execution_count": null,
      "metadata": {
        "colab": {
          "base_uri": "https://localhost:8080/",
          "height": 1000
        },
        "id": "j7CaEXDo6NMy",
        "outputId": "5a6b46e8-8fc1-42e4-d9de-210402f25380",
        "scrolled": true,
        "tags": []
      },
      "outputs": [
        {
          "name": "stderr",
          "output_type": "stream",
          "text": [
            "New https://pypi.org/project/ultralytics/8.0.200 available 😃 Update with 'pip install -U ultralytics'\n",
            "Ultralytics YOLOv8.0.112 🚀 Python-3.10.12 torch-2.0.1 CUDA:0 (Tesla T4, 15102MiB)\n",
            "\u001b[34m\u001b[1myolo/engine/trainer: \u001b[0mtask=detect, mode=train, model=yolov8n.pt, data=./mri_verification_data.yaml, epochs=20, patience=50, batch=19, imgsz=640, save=True, save_period=-1, cache=False, device=0, workers=8, project=None, name=None, exist_ok=True, pretrained=False, optimizer=SGD, verbose=True, seed=0, deterministic=True, single_cls=False, rect=False, cos_lr=False, close_mosaic=0, resume=False, amp=True, fraction=1.0, profile=False, overlap_mask=True, mask_ratio=4, dropout=0.0, val=True, split=val, save_json=False, save_hybrid=False, conf=None, iou=0.7, max_det=300, half=False, dnn=False, plots=True, source=None, show=False, save_txt=False, save_conf=False, save_crop=False, show_labels=True, show_conf=True, vid_stride=1, line_width=None, visualize=False, augment=False, agnostic_nms=False, classes=None, retina_masks=False, boxes=True, format=torchscript, keras=False, optimize=False, int8=False, dynamic=False, simplify=False, opset=None, workspace=4, nms=False, lr0=0.01, lrf=0.01, momentum=0.937, weight_decay=0.0005, warmup_epochs=3.0, warmup_momentum=0.8, warmup_bias_lr=0.1, box=7.5, cls=0.5, dfl=1.5, pose=12.0, kobj=1.0, label_smoothing=0.0, nbs=64, hsv_h=0.015, hsv_s=0.7, hsv_v=0.4, degrees=0.0, translate=0.1, scale=0.5, shear=0.0, perspective=0.0, flipud=0.0, fliplr=0.5, mosaic=1.0, mixup=0.0, copy_paste=0.0, cfg=None, v5loader=False, tracker=botsort.yaml, save_dir=runs/detect/train\n",
            "Overriding model.yaml nc=80 with nc=1\n",
            "\n",
            "                   from  n    params  module                                       arguments                     \n",
            "  0                  -1  1       464  ultralytics.nn.modules.conv.Conv             [3, 16, 3, 2]                 \n",
            "  1                  -1  1      4672  ultralytics.nn.modules.conv.Conv             [16, 32, 3, 2]                \n",
            "  2                  -1  1      7360  ultralytics.nn.modules.block.C2f             [32, 32, 1, True]             \n",
            "  3                  -1  1     18560  ultralytics.nn.modules.conv.Conv             [32, 64, 3, 2]                \n",
            "  4                  -1  2     49664  ultralytics.nn.modules.block.C2f             [64, 64, 2, True]             \n",
            "  5                  -1  1     73984  ultralytics.nn.modules.conv.Conv             [64, 128, 3, 2]               \n",
            "  6                  -1  2    197632  ultralytics.nn.modules.block.C2f             [128, 128, 2, True]           \n",
            "  7                  -1  1    295424  ultralytics.nn.modules.conv.Conv             [128, 256, 3, 2]              \n",
            "  8                  -1  1    460288  ultralytics.nn.modules.block.C2f             [256, 256, 1, True]           \n",
            "  9                  -1  1    164608  ultralytics.nn.modules.block.SPPF            [256, 256, 5]                 \n",
            " 10                  -1  1         0  torch.nn.modules.upsampling.Upsample         [None, 2, 'nearest']          \n",
            " 11             [-1, 6]  1         0  ultralytics.nn.modules.conv.Concat           [1]                           \n",
            " 12                  -1  1    148224  ultralytics.nn.modules.block.C2f             [384, 128, 1]                 \n",
            " 13                  -1  1         0  torch.nn.modules.upsampling.Upsample         [None, 2, 'nearest']          \n",
            " 14             [-1, 4]  1         0  ultralytics.nn.modules.conv.Concat           [1]                           \n",
            " 15                  -1  1     37248  ultralytics.nn.modules.block.C2f             [192, 64, 1]                  \n",
            " 16                  -1  1     36992  ultralytics.nn.modules.conv.Conv             [64, 64, 3, 2]                \n",
            " 17            [-1, 12]  1         0  ultralytics.nn.modules.conv.Concat           [1]                           \n",
            " 18                  -1  1    123648  ultralytics.nn.modules.block.C2f             [192, 128, 1]                 \n",
            " 19                  -1  1    147712  ultralytics.nn.modules.conv.Conv             [128, 128, 3, 2]              \n",
            " 20             [-1, 9]  1         0  ultralytics.nn.modules.conv.Concat           [1]                           \n",
            " 21                  -1  1    493056  ultralytics.nn.modules.block.C2f             [384, 256, 1]                 \n",
            " 22        [15, 18, 21]  1    751507  ultralytics.nn.modules.head.Detect           [1, [64, 128, 256]]           \n",
            "Model summary: 225 layers, 3011043 parameters, 3011027 gradients\n",
            "\n",
            "Transferred 319/355 items from pretrained weights\n",
            "\u001b[34m\u001b[1mTensorBoard: \u001b[0mStart with 'tensorboard --logdir runs/detect/train', view at http://localhost:6006/\n",
            "\u001b[34m\u001b[1mAMP: \u001b[0mrunning Automatic Mixed Precision (AMP) checks with YOLOv8n...\n",
            "\u001b[34m\u001b[1mAMP: \u001b[0mchecks passed ✅\n",
            "\u001b[34m\u001b[1moptimizer:\u001b[0m SGD(lr=0.01) with parameter groups 57 weight(decay=0.0), 64 weight(decay=0.00044531249999999996), 63 bias\n",
            "\u001b[34m\u001b[1mtrain: \u001b[0mScanning /home/ec2-user/SageMaker/Alzheimers-Computer-Vision/unzipped/MRI_Verification_Data/train/labels.cache... 640 images, 0 backgrounds, 0 corrupt: 100%|██████████| 640/640 [00:00<?, ?it/s]\n",
            "\u001b[34m\u001b[1mval: \u001b[0mScanning /home/ec2-user/SageMaker/Alzheimers-Computer-Vision/unzipped/MRI_Verification_Data/valid/labels.cache... 160 images, 0 backgrounds, 0 corrupt: 100%|██████████| 160/160 [00:00<?, ?it/s]\n",
            "Plotting labels to runs/detect/train/labels.jpg... \n",
            "/home/ec2-user/anaconda3/envs/pytorch_p310/lib/python3.10/site-packages/seaborn/axisgrid.py:118: UserWarning:\n",
            "\n",
            "The figure layout has changed to tight\n",
            "\n",
            "Image sizes 640 train, 640 val\n",
            "Using 4 dataloader workers\n",
            "Logging results to \u001b[1mruns/detect/train\u001b[0m\n",
            "Starting training for 20 epochs...\n",
            "\n",
            "      Epoch    GPU_mem   box_loss   cls_loss   dfl_loss  Instances       Size\n",
            "       1/20      3.05G      0.517      1.714      1.192         43        640: 100%|██████████| 34/34 [00:06<00:00,  5.38it/s]\n",
            "                 Class     Images  Instances      Box(P          R      mAP50  mAP50-95): 100%|██████████| 5/5 [00:01<00:00,  3.96it/s]\n",
            "                   all        160        160      0.999          1      0.995      0.981\n",
            "\n",
            "      Epoch    GPU_mem   box_loss   cls_loss   dfl_loss  Instances       Size\n",
            "       2/20      3.06G     0.3594     0.6447     0.9985         35        640: 100%|██████████| 34/34 [00:05<00:00,  6.45it/s]\n",
            "                 Class     Images  Instances      Box(P          R      mAP50  mAP50-95): 100%|██████████| 5/5 [00:01<00:00,  3.86it/s]\n",
            "                   all        160        160      0.998          1      0.995      0.936\n",
            "\n",
            "      Epoch    GPU_mem   box_loss   cls_loss   dfl_loss  Instances       Size\n",
            "       3/20      3.06G     0.3801     0.5659     0.9978         38        640: 100%|██████████| 34/34 [00:05<00:00,  6.45it/s]\n",
            "                 Class     Images  Instances      Box(P          R      mAP50  mAP50-95): 100%|██████████| 5/5 [00:01<00:00,  4.22it/s]\n",
            "                   all        160        160      0.999          1      0.995      0.897\n",
            "\n",
            "      Epoch    GPU_mem   box_loss   cls_loss   dfl_loss  Instances       Size\n",
            "       4/20      3.06G     0.3959     0.4823     0.9873         37        640: 100%|██████████| 34/34 [00:05<00:00,  6.35it/s]\n",
            "                 Class     Images  Instances      Box(P          R      mAP50  mAP50-95): 100%|██████████| 5/5 [00:01<00:00,  4.02it/s]\n",
            "                   all        160        160          1          1      0.995      0.937\n",
            "\n",
            "      Epoch    GPU_mem   box_loss   cls_loss   dfl_loss  Instances       Size\n",
            "       5/20      3.06G     0.3751     0.4324     0.9811         35        640: 100%|██████████| 34/34 [00:05<00:00,  6.45it/s]\n",
            "                 Class     Images  Instances      Box(P          R      mAP50  mAP50-95): 100%|██████████| 5/5 [00:01<00:00,  4.00it/s]\n",
            "                   all        160        160          1          1      0.995      0.987\n",
            "\n",
            "      Epoch    GPU_mem   box_loss   cls_loss   dfl_loss  Instances       Size\n",
            "       6/20      3.06G      0.345     0.3823     0.9602         34        640: 100%|██████████| 34/34 [00:05<00:00,  6.38it/s]\n",
            "                 Class     Images  Instances      Box(P          R      mAP50  mAP50-95): 100%|██████████| 5/5 [00:01<00:00,  4.06it/s]\n",
            "                   all        160        160          1          1      0.995      0.907\n",
            "\n",
            "      Epoch    GPU_mem   box_loss   cls_loss   dfl_loss  Instances       Size\n",
            "       7/20      3.06G     0.3299     0.3505     0.9593         36        640: 100%|██████████| 34/34 [00:05<00:00,  6.39it/s]\n",
            "                 Class     Images  Instances      Box(P          R      mAP50  mAP50-95): 100%|██████████| 5/5 [00:01<00:00,  3.96it/s]\n",
            "                   all        160        160          1          1      0.995      0.969\n",
            "\n",
            "      Epoch    GPU_mem   box_loss   cls_loss   dfl_loss  Instances       Size\n",
            "       8/20      3.06G     0.3072     0.3271     0.9387         38        640: 100%|██████████| 34/34 [00:05<00:00,  6.35it/s]\n",
            "                 Class     Images  Instances      Box(P          R      mAP50  mAP50-95): 100%|██████████| 5/5 [00:01<00:00,  4.00it/s]\n",
            "                   all        160        160          1          1      0.995      0.995\n",
            "\n",
            "      Epoch    GPU_mem   box_loss   cls_loss   dfl_loss  Instances       Size\n",
            "       9/20      3.06G     0.2895     0.3033     0.9375         27        640: 100%|██████████| 34/34 [00:05<00:00,  6.51it/s]\n",
            "                 Class     Images  Instances      Box(P          R      mAP50  mAP50-95): 100%|██████████| 5/5 [00:01<00:00,  4.08it/s]\n",
            "                   all        160        160      0.975          1      0.995      0.993\n",
            "\n",
            "      Epoch    GPU_mem   box_loss   cls_loss   dfl_loss  Instances       Size\n",
            "      10/20      3.06G     0.2774     0.2959      0.934         39        640: 100%|██████████| 34/34 [00:05<00:00,  6.39it/s]\n",
            "                 Class     Images  Instances      Box(P          R      mAP50  mAP50-95): 100%|██████████| 5/5 [00:01<00:00,  3.93it/s]\n",
            "                   all        160        160          1          1      0.995      0.995\n",
            "\n",
            "      Epoch    GPU_mem   box_loss   cls_loss   dfl_loss  Instances       Size\n",
            "      11/20      3.06G     0.2524     0.2715      0.919         35        640: 100%|██████████| 34/34 [00:05<00:00,  6.02it/s]\n",
            "                 Class     Images  Instances      Box(P          R      mAP50  mAP50-95): 100%|██████████| 5/5 [00:01<00:00,  3.46it/s]\n",
            "                   all        160        160          1          1      0.995      0.993\n",
            "\n",
            "      Epoch    GPU_mem   box_loss   cls_loss   dfl_loss  Instances       Size\n",
            "      12/20      3.06G     0.2383     0.2499      0.919         43        640: 100%|██████████| 34/34 [00:05<00:00,  6.43it/s]\n",
            "                 Class     Images  Instances      Box(P          R      mAP50  mAP50-95): 100%|██████████| 5/5 [00:01<00:00,  4.08it/s]\n",
            "                   all        160        160          1          1      0.995      0.993\n",
            "\n",
            "      Epoch    GPU_mem   box_loss   cls_loss   dfl_loss  Instances       Size\n",
            "      13/20      3.06G     0.2296     0.2399     0.9163         42        640: 100%|██████████| 34/34 [00:05<00:00,  6.42it/s]\n",
            "                 Class     Images  Instances      Box(P          R      mAP50  mAP50-95): 100%|██████████| 5/5 [00:01<00:00,  3.95it/s]\n",
            "                   all        160        160          1          1      0.995       0.99\n",
            "\n",
            "      Epoch    GPU_mem   box_loss   cls_loss   dfl_loss  Instances       Size\n",
            "      14/20      3.06G     0.2104     0.2252      0.911         39        640: 100%|██████████| 34/34 [00:05<00:00,  6.17it/s]\n",
            "                 Class     Images  Instances      Box(P          R      mAP50  mAP50-95): 100%|██████████| 5/5 [00:01<00:00,  3.99it/s]\n",
            "                   all        160        160          1          1      0.995      0.995\n",
            "\n",
            "      Epoch    GPU_mem   box_loss   cls_loss   dfl_loss  Instances       Size\n",
            "      15/20      3.05G     0.2069     0.2259     0.9039         39        640: 100%|██████████| 34/34 [00:05<00:00,  6.27it/s]\n",
            "                 Class     Images  Instances      Box(P          R      mAP50  mAP50-95): 100%|██████████| 5/5 [00:01<00:00,  4.22it/s]\n",
            "                   all        160        160          1          1      0.995      0.995\n",
            "\n",
            "      Epoch    GPU_mem   box_loss   cls_loss   dfl_loss  Instances       Size\n",
            "      16/20      3.05G     0.1933     0.2073      0.893         36        640: 100%|██████████| 34/34 [00:05<00:00,  6.37it/s]\n",
            "                 Class     Images  Instances      Box(P          R      mAP50  mAP50-95): 100%|██████████| 5/5 [00:01<00:00,  4.00it/s]\n",
            "                   all        160        160          1          1      0.995      0.994\n",
            "\n",
            "      Epoch    GPU_mem   box_loss   cls_loss   dfl_loss  Instances       Size\n",
            "      17/20      3.05G      0.183      0.202     0.8939         28        640: 100%|██████████| 34/34 [00:05<00:00,  6.37it/s]\n",
            "                 Class     Images  Instances      Box(P          R      mAP50  mAP50-95): 100%|██████████| 5/5 [00:01<00:00,  3.93it/s]\n",
            "                   all        160        160          1          1      0.995      0.995\n",
            "\n",
            "      Epoch    GPU_mem   box_loss   cls_loss   dfl_loss  Instances       Size\n",
            "      18/20      3.05G     0.1733     0.1925     0.8965         39        640: 100%|██████████| 34/34 [00:05<00:00,  6.50it/s]\n",
            "                 Class     Images  Instances      Box(P          R      mAP50  mAP50-95): 100%|██████████| 5/5 [00:01<00:00,  4.01it/s]\n",
            "                   all        160        160          1          1      0.995      0.995\n",
            "\n",
            "      Epoch    GPU_mem   box_loss   cls_loss   dfl_loss  Instances       Size\n",
            "      19/20      3.06G     0.1568     0.1751     0.8921         35        640: 100%|██████████| 34/34 [00:05<00:00,  6.22it/s]\n",
            "                 Class     Images  Instances      Box(P          R      mAP50  mAP50-95): 100%|██████████| 5/5 [00:01<00:00,  4.12it/s]\n",
            "                   all        160        160          1          1      0.995      0.995\n",
            "\n",
            "      Epoch    GPU_mem   box_loss   cls_loss   dfl_loss  Instances       Size\n",
            "      20/20      3.06G     0.1537     0.1704     0.8849         27        640: 100%|██████████| 34/34 [00:05<00:00,  6.48it/s]\n",
            "                 Class     Images  Instances      Box(P          R      mAP50  mAP50-95): 100%|██████████| 5/5 [00:03<00:00,  1.66it/s]\n",
            "                   all        160        160          1          1      0.995      0.995\n",
            "\n",
            "20 epochs completed in 0.043 hours.\n",
            "Optimizer stripped from runs/detect/train/weights/last.pt, 6.2MB\n",
            "Optimizer stripped from runs/detect/train/weights/best.pt, 6.2MB\n",
            "\n",
            "Validating runs/detect/train/weights/best.pt...\n",
            "Ultralytics YOLOv8.0.112 🚀 Python-3.10.12 torch-2.0.1 CUDA:0 (Tesla T4, 15102MiB)\n",
            "Model summary (fused): 168 layers, 3005843 parameters, 0 gradients\n",
            "                 Class     Images  Instances      Box(P          R      mAP50  mAP50-95): 100%|██████████| 5/5 [00:02<00:00,  1.96it/s]\n",
            "                   all        160        160          1          1      0.995      0.995\n",
            "Speed: 1.5ms preprocess, 1.7ms inference, 0.0ms loss, 1.2ms postprocess per image\n",
            "Results saved to \u001b[1mruns/detect/train\u001b[0m\n"
          ]
        },
        {
          "data": {
            "text/plain": [
              "<bound method Task.close of <clearml.task.Task object at 0x7fd5398c77c0>>"
            ]
          },
          "execution_count": 19,
          "metadata": {},
          "output_type": "execute_result"
        },
        {
          "name": "stdout",
          "output_type": "stream",
          "text": [
            "2023-10-18 20:08:35,194 - clearml.Task - INFO - Completed model upload to https://files.clear.ml/mri_verification_model/mri_verification_model_2023-10-18.03127c5fd712489092a9ed97ca6de336/models/best.pt\n"
          ]
        }
      ],
      "source": [
        "#train model\n",
        "results = model.train(**args)\n",
        "task.close"
      ]
    },
    {
      "cell_type": "code",
      "execution_count": null,
      "metadata": {
        "id": "emsr1vrM6NKn"
      },
      "outputs": [],
      "source": []
    },
    {
      "cell_type": "code",
      "execution_count": null,
      "metadata": {
        "id": "iYpiwrMN6NGH"
      },
      "outputs": [],
      "source": []
    },
    {
      "cell_type": "code",
      "execution_count": null,
      "metadata": {
        "colab": {
          "base_uri": "https://localhost:8080/"
        },
        "id": "DJvYrbA36NC7",
        "outputId": "e94ed0b5-4b6e-45da-d800-bd4940dd5bde"
      },
      "outputs": [
        {
          "name": "stderr",
          "output_type": "stream",
          "text": [
            "Ultralytics YOLOv8.0.112 🚀 Python-3.10.12 torch-2.0.1 CUDA:0 (Tesla T4, 15102MiB)\n",
            "Model summary (fused): 168 layers, 3005843 parameters, 0 gradients\n",
            "\u001b[34m\u001b[1mval: \u001b[0mScanning /home/ec2-user/SageMaker/Alzheimers-Computer-Vision/unzipped/MRI_Verification_Data/valid/labels.cache... 160 images, 0 backgrounds, 0 corrupt: 100%|██████████| 160/160 [00:00<?, ?it/s]\n",
            "                 Class     Images  Instances      Box(P          R      mAP50  mAP50-95): 100%|██████████| 10/10 [00:02<00:00,  3.52it/s]\n",
            "                   all        160        160          1          1      0.995      0.995\n",
            "Speed: 1.9ms preprocess, 4.2ms inference, 0.0ms loss, 2.8ms postprocess per image\n",
            "Results saved to \u001b[1mruns/detect/val3\u001b[0m\n"
          ]
        },
        {
          "data": {
            "text/plain": [
              "array([    0.99498])"
            ]
          },
          "execution_count": 20,
          "metadata": {},
          "output_type": "execute_result"
        }
      ],
      "source": [
        "# Load a model\n",
        "#model = YOLO('yolov8n.pt')  # load an official model\n",
        "custom_model = YOLO(f'./runs/detect/train/weights/best.pt')  # load a custom model\n",
        "\n",
        "# Validate the model\n",
        "metrics = custom_model.val()  # no arguments needed, dataset and settings remembered\n",
        "metrics.box.map    # map50-95\n",
        "metrics.box.map50  # map50\n",
        "metrics.box.map75  # map75\n",
        "metrics.box.maps   # a list contains map50-95 of each category\n"
      ]
    },
    {
      "cell_type": "code",
      "execution_count": null,
      "metadata": {
        "id": "3o5VnGny6NA2"
      },
      "outputs": [],
      "source": []
    },
    {
      "cell_type": "code",
      "execution_count": null,
      "metadata": {
        "id": "i45ADNK-6M9N"
      },
      "outputs": [],
      "source": []
    },
    {
      "cell_type": "code",
      "execution_count": null,
      "metadata": {
        "id": "GeGdIkkH6M5c"
      },
      "outputs": [],
      "source": []
    }
  ],
  "metadata": {
    "accelerator": "GPU",
    "colab": {
      "provenance": []
    },
    "kernelspec": {
      "display_name": "conda_pytorch_p310",
      "language": "python",
      "name": "conda_pytorch_p310"
    },
    "language_info": {
      "codemirror_mode": {
        "name": "ipython",
        "version": 3
      },
      "file_extension": ".py",
      "mimetype": "text/x-python",
      "name": "python",
      "nbconvert_exporter": "python",
      "pygments_lexer": "ipython3",
      "version": "3.10.12"
    }
  },
  "nbformat": 4,
  "nbformat_minor": 0
}