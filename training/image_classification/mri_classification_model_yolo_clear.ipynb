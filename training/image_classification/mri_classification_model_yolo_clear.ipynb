{
  "cells": [
    {
      "cell_type": "markdown",
      "metadata": {
        "id": "faK_5SjNjaGP"
      },
      "source": [
        "# Training an image classification model for predicting AD diagnosis"
      ]
    },
    {
      "cell_type": "markdown",
      "metadata": {
        "id": "_bfhmuq0jaGZ"
      },
      "source": [
        "### Install necessary libraries"
      ]
    },
    {
      "cell_type": "code",
      "execution_count": null,
      "metadata": {
        "id": "ZA_MCegeaDf5",
        "tags": []
      },
      "outputs": [],
      "source": [
        "!pip install --upgrade --quiet ultralytics==8.0.112 clearml tensorboard"
      ]
    },
    {
      "cell_type": "code",
      "execution_count": null,
      "metadata": {
        "tags": [],
        "id": "S5FoVqTajaGe",
        "outputId": "20d70d55-721f-40a0-c9e4-064d71bc0b14"
      },
      "outputs": [
        {
          "name": "stdout",
          "output_type": "stream",
          "text": [
            "Collecting opencv-python==4.8.0.76\n",
            "  Obtaining dependency information for opencv-python==4.8.0.76 from https://files.pythonhosted.org/packages/f5/d0/2e455d894ec0d6527e662ad55e70c04f421ad83a6fd0a54c3dd73c411282/opencv_python-4.8.0.76-cp37-abi3-manylinux_2_17_x86_64.manylinux2014_x86_64.whl.metadata\n",
            "  Downloading opencv_python-4.8.0.76-cp37-abi3-manylinux_2_17_x86_64.manylinux2014_x86_64.whl.metadata (19 kB)\n",
            "Requirement already satisfied: numpy>=1.21.2 in /home/ec2-user/anaconda3/envs/pytorch_p310/lib/python3.10/site-packages (from opencv-python==4.8.0.76) (1.24.4)\n",
            "Downloading opencv_python-4.8.0.76-cp37-abi3-manylinux_2_17_x86_64.manylinux2014_x86_64.whl (61.7 MB)\n",
            "\u001b[2K   \u001b[90m━━━━━━━━━━━━━━━━━━━━━━━━━━━━━━━━━━━━━━━━\u001b[0m \u001b[32m61.7/61.7 MB\u001b[0m \u001b[31m29.8 MB/s\u001b[0m eta \u001b[36m0:00:00\u001b[0m:00:01\u001b[0m00:01\u001b[0m\n",
            "\u001b[?25hInstalling collected packages: opencv-python\n",
            "  Attempting uninstall: opencv-python\n",
            "    Found existing installation: opencv-python 4.6.0.66\n",
            "    Uninstalling opencv-python-4.6.0.66:\n",
            "      Successfully uninstalled opencv-python-4.6.0.66\n",
            "Successfully installed opencv-python-4.8.0.76\n"
          ]
        }
      ],
      "source": [
        "#!pip install opencv-python\n",
        "\n",
        "!pip install opencv-python==4.8.0.76\n"
      ]
    },
    {
      "cell_type": "markdown",
      "metadata": {
        "id": "4gYrR27WjaGg"
      },
      "source": [
        "### Use ClearML for tracking"
      ]
    },
    {
      "cell_type": "code",
      "execution_count": null,
      "metadata": {
        "colab": {
          "base_uri": "https://localhost:8080/",
          "height": 53
        },
        "id": "1sJ_ar3OP6Bt",
        "outputId": "c6acfb04-345a-4752-d562-f8dd5c08f930",
        "tags": []
      },
      "outputs": [
        {
          "data": {
            "text/plain": [
              "'import clearml\\nclearml.browser_login()'"
            ]
          },
          "execution_count": 3,
          "metadata": {},
          "output_type": "execute_result"
        }
      ],
      "source": [
        "\"\"\"import clearml\n",
        "clearml.browser_login()\"\"\""
      ]
    },
    {
      "cell_type": "code",
      "execution_count": null,
      "metadata": {
        "colab": {
          "base_uri": "https://localhost:8080/"
        },
        "id": "4nPX20KhRxFO",
        "outputId": "7924a980-9723-4980-8392-cdc29dc32752",
        "tags": []
      },
      "outputs": [
        {
          "data": {
            "text/plain": [
              "\"#connect to google drive\\nfrom google.colab import drive\\ndrive.mount('/content/gdrive', force_remount=True)\\n\\n#!pip install --upgrade --quiet ultralytics==8.0.112 clearml tensorboard\\n\\n#path = '/content/gdrive/MyDrive/car_detection_training/Car_Detection_Data'\\nyaml_path = '/content/gdrive/MyDrive/Car_Inspection_Model_Training'\""
            ]
          },
          "execution_count": 4,
          "metadata": {},
          "output_type": "execute_result"
        }
      ],
      "source": [
        "\"\"\"#connect to google drive\n",
        "from google.colab import drive\n",
        "drive.mount('/content/gdrive', force_remount=True)\n",
        "\n",
        "#!pip install --upgrade --quiet ultralytics==8.0.112 clearml tensorboard\n",
        "\n",
        "#path = '/content/gdrive/MyDrive/car_detection_training/Car_Detection_Data'\n",
        "yaml_path = '/content/gdrive/MyDrive/Car_Inspection_Model_Training'\"\"\""
      ]
    },
    {
      "cell_type": "code",
      "execution_count": null,
      "metadata": {
        "id": "XMEaQNpzjaGk"
      },
      "outputs": [],
      "source": []
    },
    {
      "cell_type": "code",
      "execution_count": null,
      "metadata": {
        "tags": [],
        "id": "jrNKgGhnjaGl"
      },
      "outputs": [],
      "source": [
        "import boto3\n",
        "import botocore\n",
        "import os\n",
        "\n",
        "s3 = boto3.client(\"s3\")\n",
        "#s3 = boto3.resource(\"s3\")"
      ]
    },
    {
      "cell_type": "code",
      "execution_count": null,
      "metadata": {
        "id": "BG3XwW5bjaGo"
      },
      "outputs": [],
      "source": [
        "#unzip file\n",
        "import zipfile\n",
        "\n",
        "\n",
        "with zipfile.ZipFile(\"/tmp/data.zip\", \"r\") as zip_ref:\n",
        "    #zip_ref.extractall(\"/tmp/unzipped\")\n",
        "    #zip_ref.extractall(f\"./{dest_folder_name}/tmp/unzipped\")\n",
        "    zip_ref.extractall(\"/home/ec2-user/SageMaker/datasets/Alzheimers-Image-Classification/tmp/unzipped\")"
      ]
    },
    {
      "cell_type": "code",
      "execution_count": null,
      "metadata": {
        "id": "6_3BiGNXjaGr"
      },
      "outputs": [],
      "source": []
    },
    {
      "cell_type": "code",
      "execution_count": null,
      "metadata": {
        "tags": [],
        "id": "cy1nW7lUjaGs"
      },
      "outputs": [],
      "source": [
        "data_path = '/home/ec2-user/SageMaker/Alzheimers-Image-Classification/tmp/unzipped/data'"
      ]
    },
    {
      "cell_type": "code",
      "execution_count": null,
      "metadata": {
        "id": "yLQ0X1CXjaGs"
      },
      "outputs": [],
      "source": [
        "#!pip install torch\n",
        "#!conda install pytorch"
      ]
    },
    {
      "cell_type": "code",
      "execution_count": null,
      "metadata": {
        "colab": {
          "base_uri": "https://localhost:8080/"
        },
        "id": "tJHMTGzqRw_Q",
        "outputId": "446d56fd-2e42-4e61-acf2-230ba6183329",
        "tags": []
      },
      "outputs": [
        {
          "name": "stderr",
          "output_type": "stream",
          "text": [
            "Matplotlib is building the font cache; this may take a moment.\n"
          ]
        },
        {
          "name": "stdout",
          "output_type": "stream",
          "text": [
            "2023-10-19\n"
          ]
        }
      ],
      "source": [
        "import cv2\n",
        "import ultralytics\n",
        "from ultralytics import YOLO\n",
        "\n",
        "from datetime import datetime\n",
        "curr_date = datetime.now().date()\n",
        "print(curr_date)"
      ]
    },
    {
      "cell_type": "code",
      "execution_count": null,
      "metadata": {
        "id": "e5zOkcZzjaGt"
      },
      "outputs": [],
      "source": [
        "#Initialize clearml task\n",
        "from clearml import Task, StorageManager, Dataset\n",
        "\n",
        "\n",
        "task = Task.init(project_name = \"mri_classification_model\", task_name = f\"mri_classification_model_{curr_date}\")"
      ]
    },
    {
      "cell_type": "code",
      "execution_count": null,
      "metadata": {
        "id": "ioh32fsNjaGv"
      },
      "outputs": [],
      "source": []
    },
    {
      "cell_type": "code",
      "execution_count": null,
      "metadata": {
        "id": "CAlCv6LtjaGv"
      },
      "outputs": [],
      "source": []
    },
    {
      "cell_type": "code",
      "execution_count": null,
      "metadata": {
        "id": "IYCevbWTjaGv",
        "outputId": "852ae17b-3bdb-4a6d-ed5f-14ca4f2b6d7b"
      },
      "outputs": [
        {
          "name": "stderr",
          "output_type": "stream",
          "text": [
            "Downloading https://github.com/ultralytics/assets/releases/download/v0.0.0/yolov8n-cls.pt to yolov8n-cls.pt...\n",
            "100%|██████████| 5.28M/5.28M [00:00<00:00, 58.4MB/s]\n"
          ]
        }
      ],
      "source": [
        "#get yolo classification model\n",
        "yolo = YOLO(\"yolov8n-cls.pt\")"
      ]
    },
    {
      "cell_type": "code",
      "execution_count": null,
      "metadata": {
        "id": "ZltU26PRjaGw",
        "outputId": "dc81364f-cbd2-4654-aee5-850790b98f85"
      },
      "outputs": [
        {
          "name": "stdout",
          "output_type": "stream",
          "text": [
            "New https://pypi.org/project/ultralytics/8.0.200 available 😃 Update with 'pip install -U ultralytics'\n",
            "Ultralytics YOLOv8.0.112 🚀 Python-3.10.12 torch-2.0.1 CUDA:0 (Tesla T4, 15102MiB)\n",
            "\u001b[34m\u001b[1myolo/engine/trainer: \u001b[0mtask=classify, mode=train, model=yolov8n-cls.pt, data=./Alzheimers-Image-Classification/tmp/unzipped/data, epochs=100, patience=50, batch=16, imgsz=640, save=True, save_period=-1, cache=False, device=None, workers=8, project=None, name=None, exist_ok=False, pretrained=False, optimizer=SGD, verbose=True, seed=0, deterministic=True, single_cls=False, rect=False, cos_lr=False, close_mosaic=0, resume=False, amp=True, fraction=1.0, profile=False, overlap_mask=True, mask_ratio=4, dropout=0.0, val=True, split=val, save_json=False, save_hybrid=False, conf=None, iou=0.7, max_det=300, half=False, dnn=False, plots=True, source=None, show=False, save_txt=False, save_conf=False, save_crop=False, show_labels=True, show_conf=True, vid_stride=1, line_width=None, visualize=False, augment=False, agnostic_nms=False, classes=None, retina_masks=False, boxes=True, format=torchscript, keras=False, optimize=False, int8=False, dynamic=False, simplify=False, opset=None, workspace=4, nms=False, lr0=0.01, lrf=0.01, momentum=0.937, weight_decay=0.0005, warmup_epochs=3.0, warmup_momentum=0.8, warmup_bias_lr=0.1, box=7.5, cls=0.5, dfl=1.5, pose=12.0, kobj=1.0, label_smoothing=0.0, nbs=64, hsv_h=0.015, hsv_s=0.7, hsv_v=0.4, degrees=0.0, translate=0.1, scale=0.5, shear=0.0, perspective=0.0, flipud=0.0, fliplr=0.5, mosaic=1.0, mixup=0.0, copy_paste=0.0, cfg=None, v5loader=False, tracker=botsort.yaml, save_dir=runs/classify/train12\n",
            "Overriding model.yaml nc=1000 with nc=4\n",
            "\n",
            "                   from  n    params  module                                       arguments                     \n",
            "  0                  -1  1       464  ultralytics.nn.modules.conv.Conv             [3, 16, 3, 2]                 \n",
            "  1                  -1  1      4672  ultralytics.nn.modules.conv.Conv             [16, 32, 3, 2]                \n",
            "  2                  -1  1      7360  ultralytics.nn.modules.block.C2f             [32, 32, 1, True]             \n",
            "  3                  -1  1     18560  ultralytics.nn.modules.conv.Conv             [32, 64, 3, 2]                \n",
            "  4                  -1  2     49664  ultralytics.nn.modules.block.C2f             [64, 64, 2, True]             \n",
            "  5                  -1  1     73984  ultralytics.nn.modules.conv.Conv             [64, 128, 3, 2]               \n",
            "  6                  -1  2    197632  ultralytics.nn.modules.block.C2f             [128, 128, 2, True]           \n",
            "  7                  -1  1    295424  ultralytics.nn.modules.conv.Conv             [128, 256, 3, 2]              \n",
            "  8                  -1  1    460288  ultralytics.nn.modules.block.C2f             [256, 256, 1, True]           \n",
            "  9                  -1  1    335364  ultralytics.nn.modules.head.Classify         [256, 4]                      \n",
            "YOLOv8n-cls summary: 99 layers, 1443412 parameters, 1443412 gradients\n",
            "Transferred 156/158 items from pretrained weights\n",
            "\u001b[34m\u001b[1mTensorBoard: \u001b[0mStart with 'tensorboard --logdir runs/classify/train12', view at http://localhost:6006/\n",
            "\u001b[34m\u001b[1mAMP: \u001b[0mrunning Automatic Mixed Precision (AMP) checks with YOLOv8n...\n",
            "\u001b[34m\u001b[1mAMP: \u001b[0mchecks passed ✅\n",
            "\u001b[34m\u001b[1moptimizer:\u001b[0m SGD(lr=0.01) with parameter groups 26 weight(decay=0.0), 27 weight(decay=0.0005), 27 bias\n",
            "/home/ec2-user/anaconda3/envs/pytorch_p310/lib/python3.10/site-packages/torch/utils/data/dataloader.py:560: UserWarning:\n",
            "\n",
            "This DataLoader will create 4 worker processes in total. Our suggested max number of worker in current system is 2, which is smaller than what this DataLoader is going to create. Please be aware that excessive worker creation might get DataLoader running slow or even freeze, lower the worker number to avoid potential slowness/freeze if necessary.\n",
            "\n",
            "Image sizes 640 train, 640 val\n",
            "Using 4 dataloader workers\n",
            "Logging results to \u001b[1mruns/classify/train12\u001b[0m\n",
            "Starting training for 100 epochs...\n",
            "\n",
            "      Epoch    GPU_mem       loss  Instances       Size\n",
            "      1/100      1.58G     0.3563         16        640:   1%|          | 2/321 Exception in thread Thread-8 (plot_images):\n",
            "Traceback (most recent call last):\n",
            "  File \"/home/ec2-user/anaconda3/envs/pytorch_p310/lib/python3.10/threading.py\", line 1016, in _bootstrap_inner\n",
            "    self.run()\n",
            "  File \"/home/ec2-user/anaconda3/envs/pytorch_p310/lib/python3.10/threading.py\", line 953, in run\n",
            "    self._target(*self._args, **self._kwargs)\n",
            "  File \"/home/ec2-user/anaconda3/envs/pytorch_p310/lib/python3.10/site-packages/ultralytics/yolo/utils/plotting.py\", line 384, in plot_images\n",
            "    annotator.text((x, y), f'{c}', txt_color=color, box_style=True)\n",
            "  File \"/home/ec2-user/anaconda3/envs/pytorch_p310/lib/python3.10/site-packages/ultralytics/yolo/utils/plotting.py\", line 203, in text\n",
            "    w, h = self.font.getsize(text)\n",
            "AttributeError: 'FreeTypeFont' object has no attribute 'getsize'\n",
            "      1/100      1.58G     0.3552         16        640:   1%|          | 3/321 Exception in thread Thread-9 (plot_images):\n",
            "Traceback (most recent call last):\n",
            "  File \"/home/ec2-user/anaconda3/envs/pytorch_p310/lib/python3.10/threading.py\", line 1016, in _bootstrap_inner\n",
            "    self.run()\n",
            "  File \"/home/ec2-user/anaconda3/envs/pytorch_p310/lib/python3.10/threading.py\", line 953, in run\n",
            "    self._target(*self._args, **self._kwargs)\n",
            "  File \"/home/ec2-user/anaconda3/envs/pytorch_p310/lib/python3.10/site-packages/ultralytics/yolo/utils/plotting.py\", line 384, in plot_images\n",
            "    annotator.text((x, y), f'{c}', txt_color=color, box_style=True)\n",
            "  File \"/home/ec2-user/anaconda3/envs/pytorch_p310/lib/python3.10/site-packages/ultralytics/yolo/utils/plotting.py\", line 203, in text\n",
            "    w, h = self.font.getsize(text)\n",
            "AttributeError: 'FreeTypeFont' object has no attribute 'getsize'\n",
            "      1/100      1.58G     0.3532         16        640:   1%|          | 4/321 Exception in thread Thread-10 (plot_images):\n",
            "Traceback (most recent call last):\n",
            "  File \"/home/ec2-user/anaconda3/envs/pytorch_p310/lib/python3.10/threading.py\", line 1016, in _bootstrap_inner\n",
            "    self.run()\n",
            "  File \"/home/ec2-user/anaconda3/envs/pytorch_p310/lib/python3.10/threading.py\", line 953, in run\n",
            "    self._target(*self._args, **self._kwargs)\n",
            "  File \"/home/ec2-user/anaconda3/envs/pytorch_p310/lib/python3.10/site-packages/ultralytics/yolo/utils/plotting.py\", line 384, in plot_images\n",
            "    annotator.text((x, y), f'{c}', txt_color=color, box_style=True)\n",
            "  File \"/home/ec2-user/anaconda3/envs/pytorch_p310/lib/python3.10/site-packages/ultralytics/yolo/utils/plotting.py\", line 203, in text\n",
            "    w, h = self.font.getsize(text)\n",
            "AttributeError: 'FreeTypeFont' object has no attribute 'getsize'\n",
            "      1/100      1.61G     0.2656          2        640: 100%|██████████| 321/32\n",
            "               classes   top1_acc   top5_acc: 100%|██████████| 41/41 [00:08<00:0\n",
            "                   all      0.524          1\n",
            "\n",
            "      Epoch    GPU_mem       loss  Instances       Size\n",
            "      2/100       1.6G     0.2325          2        640: 100%|██████████| 321/32\n",
            "               classes   top1_acc   top5_acc: 100%|██████████| 41/41 [00:08<00:0\n",
            "                   all      0.561          1\n",
            "\n",
            "      Epoch    GPU_mem       loss  Instances       Size\n",
            "      3/100       1.6G      0.213          2        640: 100%|██████████| 321/32\n",
            "               classes   top1_acc   top5_acc: 100%|██████████| 41/41 [00:07<00:0\n",
            "                   all      0.351          1\n",
            "\n",
            "      Epoch    GPU_mem       loss  Instances       Size\n",
            "      4/100       1.6G     0.1981          2        640: 100%|██████████| 321/32\n",
            "               classes   top1_acc   top5_acc: 100%|██████████| 41/41 [00:08<00:0\n",
            "                   all      0.356          1\n",
            "\n",
            "      Epoch    GPU_mem       loss  Instances       Size\n",
            "      5/100       1.6G     0.1659          2        640: 100%|██████████| 321/32\n",
            "               classes   top1_acc   top5_acc: 100%|██████████| 41/41 [00:08<00:0\n",
            "                   all      0.543          1\n",
            "\n",
            "      Epoch    GPU_mem       loss  Instances       Size\n",
            "      6/100       1.6G     0.1123          2        640: 100%|██████████| 321/32\n",
            "               classes   top1_acc   top5_acc: 100%|██████████| 41/41 [00:07<00:0\n",
            "                   all      0.548          1\n",
            "\n",
            "      Epoch    GPU_mem       loss  Instances       Size\n",
            "      7/100       1.6G    0.07749          2        640: 100%|██████████| 321/32\n",
            "               classes   top1_acc   top5_acc: 100%|██████████| 41/41 [00:07<00:0\n",
            "                   all      0.613          1\n",
            "\n",
            "      Epoch    GPU_mem       loss  Instances       Size\n",
            "      8/100       1.6G    0.04406          2        640: 100%|██████████| 321/32\n",
            "               classes   top1_acc   top5_acc: 100%|██████████| 41/41 [00:07<00:0\n",
            "                   all      0.601          1\n",
            "\n",
            "      Epoch    GPU_mem       loss  Instances       Size\n",
            "      9/100       1.6G    0.03796          2        640: 100%|██████████| 321/32\n",
            "               classes   top1_acc   top5_acc: 100%|██████████| 41/41 [00:08<00:0\n",
            "                   all      0.654          1\n",
            "\n",
            "      Epoch    GPU_mem       loss  Instances       Size\n",
            "     10/100       1.6G    0.03333          2        640: 100%|██████████| 321/32\n",
            "               classes   top1_acc   top5_acc: 100%|██████████| 41/41 [00:08<00:0\n",
            "                   all      0.644          1\n",
            "\n",
            "      Epoch    GPU_mem       loss  Instances       Size\n",
            "     11/100       1.6G    0.02696          2        640: 100%|██████████| 321/32\n",
            "               classes   top1_acc   top5_acc: 100%|██████████| 41/41 [00:07<00:0\n",
            "                   all      0.644          1\n",
            "\n",
            "      Epoch    GPU_mem       loss  Instances       Size\n",
            "     12/100       1.6G    0.01801          2        640: 100%|██████████| 321/32\n",
            "               classes   top1_acc   top5_acc: 100%|██████████| 41/41 [00:08<00:0\n",
            "                   all      0.606          1\n",
            "\n",
            "      Epoch    GPU_mem       loss  Instances       Size\n",
            "     22/100       1.6G    0.00636          2        640: 100%|██████████| 321/32\n",
            "               classes   top1_acc   top5_acc: 100%|██████████| 41/41 [00:07<00:0\n",
            "                   all      0.681          1\n",
            "\n",
            "      Epoch    GPU_mem       loss  Instances       Size\n",
            "     23/100       1.6G   0.004352          2        640: 100%|██████████| 321/32\n",
            "               classes   top1_acc   top5_acc: 100%|██████████| 41/41 [00:07<00:0\n",
            "                   all      0.663          1\n",
            "\n",
            "      Epoch    GPU_mem       loss  Instances       Size\n",
            "     24/100       1.6G   0.004887          2        640: 100%|██████████| 321/32\n",
            "               classes   top1_acc   top5_acc: 100%|██████████| 41/41 [00:07<00:0\n",
            "                   all       0.66          1\n",
            "\n",
            "      Epoch    GPU_mem       loss  Instances       Size\n",
            "     25/100       1.6G   0.004495          2        640: 100%|██████████| 321/32\n",
            "               classes   top1_acc   top5_acc: 100%|██████████| 41/41 [00:07<00:0\n",
            "                   all      0.667          1\n",
            "\n",
            "      Epoch    GPU_mem       loss  Instances       Size\n",
            "     26/100       1.6G   0.004952          2        640: 100%|██████████| 321/32\n",
            "               classes   top1_acc   top5_acc: 100%|██████████| 41/41 [00:07<00:0\n",
            "                   all      0.659          1\n",
            "\n",
            "      Epoch    GPU_mem       loss  Instances       Size\n",
            "     27/100       1.6G   0.003632          2        640: 100%|██████████| 321/32\n",
            "               classes   top1_acc   top5_acc: 100%|██████████| 41/41 [00:07<00:0\n",
            "                   all       0.66          1\n",
            "\n",
            "      Epoch    GPU_mem       loss  Instances       Size\n",
            "     28/100       1.6G   0.003489          2        640: 100%|██████████| 321/32\n",
            "               classes   top1_acc   top5_acc: 100%|██████████| 41/41 [00:07<00:0\n",
            "                   all      0.666          1\n",
            "\n",
            "      Epoch    GPU_mem       loss  Instances       Size\n",
            "     29/100       1.6G   0.003563          2        640: 100%|██████████| 321/32\n",
            "               classes   top1_acc   top5_acc: 100%|██████████| 41/41 [00:07<00:0\n",
            "                   all      0.692          1\n",
            "\n",
            "      Epoch    GPU_mem       loss  Instances       Size\n",
            "     30/100       1.6G   0.001892          2        640: 100%|██████████| 321/32\n",
            "               classes   top1_acc   top5_acc: 100%|██████████| 41/41 [00:08<00:0\n",
            "                   all      0.688          1\n",
            "\n",
            "      Epoch    GPU_mem       loss  Instances       Size\n",
            "     31/100       1.6G   0.001472          2        640: 100%|██████████| 321/32\n",
            "               classes   top1_acc   top5_acc: 100%|██████████| 41/41 [00:07<00:0\n",
            "                   all      0.688          1\n",
            "\n",
            "      Epoch    GPU_mem       loss  Instances       Size\n",
            "     32/100       1.6G   0.002668          2        640: 100%|██████████| 321/32\n",
            "               classes   top1_acc   top5_acc: 100%|██████████| 41/41 [00:08<00:0\n",
            "                   all      0.679          1\n",
            "\n",
            "      Epoch    GPU_mem       loss  Instances       Size\n",
            "     33/100       1.6G   0.002764          2        640: 100%|██████████| 321/32\n",
            "               classes   top1_acc   top5_acc: 100%|██████████| 41/41 [00:07<00:0\n",
            "                   all      0.687          1\n",
            "\n",
            "      Epoch    GPU_mem       loss  Instances       Size\n",
            "     34/100       1.6G   0.003507          2        640: 100%|██████████| 321/32\n",
            "               classes   top1_acc   top5_acc: 100%|██████████| 41/41 [00:07<00:0\n",
            "                   all      0.661          1\n",
            "\n",
            "      Epoch    GPU_mem       loss  Instances       Size\n",
            "     35/100       1.6G   0.003112          2        640: 100%|██████████| 321/32\n",
            "               classes   top1_acc   top5_acc: 100%|██████████| 41/41 [00:07<00:0\n",
            "                   all      0.671          1\n",
            "\n",
            "      Epoch    GPU_mem       loss  Instances       Size\n",
            "     36/100       1.6G   0.002198          2        640: 100%|██████████| 321/32\n",
            "               classes   top1_acc   top5_acc: 100%|██████████| 41/41 [00:07<00:0\n",
            "                   all      0.664          1\n",
            "\n",
            "      Epoch    GPU_mem       loss  Instances       Size\n",
            "     37/100       1.6G   0.001291          2        640: 100%|██████████| 321/32\n",
            "               classes   top1_acc   top5_acc: 100%|██████████| 41/41 [00:08<00:0\n",
            "                   all      0.694          1\n",
            "\n",
            "      Epoch    GPU_mem       loss  Instances       Size\n",
            "     38/100       1.6G  0.0008053          2        640: 100%|██████████| 321/32\n",
            "               classes   top1_acc   top5_acc: 100%|██████████| 41/41 [00:08<00:0\n",
            "                   all      0.678          1\n",
            "\n",
            "      Epoch    GPU_mem       loss  Instances       Size\n",
            "     39/100       1.6G   0.001029          2        640: 100%|██████████| 321/32\n",
            "               classes   top1_acc   top5_acc: 100%|██████████| 41/41 [00:08<00:0\n",
            "                   all      0.675          1\n",
            "\n",
            "      Epoch    GPU_mem       loss  Instances       Size\n",
            "     40/100       1.6G   0.003787          2        640: 100%|██████████| 321/32\n",
            "               classes   top1_acc   top5_acc: 100%|██████████| 41/41 [00:07<00:0\n",
            "                   all      0.656          1\n",
            "\n",
            "      Epoch    GPU_mem       loss  Instances       Size\n",
            "     41/100       1.6G   0.001839          2        640: 100%|██████████| 321/32\n",
            "               classes   top1_acc   top5_acc: 100%|██████████| 41/41 [00:07<00:0\n",
            "                   all      0.668          1\n",
            "\n",
            "      Epoch    GPU_mem       loss  Instances       Size\n",
            "     42/100       1.6G   0.001094          2        640: 100%|██████████| 321/32\n",
            "               classes   top1_acc   top5_acc: 100%|██████████| 41/41 [00:08<00:0\n",
            "                   all       0.66          1\n",
            "\n",
            "      Epoch    GPU_mem       loss  Instances       Size\n",
            "     43/100       1.6G   0.001226          2        640: 100%|██████████| 321/32\n",
            "               classes   top1_acc   top5_acc: 100%|██████████| 41/41 [00:07<00:0\n",
            "                   all      0.694          1\n",
            "\n",
            "      Epoch    GPU_mem       loss  Instances       Size\n",
            "     44/100       1.6G   0.001084          2        640: 100%|██████████| 321/32\n",
            "               classes   top1_acc   top5_acc: 100%|██████████| 41/41 [00:07<00:0\n",
            "                   all      0.684          1\n",
            "\n",
            "      Epoch    GPU_mem       loss  Instances       Size\n",
            "     45/100       1.6G  0.0006539          2        640: 100%|██████████| 321/32\n",
            "               classes   top1_acc   top5_acc: 100%|██████████| 41/41 [00:07<00:0\n",
            "                   all      0.689          1\n",
            "\n",
            "      Epoch    GPU_mem       loss  Instances       Size\n",
            "     46/100       1.6G  0.0003827          2        640: 100%|██████████| 321/32\n",
            "               classes   top1_acc   top5_acc: 100%|██████████| 41/41 [00:07<00:0\n",
            "                   all      0.691          1\n",
            "\n",
            "      Epoch    GPU_mem       loss  Instances       Size\n",
            "     47/100       1.6G  0.0002639          2        640: 100%|██████████| 321/32\n",
            "               classes   top1_acc   top5_acc: 100%|██████████| 41/41 [00:08<00:0\n",
            "                   all      0.692          1\n",
            "\n",
            "      Epoch    GPU_mem       loss  Instances       Size\n",
            "     48/100       1.6G  0.0001962          2        640: 100%|██████████| 321/32\n",
            "               classes   top1_acc   top5_acc: 100%|██████████| 41/41 [00:08<00:0\n",
            "                   all      0.694          1\n",
            "\n",
            "      Epoch    GPU_mem       loss  Instances       Size\n",
            "     49/100       1.6G  0.0001187          2        640: 100%|██████████| 321/32\n",
            "               classes   top1_acc   top5_acc: 100%|██████████| 41/41 [00:08<00:0\n",
            "                   all      0.684          1\n",
            "\n",
            "      Epoch    GPU_mem       loss  Instances       Size\n",
            "     50/100       1.6G  0.0006074          2        640: 100%|██████████| 321/32\n",
            "               classes   top1_acc   top5_acc: 100%|██████████| 41/41 [00:08<00:0\n",
            "                   all      0.674          1\n",
            "\n",
            "      Epoch    GPU_mem       loss  Instances       Size\n",
            "     51/100       1.6G   0.000724          2        640: 100%|██████████| 321/32\n",
            "               classes   top1_acc   top5_acc: 100%|██████████| 41/41 [00:07<00:0\n",
            "                   all      0.681          1\n",
            "\n",
            "      Epoch    GPU_mem       loss  Instances       Size\n",
            "     76/100       1.6G  0.0002481          2        640: 100%|██████████| 321/32\n",
            "               classes   top1_acc   top5_acc: 100%|██████████| 41/41 [00:07<00:0\n",
            "                   all      0.683          1\n",
            "\n",
            "      Epoch    GPU_mem       loss  Instances       Size\n",
            "     77/100       1.6G  0.0005975          2        640: 100%|██████████| 321/32\n",
            "               classes   top1_acc   top5_acc: 100%|██████████| 41/41 [00:07<00:0\n",
            "                   all      0.683          1\n",
            "\n",
            "      Epoch    GPU_mem       loss  Instances       Size\n",
            "     78/100       1.6G  0.0005702          2        640: 100%|██████████| 321/32\n",
            "               classes   top1_acc   top5_acc: 100%|██████████| 41/41 [00:07<00:0\n",
            "                   all      0.683          1\n",
            "\n",
            "      Epoch    GPU_mem       loss  Instances       Size\n",
            "     79/100       1.6G  0.0001274          2        640: 100%|██████████| 321/32\n",
            "               classes   top1_acc   top5_acc: 100%|██████████| 41/41 [00:07<00:0\n",
            "                   all      0.671          1\n",
            "\n",
            "      Epoch    GPU_mem       loss  Instances       Size\n",
            "     80/100       1.6G  0.0005294          2        640: 100%|██████████| 321/32\n",
            "               classes   top1_acc   top5_acc: 100%|██████████| 41/41 [00:07<00:0\n",
            "                   all      0.671          1\n",
            "\n",
            "      Epoch    GPU_mem       loss  Instances       Size\n",
            "     81/100       1.6G  0.0001412          2        640: 100%|██████████| 321/32\n",
            "               classes   top1_acc   top5_acc: 100%|██████████| 41/41 [00:07<00:0\n",
            "                   all      0.672          1\n",
            "\n",
            "      Epoch    GPU_mem       loss  Instances       Size\n",
            "               classes   top1_acc   top5_acc: 100%|██████████| 41/41 [00:07<00:0\n",
            "                   all      0.668          1\n",
            "\n",
            "      Epoch    GPU_mem       loss  Instances       Size\n",
            "     84/100       1.6G  9.899e-05          2        640: 100%|██████████| 321/32\n",
            "               classes   top1_acc   top5_acc: 100%|██████████| 41/41 [00:07<00:0\n",
            "                   all      0.671          1\n",
            "     95/100       1.6G  0.0005123          2        640: 100%|██████████| 321/32\n",
            "               classes   top1_acc   top5_acc: 100%|██████████| 41/41 [00:07<00:0\n",
            "                   all      0.683          1\n",
            "\n",
            "      Epoch    GPU_mem       loss  Instances       Size\n",
            "     96/100       1.6G  0.0001739          2        640: 100%|██████████| 321/32\n",
            "               classes   top1_acc   top5_acc: 100%|██████████| 41/41 [00:07<00:0\n",
            "                   all      0.682          1\n",
            "\n",
            "      Epoch    GPU_mem       loss  Instances       Size\n",
            "     97/100       1.6G  3.402e-05          2        640: 100%|██████████| 321/32\n",
            "               classes   top1_acc   top5_acc: 100%|██████████| 41/41 [00:07<00:0\n",
            "                   all      0.683          1\n",
            "\n",
            "      Epoch    GPU_mem       loss  Instances       Size\n",
            "     98/100       1.6G  3.853e-05          2        640: 100%|██████████| 321/32\n",
            "               classes   top1_acc   top5_acc: 100%|██████████| 41/41 [00:07<00:0\n",
            "                   all      0.681          1\n",
            "\n",
            "      Epoch    GPU_mem       loss  Instances       Size\n",
            "     99/100       1.6G   6.26e-05          2        640: 100%|██████████| 321/32\n",
            "               classes   top1_acc   top5_acc: 100%|██████████| 41/41 [00:07<00:0\n",
            "                   all      0.683          1\n",
            "\n",
            "      Epoch    GPU_mem       loss  Instances       Size\n",
            "    100/100       1.6G  0.0001787          2        640: 100%|██████████| 321/32\n",
            "               classes   top1_acc   top5_acc:   5%|▍         | 2/41 [00:00<00:16Exception in thread Thread-11 (plot_images):\n",
            "Traceback (most recent call last):\n",
            "  File \"/home/ec2-user/anaconda3/envs/pytorch_p310/lib/python3.10/threading.py\", line 1016, in _bootstrap_inner\n",
            "    self.run()\n",
            "  File \"/home/ec2-user/anaconda3/envs/pytorch_p310/lib/python3.10/threading.py\", line 953, in run\n",
            "    self._target(*self._args, **self._kwargs)\n",
            "  File \"/home/ec2-user/anaconda3/envs/pytorch_p310/lib/python3.10/site-packages/ultralytics/yolo/utils/plotting.py\", line 384, in plot_images\n",
            "    annotator.text((x, y), f'{c}', txt_color=color, box_style=True)\n",
            "  File \"/home/ec2-user/anaconda3/envs/pytorch_p310/lib/python3.10/site-packages/ultralytics/yolo/utils/plotting.py\", line 203, in text\n",
            "    w, h = self.font.getsize(text)\n",
            "AttributeError: 'FreeTypeFont' object has no attribute 'getsize'\n",
            "               classes   top1_acc   top5_acc:   7%|▋         | 3/41 [00:01<00:20Exception in thread Thread-12 (plot_images):\n",
            "Traceback (most recent call last):\n",
            "  File \"/home/ec2-user/anaconda3/envs/pytorch_p310/lib/python3.10/threading.py\", line 1016, in _bootstrap_inner\n",
            "    self.run()\n",
            "  File \"/home/ec2-user/anaconda3/envs/pytorch_p310/lib/python3.10/threading.py\", line 953, in run\n",
            "    self._target(*self._args, **self._kwargs)\n",
            "  File \"/home/ec2-user/anaconda3/envs/pytorch_p310/lib/python3.10/site-packages/ultralytics/yolo/utils/plotting.py\", line 384, in plot_images\n",
            "    annotator.text((x, y), f'{c}', txt_color=color, box_style=True)\n",
            "  File \"/home/ec2-user/anaconda3/envs/pytorch_p310/lib/python3.10/site-packages/ultralytics/yolo/utils/plotting.py\", line 203, in text\n",
            "    w, h = self.font.getsize(text)\n",
            "AttributeError: 'FreeTypeFont' object has no attribute 'getsize'\n",
            "               classes   top1_acc   top5_acc:  10%|▉         | 4/41 [00:01<00:17Exception in thread Thread-13 (plot_images):\n",
            "Traceback (most recent call last):\n",
            "  File \"/home/ec2-user/anaconda3/envs/pytorch_p310/lib/python3.10/threading.py\", line 1016, in _bootstrap_inner\n",
            "    self.run()\n",
            "  File \"/home/ec2-user/anaconda3/envs/pytorch_p310/lib/python3.10/threading.py\", line 953, in run\n",
            "    self._target(*self._args, **self._kwargs)\n",
            "  File \"/home/ec2-user/anaconda3/envs/pytorch_p310/lib/python3.10/site-packages/ultralytics/yolo/utils/plotting.py\", line 384, in plot_images\n",
            "    annotator.text((x, y), f'{c}', txt_color=color, box_style=True)\n",
            "  File \"/home/ec2-user/anaconda3/envs/pytorch_p310/lib/python3.10/site-packages/ultralytics/yolo/utils/plotting.py\", line 203, in text\n",
            "    w, h = self.font.getsize(text)\n",
            "AttributeError: 'FreeTypeFont' object has no attribute 'getsize'\n",
            "               classes   top1_acc   top5_acc:  24%|██▍       | 10/41 [00:02<00:0Exception in thread Thread-15 (plot_images):\n",
            "Exception in thread Thread-14 (plot_images):\n",
            "Traceback (most recent call last):\n",
            "Traceback (most recent call last):\n",
            "  File \"/home/ec2-user/anaconda3/envs/pytorch_p310/lib/python3.10/threading.py\", line 1016, in _bootstrap_inner\n",
            "  File \"/home/ec2-user/anaconda3/envs/pytorch_p310/lib/python3.10/threading.py\", line 1016, in _bootstrap_inner\n",
            "    self.run()\n",
            "  File \"/home/ec2-user/anaconda3/envs/pytorch_p310/lib/python3.10/threading.py\", line 953, in run\n",
            "    self.run()\n",
            "    self._target(*self._args, **self._kwargs)\n",
            "  File \"/home/ec2-user/anaconda3/envs/pytorch_p310/lib/python3.10/threading.py\", line 953, in run\n",
            "  File \"/home/ec2-user/anaconda3/envs/pytorch_p310/lib/python3.10/site-packages/ultralytics/yolo/utils/plotting.py\", line 384, in plot_images\n",
            "    self._target(*self._args, **self._kwargs)\n",
            "    annotator.text((x, y), f'{c}', txt_color=color, box_style=True)\n",
            "  File \"/home/ec2-user/anaconda3/envs/pytorch_p310/lib/python3.10/site-packages/ultralytics/yolo/utils/plotting.py\", line 384, in plot_images\n",
            "  File \"/home/ec2-user/anaconda3/envs/pytorch_p310/lib/python3.10/site-packages/ultralytics/yolo/utils/plotting.py\", line 203, in text\n",
            "    annotator.text((x, y), f'{c}', txt_color=color, box_style=True)\n",
            "    w, h = self.font.getsize(text)\n",
            "  File \"/home/ec2-user/anaconda3/envs/pytorch_p310/lib/python3.10/site-packages/ultralytics/yolo/utils/plotting.py\", line 203, in text\n",
            "AttributeError: 'FreeTypeFont' object has no attribute 'getsize'\n",
            "    w, h = self.font.getsize(text)\n",
            "AttributeError: 'FreeTypeFont' object has no attribute 'getsize'\n",
            "Exception in thread Thread-16 (plot_images):\n",
            "Traceback (most recent call last):\n",
            "  File \"/home/ec2-user/anaconda3/envs/pytorch_p310/lib/python3.10/threading.py\", line 1016, in _bootstrap_inner\n",
            "    self.run()\n",
            "  File \"/home/ec2-user/anaconda3/envs/pytorch_p310/lib/python3.10/threading.py\", line 953, in run\n",
            "    self._target(*self._args, **self._kwargs)\n",
            "  File \"/home/ec2-user/anaconda3/envs/pytorch_p310/lib/python3.10/site-packages/ultralytics/yolo/utils/plotting.py\", line 384, in plot_images\n",
            "    annotator.text((x, y), f'{c}', txt_color=color, box_style=True)\n",
            "  File \"/home/ec2-user/anaconda3/envs/pytorch_p310/lib/python3.10/site-packages/ultralytics/yolo/utils/plotting.py\", line 203, in text\n",
            "    w, h = self.font.getsize(text)\n",
            "AttributeError: 'FreeTypeFont' object has no attribute 'getsize'\n",
            "               classes   top1_acc   top5_acc: 100%|██████████| 41/41 [00:09<00:0\n",
            "                   all      0.681          1\n",
            "\n",
            "100 epochs completed in 1.340 hours.\n",
            "Optimizer stripped from runs/classify/train12/weights/last.pt, 3.0MB\n",
            "Optimizer stripped from runs/classify/train12/weights/best.pt, 3.0MB\n",
            "Results saved to \u001b[1mruns/classify/train12\u001b[0m\n",
            "2023-10-19 11:48:20,437 - clearml.Task - INFO - Completed model upload to https://files.clear.ml/mri_classification_model/mri_classification_model_2023-10-19.967bc5b2bbf3443d9eb1a4cd77d0128a/models/best.pt\n"
          ]
        },
        {
          "data": {
            "text/plain": [
              "\"\\nlogger = task.get_logger()\\n\\n# in your training loop\\nfor epoch in range(epochs):\\n    # train your model\\n    # ...\\n    \\n\\n    # log your metrics\\n    logger.report_scalar('loss', loss, step=epoch)\\n    logger.report_scalar('accuracy', accuracy, step=epoch)\\n\""
            ]
          },
          "execution_count": 63,
          "metadata": {},
          "output_type": "execute_result"
        }
      ],
      "source": [
        "#train the model\n",
        "logger = task.get_logger()\n",
        "\n",
        "!yolo task=classify mode=train model=yolov8n-cls.pt data='./Alzheimers-Image-Classification/tmp/unzipped/data' epochs=100 imgsz = 640\n"
      ]
    },
    {
      "cell_type": "code",
      "execution_count": null,
      "metadata": {
        "id": "zCN16t9TjaGw"
      },
      "outputs": [],
      "source": [
        "#Close ClearML task\n",
        "task.close()"
      ]
    },
    {
      "cell_type": "code",
      "execution_count": null,
      "metadata": {
        "id": "2dQcKhsjjaGx"
      },
      "outputs": [],
      "source": []
    },
    {
      "cell_type": "code",
      "execution_count": null,
      "metadata": {
        "id": "LFeY1YWjjaGx"
      },
      "outputs": [],
      "source": []
    },
    {
      "cell_type": "code",
      "execution_count": null,
      "metadata": {
        "id": "KXI6uROmjaGx"
      },
      "outputs": [],
      "source": []
    },
    {
      "cell_type": "code",
      "execution_count": null,
      "metadata": {
        "id": "GeGdIkkH6M5c",
        "scrolled": true,
        "outputId": "113261f0-4f56-4e23-b3f9-88ae454dd920"
      },
      "outputs": [
        {
          "name": "stderr",
          "output_type": "stream",
          "text": [
            "Ultralytics YOLOv8.0.112 🚀 Python-3.10.12 torch-2.0.1 CUDA:0 (Tesla T4, 15102MiB)\n",
            "YOLOv8n-cls summary (fused): 73 layers, 1440004 parameters, 0 gradients\n",
            "WARNING ⚠️ Dataset 'split=val' not found, using 'split=test' instead.\n",
            "               classes   top1_acc   top5_acc:   1%|          | 1/82 [00:00<00:52,  1.54it/s]Exception in thread Thread-40 (plot_images):\n",
            "Traceback (most recent call last):\n",
            "  File \"/home/ec2-user/anaconda3/envs/pytorch_p310/lib/python3.10/threading.py\", line 1016, in _bootstrap_inner\n",
            "    self.run()\n",
            "  File \"/home/ec2-user/anaconda3/envs/pytorch_p310/lib/python3.10/threading.py\", line 953, in run\n",
            "    self._target(*self._args, **self._kwargs)\n",
            "  File \"/home/ec2-user/anaconda3/envs/pytorch_p310/lib/python3.10/site-packages/ultralytics/yolo/utils/plotting.py\", line 384, in plot_images\n",
            "    annotator.text((x, y), f'{c}', txt_color=color, box_style=True)\n",
            "  File \"/home/ec2-user/anaconda3/envs/pytorch_p310/lib/python3.10/site-packages/ultralytics/yolo/utils/plotting.py\", line 203, in text\n",
            "    w, h = self.font.getsize(text)\n",
            "AttributeError: 'FreeTypeFont' object has no attribute 'getsize'\n",
            "               classes   top1_acc   top5_acc:   2%|▏         | 2/82 [00:00<00:33,  2.37it/s]Exception in thread Thread-41 (plot_images):\n",
            "Traceback (most recent call last):\n",
            "  File \"/home/ec2-user/anaconda3/envs/pytorch_p310/lib/python3.10/threading.py\", line 1016, in _bootstrap_inner\n",
            "    self.run()\n",
            "  File \"/home/ec2-user/anaconda3/envs/pytorch_p310/lib/python3.10/threading.py\", line 953, in run\n",
            "    self._target(*self._args, **self._kwargs)\n",
            "  File \"/home/ec2-user/anaconda3/envs/pytorch_p310/lib/python3.10/site-packages/ultralytics/yolo/utils/plotting.py\", line 384, in plot_images\n",
            "    annotator.text((x, y), f'{c}', txt_color=color, box_style=True)\n",
            "  File \"/home/ec2-user/anaconda3/envs/pytorch_p310/lib/python3.10/site-packages/ultralytics/yolo/utils/plotting.py\", line 203, in text\n",
            "    w, h = self.font.getsize(text)\n",
            "AttributeError: 'FreeTypeFont' object has no attribute 'getsize'\n",
            "               classes   top1_acc   top5_acc:   4%|▎         | 3/82 [00:01<00:24,  3.20it/s]Exception in thread Thread-42 (plot_images):\n",
            "Traceback (most recent call last):\n",
            "  File \"/home/ec2-user/anaconda3/envs/pytorch_p310/lib/python3.10/threading.py\", line 1016, in _bootstrap_inner\n",
            "    self.run()\n",
            "  File \"/home/ec2-user/anaconda3/envs/pytorch_p310/lib/python3.10/threading.py\", line 953, in run\n",
            "    self._target(*self._args, **self._kwargs)\n",
            "  File \"/home/ec2-user/anaconda3/envs/pytorch_p310/lib/python3.10/site-packages/ultralytics/yolo/utils/plotting.py\", line 384, in plot_images\n",
            "    annotator.text((x, y), f'{c}', txt_color=color, box_style=True)\n",
            "  File \"/home/ec2-user/anaconda3/envs/pytorch_p310/lib/python3.10/site-packages/ultralytics/yolo/utils/plotting.py\", line 203, in text\n",
            "    w, h = self.font.getsize(text)\n",
            "AttributeError: 'FreeTypeFont' object has no attribute 'getsize'\n",
            "Exception in thread Thread-43 (plot_images):\n",
            "Traceback (most recent call last):\n",
            "  File \"/home/ec2-user/anaconda3/envs/pytorch_p310/lib/python3.10/threading.py\", line 1016, in _bootstrap_inner\n",
            "    self.run()\n",
            "  File \"/home/ec2-user/anaconda3/envs/pytorch_p310/lib/python3.10/threading.py\", line 953, in run\n",
            "    self._target(*self._args, **self._kwargs)\n",
            "  File \"/home/ec2-user/anaconda3/envs/pytorch_p310/lib/python3.10/site-packages/ultralytics/yolo/utils/plotting.py\", line 384, in plot_images\n",
            "    annotator.text((x, y), f'{c}', txt_color=color, box_style=True)\n",
            "  File \"/home/ec2-user/anaconda3/envs/pytorch_p310/lib/python3.10/site-packages/ultralytics/yolo/utils/plotting.py\", line 203, in text\n",
            "    w, h = self.font.getsize(text)\n",
            "AttributeError: 'FreeTypeFont' object has no attribute 'getsize'\n",
            "               classes   top1_acc   top5_acc:   7%|▋         | 6/82 [00:01<00:11,  6.69it/s]Exception in thread Thread-44 (plot_images):\n",
            "Traceback (most recent call last):\n",
            "  File \"/home/ec2-user/anaconda3/envs/pytorch_p310/lib/python3.10/threading.py\", line 1016, in _bootstrap_inner\n",
            "               classes   top1_acc   top5_acc:  11%|█         | 9/82 [00:01<00:06, 10.43it/s]Exception in thread Thread-45 (plot_images):\n",
            "Traceback (most recent call last):\n",
            "  File \"/home/ec2-user/anaconda3/envs/pytorch_p310/lib/python3.10/threading.py\", line 1016, in _bootstrap_inner\n",
            "    self.run()\n",
            "  File \"/home/ec2-user/anaconda3/envs/pytorch_p310/lib/python3.10/threading.py\", line 953, in run\n",
            "    self._target(*self._args, **self._kwargs)\n",
            "  File \"/home/ec2-user/anaconda3/envs/pytorch_p310/lib/python3.10/site-packages/ultralytics/yolo/utils/plotting.py\", line 384, in plot_images\n",
            "    annotator.text((x, y), f'{c}', txt_color=color, box_style=True)\n",
            "  File \"/home/ec2-user/anaconda3/envs/pytorch_p310/lib/python3.10/site-packages/ultralytics/yolo/utils/plotting.py\", line 203, in text\n",
            "    w, h = self.font.getsize(text)\n",
            "AttributeError: 'FreeTypeFont' object has no attribute 'getsize'\n",
            "    self.run()\n",
            "  File \"/home/ec2-user/anaconda3/envs/pytorch_p310/lib/python3.10/threading.py\", line 953, in run\n",
            "    self._target(*self._args, **self._kwargs)\n",
            "  File \"/home/ec2-user/anaconda3/envs/pytorch_p310/lib/python3.10/site-packages/ultralytics/yolo/utils/plotting.py\", line 384, in plot_images\n",
            "    annotator.text((x, y), f'{c}', txt_color=color, box_style=True)\n",
            "  File \"/home/ec2-user/anaconda3/envs/pytorch_p310/lib/python3.10/site-packages/ultralytics/yolo/utils/plotting.py\", line 203, in text\n",
            "    w, h = self.font.getsize(text)\n",
            "AttributeError: 'FreeTypeFont' object has no attribute 'getsize'\n",
            "               classes   top1_acc   top5_acc: 100%|██████████| 82/82 [00:07<00:00, 11.62it/s]\n",
            "                   all      0.681          1\n",
            "Speed: 1.1ms preprocess, 1.7ms inference, 0.0ms loss, 0.0ms postprocess per image\n",
            "Results saved to \u001b[1mruns/classify/val\u001b[0m\n"
          ]
        },
        {
          "name": "stdout",
          "output_type": "stream",
          "text": [
            "0.6812933087348938 0.9999999403953552\n"
          ]
        }
      ],
      "source": [
        "#perform validation\n",
        "\n",
        "trained_model = YOLO(\"runs/classify/train12/weights/best.pt\")\n",
        "\n",
        "metrics = trained_model.val()\n",
        "print(metrics.top1, metrics.top5)"
      ]
    },
    {
      "cell_type": "code",
      "execution_count": null,
      "metadata": {
        "id": "zYEKXpZ2jaGy",
        "outputId": "b8b655c6-43f8-43d8-aea9-92572a5f9d5d"
      },
      "outputs": [
        {
          "name": "stdout",
          "output_type": "stream",
          "text": [
            "0.6812933087348938 0.9999999403953552\n"
          ]
        }
      ],
      "source": [
        "print(metrics.top1, metrics.top5)"
      ]
    },
    {
      "cell_type": "code",
      "execution_count": null,
      "metadata": {
        "id": "X1wyUMS1jaGz"
      },
      "outputs": [],
      "source": []
    },
    {
      "cell_type": "code",
      "execution_count": null,
      "metadata": {
        "id": "ddxaw7xvjaGz",
        "outputId": "06510202-7b66-445a-f9f8-edd778edd868"
      },
      "outputs": [
        {
          "name": "stderr",
          "output_type": "stream",
          "text": [
            "\n",
            "0: 640x640 MildDemented 0.51, VeryMildDemented 0.48, ModerateDemented 0.00, NonDemented 0.00, 3.1ms\n",
            "Speed: 9.0ms preprocess, 3.1ms inference, 0.1ms postprocess per image at shape (1, 3, 640, 640)\n"
          ]
        }
      ],
      "source": [
        "#predict single image\n",
        "from PIL import Image\n",
        "\n",
        "detections = trained_model(Image.open(\"./datasets/26 (19).jpg\"))"
      ]
    },
    {
      "cell_type": "code",
      "execution_count": null,
      "metadata": {
        "id": "XoO9CReYjaG0",
        "outputId": "e3225677-8714-43b5-9d4a-fdfc01d3a01e"
      },
      "outputs": [
        {
          "data": {
            "text/plain": [
              "'for detection in detections:\\n\\n    probabs = detection.probs\\n    predictions = probabs.classes\\n    confidences = probabs.scores\\n\\n    for detection in detections:\\n        pass\\n\\n    print(predictions, confidences)'"
            ]
          },
          "execution_count": 5,
          "metadata": {},
          "output_type": "execute_result"
        }
      ],
      "source": [
        "\"\"\"for detection in detections:\n",
        "\n",
        "    probabs = detection.probs\n",
        "    predictions = probabs.classes\n",
        "    confidences = probabs.scores\n",
        "\n",
        "    for detection in detections:\n",
        "        pass\n",
        "\n",
        "    print(predictions, confidences)\"\"\""
      ]
    },
    {
      "cell_type": "code",
      "execution_count": null,
      "metadata": {
        "id": "E5h1m66PjaG0"
      },
      "outputs": [],
      "source": []
    }
  ],
  "metadata": {
    "accelerator": "GPU",
    "colab": {
      "provenance": []
    },
    "kernelspec": {
      "display_name": "conda_pytorch_p310",
      "language": "python",
      "name": "conda_pytorch_p310"
    },
    "language_info": {
      "codemirror_mode": {
        "name": "ipython",
        "version": 3
      },
      "file_extension": ".py",
      "mimetype": "text/x-python",
      "name": "python",
      "nbconvert_exporter": "python",
      "pygments_lexer": "ipython3",
      "version": "3.10.12"
    }
  },
  "nbformat": 4,
  "nbformat_minor": 0
}