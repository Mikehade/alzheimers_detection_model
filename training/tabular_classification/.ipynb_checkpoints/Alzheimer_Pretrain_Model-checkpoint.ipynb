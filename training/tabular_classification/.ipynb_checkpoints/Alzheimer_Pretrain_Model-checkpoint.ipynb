{
 "cells": [
  {
   "cell_type": "markdown",
   "metadata": {},
   "source": [
    "## Training of a classification model for predicting alzheimer's disease"
   ]
  },
  {
   "cell_type": "code",
   "execution_count": null,
   "metadata": {},
   "outputs": [],
   "source": []
  },
  {
   "cell_type": "code",
   "execution_count": 1,
   "metadata": {},
   "outputs": [
    {
     "name": "stderr",
     "output_type": "stream",
     "text": [
      "C:\\Users\\MICHEAL\\anaconda3\\lib\\site-packages\\pandas\\core\\computation\\expressions.py:20: UserWarning: Pandas requires version '2.7.3' or newer of 'numexpr' (version '2.7.1' currently installed).\n",
      "  from pandas.core.computation.check import NUMEXPR_INSTALLED\n"
     ]
    }
   ],
   "source": [
    "#importing needed libraries\n",
    "import pandas as pd\n",
    "import numpy as np\n",
    "import matplotlib.pyplot as plt\n",
    "import re\n",
    "import seaborn as sns\n",
    "import matplotlib.cm as cm\n",
    "import statistics\n",
    "from sklearn.preprocessing import PolynomialFeatures\n",
    "from sklearn.preprocessing import LabelEncoder\n",
    "from sklearn.svm import SVC\n",
    "from sklearn.model_selection import GridSearchCV\n",
    "import random\n",
    "\n",
    "from sklearn.decomposition import PCA\n",
    "from sklearn import datasets\n",
    "from sklearn.preprocessing import StandardScaler\n",
    "\n",
    "from sklearn.manifold import LocallyLinearEmbedding\n",
    "from sklearn import manifold, datasets\n",
    "\n",
    "from sklearn.preprocessing import binarize, LabelEncoder, MinMaxScaler\n",
    "from sklearn import preprocessing\n",
    "\n",
    "from sklearn.feature_selection\\\n",
    "    import VarianceThreshold\n",
    "from sklearn.feature_selection import VarianceThreshold\n",
    "\n",
    "from sklearn.naive_bayes import GaussianNB\n",
    "from sklearn.neighbors import KNeighborsClassifier\n",
    "from sklearn.linear_model import LogisticRegression\n",
    "#from sklearn.metrics import roc_auc_score, plot_roc_curve, confusion_matrix\n",
    "from sklearn.metrics import classification_report, accuracy_score, f1_score, precision_score, recall_score, confusion_matrix\n",
    "\n",
    "\n",
    "import pandas as pd\n",
    "import csv\n",
    "from multiprocessing import Process\n",
    "\n",
    "from os.path import exists\n",
    "\n",
    "from sklearn.model_selection import train_test_split\n",
    "from sklearn.model_selection import KFold\n",
    "from sklearn.model_selection import cross_val_score\n",
    "from sklearn.ensemble import RandomForestClassifier\n",
    "#from tests import feat_sel_col_test"
   ]
  },
  {
   "cell_type": "code",
   "execution_count": null,
   "metadata": {},
   "outputs": [],
   "source": []
  },
  {
   "cell_type": "code",
   "execution_count": 2,
   "metadata": {},
   "outputs": [],
   "source": [
    "#specify path to file\n",
    "path = \"Pretrain/\""
   ]
  },
  {
   "cell_type": "code",
   "execution_count": 5,
   "metadata": {},
   "outputs": [
    {
     "data": {
      "text/html": [
       "<div>\n",
       "<style scoped>\n",
       "    .dataframe tbody tr th:only-of-type {\n",
       "        vertical-align: middle;\n",
       "    }\n",
       "\n",
       "    .dataframe tbody tr th {\n",
       "        vertical-align: top;\n",
       "    }\n",
       "\n",
       "    .dataframe thead th {\n",
       "        text-align: right;\n",
       "    }\n",
       "</style>\n",
       "<table border=\"1\" class=\"dataframe\">\n",
       "  <thead>\n",
       "    <tr style=\"text-align: right;\">\n",
       "      <th></th>\n",
       "      <th>Subject ID</th>\n",
       "      <th>MRI ID</th>\n",
       "      <th>Group</th>\n",
       "      <th>Visit</th>\n",
       "      <th>MR Delay</th>\n",
       "      <th>M/F</th>\n",
       "      <th>Hand</th>\n",
       "      <th>Age</th>\n",
       "      <th>EDUC</th>\n",
       "      <th>SES</th>\n",
       "      <th>MMSE</th>\n",
       "      <th>CDR</th>\n",
       "      <th>eTIV</th>\n",
       "      <th>nWBV</th>\n",
       "      <th>ASF</th>\n",
       "    </tr>\n",
       "  </thead>\n",
       "  <tbody>\n",
       "    <tr>\n",
       "      <th>0</th>\n",
       "      <td>OAS2_0001</td>\n",
       "      <td>OAS2_0001_MR1</td>\n",
       "      <td>Nondemented</td>\n",
       "      <td>1</td>\n",
       "      <td>0</td>\n",
       "      <td>M</td>\n",
       "      <td>R</td>\n",
       "      <td>87</td>\n",
       "      <td>14</td>\n",
       "      <td>2.0</td>\n",
       "      <td>27.0</td>\n",
       "      <td>0.0</td>\n",
       "      <td>1987</td>\n",
       "      <td>0.696</td>\n",
       "      <td>0.883</td>\n",
       "    </tr>\n",
       "    <tr>\n",
       "      <th>1</th>\n",
       "      <td>OAS2_0001</td>\n",
       "      <td>OAS2_0001_MR2</td>\n",
       "      <td>Nondemented</td>\n",
       "      <td>2</td>\n",
       "      <td>457</td>\n",
       "      <td>M</td>\n",
       "      <td>R</td>\n",
       "      <td>88</td>\n",
       "      <td>14</td>\n",
       "      <td>2.0</td>\n",
       "      <td>30.0</td>\n",
       "      <td>0.0</td>\n",
       "      <td>2004</td>\n",
       "      <td>0.681</td>\n",
       "      <td>0.876</td>\n",
       "    </tr>\n",
       "    <tr>\n",
       "      <th>2</th>\n",
       "      <td>OAS2_0002</td>\n",
       "      <td>OAS2_0002_MR1</td>\n",
       "      <td>Demented</td>\n",
       "      <td>1</td>\n",
       "      <td>0</td>\n",
       "      <td>M</td>\n",
       "      <td>R</td>\n",
       "      <td>75</td>\n",
       "      <td>12</td>\n",
       "      <td>NaN</td>\n",
       "      <td>23.0</td>\n",
       "      <td>0.5</td>\n",
       "      <td>1678</td>\n",
       "      <td>0.736</td>\n",
       "      <td>1.046</td>\n",
       "    </tr>\n",
       "    <tr>\n",
       "      <th>3</th>\n",
       "      <td>OAS2_0002</td>\n",
       "      <td>OAS2_0002_MR2</td>\n",
       "      <td>Demented</td>\n",
       "      <td>2</td>\n",
       "      <td>560</td>\n",
       "      <td>M</td>\n",
       "      <td>R</td>\n",
       "      <td>76</td>\n",
       "      <td>12</td>\n",
       "      <td>NaN</td>\n",
       "      <td>28.0</td>\n",
       "      <td>0.5</td>\n",
       "      <td>1738</td>\n",
       "      <td>0.713</td>\n",
       "      <td>1.010</td>\n",
       "    </tr>\n",
       "    <tr>\n",
       "      <th>4</th>\n",
       "      <td>OAS2_0002</td>\n",
       "      <td>OAS2_0002_MR3</td>\n",
       "      <td>Demented</td>\n",
       "      <td>3</td>\n",
       "      <td>1895</td>\n",
       "      <td>M</td>\n",
       "      <td>R</td>\n",
       "      <td>80</td>\n",
       "      <td>12</td>\n",
       "      <td>NaN</td>\n",
       "      <td>22.0</td>\n",
       "      <td>0.5</td>\n",
       "      <td>1698</td>\n",
       "      <td>0.701</td>\n",
       "      <td>1.034</td>\n",
       "    </tr>\n",
       "    <tr>\n",
       "      <th>...</th>\n",
       "      <td>...</td>\n",
       "      <td>...</td>\n",
       "      <td>...</td>\n",
       "      <td>...</td>\n",
       "      <td>...</td>\n",
       "      <td>...</td>\n",
       "      <td>...</td>\n",
       "      <td>...</td>\n",
       "      <td>...</td>\n",
       "      <td>...</td>\n",
       "      <td>...</td>\n",
       "      <td>...</td>\n",
       "      <td>...</td>\n",
       "      <td>...</td>\n",
       "      <td>...</td>\n",
       "    </tr>\n",
       "    <tr>\n",
       "      <th>368</th>\n",
       "      <td>OAS2_0185</td>\n",
       "      <td>OAS2_0185_MR2</td>\n",
       "      <td>Demented</td>\n",
       "      <td>2</td>\n",
       "      <td>842</td>\n",
       "      <td>M</td>\n",
       "      <td>R</td>\n",
       "      <td>82</td>\n",
       "      <td>16</td>\n",
       "      <td>1.0</td>\n",
       "      <td>28.0</td>\n",
       "      <td>0.5</td>\n",
       "      <td>1693</td>\n",
       "      <td>0.694</td>\n",
       "      <td>1.037</td>\n",
       "    </tr>\n",
       "    <tr>\n",
       "      <th>369</th>\n",
       "      <td>OAS2_0185</td>\n",
       "      <td>OAS2_0185_MR3</td>\n",
       "      <td>Demented</td>\n",
       "      <td>3</td>\n",
       "      <td>2297</td>\n",
       "      <td>M</td>\n",
       "      <td>R</td>\n",
       "      <td>86</td>\n",
       "      <td>16</td>\n",
       "      <td>1.0</td>\n",
       "      <td>26.0</td>\n",
       "      <td>0.5</td>\n",
       "      <td>1688</td>\n",
       "      <td>0.675</td>\n",
       "      <td>1.040</td>\n",
       "    </tr>\n",
       "    <tr>\n",
       "      <th>370</th>\n",
       "      <td>OAS2_0186</td>\n",
       "      <td>OAS2_0186_MR1</td>\n",
       "      <td>Nondemented</td>\n",
       "      <td>1</td>\n",
       "      <td>0</td>\n",
       "      <td>F</td>\n",
       "      <td>R</td>\n",
       "      <td>61</td>\n",
       "      <td>13</td>\n",
       "      <td>2.0</td>\n",
       "      <td>30.0</td>\n",
       "      <td>0.0</td>\n",
       "      <td>1319</td>\n",
       "      <td>0.801</td>\n",
       "      <td>1.331</td>\n",
       "    </tr>\n",
       "    <tr>\n",
       "      <th>371</th>\n",
       "      <td>OAS2_0186</td>\n",
       "      <td>OAS2_0186_MR2</td>\n",
       "      <td>Nondemented</td>\n",
       "      <td>2</td>\n",
       "      <td>763</td>\n",
       "      <td>F</td>\n",
       "      <td>R</td>\n",
       "      <td>63</td>\n",
       "      <td>13</td>\n",
       "      <td>2.0</td>\n",
       "      <td>30.0</td>\n",
       "      <td>0.0</td>\n",
       "      <td>1327</td>\n",
       "      <td>0.796</td>\n",
       "      <td>1.323</td>\n",
       "    </tr>\n",
       "    <tr>\n",
       "      <th>372</th>\n",
       "      <td>OAS2_0186</td>\n",
       "      <td>OAS2_0186_MR3</td>\n",
       "      <td>Nondemented</td>\n",
       "      <td>3</td>\n",
       "      <td>1608</td>\n",
       "      <td>F</td>\n",
       "      <td>R</td>\n",
       "      <td>65</td>\n",
       "      <td>13</td>\n",
       "      <td>2.0</td>\n",
       "      <td>30.0</td>\n",
       "      <td>0.0</td>\n",
       "      <td>1333</td>\n",
       "      <td>0.801</td>\n",
       "      <td>1.317</td>\n",
       "    </tr>\n",
       "  </tbody>\n",
       "</table>\n",
       "<p>373 rows × 15 columns</p>\n",
       "</div>"
      ],
      "text/plain": [
       "    Subject ID         MRI ID        Group  Visit  MR Delay M/F Hand  Age  \\\n",
       "0    OAS2_0001  OAS2_0001_MR1  Nondemented      1         0   M    R   87   \n",
       "1    OAS2_0001  OAS2_0001_MR2  Nondemented      2       457   M    R   88   \n",
       "2    OAS2_0002  OAS2_0002_MR1     Demented      1         0   M    R   75   \n",
       "3    OAS2_0002  OAS2_0002_MR2     Demented      2       560   M    R   76   \n",
       "4    OAS2_0002  OAS2_0002_MR3     Demented      3      1895   M    R   80   \n",
       "..         ...            ...          ...    ...       ...  ..  ...  ...   \n",
       "368  OAS2_0185  OAS2_0185_MR2     Demented      2       842   M    R   82   \n",
       "369  OAS2_0185  OAS2_0185_MR3     Demented      3      2297   M    R   86   \n",
       "370  OAS2_0186  OAS2_0186_MR1  Nondemented      1         0   F    R   61   \n",
       "371  OAS2_0186  OAS2_0186_MR2  Nondemented      2       763   F    R   63   \n",
       "372  OAS2_0186  OAS2_0186_MR3  Nondemented      3      1608   F    R   65   \n",
       "\n",
       "     EDUC  SES  MMSE  CDR  eTIV   nWBV    ASF  \n",
       "0      14  2.0  27.0  0.0  1987  0.696  0.883  \n",
       "1      14  2.0  30.0  0.0  2004  0.681  0.876  \n",
       "2      12  NaN  23.0  0.5  1678  0.736  1.046  \n",
       "3      12  NaN  28.0  0.5  1738  0.713  1.010  \n",
       "4      12  NaN  22.0  0.5  1698  0.701  1.034  \n",
       "..    ...  ...   ...  ...   ...    ...    ...  \n",
       "368    16  1.0  28.0  0.5  1693  0.694  1.037  \n",
       "369    16  1.0  26.0  0.5  1688  0.675  1.040  \n",
       "370    13  2.0  30.0  0.0  1319  0.801  1.331  \n",
       "371    13  2.0  30.0  0.0  1327  0.796  1.323  \n",
       "372    13  2.0  30.0  0.0  1333  0.801  1.317  \n",
       "\n",
       "[373 rows x 15 columns]"
      ]
     },
     "execution_count": 5,
     "metadata": {},
     "output_type": "execute_result"
    }
   ],
   "source": [
    "#read dataset into a pandas dataframe      oasis_cross-sectional\n",
    "#df = pd.read_csv(f\"{path}oasis_cross-sectional.csv\")\n",
    "df = pd.read_csv(f\"{path}oasis_longitudinal.csv\")\n",
    "df"
   ]
  },
  {
   "cell_type": "markdown",
   "metadata": {},
   "source": [
    "### 2. Data Understanding "
   ]
  },
  {
   "cell_type": "markdown",
   "metadata": {},
   "source": [
    "#### 2.1 Describing dataset"
   ]
  },
  {
   "cell_type": "code",
   "execution_count": 6,
   "metadata": {},
   "outputs": [
    {
     "name": "stdout",
     "output_type": "stream",
     "text": [
      "<class 'pandas.core.frame.DataFrame'>\n",
      "RangeIndex: 373 entries, 0 to 372\n",
      "Data columns (total 15 columns):\n",
      " #   Column      Non-Null Count  Dtype  \n",
      "---  ------      --------------  -----  \n",
      " 0   Subject ID  373 non-null    object \n",
      " 1   MRI ID      373 non-null    object \n",
      " 2   Group       373 non-null    object \n",
      " 3   Visit       373 non-null    int64  \n",
      " 4   MR Delay    373 non-null    int64  \n",
      " 5   M/F         373 non-null    object \n",
      " 6   Hand        373 non-null    object \n",
      " 7   Age         373 non-null    int64  \n",
      " 8   EDUC        373 non-null    int64  \n",
      " 9   SES         354 non-null    float64\n",
      " 10  MMSE        371 non-null    float64\n",
      " 11  CDR         373 non-null    float64\n",
      " 12  eTIV        373 non-null    int64  \n",
      " 13  nWBV        373 non-null    float64\n",
      " 14  ASF         373 non-null    float64\n",
      "dtypes: float64(5), int64(5), object(5)\n",
      "memory usage: 43.8+ KB\n"
     ]
    }
   ],
   "source": [
    "df.info()"
   ]
  },
  {
   "cell_type": "code",
   "execution_count": 7,
   "metadata": {},
   "outputs": [
    {
     "data": {
      "text/plain": [
       "Index(['Subject ID', 'MRI ID', 'Group', 'Visit', 'MR Delay', 'M/F', 'Hand',\n",
       "       'Age', 'EDUC', 'SES', 'MMSE', 'CDR', 'eTIV', 'nWBV', 'ASF'],\n",
       "      dtype='object')"
      ]
     },
     "execution_count": 7,
     "metadata": {},
     "output_type": "execute_result"
    }
   ],
   "source": [
    "df.columns"
   ]
  },
  {
   "cell_type": "code",
   "execution_count": 8,
   "metadata": {},
   "outputs": [
    {
     "data": {
      "text/html": [
       "<div>\n",
       "<style scoped>\n",
       "    .dataframe tbody tr th:only-of-type {\n",
       "        vertical-align: middle;\n",
       "    }\n",
       "\n",
       "    .dataframe tbody tr th {\n",
       "        vertical-align: top;\n",
       "    }\n",
       "\n",
       "    .dataframe thead th {\n",
       "        text-align: right;\n",
       "    }\n",
       "</style>\n",
       "<table border=\"1\" class=\"dataframe\">\n",
       "  <thead>\n",
       "    <tr style=\"text-align: right;\">\n",
       "      <th></th>\n",
       "      <th>Visit</th>\n",
       "      <th>MR Delay</th>\n",
       "      <th>Age</th>\n",
       "      <th>EDUC</th>\n",
       "      <th>SES</th>\n",
       "      <th>MMSE</th>\n",
       "      <th>CDR</th>\n",
       "      <th>eTIV</th>\n",
       "      <th>nWBV</th>\n",
       "      <th>ASF</th>\n",
       "    </tr>\n",
       "  </thead>\n",
       "  <tbody>\n",
       "    <tr>\n",
       "      <th>count</th>\n",
       "      <td>373.000000</td>\n",
       "      <td>373.000000</td>\n",
       "      <td>373.000000</td>\n",
       "      <td>373.000000</td>\n",
       "      <td>354.000000</td>\n",
       "      <td>371.000000</td>\n",
       "      <td>373.000000</td>\n",
       "      <td>373.000000</td>\n",
       "      <td>373.000000</td>\n",
       "      <td>373.000000</td>\n",
       "    </tr>\n",
       "    <tr>\n",
       "      <th>mean</th>\n",
       "      <td>1.882038</td>\n",
       "      <td>595.104558</td>\n",
       "      <td>77.013405</td>\n",
       "      <td>14.597855</td>\n",
       "      <td>2.460452</td>\n",
       "      <td>27.342318</td>\n",
       "      <td>0.290885</td>\n",
       "      <td>1488.128686</td>\n",
       "      <td>0.729568</td>\n",
       "      <td>1.195461</td>\n",
       "    </tr>\n",
       "    <tr>\n",
       "      <th>std</th>\n",
       "      <td>0.922843</td>\n",
       "      <td>635.485118</td>\n",
       "      <td>7.640957</td>\n",
       "      <td>2.876339</td>\n",
       "      <td>1.134005</td>\n",
       "      <td>3.683244</td>\n",
       "      <td>0.374557</td>\n",
       "      <td>176.139286</td>\n",
       "      <td>0.037135</td>\n",
       "      <td>0.138092</td>\n",
       "    </tr>\n",
       "    <tr>\n",
       "      <th>min</th>\n",
       "      <td>1.000000</td>\n",
       "      <td>0.000000</td>\n",
       "      <td>60.000000</td>\n",
       "      <td>6.000000</td>\n",
       "      <td>1.000000</td>\n",
       "      <td>4.000000</td>\n",
       "      <td>0.000000</td>\n",
       "      <td>1106.000000</td>\n",
       "      <td>0.644000</td>\n",
       "      <td>0.876000</td>\n",
       "    </tr>\n",
       "    <tr>\n",
       "      <th>25%</th>\n",
       "      <td>1.000000</td>\n",
       "      <td>0.000000</td>\n",
       "      <td>71.000000</td>\n",
       "      <td>12.000000</td>\n",
       "      <td>2.000000</td>\n",
       "      <td>27.000000</td>\n",
       "      <td>0.000000</td>\n",
       "      <td>1357.000000</td>\n",
       "      <td>0.700000</td>\n",
       "      <td>1.099000</td>\n",
       "    </tr>\n",
       "    <tr>\n",
       "      <th>50%</th>\n",
       "      <td>2.000000</td>\n",
       "      <td>552.000000</td>\n",
       "      <td>77.000000</td>\n",
       "      <td>15.000000</td>\n",
       "      <td>2.000000</td>\n",
       "      <td>29.000000</td>\n",
       "      <td>0.000000</td>\n",
       "      <td>1470.000000</td>\n",
       "      <td>0.729000</td>\n",
       "      <td>1.194000</td>\n",
       "    </tr>\n",
       "    <tr>\n",
       "      <th>75%</th>\n",
       "      <td>2.000000</td>\n",
       "      <td>873.000000</td>\n",
       "      <td>82.000000</td>\n",
       "      <td>16.000000</td>\n",
       "      <td>3.000000</td>\n",
       "      <td>30.000000</td>\n",
       "      <td>0.500000</td>\n",
       "      <td>1597.000000</td>\n",
       "      <td>0.756000</td>\n",
       "      <td>1.293000</td>\n",
       "    </tr>\n",
       "    <tr>\n",
       "      <th>max</th>\n",
       "      <td>5.000000</td>\n",
       "      <td>2639.000000</td>\n",
       "      <td>98.000000</td>\n",
       "      <td>23.000000</td>\n",
       "      <td>5.000000</td>\n",
       "      <td>30.000000</td>\n",
       "      <td>2.000000</td>\n",
       "      <td>2004.000000</td>\n",
       "      <td>0.837000</td>\n",
       "      <td>1.587000</td>\n",
       "    </tr>\n",
       "  </tbody>\n",
       "</table>\n",
       "</div>"
      ],
      "text/plain": [
       "            Visit     MR Delay         Age        EDUC         SES  \\\n",
       "count  373.000000   373.000000  373.000000  373.000000  354.000000   \n",
       "mean     1.882038   595.104558   77.013405   14.597855    2.460452   \n",
       "std      0.922843   635.485118    7.640957    2.876339    1.134005   \n",
       "min      1.000000     0.000000   60.000000    6.000000    1.000000   \n",
       "25%      1.000000     0.000000   71.000000   12.000000    2.000000   \n",
       "50%      2.000000   552.000000   77.000000   15.000000    2.000000   \n",
       "75%      2.000000   873.000000   82.000000   16.000000    3.000000   \n",
       "max      5.000000  2639.000000   98.000000   23.000000    5.000000   \n",
       "\n",
       "             MMSE         CDR         eTIV        nWBV         ASF  \n",
       "count  371.000000  373.000000   373.000000  373.000000  373.000000  \n",
       "mean    27.342318    0.290885  1488.128686    0.729568    1.195461  \n",
       "std      3.683244    0.374557   176.139286    0.037135    0.138092  \n",
       "min      4.000000    0.000000  1106.000000    0.644000    0.876000  \n",
       "25%     27.000000    0.000000  1357.000000    0.700000    1.099000  \n",
       "50%     29.000000    0.000000  1470.000000    0.729000    1.194000  \n",
       "75%     30.000000    0.500000  1597.000000    0.756000    1.293000  \n",
       "max     30.000000    2.000000  2004.000000    0.837000    1.587000  "
      ]
     },
     "execution_count": 8,
     "metadata": {},
     "output_type": "execute_result"
    }
   ],
   "source": [
    "#describing dataset\n",
    "df.describe()"
   ]
  },
  {
   "cell_type": "markdown",
   "metadata": {},
   "source": [
    "#### 2.2 Exploring dataset\n",
    "#### This dataset will be explored by making a plot of each individual features of the dataset to identify their individual distribution\n"
   ]
  },
  {
   "cell_type": "code",
   "execution_count": 9,
   "metadata": {},
   "outputs": [],
   "source": [
    "#Function for plotting bar, pie, and other charts\n",
    "def plot_dist(df, col_name, color):\n",
    "    \"\"\"\n",
    "    Function for plotting based on column name\n",
    "    Input parameters:- \n",
    "    df = dataframe\n",
    "    col_name = column name\n",
    "    color = type of plot (pie, box, bar)\"\"\"\n",
    "    \n",
    "    cmap = cm.get_cmap('RdYlGn')\n",
    "    \n",
    "    \n",
    "    image =  df[col_name].value_counts().plot(kind=color, colormap = cmap)\n",
    "    sns.distplot(df[col_name].value_counts())\n",
    "    #image.figure.savefig(f\"{col_name}.jpg\")\n",
    "    \n",
    "    return image"
   ]
  },
  {
   "cell_type": "code",
   "execution_count": 10,
   "metadata": {},
   "outputs": [
    {
     "data": {
      "image/png": "[encoded data removed]",
      "text/plain": [
       "<Figure size 432x288 with 1 Axes>"
      ]
     },
     "metadata": {
      "needs_background": "light"
     },
     "output_type": "display_data"
    },
    {
     "name": "stdout",
     "output_type": "stream",
     "text": [
      "Mean of Visit: 1.8820375335120643, Variance of Visit: 0.851638848049814, Standard Deviation of Visit: 0.9228428078767337\n",
      "\n"
     ]
    },
    {
     "data": {
      "image/png": "[encoded data removed]",
      "text/plain": [
       "<Figure size 432x288 with 1 Axes>"
      ]
     },
     "metadata": {
      "needs_background": "light"
     },
     "output_type": "display_data"
    },
    {
     "name": "stdout",
     "output_type": "stream",
     "text": [
      "Mean of MR Delay: 595.1045576407507, Variance of MR Delay: 403841.3358125054, Standard Deviation of MR Delay: 635.4851184823334\n",
      "\n"
     ]
    },
    {
     "data": {
      "image/png": "[encoded data removed]",
      "text/plain": [
       "<Figure size 432x288 with 1 Axes>"
      ]
     },
     "metadata": {
      "needs_background": "light"
     },
     "output_type": "display_data"
    },
    {
     "name": "stdout",
     "output_type": "stream",
     "text": [
      "Mean of Age: 77.01340482573727, Variance of Age: 58.3842284297616, Standard Deviation of Age: 7.640957297993596\n",
      "\n"
     ]
    },
    {
     "data": {
      "image/png": "[encoded data removed]",
      "text/plain": [
       "<Figure size 432x288 with 1 Axes>"
      ]
     },
     "metadata": {
      "needs_background": "light"
     },
     "output_type": "display_data"
    },
    {
     "name": "stdout",
     "output_type": "stream",
     "text": [
      "Mean of EDUC: 14.597855227882038, Variance of EDUC: 8.273328720920176, Standard Deviation of EDUC: 2.8763394655221375\n",
      "\n"
     ]
    },
    {
     "data": {
      "image/png": "[encoded data removed]",
      "text/plain": [
       "<Figure size 432x288 with 1 Axes>"
      ]
     },
     "metadata": {
      "needs_background": "light"
     },
     "output_type": "display_data"
    },
    {
     "name": "stdout",
     "output_type": "stream",
     "text": [
      "Mean of SES: nan, Variance of SES: nan, Standard Deviation of SES: nan\n",
      "\n"
     ]
    },
    {
     "data": {
      "image/png": "[encoded data removed]",
      "text/plain": [
       "<Figure size 432x288 with 1 Axes>"
      ]
     },
     "metadata": {
      "needs_background": "light"
     },
     "output_type": "display_data"
    },
    {
     "name": "stdout",
     "output_type": "stream",
     "text": [
      "Mean of MMSE: nan, Variance of MMSE: nan, Standard Deviation of MMSE: nan\n",
      "\n"
     ]
    },
    {
     "data": {
      "image/png": "[encoded data removed]",
      "text/plain": [
       "<Figure size 432x288 with 1 Axes>"
      ]
     },
     "metadata": {
      "needs_background": "light"
     },
     "output_type": "display_data"
    },
    {
     "name": "stdout",
     "output_type": "stream",
     "text": [
      "Mean of CDR: 0.29088471849865954, Variance of CDR: 0.14029303237337484, Standard Deviation of CDR: 0.3745571149682981\n",
      "\n"
     ]
    },
    {
     "data": {
      "image/png": "[encoded data removed]",
      "text/plain": [
       "<Figure size 432x288 with 1 Axes>"
      ]
     },
     "metadata": {
      "needs_background": "light"
     },
     "output_type": "display_data"
    },
    {
     "name": "stdout",
     "output_type": "stream",
     "text": [
      "Mean of eTIV: 1488.1286863270777, Variance of eTIV: 31025.047911441667, Standard Deviation of eTIV: 176.13928554255483\n",
      "\n"
     ]
    },
    {
     "data": {
      "image/png": "[encoded data removed]",
      "text/plain": [
       "<Figure size 432x288 with 1 Axes>"
      ]
     },
     "metadata": {
      "needs_background": "light"
     },
     "output_type": "display_data"
    },
    {
     "name": "stdout",
     "output_type": "stream",
     "text": [
      "Mean of nWBV: 0.7295683646112601, Variance of nWBV: 0.0013790094266193898, Standard Deviation of nWBV: 0.0371350161790646\n",
      "\n"
     ]
    },
    {
     "data": {
      "image/png": "[encoded data removed]",
      "text/plain": [
       "<Figure size 432x288 with 1 Axes>"
      ]
     },
     "metadata": {
      "needs_background": "light"
     },
     "output_type": "display_data"
    },
    {
     "name": "stdout",
     "output_type": "stream",
     "text": [
      "Mean of ASF: 1.195461126005362, Variance of ASF: 0.019069388941739457, Standard Deviation of ASF: 0.1380919582804859\n",
      "\n",
      "Total number of numeric or float variables are 10\n"
     ]
    }
   ],
   "source": [
    "plt.figure()\n",
    "\n",
    "count = 0\n",
    "for cols in df.columns:\n",
    "    \n",
    "    datatype = df[cols].dtype  #get column datatype\n",
    "    if datatype == \"int64\" or datatype == \"float64\":   #plot histogram if create a plot\n",
    "        sns.kdeplot(data=df, x=cols)\n",
    "        sns.histplot(df, x=cols, kde=True)\n",
    "        #plt.savefig(f\"Pictures/{cols}.png\")\n",
    "        plt.show()\n",
    "        \n",
    "        #print(f\"Pictures/{names[i]}.png\")\n",
    "        mean = statistics.mean(df[cols])\n",
    "        var = statistics.variance(df[cols])\n",
    "        std = statistics.stdev(df[cols])\n",
    "        print(f\"Mean of {cols}: {mean}, Variance of {cols}: {var}, Standard Deviation of {cols}: {std}\")\n",
    "        print()\n",
    "        count += 1\n",
    "print(f\"Total number of numeric or float variables are {count}\")"
   ]
  },
  {
   "cell_type": "code",
   "execution_count": 11,
   "metadata": {},
   "outputs": [
    {
     "name": "stderr",
     "output_type": "stream",
     "text": [
      "C:\\Users\\MICHEAL\\anaconda3\\lib\\site-packages\\seaborn\\distributions.py:2551: FutureWarning: `distplot` is a deprecated function and will be removed in a future version. Please adapt your code to use either `displot` (a figure-level function with similar flexibility) or `histplot` (an axes-level function for histograms).\n",
      "  warnings.warn(msg, FutureWarning)\n"
     ]
    },
    {
     "data": {
      "text/plain": [
       "<AxesSubplot:xlabel='Group', ylabel='Density'>"
      ]
     },
     "execution_count": 11,
     "metadata": {},
     "output_type": "execute_result"
    },
    {
     "data": {
      "image/png": "[encoded data removed]",
      "text/plain": [
       "<Figure size 432x288 with 1 Axes>"
      ]
     },
     "metadata": {
      "needs_background": "light"
     },
     "output_type": "display_data"
    }
   ],
   "source": [
    "#plot bar chart for leabel variable = diagnosis\n",
    "plot_dist(df, \"Group\", 'bar')"
   ]
  },
  {
   "cell_type": "code",
   "execution_count": 12,
   "metadata": {},
   "outputs": [
    {
     "name": "stdout",
     "output_type": "stream",
     "text": [
      "percentage of non-demented group is 50.93833780160858\n",
      "percentage of demented group is 39.14209115281501\n",
      "percentage of demented group is 9.919571045576408\n"
     ]
    }
   ],
   "source": [
    "#check percentage of malignant and benign categories\n",
    "count_nd = len(df[df['Group'] == 'Nondemented'])\n",
    "count_d = len(df[df['Group'] == 'Demented'])\n",
    "count_c = len(df[df['Group'] == 'Converted'])\n",
    "pct_of_nd = count_nd/(count_nd + count_d + count_c)\n",
    "print(\"percentage of non-demented group is\", pct_of_nd*100)\n",
    "pct_of_d = count_d/(count_nd + count_d + count_c)\n",
    "print(\"percentage of demented group is\", pct_of_d*100)\n",
    "pct_of_c = count_c/(count_nd + count_d + count_c)\n",
    "print(\"percentage of demented group is\", pct_of_c*100)"
   ]
  },
  {
   "cell_type": "code",
   "execution_count": 13,
   "metadata": {},
   "outputs": [
    {
     "name": "stderr",
     "output_type": "stream",
     "text": [
      "<ipython-input-13-d49b5ccf9c39>:3: FutureWarning: The default value of numeric_only in DataFrameGroupBy.mean is deprecated. In a future version, numeric_only will default to False. Either specify numeric_only or select only columns which should be valid for the function.\n",
      "  df.groupby('Group').mean()\n"
     ]
    },
    {
     "data": {
      "text/html": [
       "<div>\n",
       "<style scoped>\n",
       "    .dataframe tbody tr th:only-of-type {\n",
       "        vertical-align: middle;\n",
       "    }\n",
       "\n",
       "    .dataframe tbody tr th {\n",
       "        vertical-align: top;\n",
       "    }\n",
       "\n",
       "    .dataframe thead th {\n",
       "        text-align: right;\n",
       "    }\n",
       "</style>\n",
       "<table border=\"1\" class=\"dataframe\">\n",
       "  <thead>\n",
       "    <tr style=\"text-align: right;\">\n",
       "      <th></th>\n",
       "      <th>Visit</th>\n",
       "      <th>MR Delay</th>\n",
       "      <th>Age</th>\n",
       "      <th>EDUC</th>\n",
       "      <th>SES</th>\n",
       "      <th>MMSE</th>\n",
       "      <th>CDR</th>\n",
       "      <th>eTIV</th>\n",
       "      <th>nWBV</th>\n",
       "      <th>ASF</th>\n",
       "    </tr>\n",
       "    <tr>\n",
       "      <th>Group</th>\n",
       "      <th></th>\n",
       "      <th></th>\n",
       "      <th></th>\n",
       "      <th></th>\n",
       "      <th></th>\n",
       "      <th></th>\n",
       "      <th></th>\n",
       "      <th></th>\n",
       "      <th></th>\n",
       "      <th></th>\n",
       "    </tr>\n",
       "  </thead>\n",
       "  <tbody>\n",
       "    <tr>\n",
       "      <th>Converted</th>\n",
       "      <td>2.027027</td>\n",
       "      <td>771.810811</td>\n",
       "      <td>79.756757</td>\n",
       "      <td>15.459459</td>\n",
       "      <td>1.729730</td>\n",
       "      <td>28.675676</td>\n",
       "      <td>0.256757</td>\n",
       "      <td>1459.270270</td>\n",
       "      <td>0.723730</td>\n",
       "      <td>1.212405</td>\n",
       "    </tr>\n",
       "    <tr>\n",
       "      <th>Demented</th>\n",
       "      <td>1.732877</td>\n",
       "      <td>452.541096</td>\n",
       "      <td>76.260274</td>\n",
       "      <td>13.671233</td>\n",
       "      <td>2.771654</td>\n",
       "      <td>24.513889</td>\n",
       "      <td>0.671233</td>\n",
       "      <td>1485.849315</td>\n",
       "      <td>0.716301</td>\n",
       "      <td>1.196890</td>\n",
       "    </tr>\n",
       "    <tr>\n",
       "      <th>Nondemented</th>\n",
       "      <td>1.968421</td>\n",
       "      <td>670.242105</td>\n",
       "      <td>77.057895</td>\n",
       "      <td>15.142105</td>\n",
       "      <td>2.394737</td>\n",
       "      <td>29.226316</td>\n",
       "      <td>0.005263</td>\n",
       "      <td>1495.500000</td>\n",
       "      <td>0.740900</td>\n",
       "      <td>1.191063</td>\n",
       "    </tr>\n",
       "  </tbody>\n",
       "</table>\n",
       "</div>"
      ],
      "text/plain": [
       "                Visit    MR Delay        Age       EDUC       SES       MMSE  \\\n",
       "Group                                                                          \n",
       "Converted    2.027027  771.810811  79.756757  15.459459  1.729730  28.675676   \n",
       "Demented     1.732877  452.541096  76.260274  13.671233  2.771654  24.513889   \n",
       "Nondemented  1.968421  670.242105  77.057895  15.142105  2.394737  29.226316   \n",
       "\n",
       "                  CDR         eTIV      nWBV       ASF  \n",
       "Group                                                   \n",
       "Converted    0.256757  1459.270270  0.723730  1.212405  \n",
       "Demented     0.671233  1485.849315  0.716301  1.196890  \n",
       "Nondemented  0.005263  1495.500000  0.740900  1.191063  "
      ]
     },
     "execution_count": 13,
     "metadata": {},
     "output_type": "execute_result"
    }
   ],
   "source": [
    "#Insights\n",
    "#mean of variables of malignant tumor are higher than those of benign\n",
    "df.groupby('Group').mean()"
   ]
  },
  {
   "cell_type": "code",
   "execution_count": 14,
   "metadata": {},
   "outputs": [
    {
     "data": {
      "image/png": "[encoded data removed]",
      "text/plain": [
       "<Figure size 432x288 with 1 Axes>"
      ]
     },
     "metadata": {
      "needs_background": "light"
     },
     "output_type": "display_data"
    },
    {
     "data": {
      "image/png": "[encoded data removed]",
      "text/plain": [
       "<Figure size 432x288 with 1 Axes>"
      ]
     },
     "metadata": {
      "needs_background": "light"
     },
     "output_type": "display_data"
    },
    {
     "data": {
      "image/png": "[encoded data removed]",
      "text/plain": [
       "<Figure size 432x288 with 1 Axes>"
      ]
     },
     "metadata": {
      "needs_background": "light"
     },
     "output_type": "display_data"
    },
    {
     "data": {
      "image/png": "[encoded data removed]",
      "text/plain": [
       "<Figure size 432x288 with 1 Axes>"
      ]
     },
     "metadata": {
      "needs_background": "light"
     },
     "output_type": "display_data"
    },
    {
     "data": {
      "image/png": "[encoded data removed]",
      "text/plain": [
       "<Figure size 432x288 with 1 Axes>"
      ]
     },
     "metadata": {
      "needs_background": "light"
     },
     "output_type": "display_data"
    },
    {
     "data": {
      "image/png": "[encoded data removed]",
      "text/plain": [
       "<Figure size 432x288 with 1 Axes>"
      ]
     },
     "metadata": {
      "needs_background": "light"
     },
     "output_type": "display_data"
    },
    {
     "data": {
      "image/png": "[encoded data removed]",
      "text/plain": [
       "<Figure size 432x288 with 1 Axes>"
      ]
     },
     "metadata": {
      "needs_background": "light"
     },
     "output_type": "display_data"
    },
    {
     "data": {
      "image/png": "[encoded data removed]",
      "text/plain": [
       "<Figure size 432x288 with 1 Axes>"
      ]
     },
     "metadata": {
      "needs_background": "light"
     },
     "output_type": "display_data"
    },
    {
     "data": {
      "image/png": "[encoded data removed]",
      "text/plain": [
       "<Figure size 432x288 with 1 Axes>"
      ]
     },
     "metadata": {
      "needs_background": "light"
     },
     "output_type": "display_data"
    },
    {
     "data": {
      "image/png": "[encoded data removed]",
      "text/plain": [
       "<Figure size 432x288 with 1 Axes>"
      ]
     },
     "metadata": {
      "needs_background": "light"
     },
     "output_type": "display_data"
    },
    {
     "data": {
      "image/png": "[encoded data removed]",
      "text/plain": [
       "<Figure size 432x288 with 1 Axes>"
      ]
     },
     "metadata": {
      "needs_background": "light"
     },
     "output_type": "display_data"
    },
    {
     "data": {
      "image/png": "[encoded data removed]",
      "text/plain": [
       "<Figure size 432x288 with 1 Axes>"
      ]
     },
     "metadata": {
      "needs_background": "light"
     },
     "output_type": "display_data"
    },
    {
     "data": {
      "image/png": "[encoded data removed]",
      "text/plain": [
       "<Figure size 432x288 with 1 Axes>"
      ]
     },
     "metadata": {
      "needs_background": "light"
     },
     "output_type": "display_data"
    },
    {
     "data": {
      "image/png": "[encoded data removed]",
      "text/plain": [
       "<Figure size 432x288 with 1 Axes>"
      ]
     },
     "metadata": {
      "needs_background": "light"
     },
     "output_type": "display_data"
    },
    {
     "data": {
      "image/png": "[encoded data removed]",
      "text/plain": [
       "<Figure size 432x288 with 1 Axes>"
      ]
     },
     "metadata": {
      "needs_background": "light"
     },
     "output_type": "display_data"
    }
   ],
   "source": [
    "#check relationship between other features and diagnosis\n",
    "plt.figure()\n",
    "\n",
    "\n",
    "for col in df.columns:\n",
    "\n",
    "\n",
    "    #col = 'radius_mean'\n",
    "    #table = pd.crosstab(df[col] ,df['diagnosis'])\n",
    "    #table.div(table.sum(1).astype(float), axis=0).plot(kind=\"scatter\")\n",
    "    plt.scatter(df[col] ,df['Group'])\n",
    "    plt.title(f'Scatter plot of {col} vs Group')\n",
    "    plt.xlabel(f'{col}')\n",
    "    plt.ylabel('Group')\n",
    "    plt.show()\n",
    "    #plt.savefig(f'{col}_vs_diagnosis')"
   ]
  },
  {
   "cell_type": "code",
   "execution_count": 15,
   "metadata": {},
   "outputs": [
    {
     "name": "stderr",
     "output_type": "stream",
     "text": [
      "<ipython-input-15-821348f9c5b4>:9: FutureWarning: The default value of numeric_only in DataFrame.corr is deprecated. In a future version, it will default to False. Select only valid columns or specify the value of numeric_only to silence this warning.\n",
      "  sns.heatmap(ndf.corr(), annot=True)\n"
     ]
    },
    {
     "data": {
      "image/png": "[encoded data removed]",
      "text/plain": [
       "<Figure size 1440x864 with 2 Axes>"
      ]
     },
     "metadata": {
      "needs_background": "light"
     },
     "output_type": "display_data"
    }
   ],
   "source": [
    "#check correlation using corellation heatmap\n",
    "ndf = df.copy()\n",
    "#change diagnosis to 1 and 0\n",
    "ndf['Group'].replace(to_replace='Nondemented', value = 1, inplace=True)\n",
    "ndf['Group'].replace(to_replace='Demented', value = 0, inplace=True)\n",
    "ndf['Group'].replace(to_replace='Converted', value = 2, inplace=True)\n",
    "plt.figure(figsize=(20, 12))\n",
    "sns.set_theme(style= \"whitegrid\")\n",
    "sns.heatmap(ndf.corr(), annot=True)  \n",
    "plt.show()"
   ]
  },
  {
   "cell_type": "markdown",
   "metadata": {},
   "source": [
    "#### Verification of data quality "
   ]
  },
  {
   "cell_type": "code",
   "execution_count": 16,
   "metadata": {},
   "outputs": [
    {
     "data": {
      "text/plain": [
       "Subject ID     0\n",
       "MRI ID         0\n",
       "Group          0\n",
       "Visit          0\n",
       "MR Delay       0\n",
       "M/F            0\n",
       "Hand           0\n",
       "Age            0\n",
       "EDUC           0\n",
       "SES           19\n",
       "MMSE           2\n",
       "CDR            0\n",
       "eTIV           0\n",
       "nWBV           0\n",
       "ASF            0\n",
       "dtype: int64"
      ]
     },
     "execution_count": 16,
     "metadata": {},
     "output_type": "execute_result"
    }
   ],
   "source": [
    "#Checking for null values\n",
    "df.isnull().sum()"
   ]
  },
  {
   "cell_type": "code",
   "execution_count": 17,
   "metadata": {},
   "outputs": [
    {
     "data": {
      "text/plain": [
       "Subject ID    373\n",
       "MRI ID        373\n",
       "Group         373\n",
       "Visit         373\n",
       "MR Delay      373\n",
       "M/F           373\n",
       "Hand          373\n",
       "Age           373\n",
       "EDUC          373\n",
       "SES           373\n",
       "MMSE          373\n",
       "CDR           373\n",
       "eTIV          373\n",
       "nWBV          373\n",
       "ASF           373\n",
       "dtype: int64"
      ]
     },
     "execution_count": 17,
     "metadata": {},
     "output_type": "execute_result"
    }
   ],
   "source": [
    "df[\"SES\"].fillna(df[\"SES\"].mean(), inplace=True)\n",
    "df[\"MMSE\"].fillna(df[\"MMSE\"].mean(), inplace=True)\n",
    "df.count()"
   ]
  },
  {
   "cell_type": "code",
   "execution_count": 18,
   "metadata": {},
   "outputs": [
    {
     "data": {
      "image/png": "[encoded data removed]",
      "text/plain": [
       "<Figure size 432x288 with 1 Axes>"
      ]
     },
     "metadata": {},
     "output_type": "display_data"
    },
    {
     "data": {
      "image/png": "[encoded data removed]",
      "text/plain": [
       "<Figure size 432x288 with 1 Axes>"
      ]
     },
     "metadata": {},
     "output_type": "display_data"
    },
    {
     "data": {
      "image/png": "[encoded data removed]",
      "text/plain": [
       "<Figure size 432x288 with 1 Axes>"
      ]
     },
     "metadata": {},
     "output_type": "display_data"
    },
    {
     "data": {
      "image/png": "[encoded data removed]",
      "text/plain": [
       "<Figure size 432x288 with 1 Axes>"
      ]
     },
     "metadata": {},
     "output_type": "display_data"
    },
    {
     "data": {
      "image/png": "[encoded data removed]",
      "text/plain": [
       "<Figure size 432x288 with 1 Axes>"
      ]
     },
     "metadata": {},
     "output_type": "display_data"
    },
    {
     "data": {
      "image/png": "[encoded data removed]",
      "text/plain": [
       "<Figure size 432x288 with 1 Axes>"
      ]
     },
     "metadata": {},
     "output_type": "display_data"
    },
    {
     "data": {
      "image/png": "[encoded data removed]",
      "text/plain": [
       "<Figure size 432x288 with 1 Axes>"
      ]
     },
     "metadata": {},
     "output_type": "display_data"
    },
    {
     "data": {
      "image/png": "[encoded data removed]",
      "text/plain": [
       "<Figure size 432x288 with 1 Axes>"
      ]
     },
     "metadata": {},
     "output_type": "display_data"
    },
    {
     "data": {
      "image/png": "[encoded data removed]",
      "text/plain": [
       "<Figure size 432x288 with 1 Axes>"
      ]
     },
     "metadata": {},
     "output_type": "display_data"
    },
    {
     "data": {
      "image/png": "[encoded data removed]",
      "text/plain": [
       "<Figure size 432x288 with 1 Axes>"
      ]
     },
     "metadata": {},
     "output_type": "display_data"
    }
   ],
   "source": [
    "#check for outliers\n",
    "for col in df.columns:\n",
    "\n",
    "    if col != 'Group':\n",
    "        datatype = df[col].dtype  #get column datatype\n",
    "        if datatype == \"int64\" or datatype == \"float64\":\n",
    "            sns.boxplot(data = df, x = col)\n",
    "            plt.show()"
   ]
  },
  {
   "cell_type": "code",
   "execution_count": 19,
   "metadata": {},
   "outputs": [
    {
     "name": "stdout",
     "output_type": "stream",
     "text": [
      "<class 'pandas.core.frame.DataFrame'>\n",
      "RangeIndex: 373 entries, 0 to 372\n",
      "Data columns (total 15 columns):\n",
      " #   Column      Non-Null Count  Dtype  \n",
      "---  ------      --------------  -----  \n",
      " 0   Subject ID  373 non-null    object \n",
      " 1   MRI ID      373 non-null    object \n",
      " 2   Group       373 non-null    object \n",
      " 3   Visit       373 non-null    int64  \n",
      " 4   MR Delay    373 non-null    int64  \n",
      " 5   M/F         373 non-null    object \n",
      " 6   Hand        373 non-null    object \n",
      " 7   Age         373 non-null    int64  \n",
      " 8   EDUC        373 non-null    int64  \n",
      " 9   SES         373 non-null    float64\n",
      " 10  MMSE        373 non-null    float64\n",
      " 11  CDR         373 non-null    float64\n",
      " 12  eTIV        373 non-null    int64  \n",
      " 13  nWBV        373 non-null    float64\n",
      " 14  ASF         373 non-null    float64\n",
      "dtypes: float64(5), int64(5), object(5)\n",
      "memory usage: 43.8+ KB\n"
     ]
    }
   ],
   "source": [
    "#fill MMSE with mode and ses with mean\n",
    "df['MMSE'] = df['MMSE'].fillna(df['MMSE'].mode()[0])\n",
    "df[\"SES\"].fillna(df[\"SES\"].mean(), inplace=True)\n",
    "df.info()"
   ]
  },
  {
   "cell_type": "code",
   "execution_count": 20,
   "metadata": {},
   "outputs": [
    {
     "data": {
      "image/png": "[encoded data removed]",
      "text/plain": [
       "<Figure size 432x288 with 1 Axes>"
      ]
     },
     "metadata": {},
     "output_type": "display_data"
    },
    {
     "data": {
      "image/png": "[encoded data removed]",
      "text/plain": [
       "<Figure size 432x288 with 1 Axes>"
      ]
     },
     "metadata": {},
     "output_type": "display_data"
    },
    {
     "data": {
      "image/png": "[encoded data removed]",
      "text/plain": [
       "<Figure size 432x288 with 1 Axes>"
      ]
     },
     "metadata": {},
     "output_type": "display_data"
    },
    {
     "data": {
      "image/png": "[encoded data removed]",
      "text/plain": [
       "<Figure size 432x288 with 1 Axes>"
      ]
     },
     "metadata": {},
     "output_type": "display_data"
    },
    {
     "data": {
      "image/png": "[encoded data removed]",
      "text/plain": [
       "<Figure size 432x288 with 1 Axes>"
      ]
     },
     "metadata": {},
     "output_type": "display_data"
    },
    {
     "data": {
      "image/png": "[encoded data removed]",
      "text/plain": [
       "<Figure size 432x288 with 1 Axes>"
      ]
     },
     "metadata": {},
     "output_type": "display_data"
    },
    {
     "data": {
      "image/png": "[encoded data removed]",
      "text/plain": [
       "<Figure size 432x288 with 1 Axes>"
      ]
     },
     "metadata": {},
     "output_type": "display_data"
    },
    {
     "data": {
      "image/png": "[encoded data removed]",
      "text/plain": [
       "<Figure size 432x288 with 1 Axes>"
      ]
     },
     "metadata": {},
     "output_type": "display_data"
    },
    {
     "data": {
      "image/png": "[encoded data removed]",
      "text/plain": [
       "<Figure size 432x288 with 1 Axes>"
      ]
     },
     "metadata": {},
     "output_type": "display_data"
    },
    {
     "data": {
      "image/png": "[encoded data removed]",
      "text/plain": [
       "<Figure size 432x288 with 1 Axes>"
      ]
     },
     "metadata": {},
     "output_type": "display_data"
    }
   ],
   "source": [
    "#verify that distribution is kept\n",
    "#check for outliers\n",
    "for col in df.columns:\n",
    "\n",
    "    if col != 'Group':\n",
    "        datatype = df[col].dtype  #get column datatype\n",
    "        if datatype == \"int64\" or datatype == \"float64\":\n",
    "            sns.boxplot(data = df, x = col)\n",
    "            plt.show()"
   ]
  },
  {
   "cell_type": "markdown",
   "metadata": {},
   "source": [
    "### Data Preparation "
   ]
  },
  {
   "cell_type": "markdown",
   "metadata": {},
   "source": [
    "#### Formatting data"
   ]
  },
  {
   "cell_type": "code",
   "execution_count": 21,
   "metadata": {},
   "outputs": [
    {
     "data": {
      "text/html": [
       "<div>\n",
       "<style scoped>\n",
       "    .dataframe tbody tr th:only-of-type {\n",
       "        vertical-align: middle;\n",
       "    }\n",
       "\n",
       "    .dataframe tbody tr th {\n",
       "        vertical-align: top;\n",
       "    }\n",
       "\n",
       "    .dataframe thead th {\n",
       "        text-align: right;\n",
       "    }\n",
       "</style>\n",
       "<table border=\"1\" class=\"dataframe\">\n",
       "  <thead>\n",
       "    <tr style=\"text-align: right;\">\n",
       "      <th></th>\n",
       "      <th>Subject ID</th>\n",
       "      <th>MRI ID</th>\n",
       "      <th>Visit</th>\n",
       "      <th>MR Delay</th>\n",
       "      <th>M/F</th>\n",
       "      <th>Hand</th>\n",
       "      <th>Age</th>\n",
       "      <th>EDUC</th>\n",
       "      <th>SES</th>\n",
       "      <th>MMSE</th>\n",
       "      <th>CDR</th>\n",
       "      <th>eTIV</th>\n",
       "      <th>nWBV</th>\n",
       "      <th>ASF</th>\n",
       "      <th>Group</th>\n",
       "    </tr>\n",
       "  </thead>\n",
       "  <tbody>\n",
       "    <tr>\n",
       "      <th>0</th>\n",
       "      <td>OAS2_0001</td>\n",
       "      <td>OAS2_0001_MR1</td>\n",
       "      <td>1</td>\n",
       "      <td>0</td>\n",
       "      <td>M</td>\n",
       "      <td>R</td>\n",
       "      <td>87</td>\n",
       "      <td>14</td>\n",
       "      <td>2.000000</td>\n",
       "      <td>27.0</td>\n",
       "      <td>0.0</td>\n",
       "      <td>1987</td>\n",
       "      <td>0.696</td>\n",
       "      <td>0.883</td>\n",
       "      <td>Nondemented</td>\n",
       "    </tr>\n",
       "    <tr>\n",
       "      <th>1</th>\n",
       "      <td>OAS2_0001</td>\n",
       "      <td>OAS2_0001_MR2</td>\n",
       "      <td>2</td>\n",
       "      <td>457</td>\n",
       "      <td>M</td>\n",
       "      <td>R</td>\n",
       "      <td>88</td>\n",
       "      <td>14</td>\n",
       "      <td>2.000000</td>\n",
       "      <td>30.0</td>\n",
       "      <td>0.0</td>\n",
       "      <td>2004</td>\n",
       "      <td>0.681</td>\n",
       "      <td>0.876</td>\n",
       "      <td>Nondemented</td>\n",
       "    </tr>\n",
       "    <tr>\n",
       "      <th>2</th>\n",
       "      <td>OAS2_0002</td>\n",
       "      <td>OAS2_0002_MR1</td>\n",
       "      <td>1</td>\n",
       "      <td>0</td>\n",
       "      <td>M</td>\n",
       "      <td>R</td>\n",
       "      <td>75</td>\n",
       "      <td>12</td>\n",
       "      <td>2.460452</td>\n",
       "      <td>23.0</td>\n",
       "      <td>0.5</td>\n",
       "      <td>1678</td>\n",
       "      <td>0.736</td>\n",
       "      <td>1.046</td>\n",
       "      <td>Demented</td>\n",
       "    </tr>\n",
       "    <tr>\n",
       "      <th>3</th>\n",
       "      <td>OAS2_0002</td>\n",
       "      <td>OAS2_0002_MR2</td>\n",
       "      <td>2</td>\n",
       "      <td>560</td>\n",
       "      <td>M</td>\n",
       "      <td>R</td>\n",
       "      <td>76</td>\n",
       "      <td>12</td>\n",
       "      <td>2.460452</td>\n",
       "      <td>28.0</td>\n",
       "      <td>0.5</td>\n",
       "      <td>1738</td>\n",
       "      <td>0.713</td>\n",
       "      <td>1.010</td>\n",
       "      <td>Demented</td>\n",
       "    </tr>\n",
       "    <tr>\n",
       "      <th>4</th>\n",
       "      <td>OAS2_0002</td>\n",
       "      <td>OAS2_0002_MR3</td>\n",
       "      <td>3</td>\n",
       "      <td>1895</td>\n",
       "      <td>M</td>\n",
       "      <td>R</td>\n",
       "      <td>80</td>\n",
       "      <td>12</td>\n",
       "      <td>2.460452</td>\n",
       "      <td>22.0</td>\n",
       "      <td>0.5</td>\n",
       "      <td>1698</td>\n",
       "      <td>0.701</td>\n",
       "      <td>1.034</td>\n",
       "      <td>Demented</td>\n",
       "    </tr>\n",
       "    <tr>\n",
       "      <th>...</th>\n",
       "      <td>...</td>\n",
       "      <td>...</td>\n",
       "      <td>...</td>\n",
       "      <td>...</td>\n",
       "      <td>...</td>\n",
       "      <td>...</td>\n",
       "      <td>...</td>\n",
       "      <td>...</td>\n",
       "      <td>...</td>\n",
       "      <td>...</td>\n",
       "      <td>...</td>\n",
       "      <td>...</td>\n",
       "      <td>...</td>\n",
       "      <td>...</td>\n",
       "      <td>...</td>\n",
       "    </tr>\n",
       "    <tr>\n",
       "      <th>368</th>\n",
       "      <td>OAS2_0185</td>\n",
       "      <td>OAS2_0185_MR2</td>\n",
       "      <td>2</td>\n",
       "      <td>842</td>\n",
       "      <td>M</td>\n",
       "      <td>R</td>\n",
       "      <td>82</td>\n",
       "      <td>16</td>\n",
       "      <td>1.000000</td>\n",
       "      <td>28.0</td>\n",
       "      <td>0.5</td>\n",
       "      <td>1693</td>\n",
       "      <td>0.694</td>\n",
       "      <td>1.037</td>\n",
       "      <td>Demented</td>\n",
       "    </tr>\n",
       "    <tr>\n",
       "      <th>369</th>\n",
       "      <td>OAS2_0185</td>\n",
       "      <td>OAS2_0185_MR3</td>\n",
       "      <td>3</td>\n",
       "      <td>2297</td>\n",
       "      <td>M</td>\n",
       "      <td>R</td>\n",
       "      <td>86</td>\n",
       "      <td>16</td>\n",
       "      <td>1.000000</td>\n",
       "      <td>26.0</td>\n",
       "      <td>0.5</td>\n",
       "      <td>1688</td>\n",
       "      <td>0.675</td>\n",
       "      <td>1.040</td>\n",
       "      <td>Demented</td>\n",
       "    </tr>\n",
       "    <tr>\n",
       "      <th>370</th>\n",
       "      <td>OAS2_0186</td>\n",
       "      <td>OAS2_0186_MR1</td>\n",
       "      <td>1</td>\n",
       "      <td>0</td>\n",
       "      <td>F</td>\n",
       "      <td>R</td>\n",
       "      <td>61</td>\n",
       "      <td>13</td>\n",
       "      <td>2.000000</td>\n",
       "      <td>30.0</td>\n",
       "      <td>0.0</td>\n",
       "      <td>1319</td>\n",
       "      <td>0.801</td>\n",
       "      <td>1.331</td>\n",
       "      <td>Nondemented</td>\n",
       "    </tr>\n",
       "    <tr>\n",
       "      <th>371</th>\n",
       "      <td>OAS2_0186</td>\n",
       "      <td>OAS2_0186_MR2</td>\n",
       "      <td>2</td>\n",
       "      <td>763</td>\n",
       "      <td>F</td>\n",
       "      <td>R</td>\n",
       "      <td>63</td>\n",
       "      <td>13</td>\n",
       "      <td>2.000000</td>\n",
       "      <td>30.0</td>\n",
       "      <td>0.0</td>\n",
       "      <td>1327</td>\n",
       "      <td>0.796</td>\n",
       "      <td>1.323</td>\n",
       "      <td>Nondemented</td>\n",
       "    </tr>\n",
       "    <tr>\n",
       "      <th>372</th>\n",
       "      <td>OAS2_0186</td>\n",
       "      <td>OAS2_0186_MR3</td>\n",
       "      <td>3</td>\n",
       "      <td>1608</td>\n",
       "      <td>F</td>\n",
       "      <td>R</td>\n",
       "      <td>65</td>\n",
       "      <td>13</td>\n",
       "      <td>2.000000</td>\n",
       "      <td>30.0</td>\n",
       "      <td>0.0</td>\n",
       "      <td>1333</td>\n",
       "      <td>0.801</td>\n",
       "      <td>1.317</td>\n",
       "      <td>Nondemented</td>\n",
       "    </tr>\n",
       "  </tbody>\n",
       "</table>\n",
       "<p>373 rows × 15 columns</p>\n",
       "</div>"
      ],
      "text/plain": [
       "    Subject ID         MRI ID  Visit  MR Delay M/F Hand  Age  EDUC       SES  \\\n",
       "0    OAS2_0001  OAS2_0001_MR1      1         0   M    R   87    14  2.000000   \n",
       "1    OAS2_0001  OAS2_0001_MR2      2       457   M    R   88    14  2.000000   \n",
       "2    OAS2_0002  OAS2_0002_MR1      1         0   M    R   75    12  2.460452   \n",
       "3    OAS2_0002  OAS2_0002_MR2      2       560   M    R   76    12  2.460452   \n",
       "4    OAS2_0002  OAS2_0002_MR3      3      1895   M    R   80    12  2.460452   \n",
       "..         ...            ...    ...       ...  ..  ...  ...   ...       ...   \n",
       "368  OAS2_0185  OAS2_0185_MR2      2       842   M    R   82    16  1.000000   \n",
       "369  OAS2_0185  OAS2_0185_MR3      3      2297   M    R   86    16  1.000000   \n",
       "370  OAS2_0186  OAS2_0186_MR1      1         0   F    R   61    13  2.000000   \n",
       "371  OAS2_0186  OAS2_0186_MR2      2       763   F    R   63    13  2.000000   \n",
       "372  OAS2_0186  OAS2_0186_MR3      3      1608   F    R   65    13  2.000000   \n",
       "\n",
       "     MMSE  CDR  eTIV   nWBV    ASF        Group  \n",
       "0    27.0  0.0  1987  0.696  0.883  Nondemented  \n",
       "1    30.0  0.0  2004  0.681  0.876  Nondemented  \n",
       "2    23.0  0.5  1678  0.736  1.046     Demented  \n",
       "3    28.0  0.5  1738  0.713  1.010     Demented  \n",
       "4    22.0  0.5  1698  0.701  1.034     Demented  \n",
       "..    ...  ...   ...    ...    ...          ...  \n",
       "368  28.0  0.5  1693  0.694  1.037     Demented  \n",
       "369  26.0  0.5  1688  0.675  1.040     Demented  \n",
       "370  30.0  0.0  1319  0.801  1.331  Nondemented  \n",
       "371  30.0  0.0  1327  0.796  1.323  Nondemented  \n",
       "372  30.0  0.0  1333  0.801  1.317  Nondemented  \n",
       "\n",
       "[373 rows x 15 columns]"
      ]
     },
     "execution_count": 21,
     "metadata": {},
     "output_type": "execute_result"
    }
   ],
   "source": [
    "#Moving thhe diagnosis feature which is the label variable to the last position in the dataframe\n",
    "labels = df.pop('Group')\n",
    "df['Group'] = labels\n",
    "df"
   ]
  },
  {
   "cell_type": "markdown",
   "metadata": {},
   "source": [
    "#### Data cleaning"
   ]
  },
  {
   "cell_type": "code",
   "execution_count": 22,
   "metadata": {},
   "outputs": [
    {
     "data": {
      "text/html": [
       "<div>\n",
       "<style scoped>\n",
       "    .dataframe tbody tr th:only-of-type {\n",
       "        vertical-align: middle;\n",
       "    }\n",
       "\n",
       "    .dataframe tbody tr th {\n",
       "        vertical-align: top;\n",
       "    }\n",
       "\n",
       "    .dataframe thead th {\n",
       "        text-align: right;\n",
       "    }\n",
       "</style>\n",
       "<table border=\"1\" class=\"dataframe\">\n",
       "  <thead>\n",
       "    <tr style=\"text-align: right;\">\n",
       "      <th></th>\n",
       "      <th>Visit</th>\n",
       "      <th>MR Delay</th>\n",
       "      <th>M/F</th>\n",
       "      <th>Hand</th>\n",
       "      <th>Age</th>\n",
       "      <th>EDUC</th>\n",
       "      <th>SES</th>\n",
       "      <th>MMSE</th>\n",
       "      <th>CDR</th>\n",
       "      <th>eTIV</th>\n",
       "      <th>nWBV</th>\n",
       "      <th>ASF</th>\n",
       "      <th>Group</th>\n",
       "    </tr>\n",
       "  </thead>\n",
       "  <tbody>\n",
       "    <tr>\n",
       "      <th>0</th>\n",
       "      <td>1</td>\n",
       "      <td>0</td>\n",
       "      <td>M</td>\n",
       "      <td>R</td>\n",
       "      <td>87</td>\n",
       "      <td>14</td>\n",
       "      <td>2.000000</td>\n",
       "      <td>27.0</td>\n",
       "      <td>0.0</td>\n",
       "      <td>1987</td>\n",
       "      <td>0.696</td>\n",
       "      <td>0.883</td>\n",
       "      <td>Nondemented</td>\n",
       "    </tr>\n",
       "    <tr>\n",
       "      <th>1</th>\n",
       "      <td>2</td>\n",
       "      <td>457</td>\n",
       "      <td>M</td>\n",
       "      <td>R</td>\n",
       "      <td>88</td>\n",
       "      <td>14</td>\n",
       "      <td>2.000000</td>\n",
       "      <td>30.0</td>\n",
       "      <td>0.0</td>\n",
       "      <td>2004</td>\n",
       "      <td>0.681</td>\n",
       "      <td>0.876</td>\n",
       "      <td>Nondemented</td>\n",
       "    </tr>\n",
       "    <tr>\n",
       "      <th>2</th>\n",
       "      <td>1</td>\n",
       "      <td>0</td>\n",
       "      <td>M</td>\n",
       "      <td>R</td>\n",
       "      <td>75</td>\n",
       "      <td>12</td>\n",
       "      <td>2.460452</td>\n",
       "      <td>23.0</td>\n",
       "      <td>0.5</td>\n",
       "      <td>1678</td>\n",
       "      <td>0.736</td>\n",
       "      <td>1.046</td>\n",
       "      <td>Demented</td>\n",
       "    </tr>\n",
       "    <tr>\n",
       "      <th>3</th>\n",
       "      <td>2</td>\n",
       "      <td>560</td>\n",
       "      <td>M</td>\n",
       "      <td>R</td>\n",
       "      <td>76</td>\n",
       "      <td>12</td>\n",
       "      <td>2.460452</td>\n",
       "      <td>28.0</td>\n",
       "      <td>0.5</td>\n",
       "      <td>1738</td>\n",
       "      <td>0.713</td>\n",
       "      <td>1.010</td>\n",
       "      <td>Demented</td>\n",
       "    </tr>\n",
       "    <tr>\n",
       "      <th>4</th>\n",
       "      <td>3</td>\n",
       "      <td>1895</td>\n",
       "      <td>M</td>\n",
       "      <td>R</td>\n",
       "      <td>80</td>\n",
       "      <td>12</td>\n",
       "      <td>2.460452</td>\n",
       "      <td>22.0</td>\n",
       "      <td>0.5</td>\n",
       "      <td>1698</td>\n",
       "      <td>0.701</td>\n",
       "      <td>1.034</td>\n",
       "      <td>Demented</td>\n",
       "    </tr>\n",
       "    <tr>\n",
       "      <th>...</th>\n",
       "      <td>...</td>\n",
       "      <td>...</td>\n",
       "      <td>...</td>\n",
       "      <td>...</td>\n",
       "      <td>...</td>\n",
       "      <td>...</td>\n",
       "      <td>...</td>\n",
       "      <td>...</td>\n",
       "      <td>...</td>\n",
       "      <td>...</td>\n",
       "      <td>...</td>\n",
       "      <td>...</td>\n",
       "      <td>...</td>\n",
       "    </tr>\n",
       "    <tr>\n",
       "      <th>368</th>\n",
       "      <td>2</td>\n",
       "      <td>842</td>\n",
       "      <td>M</td>\n",
       "      <td>R</td>\n",
       "      <td>82</td>\n",
       "      <td>16</td>\n",
       "      <td>1.000000</td>\n",
       "      <td>28.0</td>\n",
       "      <td>0.5</td>\n",
       "      <td>1693</td>\n",
       "      <td>0.694</td>\n",
       "      <td>1.037</td>\n",
       "      <td>Demented</td>\n",
       "    </tr>\n",
       "    <tr>\n",
       "      <th>369</th>\n",
       "      <td>3</td>\n",
       "      <td>2297</td>\n",
       "      <td>M</td>\n",
       "      <td>R</td>\n",
       "      <td>86</td>\n",
       "      <td>16</td>\n",
       "      <td>1.000000</td>\n",
       "      <td>26.0</td>\n",
       "      <td>0.5</td>\n",
       "      <td>1688</td>\n",
       "      <td>0.675</td>\n",
       "      <td>1.040</td>\n",
       "      <td>Demented</td>\n",
       "    </tr>\n",
       "    <tr>\n",
       "      <th>370</th>\n",
       "      <td>1</td>\n",
       "      <td>0</td>\n",
       "      <td>F</td>\n",
       "      <td>R</td>\n",
       "      <td>61</td>\n",
       "      <td>13</td>\n",
       "      <td>2.000000</td>\n",
       "      <td>30.0</td>\n",
       "      <td>0.0</td>\n",
       "      <td>1319</td>\n",
       "      <td>0.801</td>\n",
       "      <td>1.331</td>\n",
       "      <td>Nondemented</td>\n",
       "    </tr>\n",
       "    <tr>\n",
       "      <th>371</th>\n",
       "      <td>2</td>\n",
       "      <td>763</td>\n",
       "      <td>F</td>\n",
       "      <td>R</td>\n",
       "      <td>63</td>\n",
       "      <td>13</td>\n",
       "      <td>2.000000</td>\n",
       "      <td>30.0</td>\n",
       "      <td>0.0</td>\n",
       "      <td>1327</td>\n",
       "      <td>0.796</td>\n",
       "      <td>1.323</td>\n",
       "      <td>Nondemented</td>\n",
       "    </tr>\n",
       "    <tr>\n",
       "      <th>372</th>\n",
       "      <td>3</td>\n",
       "      <td>1608</td>\n",
       "      <td>F</td>\n",
       "      <td>R</td>\n",
       "      <td>65</td>\n",
       "      <td>13</td>\n",
       "      <td>2.000000</td>\n",
       "      <td>30.0</td>\n",
       "      <td>0.0</td>\n",
       "      <td>1333</td>\n",
       "      <td>0.801</td>\n",
       "      <td>1.317</td>\n",
       "      <td>Nondemented</td>\n",
       "    </tr>\n",
       "  </tbody>\n",
       "</table>\n",
       "<p>373 rows × 13 columns</p>\n",
       "</div>"
      ],
      "text/plain": [
       "     Visit  MR Delay M/F Hand  Age  EDUC       SES  MMSE  CDR  eTIV   nWBV  \\\n",
       "0        1         0   M    R   87    14  2.000000  27.0  0.0  1987  0.696   \n",
       "1        2       457   M    R   88    14  2.000000  30.0  0.0  2004  0.681   \n",
       "2        1         0   M    R   75    12  2.460452  23.0  0.5  1678  0.736   \n",
       "3        2       560   M    R   76    12  2.460452  28.0  0.5  1738  0.713   \n",
       "4        3      1895   M    R   80    12  2.460452  22.0  0.5  1698  0.701   \n",
       "..     ...       ...  ..  ...  ...   ...       ...   ...  ...   ...    ...   \n",
       "368      2       842   M    R   82    16  1.000000  28.0  0.5  1693  0.694   \n",
       "369      3      2297   M    R   86    16  1.000000  26.0  0.5  1688  0.675   \n",
       "370      1         0   F    R   61    13  2.000000  30.0  0.0  1319  0.801   \n",
       "371      2       763   F    R   63    13  2.000000  30.0  0.0  1327  0.796   \n",
       "372      3      1608   F    R   65    13  2.000000  30.0  0.0  1333  0.801   \n",
       "\n",
       "       ASF        Group  \n",
       "0    0.883  Nondemented  \n",
       "1    0.876  Nondemented  \n",
       "2    1.046     Demented  \n",
       "3    1.010     Demented  \n",
       "4    1.034     Demented  \n",
       "..     ...          ...  \n",
       "368  1.037     Demented  \n",
       "369  1.040     Demented  \n",
       "370  1.331  Nondemented  \n",
       "371  1.323  Nondemented  \n",
       "372  1.317  Nondemented  \n",
       "\n",
       "[373 rows x 13 columns]"
      ]
     },
     "execution_count": 22,
     "metadata": {},
     "output_type": "execute_result"
    }
   ],
   "source": [
    "#removal of insignificant features in the dataset\n",
    "#feature selection will continue after data construction\n",
    "#Subject ID MRI ID\n",
    "df.pop(\"Subject ID\")\n",
    "df.pop('MRI ID')\n",
    "df"
   ]
  },
  {
   "cell_type": "code",
   "execution_count": 23,
   "metadata": {},
   "outputs": [
    {
     "name": "stdout",
     "output_type": "stream",
     "text": [
      "373\n"
     ]
    }
   ],
   "source": [
    "#detect outliers\n",
    "#check for outliers\n",
    "nl = []\n",
    "for col in df.columns:\n",
    "\n",
    "    if col != 'Group':\n",
    "        datatype = df[col].dtype  #get column datatype\n",
    "        if datatype == \"int64\" or datatype == \"float64\":\n",
    "            Q1 = df[col].quantile(0.25)\n",
    "            Q3 = df[col].quantile(0.75)\n",
    "            IQR = Q3 - Q1\n",
    "            #print(IQR)\n",
    "            upper_lim = Q1 + 1.5 * IQR\n",
    "            lower_lim = Q3 - 1.5 * IQR\n",
    "\n",
    "            outlier_low = (df[col] < lower_lim)\n",
    "            outlier_high = (df[col] > upper_lim)\n",
    "\n",
    "            nl.append(len(df[col]) - ((len(df[col][outlier_low])) - (len(df[col][outlier_low]))))\n",
    "        \n",
    "print(max(nl))\n",
    "\n",
    "#Removal of detected outliers would lead to massive lost of data "
   ]
  },
  {
   "cell_type": "markdown",
   "metadata": {},
   "source": [
    "#### Data Construction "
   ]
  },
  {
   "cell_type": "code",
   "execution_count": 24,
   "metadata": {},
   "outputs": [
    {
     "data": {
      "text/html": [
       "<div>\n",
       "<style scoped>\n",
       "    .dataframe tbody tr th:only-of-type {\n",
       "        vertical-align: middle;\n",
       "    }\n",
       "\n",
       "    .dataframe tbody tr th {\n",
       "        vertical-align: top;\n",
       "    }\n",
       "\n",
       "    .dataframe thead th {\n",
       "        text-align: right;\n",
       "    }\n",
       "</style>\n",
       "<table border=\"1\" class=\"dataframe\">\n",
       "  <thead>\n",
       "    <tr style=\"text-align: right;\">\n",
       "      <th></th>\n",
       "      <th>Visit</th>\n",
       "      <th>MR Delay</th>\n",
       "      <th>M/F</th>\n",
       "      <th>Hand</th>\n",
       "      <th>Age</th>\n",
       "      <th>EDUC</th>\n",
       "      <th>SES</th>\n",
       "      <th>MMSE</th>\n",
       "      <th>CDR</th>\n",
       "      <th>eTIV</th>\n",
       "      <th>nWBV</th>\n",
       "      <th>ASF</th>\n",
       "      <th>Group</th>\n",
       "    </tr>\n",
       "  </thead>\n",
       "  <tbody>\n",
       "    <tr>\n",
       "      <th>0</th>\n",
       "      <td>1</td>\n",
       "      <td>0</td>\n",
       "      <td>M</td>\n",
       "      <td>R</td>\n",
       "      <td>87</td>\n",
       "      <td>14</td>\n",
       "      <td>2.000000</td>\n",
       "      <td>27.0</td>\n",
       "      <td>0.0</td>\n",
       "      <td>1987</td>\n",
       "      <td>0.696</td>\n",
       "      <td>0.883</td>\n",
       "      <td>1</td>\n",
       "    </tr>\n",
       "    <tr>\n",
       "      <th>1</th>\n",
       "      <td>2</td>\n",
       "      <td>457</td>\n",
       "      <td>M</td>\n",
       "      <td>R</td>\n",
       "      <td>88</td>\n",
       "      <td>14</td>\n",
       "      <td>2.000000</td>\n",
       "      <td>30.0</td>\n",
       "      <td>0.0</td>\n",
       "      <td>2004</td>\n",
       "      <td>0.681</td>\n",
       "      <td>0.876</td>\n",
       "      <td>1</td>\n",
       "    </tr>\n",
       "    <tr>\n",
       "      <th>2</th>\n",
       "      <td>1</td>\n",
       "      <td>0</td>\n",
       "      <td>M</td>\n",
       "      <td>R</td>\n",
       "      <td>75</td>\n",
       "      <td>12</td>\n",
       "      <td>2.460452</td>\n",
       "      <td>23.0</td>\n",
       "      <td>0.5</td>\n",
       "      <td>1678</td>\n",
       "      <td>0.736</td>\n",
       "      <td>1.046</td>\n",
       "      <td>0</td>\n",
       "    </tr>\n",
       "    <tr>\n",
       "      <th>3</th>\n",
       "      <td>2</td>\n",
       "      <td>560</td>\n",
       "      <td>M</td>\n",
       "      <td>R</td>\n",
       "      <td>76</td>\n",
       "      <td>12</td>\n",
       "      <td>2.460452</td>\n",
       "      <td>28.0</td>\n",
       "      <td>0.5</td>\n",
       "      <td>1738</td>\n",
       "      <td>0.713</td>\n",
       "      <td>1.010</td>\n",
       "      <td>0</td>\n",
       "    </tr>\n",
       "    <tr>\n",
       "      <th>4</th>\n",
       "      <td>3</td>\n",
       "      <td>1895</td>\n",
       "      <td>M</td>\n",
       "      <td>R</td>\n",
       "      <td>80</td>\n",
       "      <td>12</td>\n",
       "      <td>2.460452</td>\n",
       "      <td>22.0</td>\n",
       "      <td>0.5</td>\n",
       "      <td>1698</td>\n",
       "      <td>0.701</td>\n",
       "      <td>1.034</td>\n",
       "      <td>0</td>\n",
       "    </tr>\n",
       "    <tr>\n",
       "      <th>...</th>\n",
       "      <td>...</td>\n",
       "      <td>...</td>\n",
       "      <td>...</td>\n",
       "      <td>...</td>\n",
       "      <td>...</td>\n",
       "      <td>...</td>\n",
       "      <td>...</td>\n",
       "      <td>...</td>\n",
       "      <td>...</td>\n",
       "      <td>...</td>\n",
       "      <td>...</td>\n",
       "      <td>...</td>\n",
       "      <td>...</td>\n",
       "    </tr>\n",
       "    <tr>\n",
       "      <th>368</th>\n",
       "      <td>2</td>\n",
       "      <td>842</td>\n",
       "      <td>M</td>\n",
       "      <td>R</td>\n",
       "      <td>82</td>\n",
       "      <td>16</td>\n",
       "      <td>1.000000</td>\n",
       "      <td>28.0</td>\n",
       "      <td>0.5</td>\n",
       "      <td>1693</td>\n",
       "      <td>0.694</td>\n",
       "      <td>1.037</td>\n",
       "      <td>0</td>\n",
       "    </tr>\n",
       "    <tr>\n",
       "      <th>369</th>\n",
       "      <td>3</td>\n",
       "      <td>2297</td>\n",
       "      <td>M</td>\n",
       "      <td>R</td>\n",
       "      <td>86</td>\n",
       "      <td>16</td>\n",
       "      <td>1.000000</td>\n",
       "      <td>26.0</td>\n",
       "      <td>0.5</td>\n",
       "      <td>1688</td>\n",
       "      <td>0.675</td>\n",
       "      <td>1.040</td>\n",
       "      <td>0</td>\n",
       "    </tr>\n",
       "    <tr>\n",
       "      <th>370</th>\n",
       "      <td>1</td>\n",
       "      <td>0</td>\n",
       "      <td>F</td>\n",
       "      <td>R</td>\n",
       "      <td>61</td>\n",
       "      <td>13</td>\n",
       "      <td>2.000000</td>\n",
       "      <td>30.0</td>\n",
       "      <td>0.0</td>\n",
       "      <td>1319</td>\n",
       "      <td>0.801</td>\n",
       "      <td>1.331</td>\n",
       "      <td>1</td>\n",
       "    </tr>\n",
       "    <tr>\n",
       "      <th>371</th>\n",
       "      <td>2</td>\n",
       "      <td>763</td>\n",
       "      <td>F</td>\n",
       "      <td>R</td>\n",
       "      <td>63</td>\n",
       "      <td>13</td>\n",
       "      <td>2.000000</td>\n",
       "      <td>30.0</td>\n",
       "      <td>0.0</td>\n",
       "      <td>1327</td>\n",
       "      <td>0.796</td>\n",
       "      <td>1.323</td>\n",
       "      <td>1</td>\n",
       "    </tr>\n",
       "    <tr>\n",
       "      <th>372</th>\n",
       "      <td>3</td>\n",
       "      <td>1608</td>\n",
       "      <td>F</td>\n",
       "      <td>R</td>\n",
       "      <td>65</td>\n",
       "      <td>13</td>\n",
       "      <td>2.000000</td>\n",
       "      <td>30.0</td>\n",
       "      <td>0.0</td>\n",
       "      <td>1333</td>\n",
       "      <td>0.801</td>\n",
       "      <td>1.317</td>\n",
       "      <td>1</td>\n",
       "    </tr>\n",
       "  </tbody>\n",
       "</table>\n",
       "<p>373 rows × 13 columns</p>\n",
       "</div>"
      ],
      "text/plain": [
       "     Visit  MR Delay M/F Hand  Age  EDUC       SES  MMSE  CDR  eTIV   nWBV  \\\n",
       "0        1         0   M    R   87    14  2.000000  27.0  0.0  1987  0.696   \n",
       "1        2       457   M    R   88    14  2.000000  30.0  0.0  2004  0.681   \n",
       "2        1         0   M    R   75    12  2.460452  23.0  0.5  1678  0.736   \n",
       "3        2       560   M    R   76    12  2.460452  28.0  0.5  1738  0.713   \n",
       "4        3      1895   M    R   80    12  2.460452  22.0  0.5  1698  0.701   \n",
       "..     ...       ...  ..  ...  ...   ...       ...   ...  ...   ...    ...   \n",
       "368      2       842   M    R   82    16  1.000000  28.0  0.5  1693  0.694   \n",
       "369      3      2297   M    R   86    16  1.000000  26.0  0.5  1688  0.675   \n",
       "370      1         0   F    R   61    13  2.000000  30.0  0.0  1319  0.801   \n",
       "371      2       763   F    R   63    13  2.000000  30.0  0.0  1327  0.796   \n",
       "372      3      1608   F    R   65    13  2.000000  30.0  0.0  1333  0.801   \n",
       "\n",
       "       ASF  Group  \n",
       "0    0.883      1  \n",
       "1    0.876      1  \n",
       "2    1.046      0  \n",
       "3    1.010      0  \n",
       "4    1.034      0  \n",
       "..     ...    ...  \n",
       "368  1.037      0  \n",
       "369  1.040      0  \n",
       "370  1.331      1  \n",
       "371  1.323      1  \n",
       "372  1.317      1  \n",
       "\n",
       "[373 rows x 13 columns]"
      ]
     },
     "execution_count": 24,
     "metadata": {},
     "output_type": "execute_result"
    }
   ],
   "source": [
    "#Encode diagnosis using label encoder\n",
    "#df['diagnosis'] = LabelEncoder().fit_transform(df['diagnosis'])\n",
    "df['Group'].replace(to_replace='Nondemented', value = 1, inplace=True)\n",
    "df['Group'].replace(to_replace='Demented', value = 0, inplace=True)\n",
    "df['Group'].replace(to_replace='Converted', value = 2, inplace=True)\n",
    "df"
   ]
  },
  {
   "cell_type": "code",
   "execution_count": 25,
   "metadata": {},
   "outputs": [
    {
     "name": "stdout",
     "output_type": "stream",
     "text": [
      "['M', 'F']\n",
      "['R']\n"
     ]
    }
   ],
   "source": [
    "print(list(df[\"M/F\"].unique()))\n",
    "print(list(df[\"Hand\"].unique()))"
   ]
  },
  {
   "cell_type": "code",
   "execution_count": 26,
   "metadata": {},
   "outputs": [
    {
     "data": {
      "text/html": [
       "<div>\n",
       "<style scoped>\n",
       "    .dataframe tbody tr th:only-of-type {\n",
       "        vertical-align: middle;\n",
       "    }\n",
       "\n",
       "    .dataframe tbody tr th {\n",
       "        vertical-align: top;\n",
       "    }\n",
       "\n",
       "    .dataframe thead th {\n",
       "        text-align: right;\n",
       "    }\n",
       "</style>\n",
       "<table border=\"1\" class=\"dataframe\">\n",
       "  <thead>\n",
       "    <tr style=\"text-align: right;\">\n",
       "      <th></th>\n",
       "      <th>Visit</th>\n",
       "      <th>MR Delay</th>\n",
       "      <th>M/F</th>\n",
       "      <th>Hand</th>\n",
       "      <th>Age</th>\n",
       "      <th>EDUC</th>\n",
       "      <th>SES</th>\n",
       "      <th>MMSE</th>\n",
       "      <th>CDR</th>\n",
       "      <th>eTIV</th>\n",
       "      <th>nWBV</th>\n",
       "      <th>ASF</th>\n",
       "      <th>Group</th>\n",
       "    </tr>\n",
       "  </thead>\n",
       "  <tbody>\n",
       "    <tr>\n",
       "      <th>0</th>\n",
       "      <td>1</td>\n",
       "      <td>0</td>\n",
       "      <td>0</td>\n",
       "      <td>0</td>\n",
       "      <td>87</td>\n",
       "      <td>14</td>\n",
       "      <td>2.000000</td>\n",
       "      <td>27.0</td>\n",
       "      <td>0.0</td>\n",
       "      <td>1987</td>\n",
       "      <td>0.696</td>\n",
       "      <td>0.883</td>\n",
       "      <td>1</td>\n",
       "    </tr>\n",
       "    <tr>\n",
       "      <th>1</th>\n",
       "      <td>2</td>\n",
       "      <td>457</td>\n",
       "      <td>0</td>\n",
       "      <td>0</td>\n",
       "      <td>88</td>\n",
       "      <td>14</td>\n",
       "      <td>2.000000</td>\n",
       "      <td>30.0</td>\n",
       "      <td>0.0</td>\n",
       "      <td>2004</td>\n",
       "      <td>0.681</td>\n",
       "      <td>0.876</td>\n",
       "      <td>1</td>\n",
       "    </tr>\n",
       "    <tr>\n",
       "      <th>2</th>\n",
       "      <td>1</td>\n",
       "      <td>0</td>\n",
       "      <td>0</td>\n",
       "      <td>0</td>\n",
       "      <td>75</td>\n",
       "      <td>12</td>\n",
       "      <td>2.460452</td>\n",
       "      <td>23.0</td>\n",
       "      <td>0.5</td>\n",
       "      <td>1678</td>\n",
       "      <td>0.736</td>\n",
       "      <td>1.046</td>\n",
       "      <td>0</td>\n",
       "    </tr>\n",
       "    <tr>\n",
       "      <th>3</th>\n",
       "      <td>2</td>\n",
       "      <td>560</td>\n",
       "      <td>0</td>\n",
       "      <td>0</td>\n",
       "      <td>76</td>\n",
       "      <td>12</td>\n",
       "      <td>2.460452</td>\n",
       "      <td>28.0</td>\n",
       "      <td>0.5</td>\n",
       "      <td>1738</td>\n",
       "      <td>0.713</td>\n",
       "      <td>1.010</td>\n",
       "      <td>0</td>\n",
       "    </tr>\n",
       "    <tr>\n",
       "      <th>4</th>\n",
       "      <td>3</td>\n",
       "      <td>1895</td>\n",
       "      <td>0</td>\n",
       "      <td>0</td>\n",
       "      <td>80</td>\n",
       "      <td>12</td>\n",
       "      <td>2.460452</td>\n",
       "      <td>22.0</td>\n",
       "      <td>0.5</td>\n",
       "      <td>1698</td>\n",
       "      <td>0.701</td>\n",
       "      <td>1.034</td>\n",
       "      <td>0</td>\n",
       "    </tr>\n",
       "    <tr>\n",
       "      <th>...</th>\n",
       "      <td>...</td>\n",
       "      <td>...</td>\n",
       "      <td>...</td>\n",
       "      <td>...</td>\n",
       "      <td>...</td>\n",
       "      <td>...</td>\n",
       "      <td>...</td>\n",
       "      <td>...</td>\n",
       "      <td>...</td>\n",
       "      <td>...</td>\n",
       "      <td>...</td>\n",
       "      <td>...</td>\n",
       "      <td>...</td>\n",
       "    </tr>\n",
       "    <tr>\n",
       "      <th>368</th>\n",
       "      <td>2</td>\n",
       "      <td>842</td>\n",
       "      <td>0</td>\n",
       "      <td>0</td>\n",
       "      <td>82</td>\n",
       "      <td>16</td>\n",
       "      <td>1.000000</td>\n",
       "      <td>28.0</td>\n",
       "      <td>0.5</td>\n",
       "      <td>1693</td>\n",
       "      <td>0.694</td>\n",
       "      <td>1.037</td>\n",
       "      <td>0</td>\n",
       "    </tr>\n",
       "    <tr>\n",
       "      <th>369</th>\n",
       "      <td>3</td>\n",
       "      <td>2297</td>\n",
       "      <td>0</td>\n",
       "      <td>0</td>\n",
       "      <td>86</td>\n",
       "      <td>16</td>\n",
       "      <td>1.000000</td>\n",
       "      <td>26.0</td>\n",
       "      <td>0.5</td>\n",
       "      <td>1688</td>\n",
       "      <td>0.675</td>\n",
       "      <td>1.040</td>\n",
       "      <td>0</td>\n",
       "    </tr>\n",
       "    <tr>\n",
       "      <th>370</th>\n",
       "      <td>1</td>\n",
       "      <td>0</td>\n",
       "      <td>1</td>\n",
       "      <td>0</td>\n",
       "      <td>61</td>\n",
       "      <td>13</td>\n",
       "      <td>2.000000</td>\n",
       "      <td>30.0</td>\n",
       "      <td>0.0</td>\n",
       "      <td>1319</td>\n",
       "      <td>0.801</td>\n",
       "      <td>1.331</td>\n",
       "      <td>1</td>\n",
       "    </tr>\n",
       "    <tr>\n",
       "      <th>371</th>\n",
       "      <td>2</td>\n",
       "      <td>763</td>\n",
       "      <td>1</td>\n",
       "      <td>0</td>\n",
       "      <td>63</td>\n",
       "      <td>13</td>\n",
       "      <td>2.000000</td>\n",
       "      <td>30.0</td>\n",
       "      <td>0.0</td>\n",
       "      <td>1327</td>\n",
       "      <td>0.796</td>\n",
       "      <td>1.323</td>\n",
       "      <td>1</td>\n",
       "    </tr>\n",
       "    <tr>\n",
       "      <th>372</th>\n",
       "      <td>3</td>\n",
       "      <td>1608</td>\n",
       "      <td>1</td>\n",
       "      <td>0</td>\n",
       "      <td>65</td>\n",
       "      <td>13</td>\n",
       "      <td>2.000000</td>\n",
       "      <td>30.0</td>\n",
       "      <td>0.0</td>\n",
       "      <td>1333</td>\n",
       "      <td>0.801</td>\n",
       "      <td>1.317</td>\n",
       "      <td>1</td>\n",
       "    </tr>\n",
       "  </tbody>\n",
       "</table>\n",
       "<p>373 rows × 13 columns</p>\n",
       "</div>"
      ],
      "text/plain": [
       "     Visit  MR Delay  M/F  Hand  Age  EDUC       SES  MMSE  CDR  eTIV   nWBV  \\\n",
       "0        1         0    0     0   87    14  2.000000  27.0  0.0  1987  0.696   \n",
       "1        2       457    0     0   88    14  2.000000  30.0  0.0  2004  0.681   \n",
       "2        1         0    0     0   75    12  2.460452  23.0  0.5  1678  0.736   \n",
       "3        2       560    0     0   76    12  2.460452  28.0  0.5  1738  0.713   \n",
       "4        3      1895    0     0   80    12  2.460452  22.0  0.5  1698  0.701   \n",
       "..     ...       ...  ...   ...  ...   ...       ...   ...  ...   ...    ...   \n",
       "368      2       842    0     0   82    16  1.000000  28.0  0.5  1693  0.694   \n",
       "369      3      2297    0     0   86    16  1.000000  26.0  0.5  1688  0.675   \n",
       "370      1         0    1     0   61    13  2.000000  30.0  0.0  1319  0.801   \n",
       "371      2       763    1     0   63    13  2.000000  30.0  0.0  1327  0.796   \n",
       "372      3      1608    1     0   65    13  2.000000  30.0  0.0  1333  0.801   \n",
       "\n",
       "       ASF  Group  \n",
       "0    0.883      1  \n",
       "1    0.876      1  \n",
       "2    1.046      0  \n",
       "3    1.010      0  \n",
       "4    1.034      0  \n",
       "..     ...    ...  \n",
       "368  1.037      0  \n",
       "369  1.040      0  \n",
       "370  1.331      1  \n",
       "371  1.323      1  \n",
       "372  1.317      1  \n",
       "\n",
       "[373 rows x 13 columns]"
      ]
     },
     "execution_count": 26,
     "metadata": {},
     "output_type": "execute_result"
    }
   ],
   "source": [
    "df['M/F'].replace(to_replace='M', value = 0, inplace=True)\n",
    "df['M/F'].replace(to_replace='F', value = 1, inplace=True)\n",
    "df['Hand'].replace(to_replace='R', value = 0, inplace=True)\n",
    "df"
   ]
  },
  {
   "cell_type": "code",
   "execution_count": 27,
   "metadata": {},
   "outputs": [],
   "source": [
    "#feature selection: would be provided as an option to use after training\n",
    "#Feature selection using feature Variance which reduced features\n",
    "def feat_sel(df, thresh):\n",
    "    s_df = df.copy()\n",
    "    labels = df['Group'].tolist()\n",
    "    selector = VarianceThreshold(threshold=thresh) #using a threshold of 90 percent\n",
    "    Var = selector.fit_transform(s_df)\n",
    "\n",
    "    sel_df = s_df[s_df.columns[selector.get_support(indices=True)]]\n",
    "    #print(list(sel_df.columns))\n",
    "    if 'Group' not in list(sel_df.columns):\n",
    "        sel_df['Group'] = labels\n",
    "    \n",
    "    return sel_df"
   ]
  },
  {
   "cell_type": "code",
   "execution_count": 28,
   "metadata": {},
   "outputs": [
    {
     "name": "stdout",
     "output_type": "stream",
     "text": [
      "It is not advisable to perform feature selection, because upon experimentation, it was discovered that all featurewere important for an efficient model\n",
      "\n",
      "Would you like to perform feature selecion? y(es) or n(o) n\n"
     ]
    }
   ],
   "source": [
    "print(\"It is not advisable to perform feature selection, because upon experimentation, it was discovered that all feature\\\n",
    "were important for an efficient model\")\n",
    "print()\n",
    "while True:\n",
    "    ans = input(\"Would you like to perform feature selecion? y(es) or n(o) \")\n",
    "    if ans.lower() == 'yes' or ans.lower() == 'y':\n",
    "        thres = int(input(\"What percentage of variance would you like to inplement? Answer must be between 0 - 100  \"))\n",
    "        if thres >= 0 and thres <= 100:\n",
    "            thresh = round((thres / 100), 2)\n",
    "            #print(thresh)\n",
    "            sdf = feat_sel(df, thresh)\n",
    "            display(sdf)\n",
    "            break\n",
    "    elif ans.lower() == 'no' or ans.lower() == 'n':\n",
    "        break"
   ]
  },
  {
   "cell_type": "code",
   "execution_count": null,
   "metadata": {},
   "outputs": [],
   "source": []
  },
  {
   "cell_type": "code",
   "execution_count": 29,
   "metadata": {},
   "outputs": [],
   "source": [
    "#splitting and scaling the independent features\n",
    "leng = len(df.columns) - 1\n",
    "X = df.iloc[:,0:leng] \n",
    "y = df.iloc[:,leng]   \n",
    "\n",
    "x_train, x_test, y_train, y_test = train_test_split(X, y,\n",
    "test_size=0.2, random_state = 2020, stratify=y)\n",
    "\n",
    "#scaling\n",
    "scaler = StandardScaler()\n",
    "\n",
    "x_train = pd.DataFrame(scaler.fit_transform(x_train))\n",
    "x_test = pd.DataFrame(scaler.fit_transform(x_test))"
   ]
  },
  {
   "cell_type": "code",
   "execution_count": null,
   "metadata": {},
   "outputs": [],
   "source": []
  },
  {
   "cell_type": "markdown",
   "metadata": {},
   "source": [
    "### Modelling \n",
    "\n",
    "- Logistic regression as a baseline model"
   ]
  },
  {
   "cell_type": "code",
   "execution_count": 30,
   "metadata": {},
   "outputs": [],
   "source": [
    "model = LogisticRegression(random_state=None, max_iter=400, solver='liblinear')   #newton-cg, 400  liblinear\n",
    "result = model.fit(x_train, y_train)\n",
    "#result.summary2()"
   ]
  },
  {
   "cell_type": "code",
   "execution_count": 31,
   "metadata": {},
   "outputs": [
    {
     "name": "stdout",
     "output_type": "stream",
     "text": [
      "0.9066666666666666\n"
     ]
    }
   ],
   "source": [
    "eval_ = (model.score(x_test, y_test))\n",
    "preds = result.predict(x_test)\n",
    "#auc = roc_auc_score(y_test, preds)\n",
    "print(eval_)"
   ]
  },
  {
   "cell_type": "code",
   "execution_count": 32,
   "metadata": {},
   "outputs": [
    {
     "name": "stdout",
     "output_type": "stream",
     "text": [
      "              precision    recall  f1-score   support\n",
      "\n",
      "           0       0.94      1.00      0.97        29\n",
      "           1       0.88      1.00      0.94        38\n",
      "           2       1.00      0.12      0.22         8\n",
      "\n",
      "    accuracy                           0.91        75\n",
      "   macro avg       0.94      0.71      0.71        75\n",
      "weighted avg       0.92      0.91      0.87        75\n",
      "\n"
     ]
    }
   ],
   "source": [
    "print(classification_report(y_test, preds))"
   ]
  },
  {
   "cell_type": "code",
   "execution_count": 33,
   "metadata": {},
   "outputs": [
    {
     "name": "stdout",
     "output_type": "stream",
     "text": [
      "[[29  0  0]\n",
      " [ 0 38  0]\n",
      " [ 2  5  1]]\n"
     ]
    }
   ],
   "source": [
    "matrix = confusion_matrix(y_test, preds)\n",
    "print(matrix)"
   ]
  },
  {
   "cell_type": "code",
   "execution_count": 34,
   "metadata": {},
   "outputs": [
    {
     "data": {
      "image/png": "[encoded data removed]",
      "text/plain": [
       "<Figure size 360x360 with 1 Axes>"
      ]
     },
     "metadata": {},
     "output_type": "display_data"
    }
   ],
   "source": [
    "conf_matrix = confusion_matrix(y_true=y_test, y_pred=preds)\n",
    "#\n",
    "# Print the confusion matrix using Matplotlib\n",
    "#\n",
    "fig, ax = plt.subplots(figsize=(5, 5))\n",
    "ax.matshow(conf_matrix, cmap=plt.cm.Oranges, alpha=0.3)\n",
    "for i in range(conf_matrix.shape[0]):\n",
    "    for j in range(conf_matrix.shape[1]):\n",
    "        ax.text(x=j, y=i,s=conf_matrix[i, j], va='center', ha='center', size='xx-large')\n",
    "\n",
    "        \n",
    "plt.xlabel('Predictions', fontsize=18)\n",
    "plt.ylabel('Actuals', fontsize=18)\n",
    "plt.title('Confusion Matrix', fontsize=18)\n",
    "plt.show()"
   ]
  },
  {
   "cell_type": "code",
   "execution_count": null,
   "metadata": {},
   "outputs": [],
   "source": []
  },
  {
   "cell_type": "code",
   "execution_count": null,
   "metadata": {},
   "outputs": [],
   "source": []
  },
  {
   "cell_type": "code",
   "execution_count": 35,
   "metadata": {},
   "outputs": [
    {
     "name": "stdout",
     "output_type": "stream",
     "text": [
      "0.8728724279835391\n"
     ]
    }
   ],
   "source": [
    "print(f1_score(y_test,preds, average=\"weighted\"))"
   ]
  },
  {
   "cell_type": "code",
   "execution_count": 36,
   "metadata": {},
   "outputs": [
    {
     "name": "stdout",
     "output_type": "stream",
     "text": [
      "0.7090534979423868\n",
      "0.9397349337334333\n",
      "0.7083333333333334\n"
     ]
    }
   ],
   "source": [
    "print(f1_score(y_test, preds, average=\"macro\"))\n",
    "print(precision_score(y_test, preds, average=\"macro\"))\n",
    "print(recall_score(y_test, preds, average=\"macro\"))"
   ]
  },
  {
   "cell_type": "markdown",
   "metadata": {},
   "source": [
    "##### Hyperparameter optimization using kfold cross validation "
   ]
  },
  {
   "cell_type": "code",
   "execution_count": 38,
   "metadata": {},
   "outputs": [
    {
     "name": "stdout",
     "output_type": "stream",
     "text": [
      "Accuracy of Logistic regression with 2 number of splits: 89.279% (1.044%)\n",
      "Accuracy of Logistic regression with 3 number of splits: 89.548% (1.713%)\n",
      "Accuracy of Logistic regression with 4 number of splits: 90.620% (0.849%)\n",
      "Accuracy of Logistic regression with 5 number of splits: 90.613% (2.811%)\n",
      "Accuracy of Logistic regression with 6 number of splits: 90.621% (1.929%)\n",
      "Accuracy of Logistic regression with 7 number of splits: 90.356% (3.524%)\n",
      "Accuracy of Logistic regression with 8 number of splits: 90.894% (3.787%)\n",
      "Accuracy of Logistic regression with 9 number of splits: 90.896% (2.716%)\n",
      "Accuracy of Logistic regression with 10 number of splits: 90.882% (5.566%)\n",
      "Accuracy of Logistic regression with 11 number of splits: 90.885% (3.855%)\n",
      "Accuracy of Logistic regression with 12 number of splits: 90.894% (4.100%)\n",
      "Accuracy of Logistic regression with 13 number of splits: 90.631% (4.955%)\n",
      "Accuracy of Logistic regression with 14 number of splits: 90.629% (5.460%)\n",
      "Accuracy of Logistic regression with 15 number of splits: 90.633% (5.182%)\n",
      "Accuracy of Logistic regression with 16 number of splits: 90.636% (5.299%)\n",
      "The best score in cross validating logistic regression is 90.9\n"
     ]
    }
   ],
   "source": [
    "#logistic regression\n",
    "lr_acc_list = []\n",
    "for j in range(15):\n",
    "    kfold_log = KFold(n_splits=j+2, random_state=0, shuffle=True)\n",
    "    model = LogisticRegression(random_state=None, max_iter=400, solver='liblinear')\n",
    "    results = cross_val_score(model, X, y, cv=kfold_log)\n",
    "    # Output the accuracy. Calculate the mean and std across all folds.\n",
    "    print(f\"Accuracy of Logistic regression with {j+2} number of splits: %.3f%% (%.3f%%)\" % \n",
    "          (results.mean()*100.0, results.std()*100.0))\n",
    "    lr_acc_list.append(results.mean()*100.0)\n",
    "\n",
    "print(f\"The best score in cross validating logistic regression is {round(max(lr_acc_list), 2)}\")"
   ]
  },
  {
   "cell_type": "code",
   "execution_count": 39,
   "metadata": {},
   "outputs": [
    {
     "name": "stdout",
     "output_type": "stream",
     "text": [
      "Accuracy of KNN with 2 number of splits and 9  number of neighbours: 50.942% (1.209%)\n",
      "Accuracy of KNN with 3 number of splits and 3  number of neighbours: 52.542% (1.470%)\n",
      "Accuracy of KNN with 4 number of splits and 6  number of neighbours: 50.666% (1.794%)\n",
      "Accuracy of KNN with 5 number of splits and 8  number of neighbours: 51.204% (3.250%)\n",
      "Accuracy of KNN with 6 number of splits and 9  number of neighbours: 53.627% (5.774%)\n",
      "Accuracy of KNN with 7 number of splits and 8  number of neighbours: 54.692% (6.118%)\n",
      "Accuracy of KNN with 8 number of splits and 8  number of neighbours: 52.035% (7.956%)\n",
      "Accuracy of KNN with 9 number of splits and 4  number of neighbours: 55.478% (5.781%)\n",
      "Accuracy of KNN with 10 number of splits and 5  number of neighbours: 52.788% (9.484%)\n",
      "Accuracy of KNN with 11 number of splits and 6  number of neighbours: 53.638% (9.223%)\n",
      "Accuracy of KNN with 12 number of splits and 9  number of neighbours: 53.915% (7.613%)\n",
      "Accuracy of KNN with 13 number of splits and 3  number of neighbours: 53.117% (9.666%)\n",
      "Accuracy of KNN with 14 number of splits and 9  number of neighbours: 53.073% (9.631%)\n",
      "Accuracy of KNN with 15 number of splits and 10  number of neighbours: 53.111% (11.426%)\n",
      "Accuracy of KNN with 16 number of splits and 8  number of neighbours: 54.155% (9.967%)\n",
      "The best score in cross validating KNN is 55.48\n"
     ]
    }
   ],
   "source": [
    "#K Nearest neighbours\n",
    "knn_acc_list = []\n",
    "for j in range(15):\n",
    "    n_neigh = random.randint(3, 10)\n",
    "    kfold_log = KFold(n_splits=j + 2, random_state=0, shuffle=True)\n",
    "    model = KNeighborsClassifier(n_neighbors=7, metric='manhattan')\n",
    "    results = cross_val_score(model, X, y, cv=kfold_log)\n",
    "    # Output the accuracy. Calculate the mean and std across all folds.\n",
    "    print(f\"Accuracy of KNN with {j+2} number of splits and {n_neigh}  number of neighbours: %.3f%% (%.3f%%)\" % \n",
    "          (results.mean()*100.0, results.std()*100.0))\n",
    "    knn_acc_list.append(results.mean()*100.0)\n",
    "\n",
    "print(f\"The best score in cross validating KNN is {round(max(knn_acc_list), 2)}\")"
   ]
  },
  {
   "cell_type": "code",
   "execution_count": 41,
   "metadata": {},
   "outputs": [
    {
     "name": "stdout",
     "output_type": "stream",
     "text": [
      "Accuracy Naive Bayes with 2 number of splits : 90.888% (1.048%)\n",
      "Accuracy Naive Bayes with 3 number of splits : 90.882% (2.750%)\n",
      "Accuracy Naive Bayes with 4 number of splits : 90.614% (2.074%)\n",
      "Accuracy Naive Bayes with 5 number of splits : 90.079% (1.826%)\n",
      "Accuracy Naive Bayes with 6 number of splits : 90.613% (2.868%)\n",
      "Accuracy Naive Bayes with 7 number of splits : 90.881% (4.675%)\n",
      "Accuracy Naive Bayes with 8 number of splits : 91.171% (3.238%)\n",
      "Accuracy Naive Bayes with 9 number of splits : 90.896% (3.897%)\n",
      "Accuracy Naive Bayes with 10 number of splits : 90.875% (5.303%)\n",
      "Accuracy Naive Bayes with 11 number of splits : 90.893% (5.522%)\n",
      "Accuracy Naive Bayes with 12 number of splits : 90.894% (4.692%)\n",
      "Accuracy Naive Bayes with 13 number of splits : 90.925% (5.310%)\n",
      "Accuracy Naive Bayes with 14 number of splits : 90.924% (5.376%)\n",
      "Accuracy Naive Bayes with 15 number of splits : 90.911% (5.725%)\n",
      "Accuracy Naive Bayes with 16 number of splits : 90.614% (5.350%)\n",
      "The best score in cross validating naive bayes is 91.17\n"
     ]
    }
   ],
   "source": [
    "#Naive Bayes\n",
    "nb_acc_list = []\n",
    "for j in range(15):\n",
    "    kfold_log = KFold(n_splits=j + 2, random_state=0, shuffle=True)\n",
    "    model = GaussianNB()\n",
    "    results = cross_val_score(model, X, y, cv=kfold_log)\n",
    "    # Output the accuracy. Calculate the mean and std across all folds.\n",
    "    print(f\"Accuracy Naive Bayes with {j+2} number of splits : %.3f%% (%.3f%%)\" % \n",
    "          (results.mean()*100.0, results.std()*100.0))\n",
    "    nb_acc_list.append(results.mean()*100.0)\n",
    "\n",
    "print(f\"The best score in cross validating naive bayes is {round(max(nb_acc_list), 2)}\")"
   ]
  },
  {
   "cell_type": "code",
   "execution_count": 43,
   "metadata": {},
   "outputs": [
    {
     "name": "stdout",
     "output_type": "stream",
     "text": [
      "Accuracy of SVM with 2 number of splits : 91.153% (0.244%)\n",
      "Accuracy of SVM with 3 number of splits : 92.497% (1.884%)\n",
      "Accuracy of SVM with 4 number of splits : 90.886% (1.932%)\n",
      "Accuracy of SVM with 5 number of splits : 91.416% (2.764%)\n",
      "Accuracy of SVM with 6 number of splits : 90.340% (3.500%)\n",
      "Accuracy of SVM with 7 number of splits : 91.145% (4.371%)\n",
      "Accuracy of SVM with 8 number of splits : 90.900% (4.835%)\n",
      "Accuracy of SVM with 9 number of splits : 91.431% (3.413%)\n",
      "Accuracy of SVM with 10 number of splits : 90.875% (5.952%)\n",
      "Accuracy of SVM with 11 number of splits : 90.893% (4.414%)\n",
      "Accuracy of SVM with 12 number of splits : 91.154% (4.582%)\n"
     ]
    },
    {
     "ename": "KeyboardInterrupt",
     "evalue": "",
     "output_type": "error",
     "traceback": [
      "\u001b[1;31m---------------------------------------------------------------------------\u001b[0m",
      "\u001b[1;31mKeyboardInterrupt\u001b[0m                         Traceback (most recent call last)",
      "\u001b[1;32m<ipython-input-43-8895e32e75f7>\u001b[0m in \u001b[0;36m<module>\u001b[1;34m\u001b[0m\n\u001b[0;32m      4\u001b[0m     \u001b[0mkfold_log\u001b[0m \u001b[1;33m=\u001b[0m \u001b[0mKFold\u001b[0m\u001b[1;33m(\u001b[0m\u001b[0mn_splits\u001b[0m\u001b[1;33m=\u001b[0m\u001b[0mj\u001b[0m \u001b[1;33m+\u001b[0m \u001b[1;36m2\u001b[0m\u001b[1;33m,\u001b[0m \u001b[0mrandom_state\u001b[0m\u001b[1;33m=\u001b[0m\u001b[1;36m0\u001b[0m\u001b[1;33m,\u001b[0m \u001b[0mshuffle\u001b[0m\u001b[1;33m=\u001b[0m\u001b[1;32mTrue\u001b[0m\u001b[1;33m)\u001b[0m\u001b[1;33m\u001b[0m\u001b[1;33m\u001b[0m\u001b[0m\n\u001b[0;32m      5\u001b[0m     \u001b[0mmodel\u001b[0m \u001b[1;33m=\u001b[0m \u001b[0mSVC\u001b[0m\u001b[1;33m(\u001b[0m\u001b[0mkernel\u001b[0m\u001b[1;33m=\u001b[0m\u001b[1;34m'linear'\u001b[0m\u001b[1;33m)\u001b[0m\u001b[1;33m\u001b[0m\u001b[1;33m\u001b[0m\u001b[0m\n\u001b[1;32m----> 6\u001b[1;33m     \u001b[0mresults\u001b[0m \u001b[1;33m=\u001b[0m \u001b[0mcross_val_score\u001b[0m\u001b[1;33m(\u001b[0m\u001b[0mmodel\u001b[0m\u001b[1;33m,\u001b[0m \u001b[0mX\u001b[0m\u001b[1;33m,\u001b[0m \u001b[0my\u001b[0m\u001b[1;33m,\u001b[0m \u001b[0mcv\u001b[0m\u001b[1;33m=\u001b[0m\u001b[0mkfold_log\u001b[0m\u001b[1;33m)\u001b[0m\u001b[1;33m\u001b[0m\u001b[1;33m\u001b[0m\u001b[0m\n\u001b[0m\u001b[0;32m      7\u001b[0m     \u001b[1;31m# Output the accuracy. Calculate the mean and std across all folds.\u001b[0m\u001b[1;33m\u001b[0m\u001b[1;33m\u001b[0m\u001b[1;33m\u001b[0m\u001b[0m\n\u001b[0;32m      8\u001b[0m     print(f\"Accuracy of SVM with {j+2} number of splits : %.3f%% (%.3f%%)\" % \n",
      "\u001b[1;32m~\\anaconda3\\lib\\site-packages\\sklearn\\model_selection\\_validation.py\u001b[0m in \u001b[0;36mcross_val_score\u001b[1;34m(estimator, X, y, groups, scoring, cv, n_jobs, verbose, fit_params, pre_dispatch, error_score)\u001b[0m\n\u001b[0;32m    513\u001b[0m     \u001b[0mscorer\u001b[0m \u001b[1;33m=\u001b[0m \u001b[0mcheck_scoring\u001b[0m\u001b[1;33m(\u001b[0m\u001b[0mestimator\u001b[0m\u001b[1;33m,\u001b[0m \u001b[0mscoring\u001b[0m\u001b[1;33m=\u001b[0m\u001b[0mscoring\u001b[0m\u001b[1;33m)\u001b[0m\u001b[1;33m\u001b[0m\u001b[1;33m\u001b[0m\u001b[0m\n\u001b[0;32m    514\u001b[0m \u001b[1;33m\u001b[0m\u001b[0m\n\u001b[1;32m--> 515\u001b[1;33m     cv_results = cross_validate(\n\u001b[0m\u001b[0;32m    516\u001b[0m         \u001b[0mestimator\u001b[0m\u001b[1;33m=\u001b[0m\u001b[0mestimator\u001b[0m\u001b[1;33m,\u001b[0m\u001b[1;33m\u001b[0m\u001b[1;33m\u001b[0m\u001b[0m\n\u001b[0;32m    517\u001b[0m         \u001b[0mX\u001b[0m\u001b[1;33m=\u001b[0m\u001b[0mX\u001b[0m\u001b[1;33m,\u001b[0m\u001b[1;33m\u001b[0m\u001b[1;33m\u001b[0m\u001b[0m\n",
      "\u001b[1;32m~\\anaconda3\\lib\\site-packages\\sklearn\\model_selection\\_validation.py\u001b[0m in \u001b[0;36mcross_validate\u001b[1;34m(estimator, X, y, groups, scoring, cv, n_jobs, verbose, fit_params, pre_dispatch, return_train_score, return_estimator, error_score)\u001b[0m\n\u001b[0;32m    264\u001b[0m     \u001b[1;31m# independent, and that it is pickle-able.\u001b[0m\u001b[1;33m\u001b[0m\u001b[1;33m\u001b[0m\u001b[1;33m\u001b[0m\u001b[0m\n\u001b[0;32m    265\u001b[0m     \u001b[0mparallel\u001b[0m \u001b[1;33m=\u001b[0m \u001b[0mParallel\u001b[0m\u001b[1;33m(\u001b[0m\u001b[0mn_jobs\u001b[0m\u001b[1;33m=\u001b[0m\u001b[0mn_jobs\u001b[0m\u001b[1;33m,\u001b[0m \u001b[0mverbose\u001b[0m\u001b[1;33m=\u001b[0m\u001b[0mverbose\u001b[0m\u001b[1;33m,\u001b[0m \u001b[0mpre_dispatch\u001b[0m\u001b[1;33m=\u001b[0m\u001b[0mpre_dispatch\u001b[0m\u001b[1;33m)\u001b[0m\u001b[1;33m\u001b[0m\u001b[1;33m\u001b[0m\u001b[0m\n\u001b[1;32m--> 266\u001b[1;33m     results = parallel(\n\u001b[0m\u001b[0;32m    267\u001b[0m         delayed(_fit_and_score)(\n\u001b[0;32m    268\u001b[0m             \u001b[0mclone\u001b[0m\u001b[1;33m(\u001b[0m\u001b[0mestimator\u001b[0m\u001b[1;33m)\u001b[0m\u001b[1;33m,\u001b[0m\u001b[1;33m\u001b[0m\u001b[1;33m\u001b[0m\u001b[0m\n",
      "\u001b[1;32m~\\anaconda3\\lib\\site-packages\\sklearn\\utils\\parallel.py\u001b[0m in \u001b[0;36m__call__\u001b[1;34m(self, iterable)\u001b[0m\n\u001b[0;32m     61\u001b[0m             \u001b[1;32mfor\u001b[0m \u001b[0mdelayed_func\u001b[0m\u001b[1;33m,\u001b[0m \u001b[0margs\u001b[0m\u001b[1;33m,\u001b[0m \u001b[0mkwargs\u001b[0m \u001b[1;32min\u001b[0m \u001b[0miterable\u001b[0m\u001b[1;33m\u001b[0m\u001b[1;33m\u001b[0m\u001b[0m\n\u001b[0;32m     62\u001b[0m         )\n\u001b[1;32m---> 63\u001b[1;33m         \u001b[1;32mreturn\u001b[0m \u001b[0msuper\u001b[0m\u001b[1;33m(\u001b[0m\u001b[1;33m)\u001b[0m\u001b[1;33m.\u001b[0m\u001b[0m__call__\u001b[0m\u001b[1;33m(\u001b[0m\u001b[0miterable_with_config\u001b[0m\u001b[1;33m)\u001b[0m\u001b[1;33m\u001b[0m\u001b[1;33m\u001b[0m\u001b[0m\n\u001b[0m\u001b[0;32m     64\u001b[0m \u001b[1;33m\u001b[0m\u001b[0m\n\u001b[0;32m     65\u001b[0m \u001b[1;33m\u001b[0m\u001b[0m\n",
      "\u001b[1;32m~\\anaconda3\\lib\\site-packages\\joblib\\parallel.py\u001b[0m in \u001b[0;36m__call__\u001b[1;34m(self, iterable)\u001b[0m\n\u001b[0;32m   1086\u001b[0m                 \u001b[0mself\u001b[0m\u001b[1;33m.\u001b[0m\u001b[0m_iterating\u001b[0m \u001b[1;33m=\u001b[0m \u001b[0mself\u001b[0m\u001b[1;33m.\u001b[0m\u001b[0m_original_iterator\u001b[0m \u001b[1;32mis\u001b[0m \u001b[1;32mnot\u001b[0m \u001b[1;32mNone\u001b[0m\u001b[1;33m\u001b[0m\u001b[1;33m\u001b[0m\u001b[0m\n\u001b[0;32m   1087\u001b[0m \u001b[1;33m\u001b[0m\u001b[0m\n\u001b[1;32m-> 1088\u001b[1;33m             \u001b[1;32mwhile\u001b[0m \u001b[0mself\u001b[0m\u001b[1;33m.\u001b[0m\u001b[0mdispatch_one_batch\u001b[0m\u001b[1;33m(\u001b[0m\u001b[0miterator\u001b[0m\u001b[1;33m)\u001b[0m\u001b[1;33m:\u001b[0m\u001b[1;33m\u001b[0m\u001b[1;33m\u001b[0m\u001b[0m\n\u001b[0m\u001b[0;32m   1089\u001b[0m                 \u001b[1;32mpass\u001b[0m\u001b[1;33m\u001b[0m\u001b[1;33m\u001b[0m\u001b[0m\n\u001b[0;32m   1090\u001b[0m \u001b[1;33m\u001b[0m\u001b[0m\n",
      "\u001b[1;32m~\\anaconda3\\lib\\site-packages\\joblib\\parallel.py\u001b[0m in \u001b[0;36mdispatch_one_batch\u001b[1;34m(self, iterator)\u001b[0m\n\u001b[0;32m    899\u001b[0m                 \u001b[1;32mreturn\u001b[0m \u001b[1;32mFalse\u001b[0m\u001b[1;33m\u001b[0m\u001b[1;33m\u001b[0m\u001b[0m\n\u001b[0;32m    900\u001b[0m             \u001b[1;32melse\u001b[0m\u001b[1;33m:\u001b[0m\u001b[1;33m\u001b[0m\u001b[1;33m\u001b[0m\u001b[0m\n\u001b[1;32m--> 901\u001b[1;33m                 \u001b[0mself\u001b[0m\u001b[1;33m.\u001b[0m\u001b[0m_dispatch\u001b[0m\u001b[1;33m(\u001b[0m\u001b[0mtasks\u001b[0m\u001b[1;33m)\u001b[0m\u001b[1;33m\u001b[0m\u001b[1;33m\u001b[0m\u001b[0m\n\u001b[0m\u001b[0;32m    902\u001b[0m                 \u001b[1;32mreturn\u001b[0m \u001b[1;32mTrue\u001b[0m\u001b[1;33m\u001b[0m\u001b[1;33m\u001b[0m\u001b[0m\n\u001b[0;32m    903\u001b[0m \u001b[1;33m\u001b[0m\u001b[0m\n",
      "\u001b[1;32m~\\anaconda3\\lib\\site-packages\\joblib\\parallel.py\u001b[0m in \u001b[0;36m_dispatch\u001b[1;34m(self, batch)\u001b[0m\n\u001b[0;32m    817\u001b[0m         \u001b[1;32mwith\u001b[0m \u001b[0mself\u001b[0m\u001b[1;33m.\u001b[0m\u001b[0m_lock\u001b[0m\u001b[1;33m:\u001b[0m\u001b[1;33m\u001b[0m\u001b[1;33m\u001b[0m\u001b[0m\n\u001b[0;32m    818\u001b[0m             \u001b[0mjob_idx\u001b[0m \u001b[1;33m=\u001b[0m \u001b[0mlen\u001b[0m\u001b[1;33m(\u001b[0m\u001b[0mself\u001b[0m\u001b[1;33m.\u001b[0m\u001b[0m_jobs\u001b[0m\u001b[1;33m)\u001b[0m\u001b[1;33m\u001b[0m\u001b[1;33m\u001b[0m\u001b[0m\n\u001b[1;32m--> 819\u001b[1;33m             \u001b[0mjob\u001b[0m \u001b[1;33m=\u001b[0m \u001b[0mself\u001b[0m\u001b[1;33m.\u001b[0m\u001b[0m_backend\u001b[0m\u001b[1;33m.\u001b[0m\u001b[0mapply_async\u001b[0m\u001b[1;33m(\u001b[0m\u001b[0mbatch\u001b[0m\u001b[1;33m,\u001b[0m \u001b[0mcallback\u001b[0m\u001b[1;33m=\u001b[0m\u001b[0mcb\u001b[0m\u001b[1;33m)\u001b[0m\u001b[1;33m\u001b[0m\u001b[1;33m\u001b[0m\u001b[0m\n\u001b[0m\u001b[0;32m    820\u001b[0m             \u001b[1;31m# A job can complete so quickly than its callback is\u001b[0m\u001b[1;33m\u001b[0m\u001b[1;33m\u001b[0m\u001b[1;33m\u001b[0m\u001b[0m\n\u001b[0;32m    821\u001b[0m             \u001b[1;31m# called before we get here, causing self._jobs to\u001b[0m\u001b[1;33m\u001b[0m\u001b[1;33m\u001b[0m\u001b[1;33m\u001b[0m\u001b[0m\n",
      "\u001b[1;32m~\\anaconda3\\lib\\site-packages\\joblib\\_parallel_backends.py\u001b[0m in \u001b[0;36mapply_async\u001b[1;34m(self, func, callback)\u001b[0m\n\u001b[0;32m    206\u001b[0m     \u001b[1;32mdef\u001b[0m \u001b[0mapply_async\u001b[0m\u001b[1;33m(\u001b[0m\u001b[0mself\u001b[0m\u001b[1;33m,\u001b[0m \u001b[0mfunc\u001b[0m\u001b[1;33m,\u001b[0m \u001b[0mcallback\u001b[0m\u001b[1;33m=\u001b[0m\u001b[1;32mNone\u001b[0m\u001b[1;33m)\u001b[0m\u001b[1;33m:\u001b[0m\u001b[1;33m\u001b[0m\u001b[1;33m\u001b[0m\u001b[0m\n\u001b[0;32m    207\u001b[0m         \u001b[1;34m\"\"\"Schedule a func to be run\"\"\"\u001b[0m\u001b[1;33m\u001b[0m\u001b[1;33m\u001b[0m\u001b[0m\n\u001b[1;32m--> 208\u001b[1;33m         \u001b[0mresult\u001b[0m \u001b[1;33m=\u001b[0m \u001b[0mImmediateResult\u001b[0m\u001b[1;33m(\u001b[0m\u001b[0mfunc\u001b[0m\u001b[1;33m)\u001b[0m\u001b[1;33m\u001b[0m\u001b[1;33m\u001b[0m\u001b[0m\n\u001b[0m\u001b[0;32m    209\u001b[0m         \u001b[1;32mif\u001b[0m \u001b[0mcallback\u001b[0m\u001b[1;33m:\u001b[0m\u001b[1;33m\u001b[0m\u001b[1;33m\u001b[0m\u001b[0m\n\u001b[0;32m    210\u001b[0m             \u001b[0mcallback\u001b[0m\u001b[1;33m(\u001b[0m\u001b[0mresult\u001b[0m\u001b[1;33m)\u001b[0m\u001b[1;33m\u001b[0m\u001b[1;33m\u001b[0m\u001b[0m\n",
      "\u001b[1;32m~\\anaconda3\\lib\\site-packages\\joblib\\_parallel_backends.py\u001b[0m in \u001b[0;36m__init__\u001b[1;34m(self, batch)\u001b[0m\n\u001b[0;32m    595\u001b[0m         \u001b[1;31m# Don't delay the application, to avoid keeping the input\u001b[0m\u001b[1;33m\u001b[0m\u001b[1;33m\u001b[0m\u001b[1;33m\u001b[0m\u001b[0m\n\u001b[0;32m    596\u001b[0m         \u001b[1;31m# arguments in memory\u001b[0m\u001b[1;33m\u001b[0m\u001b[1;33m\u001b[0m\u001b[1;33m\u001b[0m\u001b[0m\n\u001b[1;32m--> 597\u001b[1;33m         \u001b[0mself\u001b[0m\u001b[1;33m.\u001b[0m\u001b[0mresults\u001b[0m \u001b[1;33m=\u001b[0m \u001b[0mbatch\u001b[0m\u001b[1;33m(\u001b[0m\u001b[1;33m)\u001b[0m\u001b[1;33m\u001b[0m\u001b[1;33m\u001b[0m\u001b[0m\n\u001b[0m\u001b[0;32m    598\u001b[0m \u001b[1;33m\u001b[0m\u001b[0m\n\u001b[0;32m    599\u001b[0m     \u001b[1;32mdef\u001b[0m \u001b[0mget\u001b[0m\u001b[1;33m(\u001b[0m\u001b[0mself\u001b[0m\u001b[1;33m)\u001b[0m\u001b[1;33m:\u001b[0m\u001b[1;33m\u001b[0m\u001b[1;33m\u001b[0m\u001b[0m\n",
      "\u001b[1;32m~\\anaconda3\\lib\\site-packages\\joblib\\parallel.py\u001b[0m in \u001b[0;36m__call__\u001b[1;34m(self)\u001b[0m\n\u001b[0;32m    286\u001b[0m         \u001b[1;31m# change the default number of processes to -1\u001b[0m\u001b[1;33m\u001b[0m\u001b[1;33m\u001b[0m\u001b[1;33m\u001b[0m\u001b[0m\n\u001b[0;32m    287\u001b[0m         \u001b[1;32mwith\u001b[0m \u001b[0mparallel_backend\u001b[0m\u001b[1;33m(\u001b[0m\u001b[0mself\u001b[0m\u001b[1;33m.\u001b[0m\u001b[0m_backend\u001b[0m\u001b[1;33m,\u001b[0m \u001b[0mn_jobs\u001b[0m\u001b[1;33m=\u001b[0m\u001b[0mself\u001b[0m\u001b[1;33m.\u001b[0m\u001b[0m_n_jobs\u001b[0m\u001b[1;33m)\u001b[0m\u001b[1;33m:\u001b[0m\u001b[1;33m\u001b[0m\u001b[1;33m\u001b[0m\u001b[0m\n\u001b[1;32m--> 288\u001b[1;33m             return [func(*args, **kwargs)\n\u001b[0m\u001b[0;32m    289\u001b[0m                     for func, args, kwargs in self.items]\n\u001b[0;32m    290\u001b[0m \u001b[1;33m\u001b[0m\u001b[0m\n",
      "\u001b[1;32m~\\anaconda3\\lib\\site-packages\\joblib\\parallel.py\u001b[0m in \u001b[0;36m<listcomp>\u001b[1;34m(.0)\u001b[0m\n\u001b[0;32m    286\u001b[0m         \u001b[1;31m# change the default number of processes to -1\u001b[0m\u001b[1;33m\u001b[0m\u001b[1;33m\u001b[0m\u001b[1;33m\u001b[0m\u001b[0m\n\u001b[0;32m    287\u001b[0m         \u001b[1;32mwith\u001b[0m \u001b[0mparallel_backend\u001b[0m\u001b[1;33m(\u001b[0m\u001b[0mself\u001b[0m\u001b[1;33m.\u001b[0m\u001b[0m_backend\u001b[0m\u001b[1;33m,\u001b[0m \u001b[0mn_jobs\u001b[0m\u001b[1;33m=\u001b[0m\u001b[0mself\u001b[0m\u001b[1;33m.\u001b[0m\u001b[0m_n_jobs\u001b[0m\u001b[1;33m)\u001b[0m\u001b[1;33m:\u001b[0m\u001b[1;33m\u001b[0m\u001b[1;33m\u001b[0m\u001b[0m\n\u001b[1;32m--> 288\u001b[1;33m             return [func(*args, **kwargs)\n\u001b[0m\u001b[0;32m    289\u001b[0m                     for func, args, kwargs in self.items]\n\u001b[0;32m    290\u001b[0m \u001b[1;33m\u001b[0m\u001b[0m\n",
      "\u001b[1;32m~\\anaconda3\\lib\\site-packages\\sklearn\\utils\\parallel.py\u001b[0m in \u001b[0;36m__call__\u001b[1;34m(self, *args, **kwargs)\u001b[0m\n\u001b[0;32m    121\u001b[0m             \u001b[0mconfig\u001b[0m \u001b[1;33m=\u001b[0m \u001b[1;33m{\u001b[0m\u001b[1;33m}\u001b[0m\u001b[1;33m\u001b[0m\u001b[1;33m\u001b[0m\u001b[0m\n\u001b[0;32m    122\u001b[0m         \u001b[1;32mwith\u001b[0m \u001b[0mconfig_context\u001b[0m\u001b[1;33m(\u001b[0m\u001b[1;33m**\u001b[0m\u001b[0mconfig\u001b[0m\u001b[1;33m)\u001b[0m\u001b[1;33m:\u001b[0m\u001b[1;33m\u001b[0m\u001b[1;33m\u001b[0m\u001b[0m\n\u001b[1;32m--> 123\u001b[1;33m             \u001b[1;32mreturn\u001b[0m \u001b[0mself\u001b[0m\u001b[1;33m.\u001b[0m\u001b[0mfunction\u001b[0m\u001b[1;33m(\u001b[0m\u001b[1;33m*\u001b[0m\u001b[0margs\u001b[0m\u001b[1;33m,\u001b[0m \u001b[1;33m**\u001b[0m\u001b[0mkwargs\u001b[0m\u001b[1;33m)\u001b[0m\u001b[1;33m\u001b[0m\u001b[1;33m\u001b[0m\u001b[0m\n\u001b[0m",
      "\u001b[1;32m~\\anaconda3\\lib\\site-packages\\sklearn\\model_selection\\_validation.py\u001b[0m in \u001b[0;36m_fit_and_score\u001b[1;34m(estimator, X, y, scorer, train, test, verbose, parameters, fit_params, return_train_score, return_parameters, return_n_test_samples, return_times, return_estimator, split_progress, candidate_progress, error_score)\u001b[0m\n\u001b[0;32m    684\u001b[0m             \u001b[0mestimator\u001b[0m\u001b[1;33m.\u001b[0m\u001b[0mfit\u001b[0m\u001b[1;33m(\u001b[0m\u001b[0mX_train\u001b[0m\u001b[1;33m,\u001b[0m \u001b[1;33m**\u001b[0m\u001b[0mfit_params\u001b[0m\u001b[1;33m)\u001b[0m\u001b[1;33m\u001b[0m\u001b[1;33m\u001b[0m\u001b[0m\n\u001b[0;32m    685\u001b[0m         \u001b[1;32melse\u001b[0m\u001b[1;33m:\u001b[0m\u001b[1;33m\u001b[0m\u001b[1;33m\u001b[0m\u001b[0m\n\u001b[1;32m--> 686\u001b[1;33m             \u001b[0mestimator\u001b[0m\u001b[1;33m.\u001b[0m\u001b[0mfit\u001b[0m\u001b[1;33m(\u001b[0m\u001b[0mX_train\u001b[0m\u001b[1;33m,\u001b[0m \u001b[0my_train\u001b[0m\u001b[1;33m,\u001b[0m \u001b[1;33m**\u001b[0m\u001b[0mfit_params\u001b[0m\u001b[1;33m)\u001b[0m\u001b[1;33m\u001b[0m\u001b[1;33m\u001b[0m\u001b[0m\n\u001b[0m\u001b[0;32m    687\u001b[0m \u001b[1;33m\u001b[0m\u001b[0m\n\u001b[0;32m    688\u001b[0m     \u001b[1;32mexcept\u001b[0m \u001b[0mException\u001b[0m\u001b[1;33m:\u001b[0m\u001b[1;33m\u001b[0m\u001b[1;33m\u001b[0m\u001b[0m\n",
      "\u001b[1;32m~\\anaconda3\\lib\\site-packages\\sklearn\\svm\\_base.py\u001b[0m in \u001b[0;36mfit\u001b[1;34m(self, X, y, sample_weight)\u001b[0m\n\u001b[0;32m    250\u001b[0m \u001b[1;33m\u001b[0m\u001b[0m\n\u001b[0;32m    251\u001b[0m         \u001b[0mseed\u001b[0m \u001b[1;33m=\u001b[0m \u001b[0mrnd\u001b[0m\u001b[1;33m.\u001b[0m\u001b[0mrandint\u001b[0m\u001b[1;33m(\u001b[0m\u001b[0mnp\u001b[0m\u001b[1;33m.\u001b[0m\u001b[0miinfo\u001b[0m\u001b[1;33m(\u001b[0m\u001b[1;34m\"i\"\u001b[0m\u001b[1;33m)\u001b[0m\u001b[1;33m.\u001b[0m\u001b[0mmax\u001b[0m\u001b[1;33m)\u001b[0m\u001b[1;33m\u001b[0m\u001b[1;33m\u001b[0m\u001b[0m\n\u001b[1;32m--> 252\u001b[1;33m         \u001b[0mfit\u001b[0m\u001b[1;33m(\u001b[0m\u001b[0mX\u001b[0m\u001b[1;33m,\u001b[0m \u001b[0my\u001b[0m\u001b[1;33m,\u001b[0m \u001b[0msample_weight\u001b[0m\u001b[1;33m,\u001b[0m \u001b[0msolver_type\u001b[0m\u001b[1;33m,\u001b[0m \u001b[0mkernel\u001b[0m\u001b[1;33m,\u001b[0m \u001b[0mrandom_seed\u001b[0m\u001b[1;33m=\u001b[0m\u001b[0mseed\u001b[0m\u001b[1;33m)\u001b[0m\u001b[1;33m\u001b[0m\u001b[1;33m\u001b[0m\u001b[0m\n\u001b[0m\u001b[0;32m    253\u001b[0m         \u001b[1;31m# see comment on the other call to np.iinfo in this file\u001b[0m\u001b[1;33m\u001b[0m\u001b[1;33m\u001b[0m\u001b[1;33m\u001b[0m\u001b[0m\n\u001b[0;32m    254\u001b[0m \u001b[1;33m\u001b[0m\u001b[0m\n",
      "\u001b[1;32m~\\anaconda3\\lib\\site-packages\\sklearn\\svm\\_base.py\u001b[0m in \u001b[0;36m_dense_fit\u001b[1;34m(self, X, y, sample_weight, solver_type, kernel, random_seed)\u001b[0m\n\u001b[0;32m    329\u001b[0m             \u001b[0mself\u001b[0m\u001b[1;33m.\u001b[0m\u001b[0mfit_status_\u001b[0m\u001b[1;33m,\u001b[0m\u001b[1;33m\u001b[0m\u001b[1;33m\u001b[0m\u001b[0m\n\u001b[0;32m    330\u001b[0m             \u001b[0mself\u001b[0m\u001b[1;33m.\u001b[0m\u001b[0m_num_iter\u001b[0m\u001b[1;33m,\u001b[0m\u001b[1;33m\u001b[0m\u001b[1;33m\u001b[0m\u001b[0m\n\u001b[1;32m--> 331\u001b[1;33m         \u001b[1;33m)\u001b[0m \u001b[1;33m=\u001b[0m \u001b[0mlibsvm\u001b[0m\u001b[1;33m.\u001b[0m\u001b[0mfit\u001b[0m\u001b[1;33m(\u001b[0m\u001b[1;33m\u001b[0m\u001b[1;33m\u001b[0m\u001b[0m\n\u001b[0m\u001b[0;32m    332\u001b[0m             \u001b[0mX\u001b[0m\u001b[1;33m,\u001b[0m\u001b[1;33m\u001b[0m\u001b[1;33m\u001b[0m\u001b[0m\n\u001b[0;32m    333\u001b[0m             \u001b[0my\u001b[0m\u001b[1;33m,\u001b[0m\u001b[1;33m\u001b[0m\u001b[1;33m\u001b[0m\u001b[0m\n",
      "\u001b[1;31mKeyboardInterrupt\u001b[0m: "
     ]
    }
   ],
   "source": [
    "#SVM\n",
    "svm_acc_list = []\n",
    "for j in range(15):\n",
    "    kfold_log = KFold(n_splits=j + 2, random_state=0, shuffle=True)\n",
    "    model = SVC(kernel='linear')\n",
    "    results = cross_val_score(model, X, y, cv=kfold_log)\n",
    "    # Output the accuracy. Calculate the mean and std across all folds.\n",
    "    print(f\"Accuracy of SVM with {j+2} number of splits : %.3f%% (%.3f%%)\" % \n",
    "          (results.mean()*100.0, results.std()*100.0))\n",
    "    svm_acc_list.append(results.mean()*100.0)\n",
    "\n",
    "print(f\"The best score in cross validating SVM is {round(max(svm_acc_list), 2)}\")"
   ]
  },
  {
   "cell_type": "code",
   "execution_count": 42,
   "metadata": {},
   "outputs": [
    {
     "name": "stdout",
     "output_type": "stream",
     "text": [
      "Accuracy of Random Forest with 2 number of splits : 90.617% (0.243%)\n",
      "Accuracy of Random Forest with 3 number of splits : 91.695% (1.621%)\n",
      "Accuracy of Random Forest with 4 number of splits : 91.158% (1.359%)\n",
      "Accuracy of Random Forest with 5 number of splits : 90.083% (2.155%)\n",
      "Accuracy of Random Forest with 6 number of splits : 91.697% (3.119%)\n",
      "Accuracy of Random Forest with 7 number of splits : 91.160% (3.117%)\n",
      "Accuracy of Random Forest with 8 number of splits : 91.703% (3.578%)\n",
      "Accuracy of Random Forest with 9 number of splits : 90.896% (2.939%)\n",
      "Accuracy of Random Forest with 10 number of splits : 91.159% (5.654%)\n",
      "Accuracy of Random Forest with 11 number of splits : 90.626% (4.816%)\n",
      "Accuracy of Random Forest with 12 number of splits : 91.431% (3.527%)\n",
      "Accuracy of Random Forest with 13 number of splits : 91.180% (4.786%)\n",
      "Accuracy of Random Forest with 14 number of splits : 91.168% (5.441%)\n",
      "Accuracy of Random Forest with 15 number of splits : 90.911% (5.339%)\n",
      "Accuracy of Random Forest with 16 number of splits : 91.452% (4.754%)\n",
      "The best score in cross validating random forest is 91.7\n"
     ]
    }
   ],
   "source": [
    "rf_acc_list = []\n",
    "for j in range(15):\n",
    "    kfold_log = KFold(n_splits=j + 2, random_state=0, shuffle=True)\n",
    "    model = RandomForestClassifier()\n",
    "    results = cross_val_score(model, X, y, cv=kfold_log)\n",
    "    # Output the accuracy. Calculate the mean and std across all folds.\n",
    "    print(f\"Accuracy of Random Forest with {j+2} number of splits : %.3f%% (%.3f%%)\" % \n",
    "          (results.mean()*100.0, results.std()*100.0))\n",
    "    rf_acc_list.append(results.mean()*100.0)\n",
    "\n",
    "print(f\"The best score in cross validating random forest is {round(max(rf_acc_list), 2)}\")"
   ]
  },
  {
   "cell_type": "code",
   "execution_count": 65,
   "metadata": {},
   "outputs": [],
   "source": [
    "#model = KNeighborsClassifier(n_neighbors=7, metric='manhattan')\n",
    "#model = GaussianNB()\n",
    "#svclassifier = SVC(kernel='linear')\n",
    "#RandomForestClassifier()"
   ]
  },
  {
   "cell_type": "markdown",
   "metadata": {},
   "source": [
    "#### Assesment of model\n",
    "\n",
    "- Assessing optimal model = Random Forest\n",
    "- Assessing optimal models = SVM"
   ]
  },
  {
   "cell_type": "code",
   "execution_count": 61,
   "metadata": {},
   "outputs": [],
   "source": [
    "rf_model = RandomForestClassifier()\n",
    "result = rf_model.fit(x_train, y_train)\n"
   ]
  },
  {
   "cell_type": "code",
   "execution_count": 62,
   "metadata": {},
   "outputs": [
    {
     "name": "stdout",
     "output_type": "stream",
     "text": [
      "0.8933333333333333\n"
     ]
    }
   ],
   "source": [
    "eval_ = rf_model.score(x_test, y_test)\n",
    "preds = rf_model.predict(x_test)\n",
    "#auc = roc_auc_score(y_test, preds)\n",
    "\n",
    "print(eval_)"
   ]
  },
  {
   "cell_type": "code",
   "execution_count": 68,
   "metadata": {},
   "outputs": [],
   "source": [
    "#Hyperparameter optimization\n",
    "grid_space={'max_depth':[3,5,10,None],\n",
    "              'n_estimators':[10,100,200],\n",
    "              'max_features':[1,3,5,7],\n",
    "              'min_samples_leaf':[1,2,3],\n",
    "              'min_samples_split':[1,2,3]\n",
    "           }\n",
    "\n",
    "\n"
   ]
  },
  {
   "cell_type": "code",
   "execution_count": 69,
   "metadata": {
    "scrolled": true
   },
   "outputs": [
    {
     "name": "stderr",
     "output_type": "stream",
     "text": [
      "C:\\Users\\MICHEAL\\anaconda3\\lib\\site-packages\\sklearn\\model_selection\\_validation.py:378: FitFailedWarning: \n",
      "432 fits failed out of a total of 1296.\n",
      "The score on these train-test partitions for these parameters will be set to nan.\n",
      "If these failures are not expected, you can try to debug them by setting error_score='raise'.\n",
      "\n",
      "Below are more details about the failures:\n",
      "--------------------------------------------------------------------------------\n",
      "432 fits failed with the following error:\n",
      "Traceback (most recent call last):\n",
      "  File \"C:\\Users\\MICHEAL\\anaconda3\\lib\\site-packages\\sklearn\\model_selection\\_validation.py\", line 686, in _fit_and_score\n",
      "    estimator.fit(X_train, y_train, **fit_params)\n",
      "  File \"C:\\Users\\MICHEAL\\anaconda3\\lib\\site-packages\\sklearn\\ensemble\\_forest.py\", line 340, in fit\n",
      "    self._validate_params()\n",
      "  File \"C:\\Users\\MICHEAL\\anaconda3\\lib\\site-packages\\sklearn\\base.py\", line 600, in _validate_params\n",
      "    validate_parameter_constraints(\n",
      "  File \"C:\\Users\\MICHEAL\\anaconda3\\lib\\site-packages\\sklearn\\utils\\_param_validation.py\", line 97, in validate_parameter_constraints\n",
      "    raise InvalidParameterError(\n",
      "sklearn.utils._param_validation.InvalidParameterError: The 'min_samples_split' parameter of RandomForestClassifier must be an int in the range [2, inf) or a float in the range (0.0, 1.0]. Got 1 instead.\n",
      "\n",
      "  warnings.warn(some_fits_failed_message, FitFailedWarning)\n",
      "C:\\Users\\MICHEAL\\anaconda3\\lib\\site-packages\\sklearn\\model_selection\\_search.py:952: UserWarning: One or more of the test scores are non-finite: [       nan        nan        nan 0.81490323 0.86322581 0.86053763\n",
      " 0.83124731 0.86860215 0.87129032        nan        nan        nan\n",
      " 0.78795699 0.85516129 0.87935484 0.79608602 0.86864516 0.86860215\n",
      "        nan        nan        nan 0.87939785 0.86322581 0.86595699\n",
      " 0.8444086  0.88473118 0.88206452        nan        nan        nan\n",
      " 0.88744086 0.8927957  0.89817204 0.87677419 0.89817204 0.89817204\n",
      "        nan        nan        nan 0.86870968 0.89817204 0.89817204\n",
      " 0.88741935 0.89817204 0.89817204        nan        nan        nan\n",
      " 0.89010753 0.89817204 0.89548387 0.88208602 0.89817204 0.89817204\n",
      "        nan        nan        nan 0.90623656 0.89817204 0.89817204\n",
      " 0.91156989 0.90086022 0.89817204        nan        nan        nan\n",
      " 0.89548387 0.90354839 0.89817204 0.88204301 0.90086022 0.90086022\n",
      "        nan        nan        nan 0.89819355 0.90086022 0.89817204\n",
      " 0.90350538 0.89817204 0.89817204        nan        nan        nan\n",
      " 0.90086022 0.90086022 0.90086022 0.89815054 0.90890323 0.90086022\n",
      "        nan        nan        nan 0.90623656 0.90892473 0.90354839\n",
      " 0.9115914  0.90890323 0.90623656        nan        nan        nan\n",
      " 0.90350538 0.89817204 0.90623656 0.90086022 0.90623656 0.90354839\n",
      "        nan        nan        nan 0.87397849 0.88741935 0.87666667\n",
      " 0.82034409 0.89010753 0.88473118        nan        nan        nan\n",
      " 0.85522581 0.87666667 0.86860215 0.85260215 0.86593548 0.86860215\n",
      "        nan        nan        nan 0.83101075 0.86864516 0.87131183\n",
      " 0.84169892 0.86860215 0.87935484        nan        nan        nan\n",
      " 0.89541935 0.90623656 0.90623656 0.89815054 0.90086022 0.90086022\n",
      "        nan        nan        nan 0.89552688 0.8927957  0.90354839\n",
      " 0.91425806 0.90892473 0.90086022        nan        nan        nan\n",
      " 0.90083871 0.89817204 0.90086022 0.8927957  0.90086022 0.89817204\n",
      "        nan        nan        nan 0.9008172  0.90888172 0.90621505\n",
      " 0.89810753 0.90623656 0.90623656        nan        nan        nan\n",
      " 0.90883871 0.90623656 0.90354839 0.89015054 0.90621505 0.90086022\n",
      "        nan        nan        nan 0.89277419 0.90086022 0.90623656\n",
      " 0.90619355 0.90086022 0.90086022        nan        nan        nan\n",
      " 0.89008602 0.91423656 0.91154839 0.90888172 0.90619355 0.90619355\n",
      "        nan        nan        nan 0.89812903 0.90352688 0.90888172\n",
      " 0.9007957  0.90888172 0.90621505        nan        nan        nan\n",
      " 0.8927957  0.90086022 0.90621505 0.90354839 0.90621505 0.90621505\n",
      "        nan        nan        nan 0.84176344 0.88204301 0.88473118\n",
      " 0.84176344 0.87666667 0.87666667        nan        nan        nan\n",
      " 0.90083871 0.87397849 0.88741935 0.84991398 0.88473118 0.88475269\n",
      "        nan        nan        nan 0.86324731 0.87129032 0.89010753\n",
      " 0.87662366 0.87131183 0.87131183        nan        nan        nan\n",
      " 0.87935484 0.89817204 0.90348387 0.88473118 0.89817204 0.90083871\n",
      "        nan        nan        nan 0.88202151 0.89817204 0.8927957\n",
      " 0.90344086 0.8927957  0.89548387        nan        nan        nan\n",
      " 0.90354839 0.90086022 0.89817204 0.89548387 0.89548387 0.89817204\n",
      "        nan        nan        nan 0.89817204 0.90886022 0.90350538\n",
      " 0.90352688 0.90619355 0.90886022        nan        nan        nan\n",
      " 0.88739785 0.90888172 0.90083871 0.90888172 0.90352688 0.90352688\n",
      "        nan        nan        nan 0.90083871 0.89546237 0.90086022\n",
      " 0.8927957  0.90086022 0.90354839        nan        nan        nan\n",
      " 0.90623656 0.90886022 0.90886022 0.89819355 0.90617204 0.9007957\n",
      "        nan        nan        nan 0.90083871 0.90888172 0.90350538\n",
      " 0.90617204 0.90083871 0.90617204        nan        nan        nan\n",
      " 0.89006452 0.90623656 0.90621505 0.90350538 0.90086022 0.90621505\n",
      "        nan        nan        nan 0.84178495 0.8928172  0.87664516\n",
      " 0.8392043  0.87397849 0.89008602        nan        nan        nan\n",
      " 0.85787097 0.87129032 0.87935484 0.83905376 0.88204301 0.87935484\n",
      "        nan        nan        nan 0.85253763 0.88204301 0.87668817\n",
      " 0.85249462 0.88204301 0.87668817        nan        nan        nan\n",
      " 0.88475269 0.90350538 0.90888172 0.88206452 0.89817204 0.90350538\n",
      "        nan        nan        nan 0.88202151 0.89548387 0.90086022\n",
      " 0.89812903 0.8927957  0.89548387        nan        nan        nan\n",
      " 0.9116129  0.89010753 0.90086022 0.89808602 0.89548387 0.90086022\n",
      "        nan        nan        nan 0.88737634 0.90350538 0.90888172\n",
      " 0.89010753 0.90617204 0.90617204        nan        nan        nan\n",
      " 0.90090323 0.89546237 0.90350538 0.89277419 0.90621505 0.89817204\n",
      "        nan        nan        nan 0.89546237 0.8927957  0.89817204\n",
      " 0.90086022 0.89548387 0.89817204        nan        nan        nan\n",
      " 0.89546237 0.90886022 0.90083871 0.89008602 0.90617204 0.90617204\n",
      "        nan        nan        nan 0.90348387 0.90619355 0.90619355\n",
      " 0.90619355 0.90888172 0.90619355        nan        nan        nan\n",
      " 0.89552688 0.90083871 0.90354839 0.90083871 0.91156989 0.90352688]\n",
      "  warnings.warn(\n"
     ]
    }
   ],
   "source": [
    "grid = GridSearchCV(rf_model, param_grid=grid_space, cv=3, scoring='accuracy')\n",
    "model_grid = grid.fit(X,y)"
   ]
  },
  {
   "cell_type": "code",
   "execution_count": 70,
   "metadata": {},
   "outputs": [
    {
     "name": "stdout",
     "output_type": "stream",
     "text": [
      "Best hyperparameters are: {'max_depth': 5, 'max_features': 3, 'min_samples_leaf': 2, 'min_samples_split': 3, 'n_estimators': 10}\n",
      "Best score is: 0.914258064516129\n"
     ]
    }
   ],
   "source": [
    "print('Best hyperparameters are: '+str(model_grid.best_params_))\n",
    "print('Best score is: '+str(model_grid.best_score_))"
   ]
  },
  {
   "cell_type": "markdown",
   "metadata": {},
   "source": [
    "##### Retraining  random forest classsifier on optimized parameters\n"
   ]
  },
  {
   "cell_type": "code",
   "execution_count": 63,
   "metadata": {},
   "outputs": [],
   "source": [
    "#rf_model = RandomForestClassifier(max_depth = None, max_features = 5, min_samples_leaf = 2, \n",
    "#                                  min_samples_split = 2, n_estimators = 10)\n",
    "\n",
    "rf_model = RandomForestClassifier(max_depth = 5, max_features = 3, min_samples_leaf = 2, \n",
    "                                  min_samples_split = 3, n_estimators = 10)\n",
    "#rf_model = RandomForestClassifier()\n",
    "result = rf_model.fit(x_train, y_train)"
   ]
  },
  {
   "cell_type": "code",
   "execution_count": 64,
   "metadata": {},
   "outputs": [
    {
     "name": "stdout",
     "output_type": "stream",
     "text": [
      "0.9066666666666666\n"
     ]
    }
   ],
   "source": [
    "eval_ = rf_model.score(x_test, y_test)\n",
    "preds = rf_model.predict(x_test)\n",
    "#auc = roc_auc_score(y_test, preds)\n",
    "\n",
    "print(eval_)"
   ]
  },
  {
   "cell_type": "code",
   "execution_count": 123,
   "metadata": {},
   "outputs": [
    {
     "data": {
      "text/plain": [
       "['./alzheimers_pretrain_wn_random_forest.joblib']"
      ]
     },
     "execution_count": 123,
     "metadata": {},
     "output_type": "execute_result"
    }
   ],
   "source": [
    "#save model\n",
    "#import joblib\n",
    "#joblib.dump(rf_model, \"./alzheimers_pretrain_wn_random_forest.joblib\")\n",
    "#joblib.dump(rf_model, \"./alzheimers_pretrain_random_forest.joblib\")"
   ]
  },
  {
   "cell_type": "code",
   "execution_count": 68,
   "metadata": {},
   "outputs": [],
   "source": [
    "loaded_rf = joblib.load(\"./alzheimers_pretrain_random_forest.joblib\")"
   ]
  },
  {
   "cell_type": "code",
   "execution_count": 154,
   "metadata": {},
   "outputs": [
    {
     "name": "stdout",
     "output_type": "stream",
     "text": [
      "0.92\n"
     ]
    }
   ],
   "source": [
    "eval_ = loaded_rf.score(x_test, y_test)\n",
    "preds = loaded_rf.predict(x_test)\n",
    "#auc = roc_auc_score(y_test, preds)\n",
    "\n",
    "print(eval_)"
   ]
  },
  {
   "cell_type": "code",
   "execution_count": null,
   "metadata": {},
   "outputs": [],
   "source": []
  },
  {
   "cell_type": "markdown",
   "metadata": {},
   "source": [
    "###  SVM"
   ]
  },
  {
   "cell_type": "code",
   "execution_count": 44,
   "metadata": {},
   "outputs": [
    {
     "name": "stdout",
     "output_type": "stream",
     "text": [
      "0.9066666666666666\n"
     ]
    }
   ],
   "source": [
    "svm_model = SVC(kernel='linear')\n",
    "sv_result = svm_model.fit(x_train, y_train)\n",
    "\n",
    "eval_ = svm_model.score(x_test, y_test)\n",
    "preds = svm_model.predict(x_test)\n",
    "#auc = roc_auc_score(y_test, preds)\n",
    "\n",
    "print(eval_)"
   ]
  },
  {
   "cell_type": "code",
   "execution_count": 50,
   "metadata": {},
   "outputs": [],
   "source": [
    "svc_param_grid = {'C': [0.1, 1, 10, 100, 1000], \n",
    "              'gamma': [1, 0.1, 0.01, 0.001, 0.0001],\n",
    "              'kernel': ['rbf', \"linear\"]} \n"
   ]
  },
  {
   "cell_type": "code",
   "execution_count": 51,
   "metadata": {},
   "outputs": [
    {
     "name": "stdout",
     "output_type": "stream",
     "text": [
      "Fitting 5 folds for each of 50 candidates, totalling 250 fits\n",
      "[CV 1/5] END ........C=0.1, gamma=1, kernel=rbf;, score=0.507 total time=   0.0s\n",
      "[CV 2/5] END ........C=0.1, gamma=1, kernel=rbf;, score=0.507 total time=   0.0s\n",
      "[CV 3/5] END ........C=0.1, gamma=1, kernel=rbf;, score=0.507 total time=   0.0s\n",
      "[CV 4/5] END ........C=0.1, gamma=1, kernel=rbf;, score=0.514 total time=   0.0s\n",
      "[CV 5/5] END ........C=0.1, gamma=1, kernel=rbf;, score=0.514 total time=   0.0s\n",
      "[CV 1/5] END .....C=0.1, gamma=1, kernel=linear;, score=0.867 total time=  30.2s\n",
      "[CV 2/5] END .....C=0.1, gamma=1, kernel=linear;, score=0.840 total time=  21.5s\n",
      "[CV 3/5] END .....C=0.1, gamma=1, kernel=linear;, score=0.813 total time=  18.8s\n",
      "[CV 4/5] END .....C=0.1, gamma=1, kernel=linear;, score=0.865 total time=  18.2s\n",
      "[CV 5/5] END .....C=0.1, gamma=1, kernel=linear;, score=0.838 total time=  15.4s\n",
      "[CV 1/5] END ......C=0.1, gamma=0.1, kernel=rbf;, score=0.507 total time=   0.0s\n",
      "[CV 2/5] END ......C=0.1, gamma=0.1, kernel=rbf;, score=0.507 total time=   0.0s\n",
      "[CV 3/5] END ......C=0.1, gamma=0.1, kernel=rbf;, score=0.507 total time=   0.0s\n",
      "[CV 4/5] END ......C=0.1, gamma=0.1, kernel=rbf;, score=0.514 total time=   0.0s\n",
      "[CV 5/5] END ......C=0.1, gamma=0.1, kernel=rbf;, score=0.514 total time=   0.0s\n",
      "[CV 1/5] END ...C=0.1, gamma=0.1, kernel=linear;, score=0.867 total time=  30.2s\n",
      "[CV 2/5] END ...C=0.1, gamma=0.1, kernel=linear;, score=0.840 total time=  21.7s\n",
      "[CV 3/5] END ...C=0.1, gamma=0.1, kernel=linear;, score=0.813 total time=  18.8s\n",
      "[CV 4/5] END ...C=0.1, gamma=0.1, kernel=linear;, score=0.865 total time=  18.0s\n",
      "[CV 5/5] END ...C=0.1, gamma=0.1, kernel=linear;, score=0.838 total time=  15.3s\n",
      "[CV 1/5] END .....C=0.1, gamma=0.01, kernel=rbf;, score=0.507 total time=   0.0s\n",
      "[CV 2/5] END .....C=0.1, gamma=0.01, kernel=rbf;, score=0.507 total time=   0.0s\n",
      "[CV 3/5] END .....C=0.1, gamma=0.01, kernel=rbf;, score=0.507 total time=   0.0s\n",
      "[CV 4/5] END .....C=0.1, gamma=0.01, kernel=rbf;, score=0.514 total time=   0.0s\n",
      "[CV 5/5] END .....C=0.1, gamma=0.01, kernel=rbf;, score=0.514 total time=   0.0s\n",
      "[CV 1/5] END ..C=0.1, gamma=0.01, kernel=linear;, score=0.867 total time=  30.4s\n",
      "[CV 2/5] END ..C=0.1, gamma=0.01, kernel=linear;, score=0.840 total time=  21.5s\n",
      "[CV 3/5] END ..C=0.1, gamma=0.01, kernel=linear;, score=0.813 total time=  19.0s\n",
      "[CV 4/5] END ..C=0.1, gamma=0.01, kernel=linear;, score=0.865 total time=  18.1s\n",
      "[CV 5/5] END ..C=0.1, gamma=0.01, kernel=linear;, score=0.838 total time=  16.5s\n",
      "[CV 1/5] END ....C=0.1, gamma=0.001, kernel=rbf;, score=0.507 total time=   0.0s\n",
      "[CV 2/5] END ....C=0.1, gamma=0.001, kernel=rbf;, score=0.507 total time=   0.0s\n",
      "[CV 3/5] END ....C=0.1, gamma=0.001, kernel=rbf;, score=0.507 total time=   0.0s\n",
      "[CV 4/5] END ....C=0.1, gamma=0.001, kernel=rbf;, score=0.514 total time=   0.0s\n",
      "[CV 5/5] END ....C=0.1, gamma=0.001, kernel=rbf;, score=0.514 total time=   0.0s\n",
      "[CV 1/5] END .C=0.1, gamma=0.001, kernel=linear;, score=0.867 total time=  30.5s\n",
      "[CV 2/5] END .C=0.1, gamma=0.001, kernel=linear;, score=0.840 total time=  21.6s\n",
      "[CV 3/5] END .C=0.1, gamma=0.001, kernel=linear;, score=0.813 total time=  20.6s\n",
      "[CV 4/5] END .C=0.1, gamma=0.001, kernel=linear;, score=0.865 total time=  17.9s\n",
      "[CV 5/5] END .C=0.1, gamma=0.001, kernel=linear;, score=0.838 total time=  15.6s\n",
      "[CV 1/5] END ...C=0.1, gamma=0.0001, kernel=rbf;, score=0.507 total time=   0.0s\n",
      "[CV 2/5] END ...C=0.1, gamma=0.0001, kernel=rbf;, score=0.507 total time=   0.0s\n",
      "[CV 3/5] END ...C=0.1, gamma=0.0001, kernel=rbf;, score=0.507 total time=   0.0s\n",
      "[CV 4/5] END ...C=0.1, gamma=0.0001, kernel=rbf;, score=0.514 total time=   0.0s\n",
      "[CV 5/5] END ...C=0.1, gamma=0.0001, kernel=rbf;, score=0.514 total time=   0.0s\n",
      "[CV 1/5] END C=0.1, gamma=0.0001, kernel=linear;, score=0.867 total time=  31.0s\n",
      "[CV 2/5] END C=0.1, gamma=0.0001, kernel=linear;, score=0.840 total time=  21.3s\n",
      "[CV 3/5] END C=0.1, gamma=0.0001, kernel=linear;, score=0.813 total time=  18.9s\n",
      "[CV 4/5] END C=0.1, gamma=0.0001, kernel=linear;, score=0.865 total time=  18.4s\n",
      "[CV 5/5] END C=0.1, gamma=0.0001, kernel=linear;, score=0.838 total time=  15.7s\n",
      "[CV 1/5] END ..........C=1, gamma=1, kernel=rbf;, score=0.507 total time=   0.0s\n",
      "[CV 2/5] END ..........C=1, gamma=1, kernel=rbf;, score=0.507 total time=   0.0s\n",
      "[CV 3/5] END ..........C=1, gamma=1, kernel=rbf;, score=0.507 total time=   0.0s\n",
      "[CV 4/5] END ..........C=1, gamma=1, kernel=rbf;, score=0.514 total time=   0.0s\n",
      "[CV 5/5] END ..........C=1, gamma=1, kernel=rbf;, score=0.514 total time=   0.0s\n",
      "[CV 1/5] END .......C=1, gamma=1, kernel=linear;, score=0.907 total time=  41.8s\n",
      "[CV 2/5] END .......C=1, gamma=1, kernel=linear;, score=0.920 total time=  59.9s\n",
      "[CV 3/5] END .......C=1, gamma=1, kernel=linear;, score=0.893 total time= 1.4min\n",
      "[CV 4/5] END .......C=1, gamma=1, kernel=linear;, score=0.905 total time=  32.2s\n",
      "[CV 5/5] END .......C=1, gamma=1, kernel=linear;, score=0.905 total time= 1.3min\n",
      "[CV 1/5] END ........C=1, gamma=0.1, kernel=rbf;, score=0.533 total time=   0.0s\n",
      "[CV 2/5] END ........C=1, gamma=0.1, kernel=rbf;, score=0.493 total time=   0.0s\n",
      "[CV 3/5] END ........C=1, gamma=0.1, kernel=rbf;, score=0.533 total time=   0.0s\n",
      "[CV 4/5] END ........C=1, gamma=0.1, kernel=rbf;, score=0.514 total time=   0.0s\n",
      "[CV 5/5] END ........C=1, gamma=0.1, kernel=rbf;, score=0.514 total time=   0.0s\n",
      "[CV 1/5] END .....C=1, gamma=0.1, kernel=linear;, score=0.907 total time=  42.4s\n",
      "[CV 2/5] END .....C=1, gamma=0.1, kernel=linear;, score=0.920 total time=  58.2s\n",
      "[CV 3/5] END .....C=1, gamma=0.1, kernel=linear;, score=0.893 total time= 1.4min\n",
      "[CV 4/5] END .....C=1, gamma=0.1, kernel=linear;, score=0.905 total time=  32.3s\n",
      "[CV 5/5] END .....C=1, gamma=0.1, kernel=linear;, score=0.905 total time= 1.3min\n",
      "[CV 1/5] END .......C=1, gamma=0.01, kernel=rbf;, score=0.587 total time=   0.0s\n",
      "[CV 2/5] END .......C=1, gamma=0.01, kernel=rbf;, score=0.507 total time=   0.0s\n",
      "[CV 3/5] END .......C=1, gamma=0.01, kernel=rbf;, score=0.467 total time=   0.0s\n",
      "[CV 4/5] END .......C=1, gamma=0.01, kernel=rbf;, score=0.581 total time=   0.0s\n",
      "[CV 5/5] END .......C=1, gamma=0.01, kernel=rbf;, score=0.500 total time=   0.0s\n",
      "[CV 1/5] END ....C=1, gamma=0.01, kernel=linear;, score=0.907 total time=  42.0s\n",
      "[CV 2/5] END ....C=1, gamma=0.01, kernel=linear;, score=0.920 total time=  57.5s\n",
      "[CV 3/5] END ....C=1, gamma=0.01, kernel=linear;, score=0.893 total time= 1.4min\n",
      "[CV 4/5] END ....C=1, gamma=0.01, kernel=linear;, score=0.905 total time=  32.0s\n",
      "[CV 5/5] END ....C=1, gamma=0.01, kernel=linear;, score=0.905 total time= 1.3min\n",
      "[CV 1/5] END ......C=1, gamma=0.001, kernel=rbf;, score=0.547 total time=   0.0s\n",
      "[CV 2/5] END ......C=1, gamma=0.001, kernel=rbf;, score=0.467 total time=   0.0s\n",
      "[CV 3/5] END ......C=1, gamma=0.001, kernel=rbf;, score=0.453 total time=   0.0s\n",
      "[CV 4/5] END ......C=1, gamma=0.001, kernel=rbf;, score=0.500 total time=   0.0s\n",
      "[CV 5/5] END ......C=1, gamma=0.001, kernel=rbf;, score=0.514 total time=   0.0s\n",
      "[CV 1/5] END ...C=1, gamma=0.001, kernel=linear;, score=0.907 total time=  42.0s\n",
      "[CV 2/5] END ...C=1, gamma=0.001, kernel=linear;, score=0.920 total time=  58.8s\n",
      "[CV 3/5] END ...C=1, gamma=0.001, kernel=linear;, score=0.893 total time= 1.5min\n",
      "[CV 4/5] END ...C=1, gamma=0.001, kernel=linear;, score=0.905 total time=  32.1s\n",
      "[CV 5/5] END ...C=1, gamma=0.001, kernel=linear;, score=0.905 total time= 1.3min\n",
      "[CV 1/5] END .....C=1, gamma=0.0001, kernel=rbf;, score=0.547 total time=   0.0s\n",
      "[CV 2/5] END .....C=1, gamma=0.0001, kernel=rbf;, score=0.373 total time=   0.0s\n",
      "[CV 3/5] END .....C=1, gamma=0.0001, kernel=rbf;, score=0.400 total time=   0.0s\n",
      "[CV 4/5] END .....C=1, gamma=0.0001, kernel=rbf;, score=0.554 total time=   0.0s\n",
      "[CV 5/5] END .....C=1, gamma=0.0001, kernel=rbf;, score=0.541 total time=   0.0s\n",
      "[CV 1/5] END ..C=1, gamma=0.0001, kernel=linear;, score=0.907 total time=  41.7s\n",
      "[CV 2/5] END ..C=1, gamma=0.0001, kernel=linear;, score=0.920 total time=  57.5s\n",
      "[CV 3/5] END ..C=1, gamma=0.0001, kernel=linear;, score=0.893 total time= 1.4min\n",
      "[CV 4/5] END ..C=1, gamma=0.0001, kernel=linear;, score=0.905 total time=  31.8s\n",
      "[CV 5/5] END ..C=1, gamma=0.0001, kernel=linear;, score=0.905 total time= 1.3min\n",
      "[CV 1/5] END .........C=10, gamma=1, kernel=rbf;, score=0.507 total time=   0.0s\n",
      "[CV 2/5] END .........C=10, gamma=1, kernel=rbf;, score=0.507 total time=   0.0s\n",
      "[CV 3/5] END .........C=10, gamma=1, kernel=rbf;, score=0.507 total time=   0.0s\n"
     ]
    },
    {
     "name": "stdout",
     "output_type": "stream",
     "text": [
      "[CV 4/5] END .........C=10, gamma=1, kernel=rbf;, score=0.514 total time=   0.0s\n",
      "[CV 5/5] END .........C=10, gamma=1, kernel=rbf;, score=0.514 total time=   0.0s\n",
      "[CV 1/5] END ......C=10, gamma=1, kernel=linear;, score=0.907 total time= 1.7min\n",
      "[CV 2/5] END ......C=10, gamma=1, kernel=linear;, score=0.920 total time= 3.5min\n",
      "[CV 3/5] END ......C=10, gamma=1, kernel=linear;, score=0.867 total time= 2.3min\n",
      "[CV 4/5] END ......C=10, gamma=1, kernel=linear;, score=0.905 total time= 1.8min\n",
      "[CV 5/5] END ......C=10, gamma=1, kernel=linear;, score=0.919 total time= 1.4min\n",
      "[CV 1/5] END .......C=10, gamma=0.1, kernel=rbf;, score=0.533 total time=   0.0s\n",
      "[CV 2/5] END .......C=10, gamma=0.1, kernel=rbf;, score=0.493 total time=   0.0s\n",
      "[CV 3/5] END .......C=10, gamma=0.1, kernel=rbf;, score=0.533 total time=   0.0s\n",
      "[CV 4/5] END .......C=10, gamma=0.1, kernel=rbf;, score=0.541 total time=   0.0s\n",
      "[CV 5/5] END .......C=10, gamma=0.1, kernel=rbf;, score=0.514 total time=   0.0s\n",
      "[CV 1/5] END ....C=10, gamma=0.1, kernel=linear;, score=0.907 total time= 1.7min\n",
      "[CV 2/5] END ....C=10, gamma=0.1, kernel=linear;, score=0.920 total time= 3.5min\n",
      "[CV 3/5] END ....C=10, gamma=0.1, kernel=linear;, score=0.867 total time= 2.4min\n",
      "[CV 4/5] END ....C=10, gamma=0.1, kernel=linear;, score=0.905 total time= 2.0min\n",
      "[CV 5/5] END ....C=10, gamma=0.1, kernel=linear;, score=0.919 total time= 1.5min\n",
      "[CV 1/5] END ......C=10, gamma=0.01, kernel=rbf;, score=0.600 total time=   0.0s\n",
      "[CV 2/5] END ......C=10, gamma=0.01, kernel=rbf;, score=0.507 total time=   0.0s\n",
      "[CV 3/5] END ......C=10, gamma=0.01, kernel=rbf;, score=0.480 total time=   0.0s\n",
      "[CV 4/5] END ......C=10, gamma=0.01, kernel=rbf;, score=0.581 total time=   0.0s\n",
      "[CV 5/5] END ......C=10, gamma=0.01, kernel=rbf;, score=0.514 total time=   0.0s\n",
      "[CV 1/5] END ...C=10, gamma=0.01, kernel=linear;, score=0.907 total time= 1.7min\n",
      "[CV 2/5] END ...C=10, gamma=0.01, kernel=linear;, score=0.920 total time= 3.5min\n",
      "[CV 3/5] END ...C=10, gamma=0.01, kernel=linear;, score=0.867 total time= 2.3min\n",
      "[CV 4/5] END ...C=10, gamma=0.01, kernel=linear;, score=0.905 total time= 1.8min\n",
      "[CV 5/5] END ...C=10, gamma=0.01, kernel=linear;, score=0.919 total time= 1.5min\n",
      "[CV 1/5] END .....C=10, gamma=0.001, kernel=rbf;, score=0.547 total time=   0.0s\n",
      "[CV 2/5] END .....C=10, gamma=0.001, kernel=rbf;, score=0.453 total time=   0.0s\n",
      "[CV 3/5] END .....C=10, gamma=0.001, kernel=rbf;, score=0.453 total time=   0.0s\n",
      "[CV 4/5] END .....C=10, gamma=0.001, kernel=rbf;, score=0.527 total time=   0.0s\n",
      "[CV 5/5] END .....C=10, gamma=0.001, kernel=rbf;, score=0.514 total time=   0.0s\n",
      "[CV 1/5] END ..C=10, gamma=0.001, kernel=linear;, score=0.907 total time= 1.6min\n",
      "[CV 2/5] END ..C=10, gamma=0.001, kernel=linear;, score=0.920 total time= 3.5min\n",
      "[CV 3/5] END ..C=10, gamma=0.001, kernel=linear;, score=0.867 total time= 2.3min\n",
      "[CV 4/5] END ..C=10, gamma=0.001, kernel=linear;, score=0.905 total time= 1.9min\n",
      "[CV 5/5] END ..C=10, gamma=0.001, kernel=linear;, score=0.919 total time= 1.4min\n",
      "[CV 1/5] END ....C=10, gamma=0.0001, kernel=rbf;, score=0.587 total time=   0.0s\n",
      "[CV 2/5] END ....C=10, gamma=0.0001, kernel=rbf;, score=0.413 total time=   0.0s\n",
      "[CV 3/5] END ....C=10, gamma=0.0001, kernel=rbf;, score=0.440 total time=   0.0s\n",
      "[CV 4/5] END ....C=10, gamma=0.0001, kernel=rbf;, score=0.541 total time=   0.0s\n",
      "[CV 5/5] END ....C=10, gamma=0.0001, kernel=rbf;, score=0.473 total time=   0.0s\n",
      "[CV 1/5] END .C=10, gamma=0.0001, kernel=linear;, score=0.907 total time= 1.7min\n",
      "[CV 2/5] END .C=10, gamma=0.0001, kernel=linear;, score=0.920 total time= 3.5min\n",
      "[CV 3/5] END .C=10, gamma=0.0001, kernel=linear;, score=0.867 total time= 2.5min\n",
      "[CV 4/5] END .C=10, gamma=0.0001, kernel=linear;, score=0.905 total time= 2.0min\n",
      "[CV 5/5] END .C=10, gamma=0.0001, kernel=linear;, score=0.919 total time= 1.5min\n",
      "[CV 1/5] END ........C=100, gamma=1, kernel=rbf;, score=0.507 total time=   0.0s\n",
      "[CV 2/5] END ........C=100, gamma=1, kernel=rbf;, score=0.507 total time=   0.0s\n",
      "[CV 3/5] END ........C=100, gamma=1, kernel=rbf;, score=0.507 total time=   0.0s\n",
      "[CV 4/5] END ........C=100, gamma=1, kernel=rbf;, score=0.514 total time=   0.0s\n",
      "[CV 5/5] END ........C=100, gamma=1, kernel=rbf;, score=0.514 total time=   0.0s\n",
      "[CV 1/5] END .....C=100, gamma=1, kernel=linear;, score=0.893 total time= 3.0min\n",
      "[CV 2/5] END .....C=100, gamma=1, kernel=linear;, score=0.907 total time= 4.9min\n",
      "[CV 3/5] END .....C=100, gamma=1, kernel=linear;, score=0.893 total time= 2.9min\n",
      "[CV 4/5] END .....C=100, gamma=1, kernel=linear;, score=0.905 total time= 2.0min\n",
      "[CV 5/5] END .....C=100, gamma=1, kernel=linear;, score=0.919 total time= 1.8min\n",
      "[CV 1/5] END ......C=100, gamma=0.1, kernel=rbf;, score=0.533 total time=   0.0s\n",
      "[CV 2/5] END ......C=100, gamma=0.1, kernel=rbf;, score=0.493 total time=   0.0s\n",
      "[CV 3/5] END ......C=100, gamma=0.1, kernel=rbf;, score=0.533 total time=   0.0s\n",
      "[CV 4/5] END ......C=100, gamma=0.1, kernel=rbf;, score=0.541 total time=   0.0s\n",
      "[CV 5/5] END ......C=100, gamma=0.1, kernel=rbf;, score=0.514 total time=   0.0s\n",
      "[CV 1/5] END ...C=100, gamma=0.1, kernel=linear;, score=0.893 total time= 3.0min\n",
      "[CV 2/5] END ...C=100, gamma=0.1, kernel=linear;, score=0.907 total time= 4.9min\n",
      "[CV 3/5] END ...C=100, gamma=0.1, kernel=linear;, score=0.893 total time= 2.9min\n",
      "[CV 4/5] END ...C=100, gamma=0.1, kernel=linear;, score=0.905 total time= 2.1min\n",
      "[CV 5/5] END ...C=100, gamma=0.1, kernel=linear;, score=0.919 total time= 1.8min\n",
      "[CV 1/5] END .....C=100, gamma=0.01, kernel=rbf;, score=0.600 total time=   0.0s\n",
      "[CV 2/5] END .....C=100, gamma=0.01, kernel=rbf;, score=0.507 total time=   0.0s\n",
      "[CV 3/5] END .....C=100, gamma=0.01, kernel=rbf;, score=0.493 total time=   0.0s\n",
      "[CV 4/5] END .....C=100, gamma=0.01, kernel=rbf;, score=0.581 total time=   0.0s\n",
      "[CV 5/5] END .....C=100, gamma=0.01, kernel=rbf;, score=0.514 total time=   0.0s\n",
      "[CV 1/5] END ..C=100, gamma=0.01, kernel=linear;, score=0.893 total time= 3.0min\n",
      "[CV 2/5] END ..C=100, gamma=0.01, kernel=linear;, score=0.907 total time= 4.9min\n",
      "[CV 3/5] END ..C=100, gamma=0.01, kernel=linear;, score=0.893 total time= 2.9min\n",
      "[CV 4/5] END ..C=100, gamma=0.01, kernel=linear;, score=0.905 total time= 2.0min\n",
      "[CV 5/5] END ..C=100, gamma=0.01, kernel=linear;, score=0.919 total time= 1.7min\n",
      "[CV 1/5] END ....C=100, gamma=0.001, kernel=rbf;, score=0.600 total time=   0.0s\n",
      "[CV 2/5] END ....C=100, gamma=0.001, kernel=rbf;, score=0.467 total time=   0.0s\n",
      "[CV 3/5] END ....C=100, gamma=0.001, kernel=rbf;, score=0.467 total time=   0.0s\n",
      "[CV 4/5] END ....C=100, gamma=0.001, kernel=rbf;, score=0.568 total time=   0.0s\n",
      "[CV 5/5] END ....C=100, gamma=0.001, kernel=rbf;, score=0.527 total time=   0.0s\n",
      "[CV 1/5] END .C=100, gamma=0.001, kernel=linear;, score=0.893 total time= 2.9min\n",
      "[CV 2/5] END .C=100, gamma=0.001, kernel=linear;, score=0.907 total time= 4.9min\n",
      "[CV 3/5] END .C=100, gamma=0.001, kernel=linear;, score=0.893 total time= 2.8min\n",
      "[CV 4/5] END .C=100, gamma=0.001, kernel=linear;, score=0.905 total time= 2.0min\n",
      "[CV 5/5] END .C=100, gamma=0.001, kernel=linear;, score=0.919 total time= 1.7min\n",
      "[CV 1/5] END ...C=100, gamma=0.0001, kernel=rbf;, score=0.547 total time=   0.0s\n",
      "[CV 2/5] END ...C=100, gamma=0.0001, kernel=rbf;, score=0.507 total time=   0.0s\n",
      "[CV 3/5] END ...C=100, gamma=0.0001, kernel=rbf;, score=0.493 total time=   0.0s\n",
      "[CV 4/5] END ...C=100, gamma=0.0001, kernel=rbf;, score=0.581 total time=   0.0s\n",
      "[CV 5/5] END ...C=100, gamma=0.0001, kernel=rbf;, score=0.595 total time=   0.0s\n",
      "[CV 1/5] END C=100, gamma=0.0001, kernel=linear;, score=0.893 total time= 2.9min\n",
      "[CV 2/5] END C=100, gamma=0.0001, kernel=linear;, score=0.907 total time= 4.9min\n",
      "[CV 3/5] END C=100, gamma=0.0001, kernel=linear;, score=0.893 total time= 2.9min\n",
      "[CV 4/5] END C=100, gamma=0.0001, kernel=linear;, score=0.905 total time= 2.0min\n",
      "[CV 5/5] END C=100, gamma=0.0001, kernel=linear;, score=0.919 total time= 1.7min\n",
      "[CV 1/5] END .......C=1000, gamma=1, kernel=rbf;, score=0.507 total time=   0.0s\n",
      "[CV 2/5] END .......C=1000, gamma=1, kernel=rbf;, score=0.507 total time=   0.0s\n",
      "[CV 3/5] END .......C=1000, gamma=1, kernel=rbf;, score=0.507 total time=   0.0s\n",
      "[CV 4/5] END .......C=1000, gamma=1, kernel=rbf;, score=0.514 total time=   0.0s\n",
      "[CV 5/5] END .......C=1000, gamma=1, kernel=rbf;, score=0.514 total time=   0.0s\n"
     ]
    },
    {
     "name": "stdout",
     "output_type": "stream",
     "text": [
      "[CV 1/5] END ....C=1000, gamma=1, kernel=linear;, score=0.893 total time= 2.8min\n",
      "[CV 2/5] END ....C=1000, gamma=1, kernel=linear;, score=0.907 total time= 3.3min\n",
      "[CV 3/5] END ....C=1000, gamma=1, kernel=linear;, score=0.907 total time= 1.8min\n",
      "[CV 4/5] END ....C=1000, gamma=1, kernel=linear;, score=0.905 total time= 3.9min\n",
      "[CV 5/5] END ....C=1000, gamma=1, kernel=linear;, score=0.919 total time= 3.0min\n",
      "[CV 1/5] END .....C=1000, gamma=0.1, kernel=rbf;, score=0.533 total time=   0.0s\n",
      "[CV 2/5] END .....C=1000, gamma=0.1, kernel=rbf;, score=0.493 total time=   0.0s\n",
      "[CV 3/5] END .....C=1000, gamma=0.1, kernel=rbf;, score=0.533 total time=   0.0s\n",
      "[CV 4/5] END .....C=1000, gamma=0.1, kernel=rbf;, score=0.541 total time=   0.0s\n",
      "[CV 5/5] END .....C=1000, gamma=0.1, kernel=rbf;, score=0.514 total time=   0.0s\n",
      "[CV 1/5] END ..C=1000, gamma=0.1, kernel=linear;, score=0.893 total time= 2.7min\n",
      "[CV 2/5] END ..C=1000, gamma=0.1, kernel=linear;, score=0.907 total time= 3.4min\n",
      "[CV 3/5] END ..C=1000, gamma=0.1, kernel=linear;, score=0.907 total time= 1.7min\n",
      "[CV 4/5] END ..C=1000, gamma=0.1, kernel=linear;, score=0.905 total time= 4.0min\n",
      "[CV 5/5] END ..C=1000, gamma=0.1, kernel=linear;, score=0.919 total time= 2.9min\n",
      "[CV 1/5] END ....C=1000, gamma=0.01, kernel=rbf;, score=0.600 total time=   0.0s\n",
      "[CV 2/5] END ....C=1000, gamma=0.01, kernel=rbf;, score=0.507 total time=   0.0s\n",
      "[CV 3/5] END ....C=1000, gamma=0.01, kernel=rbf;, score=0.493 total time=   0.0s\n",
      "[CV 4/5] END ....C=1000, gamma=0.01, kernel=rbf;, score=0.581 total time=   0.0s\n",
      "[CV 5/5] END ....C=1000, gamma=0.01, kernel=rbf;, score=0.514 total time=   0.0s\n",
      "[CV 1/5] END .C=1000, gamma=0.01, kernel=linear;, score=0.893 total time= 2.7min\n",
      "[CV 2/5] END .C=1000, gamma=0.01, kernel=linear;, score=0.907 total time= 3.3min\n",
      "[CV 3/5] END .C=1000, gamma=0.01, kernel=linear;, score=0.907 total time= 2.6min\n",
      "[CV 4/5] END .C=1000, gamma=0.01, kernel=linear;, score=0.905 total time= 4.8min\n",
      "[CV 5/5] END .C=1000, gamma=0.01, kernel=linear;, score=0.919 total time= 3.4min\n",
      "[CV 1/5] END ...C=1000, gamma=0.001, kernel=rbf;, score=0.600 total time=   0.0s\n",
      "[CV 2/5] END ...C=1000, gamma=0.001, kernel=rbf;, score=0.427 total time=   0.0s\n",
      "[CV 3/5] END ...C=1000, gamma=0.001, kernel=rbf;, score=0.493 total time=   0.0s\n",
      "[CV 4/5] END ...C=1000, gamma=0.001, kernel=rbf;, score=0.568 total time=   0.0s\n",
      "[CV 5/5] END ...C=1000, gamma=0.001, kernel=rbf;, score=0.527 total time=   0.0s\n",
      "[CV 1/5] END C=1000, gamma=0.001, kernel=linear;, score=0.893 total time= 3.2min\n",
      "[CV 2/5] END C=1000, gamma=0.001, kernel=linear;, score=0.907 total time= 3.8min\n",
      "[CV 3/5] END C=1000, gamma=0.001, kernel=linear;, score=0.907 total time= 2.0min\n",
      "[CV 4/5] END C=1000, gamma=0.001, kernel=linear;, score=0.905 total time= 4.6min\n",
      "[CV 5/5] END C=1000, gamma=0.001, kernel=linear;, score=0.919 total time= 3.7min\n",
      "[CV 1/5] END ..C=1000, gamma=0.0001, kernel=rbf;, score=0.560 total time=   0.0s\n",
      "[CV 2/5] END ..C=1000, gamma=0.0001, kernel=rbf;, score=0.493 total time=   0.0s\n",
      "[CV 3/5] END ..C=1000, gamma=0.0001, kernel=rbf;, score=0.533 total time=   0.0s\n",
      "[CV 4/5] END ..C=1000, gamma=0.0001, kernel=rbf;, score=0.554 total time=   0.0s\n",
      "[CV 5/5] END ..C=1000, gamma=0.0001, kernel=rbf;, score=0.622 total time=   0.0s\n",
      "[CV 1/5] END C=1000, gamma=0.0001, kernel=linear;, score=0.893 total time= 3.4min\n",
      "[CV 2/5] END C=1000, gamma=0.0001, kernel=linear;, score=0.907 total time= 3.8min\n",
      "[CV 3/5] END C=1000, gamma=0.0001, kernel=linear;, score=0.907 total time= 2.0min\n",
      "[CV 4/5] END C=1000, gamma=0.0001, kernel=linear;, score=0.905 total time= 4.5min\n",
      "[CV 5/5] END C=1000, gamma=0.0001, kernel=linear;, score=0.919 total time= 3.4min\n"
     ]
    }
   ],
   "source": [
    "grid = GridSearchCV(SVC(), param_grid=svc_param_grid, refit = True, verbose = 3, scoring='accuracy')\n",
    "model_grid = grid.fit(X,y)"
   ]
  },
  {
   "cell_type": "code",
   "execution_count": 52,
   "metadata": {},
   "outputs": [
    {
     "name": "stdout",
     "output_type": "stream",
     "text": [
      "Best hyperparameters are: {'C': 1000, 'gamma': 1, 'kernel': 'linear'}\n",
      "Best score is: 0.9061981981981981\n"
     ]
    }
   ],
   "source": [
    "print('Best hyperparameters are: '+str(model_grid.best_params_))\n",
    "print('Best score is: '+str(model_grid.best_score_))"
   ]
  },
  {
   "cell_type": "code",
   "execution_count": 31,
   "metadata": {},
   "outputs": [
    {
     "name": "stdout",
     "output_type": "stream",
     "text": [
      "0.9066666666666666\n"
     ]
    }
   ],
   "source": [
    "svm_model = SVC(C= 1, gamma= 0.01, kernel= 'linear')\n",
    "sv_result = svm_model.fit(x_train, y_train)\n",
    "\n",
    "eval_ = svm_model.score(x_test, y_test)\n",
    "preds = svm_model.predict(x_test)\n",
    "#auc = roc_auc_score(y_test, preds)\n",
    "\n",
    "print(eval_)"
   ]
  },
  {
   "cell_type": "code",
   "execution_count": 33,
   "metadata": {},
   "outputs": [
    {
     "data": {
      "text/plain": [
       "['./alzheimers_pretrain_svm.joblib']"
      ]
     },
     "execution_count": 33,
     "metadata": {},
     "output_type": "execute_result"
    }
   ],
   "source": [
    "import joblib\n",
    "joblib.dump(svm_model, \"./alzheimers_pretrain_svm.joblib\")"
   ]
  },
  {
   "cell_type": "code",
   "execution_count": null,
   "metadata": {},
   "outputs": [],
   "source": []
  },
  {
   "cell_type": "markdown",
   "metadata": {},
   "source": [
    "### Evaluation "
   ]
  },
  {
   "cell_type": "code",
   "execution_count": 66,
   "metadata": {},
   "outputs": [
    {
     "name": "stdout",
     "output_type": "stream",
     "text": [
      "[[29  0  0]\n",
      " [ 0 38  0]\n",
      " [ 2  5  1]]\n"
     ]
    }
   ],
   "source": [
    "matrix = confusion_matrix(y_test, preds)\n",
    "print(matrix)"
   ]
  },
  {
   "cell_type": "code",
   "execution_count": 126,
   "metadata": {},
   "outputs": [
    {
     "data": {
      "image/png": "[encoded data removed]",
      "text/plain": [
       "<Figure size 360x360 with 1 Axes>"
      ]
     },
     "metadata": {},
     "output_type": "display_data"
    }
   ],
   "source": [
    "conf_matrix = confusion_matrix(y_true=y_test, y_pred=preds)\n",
    "#\n",
    "# Print the confusion matrix using Matplotlib\n",
    "#\n",
    "fig, ax = plt.subplots(figsize=(5, 5))\n",
    "ax.matshow(conf_matrix, cmap=plt.cm.Oranges, alpha=0.3)\n",
    "for i in range(conf_matrix.shape[0]):\n",
    "    for j in range(conf_matrix.shape[1]):\n",
    "        ax.text(x=j, y=i,s=conf_matrix[i, j], va='center', ha='center', size='xx-large')\n",
    "\n",
    "        \n",
    "plt.xlabel('Predictions', fontsize=18)\n",
    "plt.ylabel('Actuals', fontsize=18)\n",
    "plt.title('Confusion Matrix', fontsize=18)\n",
    "plt.show()"
   ]
  },
  {
   "cell_type": "code",
   "execution_count": 127,
   "metadata": {},
   "outputs": [
    {
     "name": "stdout",
     "output_type": "stream",
     "text": [
      "              precision    recall  f1-score   support\n",
      "\n",
      "           0       0.97      1.00      0.98        29\n",
      "           1       0.88      1.00      0.94        38\n",
      "           2       1.00      0.25      0.40         8\n",
      "\n",
      "    accuracy                           0.92        75\n",
      "   macro avg       0.95      0.75      0.77        75\n",
      "weighted avg       0.93      0.92      0.90        75\n",
      "\n"
     ]
    }
   ],
   "source": [
    "print(classification_report(y_test, preds))"
   ]
  },
  {
   "cell_type": "code",
   "execution_count": 128,
   "metadata": {},
   "outputs": [
    {
     "data": {
      "text/plain": [
       "array([0, 1, 2], dtype=int64)"
      ]
     },
     "execution_count": 128,
     "metadata": {},
     "output_type": "execute_result"
    }
   ],
   "source": [
    "np.unique(preds)"
   ]
  },
  {
   "cell_type": "code",
   "execution_count": 134,
   "metadata": {},
   "outputs": [
    {
     "name": "stdout",
     "output_type": "stream",
     "text": [
      "F1 Score is 0.92\n",
      "Precision score is 0.92\n",
      "Recall Score is 0.92\n",
      "Accuracy Score is 0.92\n"
     ]
    }
   ],
   "source": [
    "print(f\"F1 Score is {f1_score(y_test, preds, average='micro')}\")\n",
    "print(f\"Precision score is {precision_score(y_test, preds, average='micro')}\")\n",
    "print(f\"Recall Score is {recall_score(y_test, preds, average='micro')}\")\n",
    "print(f\"Accuracy Score is {accuracy_score(y_test, preds)}\")"
   ]
  },
  {
   "cell_type": "markdown",
   "metadata": {},
   "source": [
    "#### These feature importances identifies the importance of features with respect to the model predictive accuracy"
   ]
  },
  {
   "cell_type": "code",
   "execution_count": 148,
   "metadata": {},
   "outputs": [
    {
     "name": "stdout",
     "output_type": "stream",
     "text": [
      " 1) CDR                            0.600685\n",
      " 2) MMSE                           0.117830\n",
      " 3) MR Delay                       0.058418\n",
      " 4) ASF                            0.050344\n",
      " 5) eTIV                           0.043778\n",
      " 6) SES                            0.032258\n",
      " 7) Age                            0.028583\n",
      " 8) nWBV                           0.022747\n",
      " 9) EDUC                           0.017972\n",
      "10) M/F                            0.017426\n",
      "11) Visit                          0.009958\n",
      "12) Hand                           0.000000\n"
     ]
    }
   ],
   "source": [
    "#Feature importance\n",
    "importances = rf_model.feature_importances_\n",
    "#\n",
    "# Sort the feature importance in descending order\n",
    "#\n",
    "sorted_indices = np.argsort(importances)[::-1]\n",
    " \n",
    "#feat_labels = df.columns[1:]\n",
    "feat_labels = list(df.columns)\n",
    "feat_labels.pop()\n",
    "feat_labels = np.array(feat_labels)\n",
    "feat_labels\n",
    " \n",
    "for f in range(x_train.shape[1]):\n",
    "    print(\"%2d) %-*s %f\" % (f + 1, 30,\n",
    "                            feat_labels[sorted_indices[f]],\n",
    "                            importances[sorted_indices[f]]))\n"
   ]
  },
  {
   "cell_type": "code",
   "execution_count": 149,
   "metadata": {},
   "outputs": [
    {
     "data": {
      "text/plain": [
       "array([ 8,  7,  1, 11,  9,  6,  4, 10,  5,  2,  0,  3], dtype=int64)"
      ]
     },
     "execution_count": 149,
     "metadata": {},
     "output_type": "execute_result"
    }
   ],
   "source": [
    "sorted_indices"
   ]
  },
  {
   "cell_type": "code",
   "execution_count": 151,
   "metadata": {},
   "outputs": [
    {
     "data": {
      "image/png": "[encoded data removed]",
      "text/plain": [
       "<Figure size 432x288 with 1 Axes>"
      ]
     },
     "metadata": {},
     "output_type": "display_data"
    }
   ],
   "source": [
    "plt.title('Feature Importance')\n",
    "plt.bar(range(x_train.shape[1]), importances[sorted_indices], align='center')\n",
    "plt.xticks(range(x_train.shape[1]), x_train.columns[sorted_indices], rotation=90)\n",
    "plt.tight_layout()\n",
    "plt.show()"
   ]
  },
  {
   "cell_type": "code",
   "execution_count": null,
   "metadata": {},
   "outputs": [],
   "source": []
  },
  {
   "cell_type": "code",
   "execution_count": null,
   "metadata": {},
   "outputs": [],
   "source": []
  },
  {
   "cell_type": "code",
   "execution_count": null,
   "metadata": {},
   "outputs": [],
   "source": []
  },
  {
   "cell_type": "code",
   "execution_count": 82,
   "metadata": {},
   "outputs": [
    {
     "data": {
      "text/plain": [
       "array([0.0099582 , 0.05841818, 0.01742633, 0.        , 0.02858328,\n",
       "       0.01797235, 0.03225753, 0.11782998, 0.6006849 , 0.04377834,\n",
       "       0.02274661, 0.05034431])"
      ]
     },
     "execution_count": 82,
     "metadata": {},
     "output_type": "execute_result"
    }
   ],
   "source": [
    "loaded_rf.feature_importances_"
   ]
  },
  {
   "cell_type": "code",
   "execution_count": 108,
   "metadata": {},
   "outputs": [
    {
     "data": {
      "text/plain": [
       "array([[3.000e+00, 1.608e+03, 1.000e+00, 0.000e+00, 6.500e+01, 1.300e+01,\n",
       "        2.000e+00, 3.000e+01, 0.000e+00, 1.333e+03, 8.010e-01, 1.317e+00]])"
      ]
     },
     "execution_count": 108,
     "metadata": {},
     "output_type": "execute_result"
    }
   ],
   "source": [
    "#3\t1608\t1\t0\t65\t13\t2.000000\t30.0\t0.0\t1333\t0.801\t1.317\t1\n",
    "#np.array(my_list).reshape(-1, 1)     .reshape(-1, 1)\n",
    "scaler = StandardScaler()  #scaler.fit_transform(\n",
    "\n",
    "t_test = np.array([3, 1608, 1, 0, 65, 13, 2.000000, 30.0, 0.0, 1333, 0.801, 1.317]).reshape(1, -1)\n",
    "t_test"
   ]
  },
  {
   "cell_type": "code",
   "execution_count": 113,
   "metadata": {
    "scrolled": true
   },
   "outputs": [],
   "source": [
    "t_pred = svm_model.predict(t_test)"
   ]
  },
  {
   "cell_type": "code",
   "execution_count": 114,
   "metadata": {},
   "outputs": [
    {
     "data": {
      "text/plain": [
       "array([1], dtype=int64)"
      ]
     },
     "execution_count": 114,
     "metadata": {},
     "output_type": "execute_result"
    }
   ],
   "source": [
    "t_pred"
   ]
  },
  {
   "cell_type": "code",
   "execution_count": 78,
   "metadata": {},
   "outputs": [
    {
     "data": {
      "text/html": [
       "<div>\n",
       "<style scoped>\n",
       "    .dataframe tbody tr th:only-of-type {\n",
       "        vertical-align: middle;\n",
       "    }\n",
       "\n",
       "    .dataframe tbody tr th {\n",
       "        vertical-align: top;\n",
       "    }\n",
       "\n",
       "    .dataframe thead th {\n",
       "        text-align: right;\n",
       "    }\n",
       "</style>\n",
       "<table border=\"1\" class=\"dataframe\">\n",
       "  <thead>\n",
       "    <tr style=\"text-align: right;\">\n",
       "      <th></th>\n",
       "      <th>0</th>\n",
       "      <th>1</th>\n",
       "      <th>2</th>\n",
       "      <th>3</th>\n",
       "      <th>4</th>\n",
       "      <th>5</th>\n",
       "      <th>6</th>\n",
       "      <th>7</th>\n",
       "      <th>8</th>\n",
       "      <th>9</th>\n",
       "      <th>10</th>\n",
       "      <th>11</th>\n",
       "    </tr>\n",
       "  </thead>\n",
       "  <tbody>\n",
       "    <tr>\n",
       "      <th>0</th>\n",
       "      <td>2.719776</td>\n",
       "      <td>2.357920</td>\n",
       "      <td>-1.069045</td>\n",
       "      <td>0.0</td>\n",
       "      <td>1.107567</td>\n",
       "      <td>-0.898635</td>\n",
       "      <td>0.402598</td>\n",
       "      <td>0.812422</td>\n",
       "      <td>-0.784465</td>\n",
       "      <td>1.655158</td>\n",
       "      <td>0.643018</td>\n",
       "      <td>-1.465441</td>\n",
       "    </tr>\n",
       "    <tr>\n",
       "      <th>1</th>\n",
       "      <td>3.898870</td>\n",
       "      <td>3.221785</td>\n",
       "      <td>0.935414</td>\n",
       "      <td>0.0</td>\n",
       "      <td>-0.210965</td>\n",
       "      <td>-0.568254</td>\n",
       "      <td>1.261426</td>\n",
       "      <td>0.518998</td>\n",
       "      <td>-0.784465</td>\n",
       "      <td>-0.840721</td>\n",
       "      <td>1.277212</td>\n",
       "      <td>0.794552</td>\n",
       "    </tr>\n",
       "    <tr>\n",
       "      <th>2</th>\n",
       "      <td>1.540682</td>\n",
       "      <td>1.966800</td>\n",
       "      <td>-1.069045</td>\n",
       "      <td>0.0</td>\n",
       "      <td>1.634979</td>\n",
       "      <td>0.422887</td>\n",
       "      <td>-0.456230</td>\n",
       "      <td>0.812422</td>\n",
       "      <td>0.686406</td>\n",
       "      <td>-0.528074</td>\n",
       "      <td>-1.452581</td>\n",
       "      <td>0.425710</td>\n",
       "    </tr>\n",
       "    <tr>\n",
       "      <th>3</th>\n",
       "      <td>0.361589</td>\n",
       "      <td>-0.004104</td>\n",
       "      <td>0.935414</td>\n",
       "      <td>0.0</td>\n",
       "      <td>-0.210965</td>\n",
       "      <td>-0.898635</td>\n",
       "      <td>0.402598</td>\n",
       "      <td>0.518998</td>\n",
       "      <td>-0.784465</td>\n",
       "      <td>-0.899011</td>\n",
       "      <td>0.422429</td>\n",
       "      <td>0.868320</td>\n",
       "    </tr>\n",
       "    <tr>\n",
       "      <th>4</th>\n",
       "      <td>0.361589</td>\n",
       "      <td>0.383615</td>\n",
       "      <td>-1.069045</td>\n",
       "      <td>0.0</td>\n",
       "      <td>-0.606525</td>\n",
       "      <td>0.422887</td>\n",
       "      <td>1.261426</td>\n",
       "      <td>0.225575</td>\n",
       "      <td>0.686406</td>\n",
       "      <td>1.527980</td>\n",
       "      <td>0.008824</td>\n",
       "      <td>-1.378260</td>\n",
       "    </tr>\n",
       "    <tr>\n",
       "      <th>...</th>\n",
       "      <td>...</td>\n",
       "      <td>...</td>\n",
       "      <td>...</td>\n",
       "      <td>...</td>\n",
       "      <td>...</td>\n",
       "      <td>...</td>\n",
       "      <td>...</td>\n",
       "      <td>...</td>\n",
       "      <td>...</td>\n",
       "      <td>...</td>\n",
       "      <td>...</td>\n",
       "      <td>...</td>\n",
       "    </tr>\n",
       "    <tr>\n",
       "      <th>70</th>\n",
       "      <td>-0.817505</td>\n",
       "      <td>-0.806750</td>\n",
       "      <td>-1.069045</td>\n",
       "      <td>0.0</td>\n",
       "      <td>-0.474671</td>\n",
       "      <td>1.083648</td>\n",
       "      <td>-0.456230</td>\n",
       "      <td>0.518998</td>\n",
       "      <td>-0.784465</td>\n",
       "      <td>0.213801</td>\n",
       "      <td>1.139344</td>\n",
       "      <td>-0.325385</td>\n",
       "    </tr>\n",
       "    <tr>\n",
       "      <th>71</th>\n",
       "      <td>1.540682</td>\n",
       "      <td>2.172563</td>\n",
       "      <td>0.935414</td>\n",
       "      <td>0.0</td>\n",
       "      <td>0.712007</td>\n",
       "      <td>-1.229015</td>\n",
       "      <td>1.261426</td>\n",
       "      <td>0.812422</td>\n",
       "      <td>-0.784465</td>\n",
       "      <td>0.436364</td>\n",
       "      <td>0.780886</td>\n",
       "      <td>-0.526571</td>\n",
       "    </tr>\n",
       "    <tr>\n",
       "      <th>72</th>\n",
       "      <td>-0.817505</td>\n",
       "      <td>-0.806750</td>\n",
       "      <td>-1.069045</td>\n",
       "      <td>0.0</td>\n",
       "      <td>-0.079112</td>\n",
       "      <td>0.422887</td>\n",
       "      <td>0.402598</td>\n",
       "      <td>0.812422</td>\n",
       "      <td>-0.784465</td>\n",
       "      <td>1.718748</td>\n",
       "      <td>1.029049</td>\n",
       "      <td>-1.505678</td>\n",
       "    </tr>\n",
       "    <tr>\n",
       "      <th>73</th>\n",
       "      <td>-0.817505</td>\n",
       "      <td>-0.806750</td>\n",
       "      <td>0.935414</td>\n",
       "      <td>0.0</td>\n",
       "      <td>-2.056909</td>\n",
       "      <td>0.422887</td>\n",
       "      <td>0.402598</td>\n",
       "      <td>0.812422</td>\n",
       "      <td>-0.784465</td>\n",
       "      <td>-1.031489</td>\n",
       "      <td>2.021702</td>\n",
       "      <td>1.035975</td>\n",
       "    </tr>\n",
       "    <tr>\n",
       "      <th>74</th>\n",
       "      <td>0.361589</td>\n",
       "      <td>0.213563</td>\n",
       "      <td>0.935414</td>\n",
       "      <td>0.0</td>\n",
       "      <td>1.766832</td>\n",
       "      <td>-0.237874</td>\n",
       "      <td>-0.456230</td>\n",
       "      <td>0.225575</td>\n",
       "      <td>-0.784465</td>\n",
       "      <td>-0.067051</td>\n",
       "      <td>0.394855</td>\n",
       "      <td>-0.057137</td>\n",
       "    </tr>\n",
       "  </tbody>\n",
       "</table>\n",
       "<p>75 rows × 12 columns</p>\n",
       "</div>"
      ],
      "text/plain": [
       "          0         1         2    3         4         5         6         7   \\\n",
       "0   2.719776  2.357920 -1.069045  0.0  1.107567 -0.898635  0.402598  0.812422   \n",
       "1   3.898870  3.221785  0.935414  0.0 -0.210965 -0.568254  1.261426  0.518998   \n",
       "2   1.540682  1.966800 -1.069045  0.0  1.634979  0.422887 -0.456230  0.812422   \n",
       "3   0.361589 -0.004104  0.935414  0.0 -0.210965 -0.898635  0.402598  0.518998   \n",
       "4   0.361589  0.383615 -1.069045  0.0 -0.606525  0.422887  1.261426  0.225575   \n",
       "..       ...       ...       ...  ...       ...       ...       ...       ...   \n",
       "70 -0.817505 -0.806750 -1.069045  0.0 -0.474671  1.083648 -0.456230  0.518998   \n",
       "71  1.540682  2.172563  0.935414  0.0  0.712007 -1.229015  1.261426  0.812422   \n",
       "72 -0.817505 -0.806750 -1.069045  0.0 -0.079112  0.422887  0.402598  0.812422   \n",
       "73 -0.817505 -0.806750  0.935414  0.0 -2.056909  0.422887  0.402598  0.812422   \n",
       "74  0.361589  0.213563  0.935414  0.0  1.766832 -0.237874 -0.456230  0.225575   \n",
       "\n",
       "          8         9         10        11  \n",
       "0  -0.784465  1.655158  0.643018 -1.465441  \n",
       "1  -0.784465 -0.840721  1.277212  0.794552  \n",
       "2   0.686406 -0.528074 -1.452581  0.425710  \n",
       "3  -0.784465 -0.899011  0.422429  0.868320  \n",
       "4   0.686406  1.527980  0.008824 -1.378260  \n",
       "..       ...       ...       ...       ...  \n",
       "70 -0.784465  0.213801  1.139344 -0.325385  \n",
       "71 -0.784465  0.436364  0.780886 -0.526571  \n",
       "72 -0.784465  1.718748  1.029049 -1.505678  \n",
       "73 -0.784465 -1.031489  2.021702  1.035975  \n",
       "74 -0.784465 -0.067051  0.394855 -0.057137  \n",
       "\n",
       "[75 rows x 12 columns]"
      ]
     },
     "execution_count": 78,
     "metadata": {},
     "output_type": "execute_result"
    }
   ],
   "source": [
    "x_test"
   ]
  },
  {
   "cell_type": "code",
   "execution_count": 106,
   "metadata": {},
   "outputs": [
    {
     "name": "stdout",
     "output_type": "stream",
     "text": [
      "0     2.719776\n",
      "1     2.357920\n",
      "2    -1.069045\n",
      "3     0.000000\n",
      "4     1.107567\n",
      "5    -0.898635\n",
      "6     0.402598\n",
      "7     0.812422\n",
      "8    -0.784465\n",
      "9     1.655158\n",
      "10    0.643018\n",
      "11   -1.465441\n",
      "Name: 0, dtype: float64\n",
      "0     3.898870\n",
      "1     3.221785\n",
      "2     0.935414\n",
      "3     0.000000\n",
      "4    -0.210965\n",
      "5    -0.568254\n",
      "6     1.261426\n",
      "7     0.518998\n",
      "8    -0.784465\n",
      "9    -0.840721\n",
      "10    1.277212\n",
      "11    0.794552\n",
      "Name: 1, dtype: float64\n",
      "0     1.540682\n",
      "1     1.966800\n",
      "2    -1.069045\n",
      "3     0.000000\n",
      "4     1.634979\n",
      "5     0.422887\n",
      "6    -0.456230\n",
      "7     0.812422\n",
      "8     0.686406\n",
      "9    -0.528074\n",
      "10   -1.452581\n",
      "11    0.425710\n",
      "Name: 2, dtype: float64\n",
      "0     0.361589\n",
      "1    -0.004104\n",
      "2     0.935414\n",
      "3     0.000000\n",
      "4    -0.210965\n",
      "5    -0.898635\n",
      "6     0.402598\n",
      "7     0.518998\n",
      "8    -0.784465\n",
      "9    -0.899011\n",
      "10    0.422429\n",
      "11    0.868320\n",
      "Name: 3, dtype: float64\n",
      "0     0.361589\n",
      "1     0.383615\n",
      "2    -1.069045\n",
      "3     0.000000\n",
      "4    -0.606525\n",
      "5     0.422887\n",
      "6     1.261426\n",
      "7     0.225575\n",
      "8     0.686406\n",
      "9     1.527980\n",
      "10    0.008824\n",
      "11   -1.378260\n",
      "Name: 4, dtype: float64\n",
      "0    -0.817505\n",
      "1    -0.806750\n",
      "2     0.935414\n",
      "3     0.000000\n",
      "4    -0.342818\n",
      "5    -0.898635\n",
      "6    -0.060781\n",
      "7    -0.361272\n",
      "8     0.686406\n",
      "9    -1.783962\n",
      "10    0.036397\n",
      "11    2.122381\n",
      "Name: 5, dtype: float64\n",
      "0    -0.817505\n",
      "1    -0.806750\n",
      "2     0.935414\n",
      "3     0.000000\n",
      "4     1.371273\n",
      "5    -0.237874\n",
      "6    -1.315058\n",
      "7     0.812422\n",
      "8    -0.784465\n",
      "9    -0.538672\n",
      "10   -0.459929\n",
      "11    0.439123\n",
      "Name: 6, dtype: float64\n",
      "0    -0.817505\n",
      "1    -0.806750\n",
      "2    -1.069045\n",
      "3     0.000000\n",
      "4    -0.210965\n",
      "5     0.422887\n",
      "6    -1.315058\n",
      "7     0.812422\n",
      "8     0.686406\n",
      "9     2.031395\n",
      "10   -0.625371\n",
      "11   -1.706864\n",
      "Name: 7, dtype: float64\n",
      "0    -0.817505\n",
      "1    -0.806750\n",
      "2     0.935414\n",
      "3     0.000000\n",
      "4     0.843860\n",
      "5    -0.898635\n",
      "6    -0.456230\n",
      "7     0.225575\n",
      "8    -0.784465\n",
      "9    -0.660551\n",
      "10    0.450002\n",
      "11    0.579953\n",
      "Name: 8, dtype: float64\n",
      "0    -0.817505\n",
      "1    -0.806750\n",
      "2     0.935414\n",
      "3     0.000000\n",
      "4     2.557951\n",
      "5     0.753267\n",
      "6    -1.315058\n",
      "7    -0.361272\n",
      "8     2.157277\n",
      "9    -0.226025\n",
      "10   -1.342286\n",
      "11    0.103812\n",
      "Name: 9, dtype: float64\n",
      "0     0.361589\n",
      "1     0.019703\n",
      "2     0.935414\n",
      "3     0.000000\n",
      "4     0.843860\n",
      "5     1.083648\n",
      "6    -0.456230\n",
      "7    -0.654696\n",
      "8     0.686406\n",
      "9    -1.741569\n",
      "10    0.036397\n",
      "11    2.048613\n",
      "Name: 10, dtype: float64\n",
      "0     1.540682\n",
      "1     0.926081\n",
      "2    -1.069045\n",
      "3     0.000000\n",
      "4     2.030539\n",
      "5     0.422887\n",
      "6    -1.315058\n",
      "7     0.812422\n",
      "8    -0.784465\n",
      "9     0.817900\n",
      "10   -1.369860\n",
      "11   -0.848469\n",
      "Name: 11, dtype: float64\n",
      "0    -0.817505\n",
      "1    -0.806750\n",
      "2     0.935414\n",
      "3     0.000000\n",
      "4     0.712007\n",
      "5    -0.898635\n",
      "6     1.261426\n",
      "7    -0.361272\n",
      "8     0.686406\n",
      "9    -1.254051\n",
      "10   -1.011402\n",
      "11    1.331048\n",
      "Name: 12, dtype: float64\n",
      "0    -0.817505\n",
      "1    -0.806750\n",
      "2     0.935414\n",
      "3     0.000000\n",
      "4    -0.870231\n",
      "5     0.753267\n",
      "6     0.402598\n",
      "7     0.518998\n",
      "8    -0.784465\n",
      "9     0.701319\n",
      "10    0.946328\n",
      "11   -0.754583\n",
      "Name: 13, dtype: float64\n",
      "0    -0.817505\n",
      "1    -0.806750\n",
      "2    -1.069045\n",
      "3     0.000000\n",
      "4     0.448301\n",
      "5     0.753267\n",
      "6    -1.315058\n",
      "7     0.225575\n",
      "8    -0.784465\n",
      "9     0.807301\n",
      "10   -0.101471\n",
      "11   -0.841763\n",
      "Name: 14, dtype: float64\n",
      "0     1.540682\n",
      "1     0.903974\n",
      "2     0.935414\n",
      "3     0.000000\n",
      "4     0.580154\n",
      "5    -0.898635\n",
      "6     0.402598\n",
      "7     0.225575\n",
      "8     0.686406\n",
      "9    -0.067051\n",
      "10   -1.231992\n",
      "11   -0.057137\n",
      "Name: 15, dtype: float64\n",
      "0     0.361589\n",
      "1     0.818948\n",
      "2     0.935414\n",
      "3     0.000000\n",
      "4    -1.002084\n",
      "5     1.083648\n",
      "6    -0.456230\n",
      "7     0.518998\n",
      "8    -0.784465\n",
      "9     0.150212\n",
      "10   -0.349634\n",
      "11   -0.265029\n",
      "Name: 16, dtype: float64\n",
      "0     0.361589\n",
      "1     0.645495\n",
      "2     0.935414\n",
      "3     0.000000\n",
      "4    -1.133937\n",
      "5    -0.898635\n",
      "6     0.402598\n",
      "7     0.518998\n",
      "8     0.686406\n",
      "9    -0.135940\n",
      "10    0.560297\n",
      "11    0.009925\n",
      "Name: 17, dtype: float64\n",
      "0     0.361589\n",
      "1     0.907375\n",
      "2     0.935414\n",
      "3     0.000000\n",
      "4    -0.474671\n",
      "5     0.753267\n",
      "6     0.402598\n",
      "7     0.518998\n",
      "8    -0.784465\n",
      "9     0.833797\n",
      "10    0.450002\n",
      "11   -0.861882\n",
      "Name: 18, dtype: float64\n",
      "0     0.361589\n",
      "1     1.254282\n",
      "2    -1.069045\n",
      "3     0.000000\n",
      "4     0.316448\n",
      "5     0.422887\n",
      "6    -1.315058\n",
      "7     0.518998\n",
      "8     0.686406\n",
      "9     2.073788\n",
      "10   -0.873534\n",
      "11   -1.733689\n",
      "Name: 19, dtype: float64\n",
      "0     0.361589\n",
      "1     0.157446\n",
      "2     0.935414\n",
      "3     0.000000\n",
      "4    -0.210965\n",
      "5    -2.220157\n",
      "6     2.120254\n",
      "7    -1.534966\n",
      "8     0.686406\n",
      "9    -1.932337\n",
      "10    0.256987\n",
      "11    2.363804\n",
      "Name: 20, dtype: float64\n",
      "0    -0.817505\n",
      "1    -0.806750\n",
      "2     0.935414\n",
      "3     0.000000\n",
      "4    -1.002084\n",
      "5    -0.898635\n",
      "6     1.261426\n",
      "7    -1.241542\n",
      "8     0.686406\n",
      "9    -0.321409\n",
      "10    0.753313\n",
      "11    0.204405\n",
      "Name: 21, dtype: float64\n",
      "0     0.361589\n",
      "1     0.677805\n",
      "2    -1.069045\n",
      "3     0.000000\n",
      "4    -0.870231\n",
      "5     1.083648\n",
      "6    -1.315058\n",
      "7     0.812422\n",
      "8    -0.784465\n",
      "9     0.807301\n",
      "10    0.174266\n",
      "11   -0.841763\n",
      "Name: 22, dtype: float64\n",
      "0    -0.817505\n",
      "1    -0.806750\n",
      "2     0.935414\n",
      "3     0.000000\n",
      "4     0.843860\n",
      "5     0.092507\n",
      "6    -0.456230\n",
      "7    -2.121813\n",
      "8     0.686406\n",
      "9    -0.167734\n",
      "10    0.505150\n",
      "11    0.043456\n",
      "Name: 23, dtype: float64\n",
      "0    -0.817505\n",
      "1    -0.806750\n",
      "2     0.935414\n",
      "3     0.000000\n",
      "4    -0.738378\n",
      "5     1.083648\n",
      "6    -0.456230\n",
      "7     0.812422\n",
      "8    -0.784465\n",
      "9    -0.724141\n",
      "10    1.029049\n",
      "11    0.653721\n",
      "Name: 24, dtype: float64\n",
      "0     0.361589\n",
      "1     0.109831\n",
      "2     0.935414\n",
      "3     0.000000\n",
      "4    -0.210965\n",
      "5    -0.898635\n",
      "6    -0.060781\n",
      "7     0.032596\n",
      "8     2.157277\n",
      "9    -1.794560\n",
      "10    0.284560\n",
      "11    2.135793\n",
      "Name: 25, dtype: float64\n",
      "0    -0.817505\n",
      "1    -0.806750\n",
      "2    -1.069045\n",
      "3     0.000000\n",
      "4     0.316448\n",
      "5     1.083648\n",
      "6    -1.315058\n",
      "7     0.518998\n",
      "8    -0.784465\n",
      "9     0.722516\n",
      "10   -0.073897\n",
      "11   -0.774701\n",
      "Name: 26, dtype: float64\n",
      "0     0.361589\n",
      "1     0.086024\n",
      "2     0.935414\n",
      "3     0.000000\n",
      "4     0.712007\n",
      "5     0.092507\n",
      "6    -0.456230\n",
      "7    -2.121813\n",
      "8     2.157277\n",
      "9     1.172940\n",
      "10   -0.928681\n",
      "11   -1.123424\n",
      "Name: 27, dtype: float64\n",
      "0     1.540682\n",
      "1     1.910683\n",
      "2     0.935414\n",
      "3     0.000000\n",
      "4     0.843860\n",
      "5     0.422887\n",
      "6    -0.456230\n",
      "7     0.518998\n",
      "8    -0.784465\n",
      "9    -0.978498\n",
      "10   -0.377208\n",
      "11    0.968913\n",
      "Name: 28, dtype: float64\n",
      "0    -0.817505\n",
      "1    -0.806750\n",
      "2    -1.069045\n",
      "3     0.000000\n",
      "4     0.580154\n",
      "5    -1.229015\n",
      "6     1.261426\n",
      "7     0.225575\n",
      "8    -0.784465\n",
      "9     1.284221\n",
      "10   -1.700744\n",
      "11   -1.203899\n",
      "Name: 29, dtype: float64\n",
      "0     0.361589\n",
      "1     0.492448\n",
      "2     0.935414\n",
      "3     0.000000\n",
      "4    -0.210965\n",
      "5    -0.898635\n",
      "6    -0.456230\n",
      "7    -2.708660\n",
      "8     2.157277\n",
      "9    -0.151837\n",
      "10   -2.059202\n",
      "11    0.030044\n",
      "Name: 30, dtype: float64\n",
      "0     0.361589\n",
      "1     0.172750\n",
      "2    -1.069045\n",
      "3     0.000000\n",
      "4    -0.342818\n",
      "5     1.744409\n",
      "6    -0.456230\n",
      "7     0.812422\n",
      "8    -0.784465\n",
      "9     1.580971\n",
      "10    0.753313\n",
      "11   -1.411791\n",
      "Name: 31, dtype: float64\n",
      "0     0.361589\n",
      "1     0.470341\n",
      "2    -1.069045\n",
      "3     0.000000\n",
      "4     0.448301\n",
      "5    -0.898635\n",
      "6     1.261426\n",
      "7    -2.121813\n",
      "8     2.157277\n",
      "9    -0.072350\n",
      "10   -1.948907\n",
      "11   -0.050431\n",
      "Name: 32, dtype: float64\n",
      "0    -0.817505\n",
      "1    -0.806750\n",
      "2    -1.069045\n",
      "3     0.000000\n",
      "4     1.766832\n",
      "5    -0.898635\n",
      "6     0.402598\n",
      "7    -1.828389\n",
      "8     0.686406\n",
      "9    -1.063284\n",
      "10   -1.452581\n",
      "11    1.069506\n",
      "Name: 33, dtype: float64\n",
      "0    -0.817505\n",
      "1    -0.806750\n",
      "2     0.935414\n",
      "3     0.000000\n",
      "4     0.448301\n",
      "5    -0.898635\n",
      "6    -0.060781\n",
      "7    -0.067849\n",
      "8     0.686406\n",
      "9    -0.173034\n",
      "10    0.836034\n",
      "11    0.050162\n",
      "Name: 34, dtype: float64\n",
      "0    -0.817505\n",
      "1    -0.806750\n",
      "2    -1.069045\n",
      "3     0.000000\n",
      "4    -1.133937\n",
      "5    -0.898635\n",
      "6    -0.456230\n",
      "7    -0.067849\n",
      "8     0.686406\n",
      "9    -0.268417\n",
      "10    2.049275\n",
      "11    0.150756\n",
      "Name: 35, dtype: float64\n",
      "0     0.361589\n",
      "1     0.230568\n",
      "2    -1.069045\n",
      "3     0.000000\n",
      "4    -1.397644\n",
      "5     1.083648\n",
      "6    -0.456230\n",
      "7    -1.828389\n",
      "8     2.157277\n",
      "9     0.287989\n",
      "10   -0.404781\n",
      "11   -0.392447\n",
      "Name: 36, dtype: float64\n",
      "0    -0.817505\n",
      "1    -0.806750\n",
      "2    -1.069045\n",
      "3     0.000000\n",
      "4     0.052741\n",
      "5     1.744409\n",
      "6    -1.315058\n",
      "7    -1.241542\n",
      "8     2.157277\n",
      "9     1.088154\n",
      "10    0.670592\n",
      "11   -1.063068\n",
      "Name: 37, dtype: float64\n",
      "0    -0.817505\n",
      "1    -0.806750\n",
      "2     0.935414\n",
      "3     0.000000\n",
      "4    -0.079112\n",
      "5     0.422887\n",
      "6    -1.315058\n",
      "7     0.225575\n",
      "8    -0.784465\n",
      "9    -0.856618\n",
      "10    0.836034\n",
      "11    0.814670\n",
      "Name: 38, dtype: float64\n",
      "0    -0.817505\n",
      "1    -0.806750\n",
      "2    -1.069045\n",
      "3     0.000000\n",
      "4    -0.342818\n",
      "5     1.083648\n",
      "6    -0.456230\n",
      "7     0.812422\n",
      "8    -0.784465\n",
      "9     0.680123\n",
      "10   -1.425007\n",
      "11   -0.734464\n",
      "Name: 39, dtype: float64\n",
      "0     0.361589\n",
      "1     0.286685\n",
      "2     0.935414\n",
      "3     0.000000\n",
      "4     0.712007\n",
      "5    -0.898635\n",
      "6     1.261426\n",
      "7     0.812422\n",
      "8    -0.784465\n",
      "9    -1.566699\n",
      "10   -0.322060\n",
      "11    1.780364\n",
      "Name: 40, dtype: float64\n",
      "0    -0.817505\n",
      "1    -0.806750\n",
      "2     0.935414\n",
      "3     0.000000\n",
      "4    -1.002084\n",
      "5     0.422887\n",
      "6     0.402598\n",
      "7     0.518998\n",
      "8    -0.784465\n",
      "9    -0.676449\n",
      "10    2.407733\n",
      "11    0.600072\n",
      "Name: 41, dtype: float64\n",
      "0     0.361589\n",
      "1     0.179552\n",
      "2    -1.069045\n",
      "3     0.000000\n",
      "4    -1.133937\n",
      "5     0.092507\n",
      "6    -0.456230\n",
      "7     0.812422\n",
      "8     0.686406\n",
      "9     0.256194\n",
      "10   -0.515076\n",
      "11   -0.365622\n",
      "Name: 42, dtype: float64\n",
      "0     1.540682\n",
      "1     1.599488\n",
      "2    -1.069045\n",
      "3     0.000000\n",
      "4     0.975713\n",
      "5     0.753267\n",
      "6    -1.315058\n",
      "7     0.518998\n",
      "8    -0.784465\n",
      "9     1.056359\n",
      "10   -0.404781\n",
      "11   -1.036243\n",
      "Name: 43, dtype: float64\n",
      "0    -0.817505\n",
      "1    -0.806750\n",
      "2    -1.069045\n",
      "3     0.000000\n",
      "4    -0.870231\n",
      "5     0.422887\n",
      "6     0.402598\n",
      "7     0.518998\n",
      "8     0.686406\n",
      "9    -0.236623\n",
      "10    0.477576\n",
      "11    0.117225\n",
      "Name: 44, dtype: float64\n",
      "0     0.361589\n",
      "1     0.604683\n",
      "2     0.935414\n",
      "3     0.000000\n",
      "4     0.580154\n",
      "5    -2.220157\n",
      "6     2.120254\n",
      "7    -0.361272\n",
      "8     0.686406\n",
      "9    -0.257819\n",
      "10   -1.038976\n",
      "11    0.137343\n",
      "Name: 45, dtype: float64\n",
      "0     0.361589\n",
      "1    -0.029612\n",
      "2     0.935414\n",
      "3     0.000000\n",
      "4     2.294245\n",
      "5     2.735550\n",
      "6    -1.315058\n",
      "7     0.518998\n",
      "8    -0.784465\n",
      "9    -0.178333\n",
      "10   -0.983829\n",
      "11    0.050162\n",
      "Name: 46, dtype: float64\n",
      "0    -0.817505\n",
      "1    -0.806750\n",
      "2     0.935414\n",
      "3     0.000000\n",
      "4    -0.474671\n",
      "5    -1.229015\n",
      "6     1.261426\n",
      "7     0.812422\n",
      "8    -0.784465\n",
      "9    -0.173034\n",
      "10   -0.156618\n",
      "11    0.050162\n",
      "Name: 47, dtype: float64\n",
      "0    -0.817505\n",
      "1    -0.806750\n",
      "2    -1.069045\n",
      "3     0.000000\n",
      "4     0.184594\n",
      "5    -0.898635\n",
      "6     1.261426\n",
      "7    -1.828389\n",
      "8     2.157277\n",
      "9    -0.162435\n",
      "10   -1.645597\n",
      "11    0.036750\n",
      "Name: 48, dtype: float64\n",
      "0    -0.817505\n",
      "1    -0.806750\n",
      "2    -1.069045\n",
      "3     0.000000\n",
      "4     0.975713\n",
      "5     0.422887\n",
      "6    -0.456230\n",
      "7     0.812422\n",
      "8    -0.784465\n",
      "9    -0.549270\n",
      "10   -0.597797\n",
      "11    0.452535\n",
      "Name: 49, dtype: float64\n",
      "0    -0.817505\n",
      "1    -0.806750\n",
      "2     0.935414\n",
      "3     0.000000\n",
      "4    -0.210965\n",
      "5     1.083648\n",
      "6    -1.315058\n",
      "7     0.518998\n",
      "8    -0.784465\n",
      "9    -0.379699\n",
      "10    0.505150\n",
      "11    0.264761\n",
      "Name: 50, dtype: float64\n",
      "0     1.540682\n",
      "1     1.851165\n",
      "2    -1.069045\n",
      "3     0.000000\n",
      "4     0.975713\n",
      "5     1.744409\n",
      "6    -1.315058\n",
      "7    -0.361272\n",
      "8     0.686406\n",
      "9     0.473458\n",
      "10   -1.811039\n",
      "11   -0.560103\n",
      "Name: 51, dtype: float64\n",
      "0     1.540682\n",
      "1     1.594386\n",
      "2    -1.069045\n",
      "3     0.000000\n",
      "4    -0.342818\n",
      "5     1.083648\n",
      "6    -1.315058\n",
      "7     0.518998\n",
      "8    -0.784465\n",
      "9     1.623364\n",
      "10   -1.452581\n",
      "11   -1.445322\n",
      "Name: 52, dtype: float64\n",
      "0    -0.817505\n",
      "1    -0.806750\n",
      "2    -1.069045\n",
      "3     0.000000\n",
      "4    -0.210965\n",
      "5    -0.898635\n",
      "6     1.261426\n",
      "7     0.225575\n",
      "8    -0.784465\n",
      "9     0.017734\n",
      "10    0.201839\n",
      "11   -0.137611\n",
      "Name: 53, dtype: float64\n",
      "0     0.361589\n",
      "1     0.347904\n",
      "2     0.935414\n",
      "3     0.000000\n",
      "4    -1.265790\n",
      "5    -0.898635\n",
      "6    -0.456230\n",
      "7    -0.654696\n",
      "8    -0.784465\n",
      "9    -0.936105\n",
      "10    0.808460\n",
      "11    0.908557\n",
      "Name: 54, dtype: float64\n",
      "0    -0.817505\n",
      "1    -0.806750\n",
      "2     0.935414\n",
      "3     0.000000\n",
      "4     0.712007\n",
      "5     0.422887\n",
      "6     0.402598\n",
      "7     0.518998\n",
      "8    -0.784465\n",
      "9    -0.125342\n",
      "10    0.780886\n",
      "11    0.003219\n",
      "Name: 55, dtype: float64\n",
      "0     0.361589\n",
      "1    -0.446239\n",
      "2    -1.069045\n",
      "3     0.000000\n",
      "4     0.316448\n",
      "5    -0.237874\n",
      "6     0.402598\n",
      "7    -0.361272\n",
      "8     0.686406\n",
      "9    -1.057984\n",
      "10   -0.708092\n",
      "11    1.062800\n",
      "Name: 56, dtype: float64\n",
      "0     1.540682\n",
      "1     1.837561\n",
      "2    -1.069045\n",
      "3     0.000000\n",
      "4    -1.661350\n",
      "5    -0.898635\n",
      "6     1.261426\n",
      "7     0.812422\n",
      "8    -0.784465\n",
      "9    -0.729440\n",
      "10    1.718391\n",
      "11    0.660427\n",
      "Name: 57, dtype: float64\n",
      "0    -0.817505\n",
      "1    -0.806750\n",
      "2    -1.069045\n",
      "3     0.000000\n",
      "4    -1.002084\n",
      "5     0.422887\n",
      "6    -0.456230\n",
      "7     0.225575\n",
      "8    -0.784465\n",
      "9     1.803534\n",
      "10    0.146692\n",
      "11   -1.559328\n",
      "Name: 58, dtype: float64\n",
      "0    -0.817505\n",
      "1    -0.806750\n",
      "2     0.935414\n",
      "3     0.000000\n",
      "4     0.580154\n",
      "5    -0.898635\n",
      "6     1.261426\n",
      "7     0.812422\n",
      "8    -0.784465\n",
      "9    -1.471315\n",
      "10   -0.459929\n",
      "11    1.639534\n",
      "Name: 59, dtype: float64\n",
      "0     0.361589\n",
      "1     0.691409\n",
      "2    -1.069045\n",
      "3     0.000000\n",
      "4    -1.529497\n",
      "5    -0.898635\n",
      "6     1.261426\n",
      "7    -3.002083\n",
      "8     0.686406\n",
      "9     0.065426\n",
      "10   -0.901108\n",
      "11   -0.184555\n",
      "Name: 60, dtype: float64\n",
      "0    -0.817505\n",
      "1    -0.806750\n",
      "2    -1.069045\n",
      "3     0.000000\n",
      "4    -1.133937\n",
      "5     1.083648\n",
      "6    -1.315058\n",
      "7     0.812422\n",
      "8    -0.784465\n",
      "9     0.775507\n",
      "10    0.422429\n",
      "11   -0.814938\n",
      "Name: 61, dtype: float64\n",
      "0    -0.817505\n",
      "1    -0.806750\n",
      "2     0.935414\n",
      "3     0.000000\n",
      "4    -0.079112\n",
      "5    -0.898635\n",
      "6    -0.060781\n",
      "7    -0.067849\n",
      "8     0.686406\n",
      "9    -1.015592\n",
      "10   -0.129045\n",
      "11    1.009150\n",
      "Name: 62, dtype: float64\n",
      "0    -0.817505\n",
      "1    -0.806750\n",
      "2     0.935414\n",
      "3     0.000000\n",
      "4    -1.793203\n",
      "5     0.092507\n",
      "6    -0.456230\n",
      "7     0.225575\n",
      "8    -0.784465\n",
      "9     0.192605\n",
      "10    2.021702\n",
      "11   -0.311973\n",
      "Name: 63, dtype: float64\n",
      "0    -0.817505\n",
      "1    -0.806750\n",
      "2    -1.069045\n",
      "3     0.000000\n",
      "4    -0.870231\n",
      "5     0.422887\n",
      "6     1.261426\n",
      "7    -0.361272\n",
      "8     0.686406\n",
      "9     1.527980\n",
      "10    0.284560\n",
      "11   -1.378260\n",
      "Name: 64, dtype: float64\n",
      "0    -0.817505\n",
      "1    -0.806750\n",
      "2     0.935414\n",
      "3     0.000000\n",
      "4     0.184594\n",
      "5    -2.220157\n",
      "6     2.120254\n",
      "7     0.518998\n",
      "8    -0.784465\n",
      "9    -0.660551\n",
      "10    0.670592\n",
      "11    0.579953\n",
      "Name: 65, dtype: float64\n",
      "0    -0.817505\n",
      "1    -0.806750\n",
      "2    -1.069045\n",
      "3     0.000000\n",
      "4    -1.925056\n",
      "5    -0.898635\n",
      "6     1.261426\n",
      "7    -3.002083\n",
      "8     0.686406\n",
      "9     0.091922\n",
      "10    0.008824\n",
      "11   -0.211380\n",
      "Name: 66, dtype: float64\n",
      "0     1.540682\n",
      "1     1.453243\n",
      "2     0.935414\n",
      "3     0.000000\n",
      "4    -1.002084\n",
      "5     1.083648\n",
      "6    -0.456230\n",
      "7     0.518998\n",
      "8    -0.784465\n",
      "9    -1.619690\n",
      "10    1.056623\n",
      "11    1.867545\n",
      "Name: 67, dtype: float64\n",
      "0     0.361589\n",
      "1     0.625089\n",
      "2     0.935414\n",
      "3     0.000000\n",
      "4     0.975713\n",
      "5     0.422887\n",
      "6     0.402598\n",
      "7     0.225575\n",
      "8    -0.784465\n",
      "9    -0.040556\n",
      "10    0.339708\n",
      "11   -0.083962\n",
      "Name: 68, dtype: float64\n",
      "0     0.361589\n",
      "1    -0.034713\n",
      "2    -1.069045\n",
      "3     0.000000\n",
      "4     0.316448\n",
      "5     0.422887\n",
      "6    -1.315058\n",
      "7     0.812422\n",
      "8    -0.784465\n",
      "9     1.639261\n",
      "10    0.119118\n",
      "11   -1.452028\n",
      "Name: 69, dtype: float64\n",
      "0    -0.817505\n",
      "1    -0.806750\n",
      "2    -1.069045\n",
      "3     0.000000\n",
      "4    -0.474671\n",
      "5     1.083648\n",
      "6    -0.456230\n",
      "7     0.518998\n",
      "8    -0.784465\n",
      "9     0.213801\n",
      "10    1.139344\n",
      "11   -0.325385\n",
      "Name: 70, dtype: float64\n",
      "0     1.540682\n",
      "1     2.172563\n",
      "2     0.935414\n",
      "3     0.000000\n",
      "4     0.712007\n",
      "5    -1.229015\n",
      "6     1.261426\n",
      "7     0.812422\n",
      "8    -0.784465\n",
      "9     0.436364\n",
      "10    0.780886\n",
      "11   -0.526571\n",
      "Name: 71, dtype: float64\n",
      "0    -0.817505\n",
      "1    -0.806750\n",
      "2    -1.069045\n",
      "3     0.000000\n",
      "4    -0.079112\n",
      "5     0.422887\n",
      "6     0.402598\n",
      "7     0.812422\n",
      "8    -0.784465\n",
      "9     1.718748\n",
      "10    1.029049\n",
      "11   -1.505678\n",
      "Name: 72, dtype: float64\n",
      "0    -0.817505\n",
      "1    -0.806750\n",
      "2     0.935414\n",
      "3     0.000000\n",
      "4    -2.056909\n",
      "5     0.422887\n",
      "6     0.402598\n",
      "7     0.812422\n",
      "8    -0.784465\n",
      "9    -1.031489\n",
      "10    2.021702\n",
      "11    1.035975\n",
      "Name: 73, dtype: float64\n",
      "0     0.361589\n",
      "1     0.213563\n",
      "2     0.935414\n",
      "3     0.000000\n",
      "4     1.766832\n",
      "5    -0.237874\n",
      "6    -0.456230\n",
      "7     0.225575\n",
      "8    -0.784465\n",
      "9    -0.067051\n",
      "10    0.394855\n",
      "11   -0.057137\n",
      "Name: 74, dtype: float64\n"
     ]
    }
   ],
   "source": [
    "for x, r in x_test.iterrows():\n",
    "    print(r)"
   ]
  },
  {
   "cell_type": "code",
   "execution_count": null,
   "metadata": {},
   "outputs": [],
   "source": []
  }
 ],
 "metadata": {
  "kernelspec": {
   "display_name": "Python 3",
   "language": "python",
   "name": "python3"
  }
 },
 "nbformat": 4,
 "nbformat_minor": 4
}
